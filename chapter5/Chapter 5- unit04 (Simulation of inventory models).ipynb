{
 "cells": [
  {
   "cell_type": "markdown",
   "metadata": {
    "slideshow": {
     "slide_type": "slide"
    }
   },
   "source": [
    "# Simulation of inventory models"
   ]
  },
  {
   "cell_type": "markdown",
   "metadata": {
    "slideshow": {
     "slide_type": "slide"
    }
   },
   "source": [
    "## Simulation procedure"
   ]
  },
  {
   "cell_type": "markdown",
   "metadata": {
    "heading_collapsed": true,
    "slideshow": {
     "slide_type": "slide"
    }
   },
   "source": [
    "### Parameter setting"
   ]
  },
  {
   "cell_type": "code",
   "execution_count": 8,
   "metadata": {
    "hidden": true,
    "slideshow": {
     "slide_type": "slide"
    }
   },
   "outputs": [],
   "source": [
    "import numpy as np\n",
    "import pandas as pd\n",
    "from scipy.stats import norm\n",
    "from DataSCM import period_dist_finder"
   ]
  },
  {
   "cell_type": "code",
   "execution_count": 33,
   "metadata": {
    "hidden": true,
    "slideshow": {
     "slide_type": "slide"
    }
   },
   "outputs": [],
   "source": [
    "dist_unit = norm(62000/52, 20000/52)\n",
    "k=1.65\n",
    "pur_cost=50\n",
    "order_cost=5000\n",
    "hold_cost=12 \n",
    "short_cost=30\n",
    "lead_time=3\n",
    "time_unit= 'week'\n",
    "N_iter= 1000"
   ]
  },
  {
   "cell_type": "code",
   "execution_count": 34,
   "metadata": {
    "hidden": true,
    "slideshow": {
     "slide_type": "slide"
    }
   },
   "outputs": [
    {
     "data": {
      "text/plain": [
       "array([   0., 1112.,  881., 1264.,  543., 1217., 1367., 1366.,  984.,\n",
       "       1708., 1153.,  972., 1661., 1561.,  649.,  934., 2224.,  775.,\n",
       "        607., 1102.,  985., 1829., 1938., 1333., 2002., 1485.,  761.,\n",
       "        939., 1239., 1098.,  958., 1203., 1481., 1060., 1769., 1574.,\n",
       "       1358.,  671., 1107., 1093., 1492., 1875., 1085., 1528., 1048.,\n",
       "       1296., 1223., 1143., 1551., 1391., 1419., 1315., 1195., 1354.,\n",
       "       1646., 1073., 1442., 1560.,  826., 1586., 1225., 1034.,  965.,\n",
       "       1426.,  804., 1409., 1118.,  939., 1238.,  816., 1394., 1594.,\n",
       "        495., 1392.,  915., 2229., 1001., 1087., 1792.,  744., 1246.,\n",
       "        350.,  670., 1611., 1565., 2122., 1965., 1832., 1424., 1498.,\n",
       "       1436., 1416.,  958., 1111.,  871., 1766., 1464., 1003.,  585.,\n",
       "        804., 2224., 1114., 1809., 1579.,  749., 1530., 1101., 1299.,\n",
       "       1377.,  891., 1037., 2173.,  387., 1074.,  944., 1087.,  973.,\n",
       "       1455., 1282., 1236., 2226., 1696., 2146., 1883., 1486., 1120.,\n",
       "       1240., 1501., 1422., 1693.,  895.,  702., 1752., 1059., 1198.,\n",
       "       1391., 1352., 1587., 1033., 2059., 1827., 1570., 1206., 1214.,\n",
       "       1147.,  328., 1227., 1210.,  464., 1332., 1188., 1516., 1197.,\n",
       "       1145., 1267., 1009., 1246.,  802., 1569., 1182., 1492., 1168.,\n",
       "        956., 1377.,  324.,  697., 1523., 1267., 2012.,  394., 1485.,\n",
       "       2070., 1477., 1478., 1401., 1126., 1161.,  800.,  448., 1231.,\n",
       "       2047., 1202., 1357., 2039., 1959., 1444., 1341.,  991., 1466.,\n",
       "        720.,  311., 1127.,  551., 2100.,  821.,  496., 1482., 1285.,\n",
       "       1709., 1467., 1095.,  862.,  796., 2301., 1389.,  741., 1291.,\n",
       "       1072., 1855., 1099.,  781., 1460.,  532., 1810., 1615., 1519.,\n",
       "       1472.,  722., 1164., 1451., 1525., 1163., 1004., 1671.,  996.,\n",
       "       1032., 1440., 1147., 1476., 1625., 1118.,  516., 2321., 1151.,\n",
       "       1931., 1778., 1222.,  786., 1205., 1353., 1660., 1100., 1164.,\n",
       "       1379., 1619., 1561.,  734.,  721.,  504.,  284., 1478., 1769.,\n",
       "        930.,  821., 1379.,  919., 1527., 1619.,  726., 1721., 1131.,\n",
       "       1521.,  705., 1465.,  815., 1473., 1304., 1510., 1866., 1096.,\n",
       "        931.,  945., 1464., 1220., 1824.,  885., 1766., 1554.,  634.,\n",
       "       2062., 1213., 1245., 1395., 1297., 1243.,  440.,  952.,  867.,\n",
       "        944.,  864.,  735., 1476.,  987., 1528., 1709.,  625.,  374.,\n",
       "        751., 1479., 1726., 1779.,  776.,  612., 1076.,  981., 2014.,\n",
       "       1400., 1630., 1477., 1157., 1173., 1062.,  847., 1299., 1335.,\n",
       "       1194., 1415., 1666.,  479.,  508., 1554.,  994.,  976.,  545.,\n",
       "       1397., 1465.,  238., 2088., 1639., 1793., 1741., 1325., 1156.,\n",
       "        945., 1189., 1417., 1695., 1569., 1375., 1808., 1817., 1460.,\n",
       "       1292.,  793.,  926., 1545., 1544., 1088., 1619.,  802., 1148.,\n",
       "       1391.,  766.,  954., 1430.,  347., 2447., 1161., 1073.,  585.,\n",
       "       1201., 1756.,  762., 1103., 1269.,  929., 1538.,  813., 1601.,\n",
       "       1501.,  878.,  942., 1121., 1229.,  461.,  794.,  730.,  475.,\n",
       "       1006., 1306., 1752.,  697., 1709.,  633., 1559., 1101., 1814.,\n",
       "       1010., 1329., 1274.,  464., 1186., 1149.,  830., 1294.,  990.,\n",
       "        392., 1223., 1087., 1222., 1334., 1716., 1552., 1617.,  608.,\n",
       "       1358., 1234., 1092.,  839., 1336., 1326., 1681., 1271.,  352.,\n",
       "        989., 1189., 1439.,  797., 1203.,  774., 1597., 1342.,  891.,\n",
       "       1273., 1178., 1180.,  213., 1306., 1876., 1024., 1261.,  970.,\n",
       "        868., 1990.,  931.,  986., 1125., 1095., 1588., 1750.,  981.,\n",
       "        918., 2035.,  797., 1167., 2062., 1158.,  634., 1497.,  916.,\n",
       "       1722., 1683.,  853.,  962.,  973.,  965., 1737.,  854.,  998.,\n",
       "       1285., 1431., 1184., 1347.,  508., 1132.,  996.,  354., 1393.,\n",
       "       1226., 1364.,  986., 1069., 1770.,   -5.,  956., 1383.,  982.,\n",
       "       1538., 1515.,  199., 1564.,  507., 1179.,  993.,  114., 1112.,\n",
       "       1216.,  787., 2091., 1509., 1447.,  889.,  692.,  766., 1391.,\n",
       "        844., 2205.,  712.,  421., 1602.,  896., 1457., 1479., 1390.,\n",
       "       1514.,  866., 1220., 1051., 1275.,  965., 1045.,  755., 1120.,\n",
       "       1155., 1724., 1264., 1732., 1487.,  637.,  958., 1580., 1505.,\n",
       "       1341.,  976.,  866., 1550., 1070., 1145.,  925., 1737., 1497.,\n",
       "        871., 1457., 1328.,  783., 1396.,  988., 1291.,  353.,  837.,\n",
       "        859.,  958., 1393., 1659., 1020.,  947., 1578., 1772., 1145.,\n",
       "       1422., 1106., 1071., 1494., 1456., 1347., 2159., 1611., 1438.,\n",
       "       1559., 1331., 1210.,  696., 1220.,  887., 1189.,  581., 1360.,\n",
       "       1105.,  953.,  984.,  422.,  596., 1548., 1795., 1310.,  520.,\n",
       "       1220.,  688., 1628.,  761.,  996., 1138., 1581.,  499.,  747.,\n",
       "       1300., 1097., 1375.,  277., 1562., 1841., 1685., 1700., 1500.,\n",
       "        845., 1228., 1730., 1603.,  569., 1195.,  879., 1376., 1672.,\n",
       "       1321., 1385., 1137., 2038., 1500.,  987., 1441., 1609.,  900.,\n",
       "        862., 1233., 1631.,  829., 1398., 1500., 1366.,  725.,  670.,\n",
       "        465.,  865.,  815., 1265.,  900., 1796.,  986., 1232., 1248.,\n",
       "       1478., 1342., 1726., 1837.,  775., 2144., 1585., 1095., 1093.,\n",
       "       1142., 1059., 1736., 1471., 1097., 1243.,  828.,  938., 1530.,\n",
       "       1172.,  766., 1397., 1571., 1402., 1064., 1013., 1440., 1423.,\n",
       "       1871., 1505.,  515., 1561.,  879.,  693.,  834., 2071., 1107.,\n",
       "       1114.,  904., 1260., 1778., 1525., 1075., 1283.,  960., 1895.,\n",
       "       1342., 1132.,  702., 1459., 1316., 1145., 1398., 1494., 1288.,\n",
       "       1353., 1617., 1426.,  922., 1302.,  856., 1580., 1176., 1299.,\n",
       "       1405., 1209.,  896., 1472., 1527., 1298., 1281., 1315.,  908.,\n",
       "       1325., 1166.,  845., 1332., 2098., 1042., 1556.,  794., 1104.,\n",
       "       1005., 1001., 1764.,  577., 1207., 1222., 1097., 1155.,  942.,\n",
       "        818.,  731., 1242., 1174., 1299., 1269., 1053., 1413., 2082.,\n",
       "       1739., 1261.,  934., 1009.,  500.,  477.,  939.,  722.,  849.,\n",
       "        983., 1090.,  968.,  766., 1177., 1145., 1361., 1879.,  975.,\n",
       "       1780., 1584., 1007., 1486., 1166., 1598., 1467.,  383., 1529.,\n",
       "       1317.,  697., 1156., 2195., 1746.,  760., 1359., 1242.,  900.,\n",
       "       1235.,  880.,  628., 1223.,  920., 1002., 1351.,  891., 1850.,\n",
       "       1232., 1083.,  907.,  554.,  587., 1569., 1607., 1354.,  832.,\n",
       "       1227., 1403.,  946.,  888., 1552.,  856., 1590., 1043., 1716.,\n",
       "        439., 1465., 1163., 1215., 1228.,  951., 1764., 1021.,  537.,\n",
       "        354., 1661.,  783., 1086., 1637., 1643., 1957.,  689., 1736.,\n",
       "       1405., 1040., 1416., 1143.,  709., 1244.,  992.,  946.,  705.,\n",
       "        773., 1398.,  255., 1421., 1180., 2111., 1074., 1360.,  959.,\n",
       "       1059., 1390., 1530.,  636., 1484., 1538., 2083.,  580., 1623.,\n",
       "       1981., 1239., 1171., 1447., 1458.,  966.,  779., 1314., 1639.,\n",
       "       1355., 1550., 1851., 1267., 1623., 1802.,  485.,  925., 1208.,\n",
       "       1023.,  614., 1235., 1268., 1545., 1225., 1715., 1028.,  380.,\n",
       "        836., 1454., 1328.,  435., 1581.,  642., 1597., 1356.,  721.,\n",
       "       1020., 1899., 1211., 1656.,  741., 1239., 1177., 1350.,  886.,\n",
       "       1786., 1275.,  882., 1192.,  570., 1189., 1175., 1372., 2261.,\n",
       "       1911., 1283., 1868.,  714., 1871., 1297., 1615., 1011.,  903.,\n",
       "        939., 1350., 1331.,  849.,   18., 1748., 1313., 1534., 1229.,\n",
       "       1037., 1254.,  841., 1867., 1514.,  929.,  735.,  843., 1455.,\n",
       "        700., 1389.,  896., 1997., 1074., 1581., 1346., 1652., 1104.,\n",
       "       2001.,  557., 1217.,  967., 1798., 2046., 1207., 1768., 1547.,\n",
       "       1407., 1528., 1217.,  -95.,  836.,  418.,  961., 1541., 1161.,\n",
       "       1682.,  672.,  918., 1051., 1516.,  851., 1399., 1008., 1323.,\n",
       "       1132., 1209., 1523.,  978.,  394., 1845.,  749.,  978.,  256.,\n",
       "        951., 1323., 1236., 1934., 1644., 1177., 1133., 1351.,  605.,\n",
       "       1253.,  466.,  998., 1408., 1065., 1610., 1816., 1109., 1588.,\n",
       "       1572., 1519.,  986., 1262.,  832., 1409., 1684., 1080.,  987.,\n",
       "       1562., 1421.,  822.,  839., 1359., 1272., 1214.,  454., 1025.,\n",
       "         70.])"
      ]
     },
     "execution_count": 34,
     "metadata": {},
     "output_type": "execute_result"
    }
   ],
   "source": [
    "demand_vector = np.floor(dist_unit.rvs(N_iter))\n",
    "demand_vector[0] = 0\n",
    "demand_vector"
   ]
  },
  {
   "cell_type": "markdown",
   "metadata": {
    "heading_collapsed": true,
    "slideshow": {
     "slide_type": "slide"
    }
   },
   "source": [
    "### Decision Variables"
   ]
  },
  {
   "cell_type": "code",
   "execution_count": 35,
   "metadata": {
    "hidden": true,
    "slideshow": {
     "slide_type": "slide"
    }
   },
   "outputs": [],
   "source": [
    "mean_demand = dist_unit.mean()\n",
    "\n",
    "if time_unit == 'week':\n",
    "    year_demand = mean_demand * 52\n",
    "    num_unit = 52\n",
    "elif time_unit== 'day':\n",
    "    year_demand = mean_demand * 365\n",
    "    num_unit = 365\n",
    "elif time_unit== 'month':\n",
    "    year_demand = mean_demand * 12\n",
    "    num_unit = 12"
   ]
  },
  {
   "cell_type": "code",
   "execution_count": 36,
   "metadata": {
    "hidden": true,
    "slideshow": {
     "slide_type": "slide"
    }
   },
   "outputs": [],
   "source": [
    "Q_star = np.ceil(np.sqrt((2 * order_cost * year_demand) / hold_cost))\n",
    "R = Q_star / year_demand\n",
    "R_unit_based = int(R*num_unit)+1\n",
    "\n",
    "lt_dist = period_dist_finder(lead_time, 'norm', dist_unit)\n",
    "small_s = np.ceil(lt_dist.mean() + k * lt_dist.std())\n",
    "ltR_dist = period_dist_finder(lead_time+R_unit_based, 'norm', dist_unit)\n",
    "big_s = np.ceil(ltR_dist.mean() + k * ltR_dist.std())"
   ]
  },
  {
   "cell_type": "markdown",
   "metadata": {
    "heading_collapsed": true,
    "slideshow": {
     "slide_type": "slide"
    }
   },
   "source": [
    "### main loop of simulation"
   ]
  },
  {
   "cell_type": "code",
   "execution_count": 37,
   "metadata": {
    "hidden": true,
    "slideshow": {
     "slide_type": "slide"
    }
   },
   "outputs": [
    {
     "data": {
      "text/html": [
       "<div>\n",
       "<style scoped>\n",
       "    .dataframe tbody tr th:only-of-type {\n",
       "        vertical-align: middle;\n",
       "    }\n",
       "\n",
       "    .dataframe tbody tr th {\n",
       "        vertical-align: top;\n",
       "    }\n",
       "\n",
       "    .dataframe thead th {\n",
       "        text-align: right;\n",
       "    }\n",
       "</style>\n",
       "<table border=\"1\" class=\"dataframe\">\n",
       "  <thead>\n",
       "    <tr style=\"text-align: right;\">\n",
       "      <th></th>\n",
       "      <th>demand</th>\n",
       "      <th>order_size</th>\n",
       "      <th>receive</th>\n",
       "      <th>IOH</th>\n",
       "      <th>IP</th>\n",
       "      <th>short</th>\n",
       "      <th>CSL</th>\n",
       "    </tr>\n",
       "  </thead>\n",
       "  <tbody>\n",
       "    <tr>\n",
       "      <th>0</th>\n",
       "      <td>0.0</td>\n",
       "      <td>NaN</td>\n",
       "      <td>NaN</td>\n",
       "      <td>NaN</td>\n",
       "      <td>NaN</td>\n",
       "      <td>NaN</td>\n",
       "      <td>NaN</td>\n",
       "    </tr>\n",
       "    <tr>\n",
       "      <th>1</th>\n",
       "      <td>1112.0</td>\n",
       "      <td>NaN</td>\n",
       "      <td>NaN</td>\n",
       "      <td>NaN</td>\n",
       "      <td>NaN</td>\n",
       "      <td>NaN</td>\n",
       "      <td>NaN</td>\n",
       "    </tr>\n",
       "    <tr>\n",
       "      <th>2</th>\n",
       "      <td>881.0</td>\n",
       "      <td>NaN</td>\n",
       "      <td>NaN</td>\n",
       "      <td>NaN</td>\n",
       "      <td>NaN</td>\n",
       "      <td>NaN</td>\n",
       "      <td>NaN</td>\n",
       "    </tr>\n",
       "    <tr>\n",
       "      <th>3</th>\n",
       "      <td>1264.0</td>\n",
       "      <td>NaN</td>\n",
       "      <td>NaN</td>\n",
       "      <td>NaN</td>\n",
       "      <td>NaN</td>\n",
       "      <td>NaN</td>\n",
       "      <td>NaN</td>\n",
       "    </tr>\n",
       "    <tr>\n",
       "      <th>4</th>\n",
       "      <td>543.0</td>\n",
       "      <td>NaN</td>\n",
       "      <td>NaN</td>\n",
       "      <td>NaN</td>\n",
       "      <td>NaN</td>\n",
       "      <td>NaN</td>\n",
       "      <td>NaN</td>\n",
       "    </tr>\n",
       "    <tr>\n",
       "      <th>...</th>\n",
       "      <td>...</td>\n",
       "      <td>...</td>\n",
       "      <td>...</td>\n",
       "      <td>...</td>\n",
       "      <td>...</td>\n",
       "      <td>...</td>\n",
       "      <td>...</td>\n",
       "    </tr>\n",
       "    <tr>\n",
       "      <th>995</th>\n",
       "      <td>1272.0</td>\n",
       "      <td>NaN</td>\n",
       "      <td>NaN</td>\n",
       "      <td>NaN</td>\n",
       "      <td>NaN</td>\n",
       "      <td>NaN</td>\n",
       "      <td>NaN</td>\n",
       "    </tr>\n",
       "    <tr>\n",
       "      <th>996</th>\n",
       "      <td>1214.0</td>\n",
       "      <td>NaN</td>\n",
       "      <td>NaN</td>\n",
       "      <td>NaN</td>\n",
       "      <td>NaN</td>\n",
       "      <td>NaN</td>\n",
       "      <td>NaN</td>\n",
       "    </tr>\n",
       "    <tr>\n",
       "      <th>997</th>\n",
       "      <td>454.0</td>\n",
       "      <td>NaN</td>\n",
       "      <td>NaN</td>\n",
       "      <td>NaN</td>\n",
       "      <td>NaN</td>\n",
       "      <td>NaN</td>\n",
       "      <td>NaN</td>\n",
       "    </tr>\n",
       "    <tr>\n",
       "      <th>998</th>\n",
       "      <td>1025.0</td>\n",
       "      <td>NaN</td>\n",
       "      <td>NaN</td>\n",
       "      <td>NaN</td>\n",
       "      <td>NaN</td>\n",
       "      <td>NaN</td>\n",
       "      <td>NaN</td>\n",
       "    </tr>\n",
       "    <tr>\n",
       "      <th>999</th>\n",
       "      <td>70.0</td>\n",
       "      <td>NaN</td>\n",
       "      <td>NaN</td>\n",
       "      <td>NaN</td>\n",
       "      <td>NaN</td>\n",
       "      <td>NaN</td>\n",
       "      <td>NaN</td>\n",
       "    </tr>\n",
       "  </tbody>\n",
       "</table>\n",
       "<p>1000 rows × 7 columns</p>\n",
       "</div>"
      ],
      "text/plain": [
       "     demand order_size receive  IOH   IP short  CSL\n",
       "0       0.0        NaN     NaN  NaN  NaN   NaN  NaN\n",
       "1    1112.0        NaN     NaN  NaN  NaN   NaN  NaN\n",
       "2     881.0        NaN     NaN  NaN  NaN   NaN  NaN\n",
       "3    1264.0        NaN     NaN  NaN  NaN   NaN  NaN\n",
       "4     543.0        NaN     NaN  NaN  NaN   NaN  NaN\n",
       "..      ...        ...     ...  ...  ...   ...  ...\n",
       "995  1272.0        NaN     NaN  NaN  NaN   NaN  NaN\n",
       "996  1214.0        NaN     NaN  NaN  NaN   NaN  NaN\n",
       "997   454.0        NaN     NaN  NaN  NaN   NaN  NaN\n",
       "998  1025.0        NaN     NaN  NaN  NaN   NaN  NaN\n",
       "999    70.0        NaN     NaN  NaN  NaN   NaN  NaN\n",
       "\n",
       "[1000 rows x 7 columns]"
      ]
     },
     "execution_count": 37,
     "metadata": {},
     "output_type": "execute_result"
    }
   ],
   "source": [
    "sim_data_sq = pd.DataFrame(columns=['demand', 'order_size', 'receive', 'IOH', 'IP', 'short', 'CSL'])\n",
    "sim_data_sq['demand'] = demand_vector\n",
    "sim_data_sq"
   ]
  },
  {
   "cell_type": "code",
   "execution_count": 38,
   "metadata": {
    "hidden": true,
    "slideshow": {
     "slide_type": "slide"
    }
   },
   "outputs": [],
   "source": [
    "order_vec = np.zeros(N_iter)\n",
    "rec_vec = np.zeros(N_iter)\n",
    "IOH_vec = np.zeros(N_iter)\n",
    "IP_vec = np.zeros(N_iter)\n",
    "short_vec = np.zeros(N_iter)\n",
    "CSL_vec = np.zeros(N_iter)"
   ]
  },
  {
   "cell_type": "code",
   "execution_count": 39,
   "metadata": {
    "hidden": true,
    "slideshow": {
     "slide_type": "slide"
    }
   },
   "outputs": [],
   "source": [
    "order_p = -100\n",
    "for n in range(N_iter):\n",
    "    if n == 0:\n",
    "        IOH_vec[n] = Q_star\n",
    "        short_vec[n] = 0\n",
    "    else:\n",
    "        temp_inv = IOH_vec[n - 1] + rec_vec[n] - demand_vector[n]\n",
    "        if temp_inv >= 0:\n",
    "            IOH_vec[n] = temp_inv\n",
    "            short_vec[n] = 0\n",
    "        else:\n",
    "            IOH_vec[n] = 0\n",
    "            short_vec[n] = -temp_inv\n",
    "\n",
    "    if n < order_p + lead_time:\n",
    "        IP_vec[n] = IOH_vec[n] + Q_star\n",
    "    else: \n",
    "        IP_vec[n] = IOH_vec[n]\n",
    "\n",
    "    if IP_vec[n] <= small_s:\n",
    "        order_vec[n] = Q_star\n",
    "        if n+lead_time < N_iter:\n",
    "            rec_vec[n+lead_time] = Q_star\n",
    "        order_p = n\n",
    "    else:\n",
    "        order_vec[n] = 0\n",
    "\n",
    "    CSL_vec[n] = short_vec[n] == 0"
   ]
  },
  {
   "cell_type": "code",
   "execution_count": 40,
   "metadata": {
    "hidden": true,
    "slideshow": {
     "slide_type": "slide"
    }
   },
   "outputs": [
    {
     "data": {
      "text/html": [
       "<div>\n",
       "<style scoped>\n",
       "    .dataframe tbody tr th:only-of-type {\n",
       "        vertical-align: middle;\n",
       "    }\n",
       "\n",
       "    .dataframe tbody tr th {\n",
       "        vertical-align: top;\n",
       "    }\n",
       "\n",
       "    .dataframe thead th {\n",
       "        text-align: right;\n",
       "    }\n",
       "</style>\n",
       "<table border=\"1\" class=\"dataframe\">\n",
       "  <thead>\n",
       "    <tr style=\"text-align: right;\">\n",
       "      <th></th>\n",
       "      <th>demand</th>\n",
       "      <th>order_size</th>\n",
       "      <th>receive</th>\n",
       "      <th>IOH</th>\n",
       "      <th>IP</th>\n",
       "      <th>short</th>\n",
       "      <th>CSL</th>\n",
       "    </tr>\n",
       "  </thead>\n",
       "  <tbody>\n",
       "    <tr>\n",
       "      <th>0</th>\n",
       "      <td>0.0</td>\n",
       "      <td>0.0</td>\n",
       "      <td>0.0</td>\n",
       "      <td>7188.0</td>\n",
       "      <td>7188.0</td>\n",
       "      <td>0.0</td>\n",
       "      <td>1.0</td>\n",
       "    </tr>\n",
       "    <tr>\n",
       "      <th>1</th>\n",
       "      <td>1112.0</td>\n",
       "      <td>0.0</td>\n",
       "      <td>0.0</td>\n",
       "      <td>6076.0</td>\n",
       "      <td>6076.0</td>\n",
       "      <td>0.0</td>\n",
       "      <td>1.0</td>\n",
       "    </tr>\n",
       "    <tr>\n",
       "      <th>2</th>\n",
       "      <td>881.0</td>\n",
       "      <td>0.0</td>\n",
       "      <td>0.0</td>\n",
       "      <td>5195.0</td>\n",
       "      <td>5195.0</td>\n",
       "      <td>0.0</td>\n",
       "      <td>1.0</td>\n",
       "    </tr>\n",
       "    <tr>\n",
       "      <th>3</th>\n",
       "      <td>1264.0</td>\n",
       "      <td>7188.0</td>\n",
       "      <td>0.0</td>\n",
       "      <td>3931.0</td>\n",
       "      <td>3931.0</td>\n",
       "      <td>0.0</td>\n",
       "      <td>1.0</td>\n",
       "    </tr>\n",
       "    <tr>\n",
       "      <th>4</th>\n",
       "      <td>543.0</td>\n",
       "      <td>0.0</td>\n",
       "      <td>0.0</td>\n",
       "      <td>3388.0</td>\n",
       "      <td>10576.0</td>\n",
       "      <td>0.0</td>\n",
       "      <td>1.0</td>\n",
       "    </tr>\n",
       "    <tr>\n",
       "      <th>...</th>\n",
       "      <td>...</td>\n",
       "      <td>...</td>\n",
       "      <td>...</td>\n",
       "      <td>...</td>\n",
       "      <td>...</td>\n",
       "      <td>...</td>\n",
       "      <td>...</td>\n",
       "    </tr>\n",
       "    <tr>\n",
       "      <th>995</th>\n",
       "      <td>1272.0</td>\n",
       "      <td>0.0</td>\n",
       "      <td>0.0</td>\n",
       "      <td>4815.0</td>\n",
       "      <td>4815.0</td>\n",
       "      <td>0.0</td>\n",
       "      <td>1.0</td>\n",
       "    </tr>\n",
       "    <tr>\n",
       "      <th>996</th>\n",
       "      <td>1214.0</td>\n",
       "      <td>7188.0</td>\n",
       "      <td>0.0</td>\n",
       "      <td>3601.0</td>\n",
       "      <td>3601.0</td>\n",
       "      <td>0.0</td>\n",
       "      <td>1.0</td>\n",
       "    </tr>\n",
       "    <tr>\n",
       "      <th>997</th>\n",
       "      <td>454.0</td>\n",
       "      <td>0.0</td>\n",
       "      <td>0.0</td>\n",
       "      <td>3147.0</td>\n",
       "      <td>10335.0</td>\n",
       "      <td>0.0</td>\n",
       "      <td>1.0</td>\n",
       "    </tr>\n",
       "    <tr>\n",
       "      <th>998</th>\n",
       "      <td>1025.0</td>\n",
       "      <td>0.0</td>\n",
       "      <td>0.0</td>\n",
       "      <td>2122.0</td>\n",
       "      <td>9310.0</td>\n",
       "      <td>0.0</td>\n",
       "      <td>1.0</td>\n",
       "    </tr>\n",
       "    <tr>\n",
       "      <th>999</th>\n",
       "      <td>70.0</td>\n",
       "      <td>0.0</td>\n",
       "      <td>7188.0</td>\n",
       "      <td>9240.0</td>\n",
       "      <td>9240.0</td>\n",
       "      <td>0.0</td>\n",
       "      <td>1.0</td>\n",
       "    </tr>\n",
       "  </tbody>\n",
       "</table>\n",
       "<p>1000 rows × 7 columns</p>\n",
       "</div>"
      ],
      "text/plain": [
       "     demand  order_size  receive     IOH       IP  short  CSL\n",
       "0       0.0         0.0      0.0  7188.0   7188.0    0.0  1.0\n",
       "1    1112.0         0.0      0.0  6076.0   6076.0    0.0  1.0\n",
       "2     881.0         0.0      0.0  5195.0   5195.0    0.0  1.0\n",
       "3    1264.0      7188.0      0.0  3931.0   3931.0    0.0  1.0\n",
       "4     543.0         0.0      0.0  3388.0  10576.0    0.0  1.0\n",
       "..      ...         ...      ...     ...      ...    ...  ...\n",
       "995  1272.0         0.0      0.0  4815.0   4815.0    0.0  1.0\n",
       "996  1214.0      7188.0      0.0  3601.0   3601.0    0.0  1.0\n",
       "997   454.0         0.0      0.0  3147.0  10335.0    0.0  1.0\n",
       "998  1025.0         0.0      0.0  2122.0   9310.0    0.0  1.0\n",
       "999    70.0         0.0   7188.0  9240.0   9240.0    0.0  1.0\n",
       "\n",
       "[1000 rows x 7 columns]"
      ]
     },
     "execution_count": 40,
     "metadata": {},
     "output_type": "execute_result"
    }
   ],
   "source": [
    "sim_data_sq.order_size = order_vec\n",
    "sim_data_sq.IOH = IOH_vec\n",
    "sim_data_sq.IP = IP_vec\n",
    "sim_data_sq.short = short_vec\n",
    "sim_data_sq.CSL = CSL_vec\n",
    "sim_data_sq.receive = rec_vec\n",
    "sim_data_sq"
   ]
  },
  {
   "cell_type": "markdown",
   "metadata": {
    "slideshow": {
     "slide_type": "slide"
    }
   },
   "source": [
    "### Results"
   ]
  },
  {
   "cell_type": "code",
   "execution_count": 46,
   "metadata": {
    "slideshow": {
     "slide_type": "slide"
    }
   },
   "outputs": [],
   "source": [
    "result_data = pd.DataFrame(columns=['Policy', 'TC', 'IFR', 'CSL',\n",
    "                                    'PC', 'OC', 'HC','SC', \n",
    "                                    'Q*', 'R*', 's*', 'S*'])"
   ]
  },
  {
   "cell_type": "code",
   "execution_count": 77,
   "metadata": {
    "slideshow": {
     "slide_type": "slide"
    }
   },
   "outputs": [],
   "source": [
    "result_data.loc[0, 'Policy'] = 's,Q'\n",
    "result_data.loc[0, 'TC'] = np.round(pur_cost*np.sum(order_vec) +\n",
    "                                    order_cost * np.sum(order_vec > 0) +\n",
    "                                    hold_cost * np.sum(IOH_vec)/num_unit +\n",
    "                                    short_cost * np.sum(short_vec),\n",
    "                                   1)\n",
    "\n",
    "result_data.loc[0, 'PC'] = pur_cost*np.sum(order_vec)\n",
    "result_data.loc[0, 'OC'] = order_cost*np.sum(order_vec > 0)\n",
    "result_data.loc[0, 'HC'] = np.round(hold_cost*np.sum(IOH_vec)/num_unit,  1)\n",
    "result_data.loc[0, 'SC'] = short_cost*np.sum(short_vec)\n",
    "\n",
    "result_data.loc[0, 'IFR'] = np.round(1-np.sum(short_vec)/np.sum(order_vec),  4)\n",
    "result_data.loc[0, 'CSL'] = np.mean(CSL_vec)\n",
    "result_data.loc[0, 'Q*'] = Q_star\n",
    "result_data.loc[0, 'R*'] = '-'\n",
    "result_data.loc[0, 's*'] = small_s\n",
    "result_data.loc[0, 'S*'] = '-'"
   ]
  },
  {
   "cell_type": "code",
   "execution_count": 78,
   "metadata": {
    "slideshow": {
     "slide_type": "slide"
    }
   },
   "outputs": [
    {
     "data": {
      "text/html": [
       "<div>\n",
       "<style scoped>\n",
       "    .dataframe tbody tr th:only-of-type {\n",
       "        vertical-align: middle;\n",
       "    }\n",
       "\n",
       "    .dataframe tbody tr th {\n",
       "        vertical-align: top;\n",
       "    }\n",
       "\n",
       "    .dataframe thead th {\n",
       "        text-align: right;\n",
       "    }\n",
       "</style>\n",
       "<table border=\"1\" class=\"dataframe\">\n",
       "  <thead>\n",
       "    <tr style=\"text-align: right;\">\n",
       "      <th></th>\n",
       "      <th>Policy</th>\n",
       "      <th>TC</th>\n",
       "      <th>IFR</th>\n",
       "      <th>CSL</th>\n",
       "      <th>PC</th>\n",
       "      <th>OC</th>\n",
       "      <th>HC</th>\n",
       "      <th>SC</th>\n",
       "      <th>Q*</th>\n",
       "      <th>R*</th>\n",
       "      <th>s*</th>\n",
       "      <th>S*</th>\n",
       "    </tr>\n",
       "  </thead>\n",
       "  <tbody>\n",
       "    <tr>\n",
       "      <th>0</th>\n",
       "      <td>s,Q</td>\n",
       "      <td>62718984.6</td>\n",
       "      <td>0.9981</td>\n",
       "      <td>0.992</td>\n",
       "      <td>60738600.0</td>\n",
       "      <td>845000</td>\n",
       "      <td>1064824.6</td>\n",
       "      <td>70560.0</td>\n",
       "      <td>7188.0</td>\n",
       "      <td>-</td>\n",
       "      <td>4677.0</td>\n",
       "      <td>-</td>\n",
       "    </tr>\n",
       "  </tbody>\n",
       "</table>\n",
       "</div>"
      ],
      "text/plain": [
       "  Policy          TC     IFR    CSL          PC      OC         HC       SC  \\\n",
       "0    s,Q  62718984.6  0.9981  0.992  60738600.0  845000  1064824.6  70560.0   \n",
       "\n",
       "       Q* R*      s* S*  \n",
       "0  7188.0  -  4677.0  -  "
      ]
     },
     "execution_count": 78,
     "metadata": {},
     "output_type": "execute_result"
    }
   ],
   "source": [
    "result_data"
   ]
  }
 ],
 "metadata": {
  "celltoolbar": "Slideshow",
  "kernelspec": {
   "display_name": "Python 3 (ipykernel)",
   "language": "python",
   "name": "python3"
  },
  "language_info": {
   "codemirror_mode": {
    "name": "ipython",
    "version": 3
   },
   "file_extension": ".py",
   "mimetype": "text/x-python",
   "name": "python",
   "nbconvert_exporter": "python",
   "pygments_lexer": "ipython3",
   "version": "3.10.5"
  },
  "toc": {
   "base_numbering": 1,
   "nav_menu": {},
   "number_sections": false,
   "sideBar": true,
   "skip_h1_title": false,
   "title_cell": "Table of Contents",
   "title_sidebar": "Contents",
   "toc_cell": false,
   "toc_position": {
    "height": "calc(100% - 180px)",
    "left": "10px",
    "top": "150px",
    "width": "169.006px"
   },
   "toc_section_display": true,
   "toc_window_display": false
  },
  "varInspector": {
   "cols": {
    "lenName": 16,
    "lenType": 16,
    "lenVar": 40
   },
   "kernels_config": {
    "python": {
     "delete_cmd_postfix": "",
     "delete_cmd_prefix": "del ",
     "library": "var_list.py",
     "varRefreshCmd": "print(var_dic_list())"
    },
    "r": {
     "delete_cmd_postfix": ") ",
     "delete_cmd_prefix": "rm(",
     "library": "var_list.r",
     "varRefreshCmd": "cat(var_dic_list()) "
    }
   },
   "types_to_exclude": [
    "module",
    "function",
    "builtin_function_or_method",
    "instance",
    "_Feature"
   ],
   "window_display": false
  }
 },
 "nbformat": 4,
 "nbformat_minor": 4
}
