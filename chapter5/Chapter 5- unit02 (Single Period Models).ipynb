{
 "cells": [
  {
   "cell_type": "markdown",
   "metadata": {
    "slideshow": {
     "slide_type": "slide"
    }
   },
   "source": [
    "## Single-Period Inventory Model"
   ]
  },
  {
   "cell_type": "markdown",
   "metadata": {
    "slideshow": {
     "slide_type": "slide"
    }
   },
   "source": [
    "### Example :\n",
    "* purchase cost = 10\n",
    "* sales price = 24\n",
    "* salvage price = 7\n",
    "* Penalty = 0\n",
    "\n",
    "### Main Objectives\n",
    "* 1. Determine optimal value of Q\n",
    "* 2. Calculate the expected profit"
   ]
  },
  {
   "cell_type": "code",
   "execution_count": null,
   "metadata": {
    "slideshow": {
     "slide_type": "slide"
    }
   },
   "outputs": [],
   "source": [
    "import numpy as np\n",
    "import pandas as pd\n",
    "import matplotlib.pyplot as plt\n",
    "import seaborn as sns\n",
    "from fitter import Fitter, get_distributions"
   ]
  },
  {
   "cell_type": "markdown",
   "metadata": {
    "slideshow": {
     "slide_type": "slide"
    }
   },
   "source": [
    "### Data Cleaning"
   ]
  },
  {
   "cell_type": "code",
   "execution_count": null,
   "metadata": {
    "scrolled": true,
    "slideshow": {
     "slide_type": "slide"
    }
   },
   "outputs": [],
   "source": [
    "all_skus = pd.read_csv('online_retail2.csv')\n",
    "all_skus = all_skus[all_skus.Quantity > 0]\n",
    "all_skus = all_skus[all_skus.Price > 0]\n",
    "all_skus.dropna(inplace= True)\n",
    "all_skus.drop_duplicates(inplace=True)\n",
    "# all_skus"
   ]
  },
  {
   "cell_type": "markdown",
   "metadata": {
    "slideshow": {
     "slide_type": "slide"
    }
   },
   "source": [
    "### Select the sku and specify time units"
   ]
  },
  {
   "cell_type": "code",
   "execution_count": null,
   "metadata": {
    "slideshow": {
     "slide_type": "slide"
    }
   },
   "outputs": [],
   "source": [
    "all_skus.StockCode.value_counts()"
   ]
  },
  {
   "cell_type": "code",
   "execution_count": null,
   "metadata": {
    "slideshow": {
     "slide_type": "slide"
    }
   },
   "outputs": [],
   "source": [
    "sku = all_skus[all_skus.StockCode == '20725']\n",
    "sku = sku[['Quantity', 'InvoiceDate']].copy().reset_index(drop=True)\n",
    "# sku"
   ]
  },
  {
   "cell_type": "code",
   "execution_count": null,
   "metadata": {
    "slideshow": {
     "slide_type": "slide"
    }
   },
   "outputs": [],
   "source": [
    "# sku.InvoiceDate = pd.to_datetime(sku.InvoiceDate)\n",
    "sku.InvoiceDate = sku.InvoiceDate.astype('datetime64')"
   ]
  },
  {
   "cell_type": "code",
   "execution_count": null,
   "metadata": {
    "slideshow": {
     "slide_type": "slide"
    }
   },
   "outputs": [],
   "source": [
    "sku['Year'] = sku.InvoiceDate.dt.year.astype('str')\n",
    "sku['Week'] = sku.InvoiceDate.dt.isocalendar().week.astype('str')\n",
    "# sku"
   ]
  },
  {
   "cell_type": "code",
   "execution_count": null,
   "metadata": {
    "slideshow": {
     "slide_type": "slide"
    }
   },
   "outputs": [],
   "source": [
    "sku.Week = [i if len(i)>1 else '0'+i for i in sku.Week]\n",
    "sku['time_unit'] = sku.Year + '-' + sku.Week\n",
    "sku.sample(10)"
   ]
  },
  {
   "cell_type": "code",
   "execution_count": null,
   "metadata": {
    "slideshow": {
     "slide_type": "slide"
    }
   },
   "outputs": [],
   "source": [
    "grp = sku.groupby('time_unit').Quantity.sum().reset_index()\n",
    "# grp"
   ]
  },
  {
   "cell_type": "markdown",
   "metadata": {
    "slideshow": {
     "slide_type": "slide"
    }
   },
   "source": [
    "### Finding and eliminating outliers"
   ]
  },
  {
   "cell_type": "code",
   "execution_count": null,
   "metadata": {
    "slideshow": {
     "slide_type": "slide"
    }
   },
   "outputs": [],
   "source": [
    "plt.figure(figsize=(12,6))\n",
    "sns.boxplot(data=grp,x='Quantity');\n",
    "# sns.boxenplot(data=grp,x='Quantity');"
   ]
  },
  {
   "cell_type": "code",
   "execution_count": null,
   "metadata": {
    "slideshow": {
     "slide_type": "slide"
    }
   },
   "outputs": [],
   "source": [
    "grp = grp[grp.Quantity<800].copy()\n",
    "plt.figure(figsize=(12,6))\n",
    "sns.boxplot(data=grp,x='Quantity');"
   ]
  },
  {
   "cell_type": "markdown",
   "metadata": {
    "slideshow": {
     "slide_type": "slide"
    }
   },
   "source": [
    "### Find the best fitted distribution"
   ]
  },
  {
   "cell_type": "code",
   "execution_count": null,
   "metadata": {
    "scrolled": true,
    "slideshow": {
     "slide_type": "slide"
    }
   },
   "outputs": [],
   "source": [
    "plt.figure(figsize=(10,5))\n",
    "sns.histplot(data=grp, bins=50);"
   ]
  },
  {
   "cell_type": "code",
   "execution_count": null,
   "metadata": {
    "slideshow": {
     "slide_type": "slide"
    }
   },
   "outputs": [],
   "source": [
    "demand_week = grp['Quantity'].values\n",
    "# demand_week"
   ]
  },
  {
   "cell_type": "code",
   "execution_count": null,
   "metadata": {
    "scrolled": true,
    "slideshow": {
     "slide_type": "slide"
    }
   },
   "outputs": [],
   "source": [
    "plt.figure(figsize=(12,6)) \n",
    "\n",
    "plt.figure(figsize=(12,6))\n",
    "f = Fitter(data=demand_week,\n",
    "           distributions=['lognorm',\n",
    "                          'norm',\n",
    "                          'triang',\n",
    "                          'gamma',\n",
    "                          'uniform',\n",
    "                          'expon',\n",
    "                          'rayleigh']\n",
    "           )\n",
    "f.fit()\n",
    "f.summary()"
   ]
  },
  {
   "cell_type": "code",
   "execution_count": null,
   "metadata": {
    "slideshow": {
     "slide_type": "slide"
    }
   },
   "outputs": [],
   "source": [
    "f.get_best(method = 'sumsquare_error')"
   ]
  },
  {
   "cell_type": "code",
   "execution_count": null,
   "metadata": {},
   "outputs": [],
   "source": [
    "from scipy.stats import triang\n",
    "f.fitted_param['triang']\n",
    "triang_dist = triang(f.fitted_param['triang'][0],f.fitted_param['triang'][1],f.fitted_param['triang'][2])"
   ]
  },
  {
   "cell_type": "markdown",
   "metadata": {
    "slideshow": {
     "slide_type": "slide"
    }
   },
   "source": [
    "### Calculate Q* (Tabular Solution)"
   ]
  },
  {
   "cell_type": "code",
   "execution_count": null,
   "metadata": {},
   "outputs": [],
   "source": [
    "df1 = pd.DataFrame()\n",
    "df1['Demand'] = np.arange(50, 800, 10)\n",
    "df1['cumprob'] = triang_dist.cdf(df1.Demand)\n",
    "df1['prob'] = df1.cumprob.diff().fillna(df1.cumprob)\n",
    "# df1"
   ]
  },
  {
   "cell_type": "code",
   "execution_count": null,
   "metadata": {},
   "outputs": [],
   "source": [
    "# Parameters\n",
    "purchase_cost=10\n",
    "sales_price=24\n",
    "salvege=7\n",
    "penalty=0"
   ]
  },
  {
   "cell_type": "code",
   "execution_count": null,
   "metadata": {},
   "outputs": [],
   "source": [
    "df2 = pd.DataFrame()\n",
    "df2['order_quant'] = np.arange(50,1001,50)"
   ]
  },
  {
   "cell_type": "code",
   "execution_count": null,
   "metadata": {},
   "outputs": [],
   "source": [
    "expected_prof = np.zeros(shape=(len(df2), 1))\n",
    "\n",
    "for i in range(len(df2)):\n",
    "    prof_vec = np.zeros(shape=(len(df1), 1))\n",
    "    q = df2.order_quant[i]\n",
    "\n",
    "    for j in range(len(df1)):\n",
    "        d = df1.Demand[j]\n",
    "        prof_vec[j] = (sales_price * min(d, q) - purchase_cost * q +\n",
    "                       salvege * max(0, q - d) - penalty * max(0, d - q))\n",
    "        expected_prof[i] = np.sum(np.array(df1.prob) * np.transpose(prof_vec))\n",
    "\n",
    "df2['profit'] = expected_prof\n",
    "# df2"
   ]
  },
  {
   "cell_type": "code",
   "execution_count": null,
   "metadata": {
    "tags": []
   },
   "outputs": [],
   "source": [
    "plt.figure(figsize=(10,6))\n",
    "sns.lineplot(data=df2,x='order_quant',y='profit',marker='s', markersize=8);"
   ]
  },
  {
   "cell_type": "markdown",
   "metadata": {},
   "source": [
    "### Calculate Q* (Analytical Solution)"
   ]
  },
  {
   "cell_type": "code",
   "execution_count": null,
   "metadata": {},
   "outputs": [],
   "source": [
    "net_short_cost = sales_price - purchase_cost +penalty\n",
    "net_excess_cost = purchase_cost - salvege\n",
    "CR = net_short_cost /(net_short_cost+net_excess_cost)\n",
    "CR"
   ]
  },
  {
   "cell_type": "code",
   "execution_count": null,
   "metadata": {
    "slideshow": {
     "slide_type": "slide"
    }
   },
   "outputs": [],
   "source": [
    "optimal_Q = triang_dist.ppf(q=CR)\n",
    "optimal_Q"
   ]
  },
  {
   "cell_type": "markdown",
   "metadata": {
    "slideshow": {
     "slide_type": "slide"
    }
   },
   "source": [
    "### Calculate Optimal Profit"
   ]
  },
  {
   "cell_type": "code",
   "execution_count": null,
   "metadata": {},
   "outputs": [],
   "source": [
    "q = optimal_Q\n",
    "\n",
    "def profit_underQ(x):\n",
    "    return sales_price * x - purchase_cost * q + salvege * (q - x)\n",
    "\n",
    "def profit_aboveQ(x):\n",
    "    return sales_price * q - purchase_cost * q - penalty * (x - q)\n",
    "\n",
    "E_profit_under = triang_dist.expect(func=profit_underQ,lb=0,ub=q)\n",
    "\n",
    "E_profit_above = triang_dist.expect(func=profit_aboveQ,lb=q)\n",
    "\n",
    "E_profit = E_profit_under + E_profit_above\n",
    "\n",
    "E_profit , E_profit_under , E_profit_above"
   ]
  },
  {
   "cell_type": "code",
   "execution_count": null,
   "metadata": {},
   "outputs": [],
   "source": [
    "def profit(x):\n",
    "    if x < q:\n",
    "        return sales_price * x - purchase_cost * q + salvege * (q - x)\n",
    "    else:\n",
    "        return sales_price * q - purchase_cost * q - penalty * (x - q)\n",
    "\n",
    "\n",
    "E_profit2 = triang_dist.expect(func=profit)\n",
    "E_profit2"
   ]
  }
 ],
 "metadata": {
  "celltoolbar": "Slideshow",
  "kernelspec": {
   "display_name": "Python 3 (ipykernel)",
   "language": "python",
   "name": "python3"
  },
  "language_info": {
   "codemirror_mode": {
    "name": "ipython",
    "version": 3
   },
   "file_extension": ".py",
   "mimetype": "text/x-python",
   "name": "python",
   "nbconvert_exporter": "python",
   "pygments_lexer": "ipython3",
   "version": "3.10.5"
  },
  "toc": {
   "base_numbering": 1,
   "nav_menu": {},
   "number_sections": false,
   "sideBar": true,
   "skip_h1_title": false,
   "title_cell": "Table of Contents",
   "title_sidebar": "Contents",
   "toc_cell": false,
   "toc_position": {
    "height": "calc(100% - 180px)",
    "left": "10px",
    "top": "150px",
    "width": "169.006px"
   },
   "toc_section_display": true,
   "toc_window_display": false
  },
  "varInspector": {
   "cols": {
    "lenName": 16,
    "lenType": 16,
    "lenVar": 40
   },
   "kernels_config": {
    "python": {
     "delete_cmd_postfix": "",
     "delete_cmd_prefix": "del ",
     "library": "var_list.py",
     "varRefreshCmd": "print(var_dic_list())"
    },
    "r": {
     "delete_cmd_postfix": ") ",
     "delete_cmd_prefix": "rm(",
     "library": "var_list.r",
     "varRefreshCmd": "cat(var_dic_list()) "
    }
   },
   "types_to_exclude": [
    "module",
    "function",
    "builtin_function_or_method",
    "instance",
    "_Feature"
   ],
   "window_display": false
  }
 },
 "nbformat": 4,
 "nbformat_minor": 4
}
