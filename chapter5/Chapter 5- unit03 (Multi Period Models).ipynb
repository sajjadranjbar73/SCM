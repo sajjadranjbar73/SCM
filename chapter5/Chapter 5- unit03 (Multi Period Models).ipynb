{
 "cells": [
  {
   "cell_type": "markdown",
   "metadata": {
    "slideshow": {
     "slide_type": "slide"
    }
   },
   "source": [
    "# Multi-Period Inventory Model"
   ]
  },
  {
   "cell_type": "markdown",
   "metadata": {
    "heading_collapsed": true,
    "slideshow": {
     "slide_type": "slide"
    }
   },
   "source": [
    "## Initial Calculations"
   ]
  },
  {
   "cell_type": "code",
   "execution_count": null,
   "metadata": {
    "hidden": true,
    "slideshow": {
     "slide_type": "slide"
    }
   },
   "outputs": [],
   "source": [
    "import numpy as np\n",
    "import pandas as pd\n",
    "import matplotlib.pyplot as plt\n",
    "import seaborn as sns\n",
    "from fitter import Fitter, get_distributions"
   ]
  },
  {
   "cell_type": "markdown",
   "metadata": {
    "hidden": true,
    "slideshow": {
     "slide_type": "slide"
    }
   },
   "source": [
    "### Select sku"
   ]
  },
  {
   "cell_type": "code",
   "execution_count": null,
   "metadata": {
    "hidden": true,
    "slideshow": {
     "slide_type": "slide"
    }
   },
   "outputs": [],
   "source": [
    "all_skus = pd.read_csv('online_retail2.csv')\n",
    "all_skus = all_skus[all_skus.Quantity > 0]\n",
    "all_skus = all_skus[all_skus.Price > 0]\n",
    "all_skus.dropna(inplace= True)\n",
    "all_skus.drop_duplicates(inplace=True)\n",
    "sku = all_skus[all_skus.StockCode == '85099B']\n",
    "\n",
    "sku = sku[['Quantity', 'InvoiceDate']].copy().reset_index(drop=True)\n",
    "sku.InvoiceDate = pd.to_datetime(sku.InvoiceDate)\n",
    "sku['Year'] = sku.InvoiceDate.dt.year.astype('str')\n",
    "sku['Week'] = sku.InvoiceDate.dt.isocalendar().week.astype('str')\n",
    "sku.Week = [i if len(i)>1 else '0'+i for i in sku.Week]\n",
    "sku['time_unit'] = sku.Year + '-' + sku.Week\n",
    "# sku.sample(10)"
   ]
  },
  {
   "cell_type": "code",
   "execution_count": null,
   "metadata": {
    "hidden": true,
    "slideshow": {
     "slide_type": "slide"
    }
   },
   "outputs": [],
   "source": [
    "grp = sku.groupby('time_unit').Quantity.sum().reset_index()\n",
    "# grp"
   ]
  },
  {
   "cell_type": "markdown",
   "metadata": {
    "heading_collapsed": true,
    "hidden": true,
    "slideshow": {
     "slide_type": "slide"
    }
   },
   "source": [
    "### Finding and eliminating outliers"
   ]
  },
  {
   "cell_type": "code",
   "execution_count": null,
   "metadata": {
    "hidden": true,
    "slideshow": {
     "slide_type": "slide"
    }
   },
   "outputs": [],
   "source": [
    "plt.figure(figsize=(12,6))\n",
    "sns.boxplot(data=grp,x='Quantity');"
   ]
  },
  {
   "cell_type": "code",
   "execution_count": null,
   "metadata": {
    "hidden": true,
    "slideshow": {
     "slide_type": "slide"
    }
   },
   "outputs": [],
   "source": [
    "grp = grp[grp.Quantity<2000].copy()\n",
    "plt.figure(figsize=(12,6))\n",
    "sns.boxplot(data=grp,x='Quantity');"
   ]
  },
  {
   "cell_type": "markdown",
   "metadata": {
    "hidden": true,
    "slideshow": {
     "slide_type": "slide"
    }
   },
   "source": [
    "### Find the best fitted distribution"
   ]
  },
  {
   "cell_type": "code",
   "execution_count": null,
   "metadata": {
    "hidden": true,
    "slideshow": {
     "slide_type": "slide"
    }
   },
   "outputs": [],
   "source": [
    "plt.figure(figsize=(12,6)) \n",
    "demand_week = grp['Quantity'].values\n",
    "plt.figure(figsize=(12,6))\n",
    "f = Fitter(data=demand_week,\n",
    "           distributions=['lognorm',\n",
    "                          'norm',\n",
    "                          'triang',\n",
    "                          'gamma',\n",
    "                          'uniform',\n",
    "                          'expon',\n",
    "                          'rayleigh']\n",
    "           )\n",
    "f.fit()\n",
    "f.summary()"
   ]
  },
  {
   "cell_type": "code",
   "execution_count": null,
   "metadata": {
    "hidden": true,
    "slideshow": {
     "slide_type": "slide"
    }
   },
   "outputs": [],
   "source": [
    "f.get_best(method = 'sumsquare_error')"
   ]
  },
  {
   "cell_type": "code",
   "execution_count": null,
   "metadata": {
    "hidden": true,
    "slideshow": {
     "slide_type": "slide"
    }
   },
   "outputs": [],
   "source": [
    "print(f.fitted_param['norm'])\n",
    "print(f.fitted_param['gamma'])"
   ]
  },
  {
   "cell_type": "code",
   "execution_count": null,
   "metadata": {
    "hidden": true,
    "slideshow": {
     "slide_type": "slide"
    }
   },
   "outputs": [],
   "source": [
    "from scipy.stats import norm, gamma\n",
    "normal_dist = norm(f.fitted_param['norm'][0],f.fitted_param['norm'][1])\n",
    "gamma_dist = gamma(f.fitted_param['gamma'][0],f.fitted_param['gamma'][1],f.fitted_param['gamma'][2])"
   ]
  },
  {
   "cell_type": "code",
   "execution_count": null,
   "metadata": {
    "hidden": true,
    "slideshow": {
     "slide_type": "slide"
    }
   },
   "outputs": [],
   "source": [
    "mean_demand = gamma_dist.mean()\n",
    "std_demand = gamma_dist.std()\n",
    "print(mean_demand)\n",
    "print(std_demand)"
   ]
  },
  {
   "cell_type": "markdown",
   "metadata": {
    "heading_collapsed": true,
    "slideshow": {
     "slide_type": "slide"
    }
   },
   "source": [
    "## 1. EOQ Method"
   ]
  },
  {
   "cell_type": "markdown",
   "metadata": {
    "hidden": true,
    "slideshow": {
     "slide_type": "slide"
    }
   },
   "source": [
    "Parameters\n",
    "* Lead time is 2 weeks\n",
    "* Excess cost is 5 dollors per unit per week\n",
    "* Shortage cost is 25 dollors per unit per week"
   ]
  },
  {
   "cell_type": "code",
   "execution_count": null,
   "metadata": {
    "hidden": true,
    "slideshow": {
     "slide_type": "slide"
    }
   },
   "outputs": [],
   "source": [
    "D = mean_demand\n",
    "ct = 500\n",
    "c = 50\n",
    "ce = 0.25 * c\n",
    "cs = 40\n",
    "lead_time = 2\n",
    "CSL = 0.95"
   ]
  },
  {
   "cell_type": "code",
   "execution_count": null,
   "metadata": {
    "hidden": true,
    "slideshow": {
     "slide_type": "slide"
    }
   },
   "outputs": [],
   "source": [
    "Q_star_EOQ = np.sqrt(2 * ct * D * 52 / ce)\n",
    "T = Q_star_EOQ / (D * 52)\n",
    "T_star = np.ceil(T * 52)\n",
    "print(f'EOQ Policy 1: We order {np.ceil(Q_star_EOQ):.0f} units every {T_star:.0f} weeks')\n",
    "print(f'EOQ Policy 2: We order {np.ceil(Q_star_EOQ):.0f} units when IP <= {np.ceil((lead_time)*D):.0f}')"
   ]
  },
  {
   "cell_type": "markdown",
   "metadata": {
    "heading_collapsed": true,
    "slideshow": {
     "slide_type": "slide"
    }
   },
   "source": [
    "## 2.Single Period Model"
   ]
  },
  {
   "cell_type": "code",
   "execution_count": null,
   "metadata": {
    "hidden": true,
    "slideshow": {
     "slide_type": "slide"
    }
   },
   "outputs": [],
   "source": [
    "CR = cs / (cs + ce)\n",
    "Q_star_SP = gamma_dist.ppf(q=CR)\n",
    "Q_star_SP\n",
    "print(f'Single-Period Policy: We order {np.ceil(Q_star_SP):.0f} units at the start of every week')"
   ]
  },
  {
   "cell_type": "markdown",
   "metadata": {
    "heading_collapsed": true,
    "slideshow": {
     "slide_type": "slide"
    }
   },
   "source": [
    "## 3. Base Stock Policy"
   ]
  },
  {
   "cell_type": "code",
   "execution_count": null,
   "metadata": {
    "hidden": true,
    "slideshow": {
     "slide_type": "slide"
    }
   },
   "outputs": [],
   "source": [
    "print('Base Stock Policy: Order what was demanded when it was demanded')"
   ]
  },
  {
   "cell_type": "markdown",
   "metadata": {
    "heading_collapsed": true,
    "slideshow": {
     "slide_type": "slide"
    }
   },
   "source": [
    "## 4. Continuous Review Policy (s,Q) "
   ]
  },
  {
   "cell_type": "markdown",
   "metadata": {
    "heading_collapsed": true,
    "hidden": true,
    "slideshow": {
     "slide_type": "slide"
    }
   },
   "source": [
    "### 4.1 Using OpenTurns package (Gamma distribution)"
   ]
  },
  {
   "cell_type": "code",
   "execution_count": null,
   "metadata": {
    "hidden": true,
    "slideshow": {
     "slide_type": "slide"
    }
   },
   "outputs": [],
   "source": [
    "# pip install openturns\n",
    "import openturns as ot"
   ]
  },
  {
   "cell_type": "code",
   "execution_count": null,
   "metadata": {
    "hidden": true,
    "slideshow": {
     "slide_type": "slide"
    }
   },
   "outputs": [],
   "source": [
    "# a=grp['Quantity'].to_frame()\n",
    "a=grp[['Quantity']]\n",
    "sample = ot.Sample.BuildFromDataFrame(a)\n",
    "sample"
   ]
  },
  {
   "cell_type": "code",
   "execution_count": null,
   "metadata": {
    "hidden": true,
    "slideshow": {
     "slide_type": "slide"
    }
   },
   "outputs": [],
   "source": [
    "type(sample)"
   ]
  },
  {
   "cell_type": "code",
   "execution_count": null,
   "metadata": {
    "hidden": true,
    "scrolled": false,
    "slideshow": {
     "slide_type": "slide"
    }
   },
   "outputs": [],
   "source": [
    "x1 = [ot.GammaFactory().build(sample) for i in range (lead_time)]\n",
    "dist_leadtime = sum(x1)\n",
    "print(dist_leadtime.getParameter())\n",
    "dist_leadtime.drawPDF()"
   ]
  },
  {
   "cell_type": "code",
   "execution_count": null,
   "metadata": {
    "hidden": true,
    "slideshow": {
     "slide_type": "slide"
    }
   },
   "outputs": [],
   "source": [
    "small_s = dist_leadtime.computeQuantile(CSL)\n",
    "print(small_s)\n",
    "print(type(small_s))"
   ]
  },
  {
   "cell_type": "code",
   "execution_count": null,
   "metadata": {
    "hidden": true
   },
   "outputs": [],
   "source": [
    "small_s = float(np.array(small_s))\n",
    "\n",
    "print(f'FOS Policy 1: We order {np.ceil(Q_star_EOQ):.0f} units when IP <= {small_s:.0f}')\n",
    "print(f'FOS Policy 2: We order up to {np.ceil(Q_star_EOQ)+small_s:.0f} units when IP <= {small_s:.0f}')"
   ]
  },
  {
   "cell_type": "markdown",
   "metadata": {
    "heading_collapsed": true,
    "hidden": true,
    "slideshow": {
     "slide_type": "slide"
    }
   },
   "source": [
    "### 4.2 Using SciPy package (normal distribution)"
   ]
  },
  {
   "cell_type": "code",
   "execution_count": null,
   "metadata": {
    "hidden": true,
    "slideshow": {
     "slide_type": "slide"
    }
   },
   "outputs": [],
   "source": [
    "mu, sigma = normal_dist.args\n",
    "normal_dist_leadtime = norm(lead_time * mu, np.sqrt(lead_time) * sigma)\n",
    "small_s_norm = normal_dist_leadtime.ppf(q=CSL)\n",
    "print(f'FOS Policy 1: We order {np.ceil(Q_star_EOQ):.0f} units when IP <= {small_s_norm:.0f}')\n",
    "print(f'FOS Policy 2: We order up to {np.ceil(Q_star_EOQ) + small_s_norm:.0f} units when IP <= {small_s_norm:.0f}')"
   ]
  },
  {
   "cell_type": "markdown",
   "metadata": {
    "heading_collapsed": true,
    "slideshow": {
     "slide_type": "slide"
    }
   },
   "source": [
    "## 5. Periodic Review Policy (R,S) "
   ]
  },
  {
   "cell_type": "markdown",
   "metadata": {
    "heading_collapsed": true,
    "hidden": true,
    "slideshow": {
     "slide_type": "slide"
    }
   },
   "source": [
    "### 5.1. Using OpenTurns package (Gamma distribution)"
   ]
  },
  {
   "cell_type": "code",
   "execution_count": null,
   "metadata": {
    "hidden": true,
    "slideshow": {
     "slide_type": "slide"
    }
   },
   "outputs": [],
   "source": [
    "R = T_star #from EOQ\n",
    "x2 = [ot.GammaFactory().build(sample) for i in range (lead_time + int(R))]\n",
    "dist_leadtime_plusR = sum(x2)\n",
    "print(dist_leadtime_plusR.getParameter())\n",
    "dist_leadtime_plusR.drawPDF()"
   ]
  },
  {
   "cell_type": "code",
   "execution_count": null,
   "metadata": {
    "hidden": true,
    "slideshow": {
     "slide_type": "slide"
    }
   },
   "outputs": [],
   "source": [
    "big_S = dist_leadtime_plusR.computeQuantile(CSL)\n",
    "big_S = float(np.array(big_S))\n",
    "print(f'FOI Policy: We order up to {big_S:.0f} units every {int(R)} weeks')"
   ]
  },
  {
   "cell_type": "markdown",
   "metadata": {
    "hidden": true,
    "slideshow": {
     "slide_type": "slide"
    }
   },
   "source": [
    "### 5.2 Using SciPy package (normal distribution)"
   ]
  },
  {
   "cell_type": "code",
   "execution_count": null,
   "metadata": {
    "hidden": true,
    "slideshow": {
     "slide_type": "slide"
    }
   },
   "outputs": [],
   "source": [
    "mu, sigma = normal_dist.args\n",
    "normal_dist_leadtime_plusR = norm((lead_time+R) * mu, np.sqrt(lead_time+R) * sigma)\n",
    "big_S_norm = normal_dist_leadtime_plusR.ppf(q=CSL)\n",
    "print(f'FOI Policy: We order up to {big_S_norm:.0f} units every {int(R)} weeks')"
   ]
  },
  {
   "cell_type": "markdown",
   "metadata": {
    "heading_collapsed": true,
    "slideshow": {
     "slide_type": "slide"
    }
   },
   "source": [
    "## 6. Hybrid Policy (R,s,S)"
   ]
  },
  {
   "cell_type": "code",
   "execution_count": null,
   "metadata": {
    "hidden": true,
    "slideshow": {
     "slide_type": "slide"
    }
   },
   "outputs": [],
   "source": [
    "print(f'Hybrid Ploicy: Review every {int(R)} weeks and if IP <= {small_s:.0f} order up to {big_S:.0f} , otherwise do not place order')"
   ]
  },
  {
   "cell_type": "markdown",
   "metadata": {
    "slideshow": {
     "slide_type": "slide"
    }
   },
   "source": [
    "## (s,Q) Policy based on other metrics "
   ]
  },
  {
   "cell_type": "markdown",
   "metadata": {
    "slideshow": {
     "slide_type": "slide"
    }
   },
   "source": [
    "### 1. Cycle Service Level (CSL)"
   ]
  },
  {
   "cell_type": "code",
   "execution_count": 45,
   "metadata": {
    "slideshow": {
     "slide_type": "slide"
    }
   },
   "outputs": [
    {
     "name": "stdout",
     "output_type": "stream",
     "text": [
      "Policy 1: We order 1901 units when IP <= 2678\n",
      "Policy 2: We order up to 4579 units when IP <= 2678\n"
     ]
    }
   ],
   "source": [
    "CSL = 0.95\n",
    "k1 = norm.ppf(q=CSL)  #k1 = 1.65\n",
    "s1 = (mu * lead_time) + k1 * (sigma * np.sqrt(lead_time))\n",
    "\n",
    "print(f'Policy 1: We order {np.ceil(Q_star_EOQ):.0f} units when IP <= {s1:.0f}')\n",
    "print(f'Policy 2: We order up to {np.ceil(Q_star_EOQ) + s1:.0f} units when IP <= {s1:.0f}')"
   ]
  },
  {
   "cell_type": "markdown",
   "metadata": {
    "slideshow": {
     "slide_type": "slide"
    }
   },
   "source": [
    "### 2. Item Fill Rate (IFR)"
   ]
  },
  {
   "cell_type": "code",
   "execution_count": 46,
   "metadata": {
    "slideshow": {
     "slide_type": "slide"
    }
   },
   "outputs": [
    {
     "data": {
      "text/plain": [
       "1.4442229302293823"
      ]
     },
     "execution_count": 46,
     "metadata": {},
     "output_type": "execute_result"
    }
   ],
   "source": [
    "from scipy.optimize import fsolve\n",
    "\n",
    "IFR = 0.99\n",
    "\n",
    "def E_short(k2):\n",
    "    ss = mu * lead_time + k2 * (sigma * np.sqrt(lead_time))\n",
    "    def shortage(x):\n",
    "        return x - ss\n",
    "    return normal_dist_leadtime.expect(func=shortage,lb=ss) - (1 - IFR) * Q_star_EOQ\n",
    "\n",
    "# k must be between 0 to 4\n",
    "k2 = float(fsolve(E_short, 3))\n",
    "k2"
   ]
  },
  {
   "cell_type": "code",
   "execution_count": 47,
   "metadata": {
    "slideshow": {
     "slide_type": "slide"
    }
   },
   "outputs": [
    {
     "name": "stdout",
     "output_type": "stream",
     "text": [
      "Policy: We order up to 4464 units when IP <= 2563\n"
     ]
    }
   ],
   "source": [
    "s2 = (mu * lead_time) + k2 * (sigma*np.sqrt(lead_time))\n",
    "print(f'Policy: We order up to {np.ceil(Q_star_EOQ)+s2:.0f} units when IP <= {s2:.0f}')"
   ]
  },
  {
   "cell_type": "markdown",
   "metadata": {
    "slideshow": {
     "slide_type": "slide"
    }
   },
   "source": [
    "### 3. Cost Per Stockout Event (CSOE)"
   ]
  },
  {
   "cell_type": "code",
   "execution_count": 55,
   "metadata": {
    "slideshow": {
     "slide_type": "slide"
    }
   },
   "outputs": [
    {
     "data": {
      "text/plain": [
       "2.8962945583949034"
      ]
     },
     "execution_count": 55,
     "metadata": {},
     "output_type": "execute_result"
    }
   ],
   "source": [
    "from scipy.optimize import fsolve\n",
    "\n",
    "CSOE = 50000\n",
    "mu, sigma = normal_dist.args\n",
    "\n",
    "\n",
    "def Eq_CSOE(k3):\n",
    "    return ce * sigma * np.sqrt(lead_time) - (CSOE * mu * 52 /\n",
    "                                              Q_star_EOQ) * norm.pdf(k3)\n",
    "\n",
    "\n",
    "k3 = float(fsolve(Eq_CSOE, 1))\n",
    "k3"
   ]
  },
  {
   "cell_type": "code",
   "execution_count": 56,
   "metadata": {
    "slideshow": {
     "slide_type": "slide"
    }
   },
   "outputs": [
    {
     "name": "stdout",
     "output_type": "stream",
     "text": [
      "Policy: We order up to 5295 units when IP <= 3394\n"
     ]
    }
   ],
   "source": [
    "s3 = (mu * lead_time) + k3 * (sigma*np.sqrt(lead_time))\n",
    "print(f'Policy: We order up to {np.ceil(Q_star_EOQ)+s3:.0f} units when IP <= {s3:.0f}')"
   ]
  },
  {
   "cell_type": "markdown",
   "metadata": {
    "slideshow": {
     "slide_type": "slide"
    }
   },
   "source": [
    "### 4. Cost per Item Short (CIS)"
   ]
  },
  {
   "cell_type": "code",
   "execution_count": 57,
   "metadata": {
    "slideshow": {
     "slide_type": "slide"
    }
   },
   "outputs": [
    {
     "data": {
      "text/plain": [
       "2.5582146679203013"
      ]
     },
     "execution_count": 57,
     "metadata": {},
     "output_type": "execute_result"
    }
   ],
   "source": [
    "from scipy.optimize import fsolve\n",
    "\n",
    "CIS = 100\n",
    "\n",
    "def Eq_CIS(k4):\n",
    "    return ce - (CIS * mu * 52 / Q_star_EOQ) * (1 - norm.cdf(k4))\n",
    "\n",
    "\n",
    "k4 = float(fsolve(Eq_CIS, 1))\n",
    "k4"
   ]
  },
  {
   "cell_type": "code",
   "execution_count": 58,
   "metadata": {
    "slideshow": {
     "slide_type": "slide"
    }
   },
   "outputs": [
    {
     "name": "stdout",
     "output_type": "stream",
     "text": [
      "Policy: We order up to 5101 units when IP reaches 3200\n"
     ]
    }
   ],
   "source": [
    "s4 = (mu * lead_time) + k4 * (sigma*np.sqrt(lead_time))\n",
    "print(f'Policy: We order up to {np.ceil(Q_star_EOQ)+s4:.0f} units when IP reaches {s4:.0f}')"
   ]
  },
  {
   "cell_type": "markdown",
   "metadata": {
    "slideshow": {
     "slide_type": "slide"
    }
   },
   "source": [
    "## CSL vs IFR Analysis"
   ]
  },
  {
   "cell_type": "code",
   "execution_count": 61,
   "metadata": {
    "slideshow": {
     "slide_type": "slide"
    }
   },
   "outputs": [
    {
     "data": {
      "text/html": [
       "<div>\n",
       "<style scoped>\n",
       "    .dataframe tbody tr th:only-of-type {\n",
       "        vertical-align: middle;\n",
       "    }\n",
       "\n",
       "    .dataframe tbody tr th {\n",
       "        vertical-align: top;\n",
       "    }\n",
       "\n",
       "    .dataframe thead th {\n",
       "        text-align: right;\n",
       "    }\n",
       "</style>\n",
       "<table border=\"1\" class=\"dataframe\">\n",
       "  <thead>\n",
       "    <tr style=\"text-align: right;\">\n",
       "      <th></th>\n",
       "      <th>CSL</th>\n",
       "      <th>IFR</th>\n",
       "      <th>k1</th>\n",
       "    </tr>\n",
       "  </thead>\n",
       "  <tbody>\n",
       "    <tr>\n",
       "      <th>0</th>\n",
       "      <td>0.50</td>\n",
       "      <td>0.80</td>\n",
       "      <td>0.000000</td>\n",
       "    </tr>\n",
       "    <tr>\n",
       "      <th>1</th>\n",
       "      <td>0.55</td>\n",
       "      <td>0.82</td>\n",
       "      <td>0.125661</td>\n",
       "    </tr>\n",
       "    <tr>\n",
       "      <th>2</th>\n",
       "      <td>0.60</td>\n",
       "      <td>0.84</td>\n",
       "      <td>0.253347</td>\n",
       "    </tr>\n",
       "    <tr>\n",
       "      <th>3</th>\n",
       "      <td>0.65</td>\n",
       "      <td>0.86</td>\n",
       "      <td>0.385320</td>\n",
       "    </tr>\n",
       "    <tr>\n",
       "      <th>4</th>\n",
       "      <td>0.70</td>\n",
       "      <td>0.88</td>\n",
       "      <td>0.524401</td>\n",
       "    </tr>\n",
       "    <tr>\n",
       "      <th>5</th>\n",
       "      <td>0.75</td>\n",
       "      <td>0.90</td>\n",
       "      <td>0.674490</td>\n",
       "    </tr>\n",
       "    <tr>\n",
       "      <th>6</th>\n",
       "      <td>0.80</td>\n",
       "      <td>0.92</td>\n",
       "      <td>0.841621</td>\n",
       "    </tr>\n",
       "    <tr>\n",
       "      <th>7</th>\n",
       "      <td>0.85</td>\n",
       "      <td>0.94</td>\n",
       "      <td>1.036433</td>\n",
       "    </tr>\n",
       "    <tr>\n",
       "      <th>8</th>\n",
       "      <td>0.90</td>\n",
       "      <td>0.96</td>\n",
       "      <td>1.281552</td>\n",
       "    </tr>\n",
       "    <tr>\n",
       "      <th>9</th>\n",
       "      <td>0.95</td>\n",
       "      <td>0.98</td>\n",
       "      <td>1.644854</td>\n",
       "    </tr>\n",
       "    <tr>\n",
       "      <th>10</th>\n",
       "      <td>1.00</td>\n",
       "      <td>1.00</td>\n",
       "      <td>4.264891</td>\n",
       "    </tr>\n",
       "  </tbody>\n",
       "</table>\n",
       "</div>"
      ],
      "text/plain": [
       "     CSL   IFR        k1\n",
       "0   0.50  0.80  0.000000\n",
       "1   0.55  0.82  0.125661\n",
       "2   0.60  0.84  0.253347\n",
       "3   0.65  0.86  0.385320\n",
       "4   0.70  0.88  0.524401\n",
       "5   0.75  0.90  0.674490\n",
       "6   0.80  0.92  0.841621\n",
       "7   0.85  0.94  1.036433\n",
       "8   0.90  0.96  1.281552\n",
       "9   0.95  0.98  1.644854\n",
       "10  1.00  1.00  4.264891"
      ]
     },
     "execution_count": 61,
     "metadata": {},
     "output_type": "execute_result"
    }
   ],
   "source": [
    "CSL_IFR_analysis = pd.DataFrame()\n",
    "CSL_IFR_analysis['CSL'] = np.arange(0.5, 1.01, 0.05)\n",
    "CSL_IFR_analysis['IFR'] = np.linspace(0.8, 1.0, 11)\n",
    "CSL_IFR_analysis['k1'] = norm.ppf(q=CSL_IFR_analysis['CSL'])\n",
    "CSL_IFR_analysis['k1'] = CSL_IFR_analysis['k1'].fillna(norm.ppf(q=0.99999))\n",
    "CSL_IFR_analysis"
   ]
  },
  {
   "cell_type": "code",
   "execution_count": 62,
   "metadata": {
    "slideshow": {
     "slide_type": "slide"
    }
   },
   "outputs": [],
   "source": [
    "def k_IFR(IFR):\n",
    "    def E_short(k2):\n",
    "        ss = mu * lead_time + k2 * (sigma * np.sqrt(lead_time))\n",
    "        def shortage(x):\n",
    "            return x - ss\n",
    "        return normal_dist_leadtime.expect(func=shortage,lb=ss) - (1 - IFR) * Q_star_EOQ\n",
    "    return float(fsolve(E_short, 1))"
   ]
  },
  {
   "cell_type": "code",
   "execution_count": 64,
   "metadata": {
    "slideshow": {
     "slide_type": "slide"
    }
   },
   "outputs": [
    {
     "data": {
      "text/html": [
       "<div>\n",
       "<style scoped>\n",
       "    .dataframe tbody tr th:only-of-type {\n",
       "        vertical-align: middle;\n",
       "    }\n",
       "\n",
       "    .dataframe tbody tr th {\n",
       "        vertical-align: top;\n",
       "    }\n",
       "\n",
       "    .dataframe thead th {\n",
       "        text-align: right;\n",
       "    }\n",
       "</style>\n",
       "<table border=\"1\" class=\"dataframe\">\n",
       "  <thead>\n",
       "    <tr style=\"text-align: right;\">\n",
       "      <th></th>\n",
       "      <th>CSL</th>\n",
       "      <th>IFR</th>\n",
       "      <th>k1</th>\n",
       "      <th>k2</th>\n",
       "    </tr>\n",
       "  </thead>\n",
       "  <tbody>\n",
       "    <tr>\n",
       "      <th>0</th>\n",
       "      <td>0.50</td>\n",
       "      <td>0.80</td>\n",
       "      <td>0.000000</td>\n",
       "      <td>0.000000</td>\n",
       "    </tr>\n",
       "    <tr>\n",
       "      <th>1</th>\n",
       "      <td>0.55</td>\n",
       "      <td>0.82</td>\n",
       "      <td>0.125661</td>\n",
       "      <td>0.000000</td>\n",
       "    </tr>\n",
       "    <tr>\n",
       "      <th>2</th>\n",
       "      <td>0.60</td>\n",
       "      <td>0.84</td>\n",
       "      <td>0.253347</td>\n",
       "      <td>0.000000</td>\n",
       "    </tr>\n",
       "    <tr>\n",
       "      <th>3</th>\n",
       "      <td>0.65</td>\n",
       "      <td>0.86</td>\n",
       "      <td>0.385320</td>\n",
       "      <td>0.000000</td>\n",
       "    </tr>\n",
       "    <tr>\n",
       "      <th>4</th>\n",
       "      <td>0.70</td>\n",
       "      <td>0.88</td>\n",
       "      <td>0.524401</td>\n",
       "      <td>0.000118</td>\n",
       "    </tr>\n",
       "    <tr>\n",
       "      <th>5</th>\n",
       "      <td>0.75</td>\n",
       "      <td>0.90</td>\n",
       "      <td>0.674490</td>\n",
       "      <td>0.140997</td>\n",
       "    </tr>\n",
       "    <tr>\n",
       "      <th>6</th>\n",
       "      <td>0.80</td>\n",
       "      <td>0.92</td>\n",
       "      <td>0.841621</td>\n",
       "      <td>0.302199</td>\n",
       "    </tr>\n",
       "    <tr>\n",
       "      <th>7</th>\n",
       "      <td>0.85</td>\n",
       "      <td>0.94</td>\n",
       "      <td>1.036433</td>\n",
       "      <td>0.494685</td>\n",
       "    </tr>\n",
       "    <tr>\n",
       "      <th>8</th>\n",
       "      <td>0.90</td>\n",
       "      <td>0.96</td>\n",
       "      <td>1.281552</td>\n",
       "      <td>0.742125</td>\n",
       "    </tr>\n",
       "    <tr>\n",
       "      <th>9</th>\n",
       "      <td>0.95</td>\n",
       "      <td>0.98</td>\n",
       "      <td>1.644854</td>\n",
       "      <td>1.115970</td>\n",
       "    </tr>\n",
       "    <tr>\n",
       "      <th>10</th>\n",
       "      <td>1.00</td>\n",
       "      <td>1.00</td>\n",
       "      <td>4.264891</td>\n",
       "      <td>23.366038</td>\n",
       "    </tr>\n",
       "  </tbody>\n",
       "</table>\n",
       "</div>"
      ],
      "text/plain": [
       "     CSL   IFR        k1         k2\n",
       "0   0.50  0.80  0.000000   0.000000\n",
       "1   0.55  0.82  0.125661   0.000000\n",
       "2   0.60  0.84  0.253347   0.000000\n",
       "3   0.65  0.86  0.385320   0.000000\n",
       "4   0.70  0.88  0.524401   0.000118\n",
       "5   0.75  0.90  0.674490   0.140997\n",
       "6   0.80  0.92  0.841621   0.302199\n",
       "7   0.85  0.94  1.036433   0.494685\n",
       "8   0.90  0.96  1.281552   0.742125\n",
       "9   0.95  0.98  1.644854   1.115970\n",
       "10  1.00  1.00  4.264891  23.366038"
      ]
     },
     "execution_count": 64,
     "metadata": {},
     "output_type": "execute_result"
    }
   ],
   "source": [
    "CSL_IFR_analysis['k2'] = CSL_IFR_analysis['IFR'].apply(k_IFR)\n",
    "CSL_IFR_analysis['k2'] = [i if i>=0 else 0 for i in CSL_IFR_analysis.k2]\n",
    "CSL_IFR_analysis"
   ]
  },
  {
   "cell_type": "code",
   "execution_count": 65,
   "metadata": {
    "slideshow": {
     "slide_type": "slide"
    }
   },
   "outputs": [
    {
     "data": {
      "text/html": [
       "<div>\n",
       "<style scoped>\n",
       "    .dataframe tbody tr th:only-of-type {\n",
       "        vertical-align: middle;\n",
       "    }\n",
       "\n",
       "    .dataframe tbody tr th {\n",
       "        vertical-align: top;\n",
       "    }\n",
       "\n",
       "    .dataframe thead th {\n",
       "        text-align: right;\n",
       "    }\n",
       "</style>\n",
       "<table border=\"1\" class=\"dataframe\">\n",
       "  <thead>\n",
       "    <tr style=\"text-align: right;\">\n",
       "      <th></th>\n",
       "      <th>CSL</th>\n",
       "      <th>IFR</th>\n",
       "      <th>k1</th>\n",
       "      <th>k2</th>\n",
       "      <th>Cost_CSL</th>\n",
       "      <th>Cost_IFR</th>\n",
       "    </tr>\n",
       "  </thead>\n",
       "  <tbody>\n",
       "    <tr>\n",
       "      <th>0</th>\n",
       "      <td>0.50</td>\n",
       "      <td>0.80</td>\n",
       "      <td>0.000000</td>\n",
       "      <td>0.000000</td>\n",
       "      <td>0.000000</td>\n",
       "      <td>0.000000</td>\n",
       "    </tr>\n",
       "    <tr>\n",
       "      <th>1</th>\n",
       "      <td>0.55</td>\n",
       "      <td>0.82</td>\n",
       "      <td>0.125661</td>\n",
       "      <td>0.000000</td>\n",
       "      <td>898.288195</td>\n",
       "      <td>0.000000</td>\n",
       "    </tr>\n",
       "    <tr>\n",
       "      <th>2</th>\n",
       "      <td>0.60</td>\n",
       "      <td>0.84</td>\n",
       "      <td>0.253347</td>\n",
       "      <td>0.000000</td>\n",
       "      <td>1811.047849</td>\n",
       "      <td>0.000000</td>\n",
       "    </tr>\n",
       "    <tr>\n",
       "      <th>3</th>\n",
       "      <td>0.65</td>\n",
       "      <td>0.86</td>\n",
       "      <td>0.385320</td>\n",
       "      <td>0.000000</td>\n",
       "      <td>2754.457396</td>\n",
       "      <td>0.000000</td>\n",
       "    </tr>\n",
       "    <tr>\n",
       "      <th>4</th>\n",
       "      <td>0.70</td>\n",
       "      <td>0.88</td>\n",
       "      <td>0.524401</td>\n",
       "      <td>0.000118</td>\n",
       "      <td>3748.668956</td>\n",
       "      <td>0.846387</td>\n",
       "    </tr>\n",
       "    <tr>\n",
       "      <th>5</th>\n",
       "      <td>0.75</td>\n",
       "      <td>0.90</td>\n",
       "      <td>0.674490</td>\n",
       "      <td>0.140997</td>\n",
       "      <td>4821.579549</td>\n",
       "      <td>1007.917642</td>\n",
       "    </tr>\n",
       "    <tr>\n",
       "      <th>6</th>\n",
       "      <td>0.80</td>\n",
       "      <td>0.92</td>\n",
       "      <td>0.841621</td>\n",
       "      <td>0.302199</td>\n",
       "      <td>6016.316374</td>\n",
       "      <td>2160.262930</td>\n",
       "    </tr>\n",
       "    <tr>\n",
       "      <th>7</th>\n",
       "      <td>0.85</td>\n",
       "      <td>0.94</td>\n",
       "      <td>1.036433</td>\n",
       "      <td>0.494685</td>\n",
       "      <td>7408.928058</td>\n",
       "      <td>3536.245085</td>\n",
       "    </tr>\n",
       "    <tr>\n",
       "      <th>8</th>\n",
       "      <td>0.90</td>\n",
       "      <td>0.96</td>\n",
       "      <td>1.281552</td>\n",
       "      <td>0.742125</td>\n",
       "      <td>9161.151549</td>\n",
       "      <td>5305.067110</td>\n",
       "    </tr>\n",
       "    <tr>\n",
       "      <th>9</th>\n",
       "      <td>0.95</td>\n",
       "      <td>0.98</td>\n",
       "      <td>1.644854</td>\n",
       "      <td>1.115970</td>\n",
       "      <td>11758.210717</td>\n",
       "      <td>7977.495763</td>\n",
       "    </tr>\n",
       "    <tr>\n",
       "      <th>10</th>\n",
       "      <td>1.00</td>\n",
       "      <td>1.00</td>\n",
       "      <td>4.264891</td>\n",
       "      <td>23.366038</td>\n",
       "      <td>30487.505891</td>\n",
       "      <td>167031.759129</td>\n",
       "    </tr>\n",
       "  </tbody>\n",
       "</table>\n",
       "</div>"
      ],
      "text/plain": [
       "     CSL   IFR        k1         k2      Cost_CSL       Cost_IFR\n",
       "0   0.50  0.80  0.000000   0.000000      0.000000       0.000000\n",
       "1   0.55  0.82  0.125661   0.000000    898.288195       0.000000\n",
       "2   0.60  0.84  0.253347   0.000000   1811.047849       0.000000\n",
       "3   0.65  0.86  0.385320   0.000000   2754.457396       0.000000\n",
       "4   0.70  0.88  0.524401   0.000118   3748.668956       0.846387\n",
       "5   0.75  0.90  0.674490   0.140997   4821.579549    1007.917642\n",
       "6   0.80  0.92  0.841621   0.302199   6016.316374    2160.262930\n",
       "7   0.85  0.94  1.036433   0.494685   7408.928058    3536.245085\n",
       "8   0.90  0.96  1.281552   0.742125   9161.151549    5305.067110\n",
       "9   0.95  0.98  1.644854   1.115970  11758.210717    7977.495763\n",
       "10  1.00  1.00  4.264891  23.366038  30487.505891  167031.759129"
      ]
     },
     "execution_count": 65,
     "metadata": {},
     "output_type": "execute_result"
    }
   ],
   "source": [
    "CSL_IFR_analysis['Cost_CSL'] = ce * CSL_IFR_analysis.k1*(sigma * np.sqrt(lead_time))\n",
    "CSL_IFR_analysis['Cost_IFR'] = ce * CSL_IFR_analysis.k2 *(sigma * np.sqrt(lead_time))\n",
    "CSL_IFR_analysis"
   ]
  },
  {
   "cell_type": "code",
   "execution_count": 67,
   "metadata": {
    "slideshow": {
     "slide_type": "slide"
    }
   },
   "outputs": [
    {
     "data": {
      "image/png": "[encoded data removed]",
      "text/plain": [
       "<Figure size 720x432 with 1 Axes>"
      ]
     },
     "metadata": {
      "needs_background": "light"
     },
     "output_type": "display_data"
    }
   ],
   "source": [
    "plt.figure(figsize=(10, 6))\n",
    "sns.lineplot(data=CSL_IFR_analysis,\n",
    "             x='Cost_CSL',\n",
    "             y='CSL',\n",
    "             label='CSL',\n",
    "             color='coral')\n",
    "\n",
    "sns.lineplot(data=CSL_IFR_analysis,\n",
    "             x='Cost_IFR',\n",
    "             y='IFR',\n",
    "             label='IFR',\n",
    "             color='green')\n",
    "\n",
    "plt.xlabel('Safety Stock Cost', fontsize=16, fontname='Comic Sans MS')\n",
    "\n",
    "plt.ylabel('Level od Service', fontsize=16, fontname='Comic Sans MS')\n",
    "plt.xlim(0, 20000)\n",
    "plt.grid(which='major', axis='both')\n",
    "# plt.savefig('CLS vs IFR.jpg', dpi=600)"
   ]
  },
  {
   "cell_type": "markdown",
   "metadata": {
    "slideshow": {
     "slide_type": "slide"
    }
   },
   "source": [
    "### CSL/IFR vs LeadTime Analysis"
   ]
  },
  {
   "cell_type": "code",
   "execution_count": 68,
   "metadata": {
    "slideshow": {
     "slide_type": "slide"
    }
   },
   "outputs": [
    {
     "data": {
      "text/html": [
       "<div>\n",
       "<style scoped>\n",
       "    .dataframe tbody tr th:only-of-type {\n",
       "        vertical-align: middle;\n",
       "    }\n",
       "\n",
       "    .dataframe tbody tr th {\n",
       "        vertical-align: top;\n",
       "    }\n",
       "\n",
       "    .dataframe thead th {\n",
       "        text-align: right;\n",
       "    }\n",
       "</style>\n",
       "<table border=\"1\" class=\"dataframe\">\n",
       "  <thead>\n",
       "    <tr style=\"text-align: right;\">\n",
       "      <th></th>\n",
       "      <th>CSL</th>\n",
       "      <th>IFR</th>\n",
       "      <th>k1</th>\n",
       "      <th>k2</th>\n",
       "      <th>Cost_CSL</th>\n",
       "      <th>Cost_IFR</th>\n",
       "      <th>LeadTime</th>\n",
       "    </tr>\n",
       "  </thead>\n",
       "  <tbody>\n",
       "    <tr>\n",
       "      <th>0</th>\n",
       "      <td>0.50</td>\n",
       "      <td>0.80</td>\n",
       "      <td>0.000000</td>\n",
       "      <td>0.000000</td>\n",
       "      <td>0.000000</td>\n",
       "      <td>0.000000</td>\n",
       "      <td>2</td>\n",
       "    </tr>\n",
       "    <tr>\n",
       "      <th>1</th>\n",
       "      <td>0.55</td>\n",
       "      <td>0.82</td>\n",
       "      <td>0.125661</td>\n",
       "      <td>0.000000</td>\n",
       "      <td>898.288195</td>\n",
       "      <td>0.000000</td>\n",
       "      <td>2</td>\n",
       "    </tr>\n",
       "    <tr>\n",
       "      <th>2</th>\n",
       "      <td>0.60</td>\n",
       "      <td>0.84</td>\n",
       "      <td>0.253347</td>\n",
       "      <td>0.000000</td>\n",
       "      <td>1811.047849</td>\n",
       "      <td>0.000000</td>\n",
       "      <td>2</td>\n",
       "    </tr>\n",
       "    <tr>\n",
       "      <th>3</th>\n",
       "      <td>0.65</td>\n",
       "      <td>0.86</td>\n",
       "      <td>0.385320</td>\n",
       "      <td>0.000000</td>\n",
       "      <td>2754.457396</td>\n",
       "      <td>0.000000</td>\n",
       "      <td>2</td>\n",
       "    </tr>\n",
       "    <tr>\n",
       "      <th>4</th>\n",
       "      <td>0.70</td>\n",
       "      <td>0.88</td>\n",
       "      <td>0.524401</td>\n",
       "      <td>0.000118</td>\n",
       "      <td>3748.668956</td>\n",
       "      <td>0.846387</td>\n",
       "      <td>2</td>\n",
       "    </tr>\n",
       "    <tr>\n",
       "      <th>5</th>\n",
       "      <td>0.75</td>\n",
       "      <td>0.90</td>\n",
       "      <td>0.674490</td>\n",
       "      <td>0.140997</td>\n",
       "      <td>4821.579549</td>\n",
       "      <td>1007.917642</td>\n",
       "      <td>2</td>\n",
       "    </tr>\n",
       "    <tr>\n",
       "      <th>6</th>\n",
       "      <td>0.80</td>\n",
       "      <td>0.92</td>\n",
       "      <td>0.841621</td>\n",
       "      <td>0.302199</td>\n",
       "      <td>6016.316374</td>\n",
       "      <td>2160.262930</td>\n",
       "      <td>2</td>\n",
       "    </tr>\n",
       "    <tr>\n",
       "      <th>7</th>\n",
       "      <td>0.85</td>\n",
       "      <td>0.94</td>\n",
       "      <td>1.036433</td>\n",
       "      <td>0.494685</td>\n",
       "      <td>7408.928058</td>\n",
       "      <td>3536.245085</td>\n",
       "      <td>2</td>\n",
       "    </tr>\n",
       "    <tr>\n",
       "      <th>8</th>\n",
       "      <td>0.90</td>\n",
       "      <td>0.96</td>\n",
       "      <td>1.281552</td>\n",
       "      <td>0.742125</td>\n",
       "      <td>9161.151549</td>\n",
       "      <td>5305.067110</td>\n",
       "      <td>2</td>\n",
       "    </tr>\n",
       "    <tr>\n",
       "      <th>9</th>\n",
       "      <td>0.95</td>\n",
       "      <td>0.98</td>\n",
       "      <td>1.644854</td>\n",
       "      <td>1.115970</td>\n",
       "      <td>11758.210717</td>\n",
       "      <td>7977.495763</td>\n",
       "      <td>2</td>\n",
       "    </tr>\n",
       "    <tr>\n",
       "      <th>10</th>\n",
       "      <td>1.00</td>\n",
       "      <td>1.00</td>\n",
       "      <td>4.264891</td>\n",
       "      <td>23.366038</td>\n",
       "      <td>30487.505891</td>\n",
       "      <td>167031.759129</td>\n",
       "      <td>2</td>\n",
       "    </tr>\n",
       "  </tbody>\n",
       "</table>\n",
       "</div>"
      ],
      "text/plain": [
       "     CSL   IFR        k1         k2      Cost_CSL       Cost_IFR  LeadTime\n",
       "0   0.50  0.80  0.000000   0.000000      0.000000       0.000000         2\n",
       "1   0.55  0.82  0.125661   0.000000    898.288195       0.000000         2\n",
       "2   0.60  0.84  0.253347   0.000000   1811.047849       0.000000         2\n",
       "3   0.65  0.86  0.385320   0.000000   2754.457396       0.000000         2\n",
       "4   0.70  0.88  0.524401   0.000118   3748.668956       0.846387         2\n",
       "5   0.75  0.90  0.674490   0.140997   4821.579549    1007.917642         2\n",
       "6   0.80  0.92  0.841621   0.302199   6016.316374    2160.262930         2\n",
       "7   0.85  0.94  1.036433   0.494685   7408.928058    3536.245085         2\n",
       "8   0.90  0.96  1.281552   0.742125   9161.151549    5305.067110         2\n",
       "9   0.95  0.98  1.644854   1.115970  11758.210717    7977.495763         2\n",
       "10  1.00  1.00  4.264891  23.366038  30487.505891  167031.759129         2"
      ]
     },
     "execution_count": 68,
     "metadata": {},
     "output_type": "execute_result"
    }
   ],
   "source": [
    "LT_analysis1 = CSL_IFR_analysis.copy()\n",
    "LT_analysis1['LeadTime'] = 2\n",
    "LT_analysis1"
   ]
  },
  {
   "cell_type": "code",
   "execution_count": 69,
   "metadata": {
    "slideshow": {
     "slide_type": "slide"
    }
   },
   "outputs": [
    {
     "data": {
      "text/html": [
       "<div>\n",
       "<style scoped>\n",
       "    .dataframe tbody tr th:only-of-type {\n",
       "        vertical-align: middle;\n",
       "    }\n",
       "\n",
       "    .dataframe tbody tr th {\n",
       "        vertical-align: top;\n",
       "    }\n",
       "\n",
       "    .dataframe thead th {\n",
       "        text-align: right;\n",
       "    }\n",
       "</style>\n",
       "<table border=\"1\" class=\"dataframe\">\n",
       "  <thead>\n",
       "    <tr style=\"text-align: right;\">\n",
       "      <th></th>\n",
       "      <th>CSL</th>\n",
       "      <th>IFR</th>\n",
       "      <th>k1</th>\n",
       "      <th>k2</th>\n",
       "      <th>Cost_CSL</th>\n",
       "      <th>Cost_IFR</th>\n",
       "      <th>LeadTime</th>\n",
       "    </tr>\n",
       "  </thead>\n",
       "  <tbody>\n",
       "    <tr>\n",
       "      <th>0</th>\n",
       "      <td>0.50</td>\n",
       "      <td>0.80</td>\n",
       "      <td>0.000000</td>\n",
       "      <td>0.000000</td>\n",
       "      <td>0.000000</td>\n",
       "      <td>0.000000</td>\n",
       "      <td>1</td>\n",
       "    </tr>\n",
       "    <tr>\n",
       "      <th>1</th>\n",
       "      <td>0.55</td>\n",
       "      <td>0.82</td>\n",
       "      <td>0.125661</td>\n",
       "      <td>0.000000</td>\n",
       "      <td>635.185674</td>\n",
       "      <td>0.000000</td>\n",
       "      <td>1</td>\n",
       "    </tr>\n",
       "    <tr>\n",
       "      <th>2</th>\n",
       "      <td>0.60</td>\n",
       "      <td>0.84</td>\n",
       "      <td>0.253347</td>\n",
       "      <td>0.000000</td>\n",
       "      <td>1280.604215</td>\n",
       "      <td>0.000000</td>\n",
       "      <td>1</td>\n",
       "    </tr>\n",
       "    <tr>\n",
       "      <th>3</th>\n",
       "      <td>0.65</td>\n",
       "      <td>0.86</td>\n",
       "      <td>0.385320</td>\n",
       "      <td>0.000000</td>\n",
       "      <td>1947.695503</td>\n",
       "      <td>0.000000</td>\n",
       "      <td>1</td>\n",
       "    </tr>\n",
       "    <tr>\n",
       "      <th>4</th>\n",
       "      <td>0.70</td>\n",
       "      <td>0.88</td>\n",
       "      <td>0.524401</td>\n",
       "      <td>0.000118</td>\n",
       "      <td>2650.709239</td>\n",
       "      <td>0.598486</td>\n",
       "      <td>1</td>\n",
       "    </tr>\n",
       "    <tr>\n",
       "      <th>5</th>\n",
       "      <td>0.75</td>\n",
       "      <td>0.90</td>\n",
       "      <td>0.674490</td>\n",
       "      <td>0.140997</td>\n",
       "      <td>3409.371595</td>\n",
       "      <td>712.705400</td>\n",
       "      <td>1</td>\n",
       "    </tr>\n",
       "    <tr>\n",
       "      <th>6</th>\n",
       "      <td>0.80</td>\n",
       "      <td>0.92</td>\n",
       "      <td>0.841621</td>\n",
       "      <td>0.302199</td>\n",
       "      <td>4254.178106</td>\n",
       "      <td>1527.536567</td>\n",
       "      <td>1</td>\n",
       "    </tr>\n",
       "    <tr>\n",
       "      <th>7</th>\n",
       "      <td>0.85</td>\n",
       "      <td>0.94</td>\n",
       "      <td>1.036433</td>\n",
       "      <td>0.494685</td>\n",
       "      <td>5238.903271</td>\n",
       "      <td>2500.502879</td>\n",
       "      <td>1</td>\n",
       "    </tr>\n",
       "    <tr>\n",
       "      <th>8</th>\n",
       "      <td>0.90</td>\n",
       "      <td>0.96</td>\n",
       "      <td>1.281552</td>\n",
       "      <td>0.742125</td>\n",
       "      <td>6477.912384</td>\n",
       "      <td>3751.248928</td>\n",
       "      <td>1</td>\n",
       "    </tr>\n",
       "    <tr>\n",
       "      <th>9</th>\n",
       "      <td>0.95</td>\n",
       "      <td>0.98</td>\n",
       "      <td>1.644854</td>\n",
       "      <td>1.115970</td>\n",
       "      <td>8314.310533</td>\n",
       "      <td>5640.941351</td>\n",
       "      <td>1</td>\n",
       "    </tr>\n",
       "    <tr>\n",
       "      <th>10</th>\n",
       "      <td>1.00</td>\n",
       "      <td>1.00</td>\n",
       "      <td>4.264891</td>\n",
       "      <td>23.366038</td>\n",
       "      <td>21557.922157</td>\n",
       "      <td>118109.289553</td>\n",
       "      <td>1</td>\n",
       "    </tr>\n",
       "  </tbody>\n",
       "</table>\n",
       "</div>"
      ],
      "text/plain": [
       "     CSL   IFR        k1         k2      Cost_CSL       Cost_IFR  LeadTime\n",
       "0   0.50  0.80  0.000000   0.000000      0.000000       0.000000         1\n",
       "1   0.55  0.82  0.125661   0.000000    635.185674       0.000000         1\n",
       "2   0.60  0.84  0.253347   0.000000   1280.604215       0.000000         1\n",
       "3   0.65  0.86  0.385320   0.000000   1947.695503       0.000000         1\n",
       "4   0.70  0.88  0.524401   0.000118   2650.709239       0.598486         1\n",
       "5   0.75  0.90  0.674490   0.140997   3409.371595     712.705400         1\n",
       "6   0.80  0.92  0.841621   0.302199   4254.178106    1527.536567         1\n",
       "7   0.85  0.94  1.036433   0.494685   5238.903271    2500.502879         1\n",
       "8   0.90  0.96  1.281552   0.742125   6477.912384    3751.248928         1\n",
       "9   0.95  0.98  1.644854   1.115970   8314.310533    5640.941351         1\n",
       "10  1.00  1.00  4.264891  23.366038  21557.922157  118109.289553         1"
      ]
     },
     "execution_count": 69,
     "metadata": {},
     "output_type": "execute_result"
    }
   ],
   "source": [
    "LT_analysis2 = CSL_IFR_analysis.copy()\n",
    "LT_analysis2['LeadTime'] = 1\n",
    "LT_analysis2['Cost_CSL'] = ce * LT_analysis2.k1*(sigma * np.sqrt(1))\n",
    "LT_analysis2['Cost_IFR'] = ce * LT_analysis2.k2 *(sigma * np.sqrt(1))\n",
    "LT_analysis2"
   ]
  },
  {
   "cell_type": "code",
   "execution_count": 70,
   "metadata": {
    "slideshow": {
     "slide_type": "slide"
    }
   },
   "outputs": [],
   "source": [
    "LT_analysis3 = CSL_IFR_analysis.copy()\n",
    "LT_analysis3['LeadTime'] = 4\n",
    "LT_analysis3['Cost_CSL'] = ce * LT_analysis2.k1*(sigma * np.sqrt(4))\n",
    "LT_analysis3['Cost_IFR'] = ce * LT_analysis2.k2 *(sigma * np.sqrt(4))\n",
    "# LT_analysis3"
   ]
  },
  {
   "cell_type": "code",
   "execution_count": 71,
   "metadata": {
    "slideshow": {
     "slide_type": "slide"
    }
   },
   "outputs": [],
   "source": [
    "LT_analysis4 = CSL_IFR_analysis.copy()\n",
    "LT_analysis4['LeadTime'] = 6\n",
    "LT_analysis4['Cost_CSL'] = ce * LT_analysis2.k1*(sigma * np.sqrt(6))\n",
    "LT_analysis4['Cost_IFR'] = ce * LT_analysis2.k2 *(sigma * np.sqrt(6))\n",
    "# LT_analysis4"
   ]
  },
  {
   "cell_type": "code",
   "execution_count": 75,
   "metadata": {
    "slideshow": {
     "slide_type": "slide"
    }
   },
   "outputs": [
    {
     "data": {
      "text/html": [
       "<div>\n",
       "<style scoped>\n",
       "    .dataframe tbody tr th:only-of-type {\n",
       "        vertical-align: middle;\n",
       "    }\n",
       "\n",
       "    .dataframe tbody tr th {\n",
       "        vertical-align: top;\n",
       "    }\n",
       "\n",
       "    .dataframe thead th {\n",
       "        text-align: right;\n",
       "    }\n",
       "</style>\n",
       "<table border=\"1\" class=\"dataframe\">\n",
       "  <thead>\n",
       "    <tr style=\"text-align: right;\">\n",
       "      <th></th>\n",
       "      <th>CSL</th>\n",
       "      <th>IFR</th>\n",
       "      <th>k1</th>\n",
       "      <th>k2</th>\n",
       "      <th>Cost_CSL</th>\n",
       "      <th>Cost_IFR</th>\n",
       "      <th>LeadTime</th>\n",
       "    </tr>\n",
       "  </thead>\n",
       "  <tbody>\n",
       "    <tr>\n",
       "      <th>0</th>\n",
       "      <td>0.50</td>\n",
       "      <td>0.80</td>\n",
       "      <td>0.000000</td>\n",
       "      <td>0.000000</td>\n",
       "      <td>0.000000</td>\n",
       "      <td>0.000000</td>\n",
       "      <td>1</td>\n",
       "    </tr>\n",
       "    <tr>\n",
       "      <th>1</th>\n",
       "      <td>0.55</td>\n",
       "      <td>0.82</td>\n",
       "      <td>0.125661</td>\n",
       "      <td>0.000000</td>\n",
       "      <td>635.185674</td>\n",
       "      <td>0.000000</td>\n",
       "      <td>1</td>\n",
       "    </tr>\n",
       "    <tr>\n",
       "      <th>2</th>\n",
       "      <td>0.60</td>\n",
       "      <td>0.84</td>\n",
       "      <td>0.253347</td>\n",
       "      <td>0.000000</td>\n",
       "      <td>1280.604215</td>\n",
       "      <td>0.000000</td>\n",
       "      <td>1</td>\n",
       "    </tr>\n",
       "    <tr>\n",
       "      <th>3</th>\n",
       "      <td>0.65</td>\n",
       "      <td>0.86</td>\n",
       "      <td>0.385320</td>\n",
       "      <td>0.000000</td>\n",
       "      <td>1947.695503</td>\n",
       "      <td>0.000000</td>\n",
       "      <td>1</td>\n",
       "    </tr>\n",
       "    <tr>\n",
       "      <th>4</th>\n",
       "      <td>0.70</td>\n",
       "      <td>0.88</td>\n",
       "      <td>0.524401</td>\n",
       "      <td>0.000118</td>\n",
       "      <td>2650.709239</td>\n",
       "      <td>0.598486</td>\n",
       "      <td>1</td>\n",
       "    </tr>\n",
       "    <tr>\n",
       "      <th>5</th>\n",
       "      <td>0.75</td>\n",
       "      <td>0.90</td>\n",
       "      <td>0.674490</td>\n",
       "      <td>0.140997</td>\n",
       "      <td>3409.371595</td>\n",
       "      <td>712.705400</td>\n",
       "      <td>1</td>\n",
       "    </tr>\n",
       "    <tr>\n",
       "      <th>6</th>\n",
       "      <td>0.80</td>\n",
       "      <td>0.92</td>\n",
       "      <td>0.841621</td>\n",
       "      <td>0.302199</td>\n",
       "      <td>4254.178106</td>\n",
       "      <td>1527.536567</td>\n",
       "      <td>1</td>\n",
       "    </tr>\n",
       "    <tr>\n",
       "      <th>7</th>\n",
       "      <td>0.85</td>\n",
       "      <td>0.94</td>\n",
       "      <td>1.036433</td>\n",
       "      <td>0.494685</td>\n",
       "      <td>5238.903271</td>\n",
       "      <td>2500.502879</td>\n",
       "      <td>1</td>\n",
       "    </tr>\n",
       "    <tr>\n",
       "      <th>8</th>\n",
       "      <td>0.90</td>\n",
       "      <td>0.96</td>\n",
       "      <td>1.281552</td>\n",
       "      <td>0.742125</td>\n",
       "      <td>6477.912384</td>\n",
       "      <td>3751.248928</td>\n",
       "      <td>1</td>\n",
       "    </tr>\n",
       "    <tr>\n",
       "      <th>9</th>\n",
       "      <td>0.95</td>\n",
       "      <td>0.98</td>\n",
       "      <td>1.644854</td>\n",
       "      <td>1.115970</td>\n",
       "      <td>8314.310533</td>\n",
       "      <td>5640.941351</td>\n",
       "      <td>1</td>\n",
       "    </tr>\n",
       "    <tr>\n",
       "      <th>10</th>\n",
       "      <td>1.00</td>\n",
       "      <td>1.00</td>\n",
       "      <td>4.264891</td>\n",
       "      <td>23.366038</td>\n",
       "      <td>21557.922157</td>\n",
       "      <td>118109.289553</td>\n",
       "      <td>1</td>\n",
       "    </tr>\n",
       "    <tr>\n",
       "      <th>11</th>\n",
       "      <td>0.50</td>\n",
       "      <td>0.80</td>\n",
       "      <td>0.000000</td>\n",
       "      <td>0.000000</td>\n",
       "      <td>0.000000</td>\n",
       "      <td>0.000000</td>\n",
       "      <td>2</td>\n",
       "    </tr>\n",
       "    <tr>\n",
       "      <th>12</th>\n",
       "      <td>0.55</td>\n",
       "      <td>0.82</td>\n",
       "      <td>0.125661</td>\n",
       "      <td>0.000000</td>\n",
       "      <td>898.288195</td>\n",
       "      <td>0.000000</td>\n",
       "      <td>2</td>\n",
       "    </tr>\n",
       "    <tr>\n",
       "      <th>13</th>\n",
       "      <td>0.60</td>\n",
       "      <td>0.84</td>\n",
       "      <td>0.253347</td>\n",
       "      <td>0.000000</td>\n",
       "      <td>1811.047849</td>\n",
       "      <td>0.000000</td>\n",
       "      <td>2</td>\n",
       "    </tr>\n",
       "    <tr>\n",
       "      <th>14</th>\n",
       "      <td>0.65</td>\n",
       "      <td>0.86</td>\n",
       "      <td>0.385320</td>\n",
       "      <td>0.000000</td>\n",
       "      <td>2754.457396</td>\n",
       "      <td>0.000000</td>\n",
       "      <td>2</td>\n",
       "    </tr>\n",
       "    <tr>\n",
       "      <th>15</th>\n",
       "      <td>0.70</td>\n",
       "      <td>0.88</td>\n",
       "      <td>0.524401</td>\n",
       "      <td>0.000118</td>\n",
       "      <td>3748.668956</td>\n",
       "      <td>0.846387</td>\n",
       "      <td>2</td>\n",
       "    </tr>\n",
       "    <tr>\n",
       "      <th>16</th>\n",
       "      <td>0.75</td>\n",
       "      <td>0.90</td>\n",
       "      <td>0.674490</td>\n",
       "      <td>0.140997</td>\n",
       "      <td>4821.579549</td>\n",
       "      <td>1007.917642</td>\n",
       "      <td>2</td>\n",
       "    </tr>\n",
       "    <tr>\n",
       "      <th>17</th>\n",
       "      <td>0.80</td>\n",
       "      <td>0.92</td>\n",
       "      <td>0.841621</td>\n",
       "      <td>0.302199</td>\n",
       "      <td>6016.316374</td>\n",
       "      <td>2160.262930</td>\n",
       "      <td>2</td>\n",
       "    </tr>\n",
       "    <tr>\n",
       "      <th>18</th>\n",
       "      <td>0.85</td>\n",
       "      <td>0.94</td>\n",
       "      <td>1.036433</td>\n",
       "      <td>0.494685</td>\n",
       "      <td>7408.928058</td>\n",
       "      <td>3536.245085</td>\n",
       "      <td>2</td>\n",
       "    </tr>\n",
       "    <tr>\n",
       "      <th>19</th>\n",
       "      <td>0.90</td>\n",
       "      <td>0.96</td>\n",
       "      <td>1.281552</td>\n",
       "      <td>0.742125</td>\n",
       "      <td>9161.151549</td>\n",
       "      <td>5305.067110</td>\n",
       "      <td>2</td>\n",
       "    </tr>\n",
       "    <tr>\n",
       "      <th>20</th>\n",
       "      <td>0.95</td>\n",
       "      <td>0.98</td>\n",
       "      <td>1.644854</td>\n",
       "      <td>1.115970</td>\n",
       "      <td>11758.210717</td>\n",
       "      <td>7977.495763</td>\n",
       "      <td>2</td>\n",
       "    </tr>\n",
       "    <tr>\n",
       "      <th>21</th>\n",
       "      <td>1.00</td>\n",
       "      <td>1.00</td>\n",
       "      <td>4.264891</td>\n",
       "      <td>23.366038</td>\n",
       "      <td>30487.505891</td>\n",
       "      <td>167031.759129</td>\n",
       "      <td>2</td>\n",
       "    </tr>\n",
       "    <tr>\n",
       "      <th>22</th>\n",
       "      <td>0.50</td>\n",
       "      <td>0.80</td>\n",
       "      <td>0.000000</td>\n",
       "      <td>0.000000</td>\n",
       "      <td>0.000000</td>\n",
       "      <td>0.000000</td>\n",
       "      <td>4</td>\n",
       "    </tr>\n",
       "    <tr>\n",
       "      <th>23</th>\n",
       "      <td>0.55</td>\n",
       "      <td>0.82</td>\n",
       "      <td>0.125661</td>\n",
       "      <td>0.000000</td>\n",
       "      <td>1270.371348</td>\n",
       "      <td>0.000000</td>\n",
       "      <td>4</td>\n",
       "    </tr>\n",
       "    <tr>\n",
       "      <th>24</th>\n",
       "      <td>0.60</td>\n",
       "      <td>0.84</td>\n",
       "      <td>0.253347</td>\n",
       "      <td>0.000000</td>\n",
       "      <td>2561.208430</td>\n",
       "      <td>0.000000</td>\n",
       "      <td>4</td>\n",
       "    </tr>\n",
       "    <tr>\n",
       "      <th>25</th>\n",
       "      <td>0.65</td>\n",
       "      <td>0.86</td>\n",
       "      <td>0.385320</td>\n",
       "      <td>0.000000</td>\n",
       "      <td>3895.391006</td>\n",
       "      <td>0.000000</td>\n",
       "      <td>4</td>\n",
       "    </tr>\n",
       "    <tr>\n",
       "      <th>26</th>\n",
       "      <td>0.70</td>\n",
       "      <td>0.88</td>\n",
       "      <td>0.524401</td>\n",
       "      <td>0.000118</td>\n",
       "      <td>5301.418479</td>\n",
       "      <td>1.196973</td>\n",
       "      <td>4</td>\n",
       "    </tr>\n",
       "    <tr>\n",
       "      <th>27</th>\n",
       "      <td>0.75</td>\n",
       "      <td>0.90</td>\n",
       "      <td>0.674490</td>\n",
       "      <td>0.140997</td>\n",
       "      <td>6818.743191</td>\n",
       "      <td>1425.410799</td>\n",
       "      <td>4</td>\n",
       "    </tr>\n",
       "    <tr>\n",
       "      <th>28</th>\n",
       "      <td>0.80</td>\n",
       "      <td>0.92</td>\n",
       "      <td>0.841621</td>\n",
       "      <td>0.302199</td>\n",
       "      <td>8508.356212</td>\n",
       "      <td>3055.073135</td>\n",
       "      <td>4</td>\n",
       "    </tr>\n",
       "    <tr>\n",
       "      <th>29</th>\n",
       "      <td>0.85</td>\n",
       "      <td>0.94</td>\n",
       "      <td>1.036433</td>\n",
       "      <td>0.494685</td>\n",
       "      <td>10477.806542</td>\n",
       "      <td>5001.005759</td>\n",
       "      <td>4</td>\n",
       "    </tr>\n",
       "    <tr>\n",
       "      <th>30</th>\n",
       "      <td>0.90</td>\n",
       "      <td>0.96</td>\n",
       "      <td>1.281552</td>\n",
       "      <td>0.742125</td>\n",
       "      <td>12955.824768</td>\n",
       "      <td>7502.497856</td>\n",
       "      <td>4</td>\n",
       "    </tr>\n",
       "    <tr>\n",
       "      <th>31</th>\n",
       "      <td>0.95</td>\n",
       "      <td>0.98</td>\n",
       "      <td>1.644854</td>\n",
       "      <td>1.115970</td>\n",
       "      <td>16628.621066</td>\n",
       "      <td>11281.882702</td>\n",
       "      <td>4</td>\n",
       "    </tr>\n",
       "    <tr>\n",
       "      <th>32</th>\n",
       "      <td>1.00</td>\n",
       "      <td>1.00</td>\n",
       "      <td>4.264891</td>\n",
       "      <td>23.366038</td>\n",
       "      <td>43115.844314</td>\n",
       "      <td>236218.579107</td>\n",
       "      <td>4</td>\n",
       "    </tr>\n",
       "    <tr>\n",
       "      <th>33</th>\n",
       "      <td>0.50</td>\n",
       "      <td>0.80</td>\n",
       "      <td>0.000000</td>\n",
       "      <td>0.000000</td>\n",
       "      <td>0.000000</td>\n",
       "      <td>0.000000</td>\n",
       "      <td>6</td>\n",
       "    </tr>\n",
       "    <tr>\n",
       "      <th>34</th>\n",
       "      <td>0.55</td>\n",
       "      <td>0.82</td>\n",
       "      <td>0.125661</td>\n",
       "      <td>0.000000</td>\n",
       "      <td>1555.880793</td>\n",
       "      <td>0.000000</td>\n",
       "      <td>6</td>\n",
       "    </tr>\n",
       "    <tr>\n",
       "      <th>35</th>\n",
       "      <td>0.60</td>\n",
       "      <td>0.84</td>\n",
       "      <td>0.253347</td>\n",
       "      <td>0.000000</td>\n",
       "      <td>3136.826890</td>\n",
       "      <td>0.000000</td>\n",
       "      <td>6</td>\n",
       "    </tr>\n",
       "    <tr>\n",
       "      <th>36</th>\n",
       "      <td>0.65</td>\n",
       "      <td>0.86</td>\n",
       "      <td>0.385320</td>\n",
       "      <td>0.000000</td>\n",
       "      <td>4770.860157</td>\n",
       "      <td>0.000000</td>\n",
       "      <td>6</td>\n",
       "    </tr>\n",
       "    <tr>\n",
       "      <th>37</th>\n",
       "      <td>0.70</td>\n",
       "      <td>0.88</td>\n",
       "      <td>0.524401</td>\n",
       "      <td>0.000118</td>\n",
       "      <td>6492.885093</td>\n",
       "      <td>1.465986</td>\n",
       "      <td>6</td>\n",
       "    </tr>\n",
       "    <tr>\n",
       "      <th>38</th>\n",
       "      <td>0.75</td>\n",
       "      <td>0.90</td>\n",
       "      <td>0.674490</td>\n",
       "      <td>0.140997</td>\n",
       "      <td>8351.220752</td>\n",
       "      <td>1745.764566</td>\n",
       "      <td>6</td>\n",
       "    </tr>\n",
       "    <tr>\n",
       "      <th>39</th>\n",
       "      <td>0.80</td>\n",
       "      <td>0.92</td>\n",
       "      <td>0.841621</td>\n",
       "      <td>0.302199</td>\n",
       "      <td>10420.565634</td>\n",
       "      <td>3741.685153</td>\n",
       "      <td>6</td>\n",
       "    </tr>\n",
       "    <tr>\n",
       "      <th>40</th>\n",
       "      <td>0.85</td>\n",
       "      <td>0.94</td>\n",
       "      <td>1.036433</td>\n",
       "      <td>0.494685</td>\n",
       "      <td>12832.639826</td>\n",
       "      <td>6124.956155</td>\n",
       "      <td>6</td>\n",
       "    </tr>\n",
       "    <tr>\n",
       "      <th>41</th>\n",
       "      <td>0.90</td>\n",
       "      <td>0.96</td>\n",
       "      <td>1.281552</td>\n",
       "      <td>0.742125</td>\n",
       "      <td>15867.579939</td>\n",
       "      <td>9188.645772</td>\n",
       "      <td>6</td>\n",
       "    </tr>\n",
       "    <tr>\n",
       "      <th>42</th>\n",
       "      <td>0.95</td>\n",
       "      <td>0.98</td>\n",
       "      <td>1.644854</td>\n",
       "      <td>1.115970</td>\n",
       "      <td>20365.818368</td>\n",
       "      <td>13817.427979</td>\n",
       "      <td>6</td>\n",
       "    </tr>\n",
       "    <tr>\n",
       "      <th>43</th>\n",
       "      <td>1.00</td>\n",
       "      <td>1.00</td>\n",
       "      <td>4.264891</td>\n",
       "      <td>23.366038</td>\n",
       "      <td>52805.909199</td>\n",
       "      <td>289307.493289</td>\n",
       "      <td>6</td>\n",
       "    </tr>\n",
       "  </tbody>\n",
       "</table>\n",
       "</div>"
      ],
      "text/plain": [
       "     CSL   IFR        k1         k2      Cost_CSL       Cost_IFR  LeadTime\n",
       "0   0.50  0.80  0.000000   0.000000      0.000000       0.000000         1\n",
       "1   0.55  0.82  0.125661   0.000000    635.185674       0.000000         1\n",
       "2   0.60  0.84  0.253347   0.000000   1280.604215       0.000000         1\n",
       "3   0.65  0.86  0.385320   0.000000   1947.695503       0.000000         1\n",
       "4   0.70  0.88  0.524401   0.000118   2650.709239       0.598486         1\n",
       "5   0.75  0.90  0.674490   0.140997   3409.371595     712.705400         1\n",
       "6   0.80  0.92  0.841621   0.302199   4254.178106    1527.536567         1\n",
       "7   0.85  0.94  1.036433   0.494685   5238.903271    2500.502879         1\n",
       "8   0.90  0.96  1.281552   0.742125   6477.912384    3751.248928         1\n",
       "9   0.95  0.98  1.644854   1.115970   8314.310533    5640.941351         1\n",
       "10  1.00  1.00  4.264891  23.366038  21557.922157  118109.289553         1\n",
       "11  0.50  0.80  0.000000   0.000000      0.000000       0.000000         2\n",
       "12  0.55  0.82  0.125661   0.000000    898.288195       0.000000         2\n",
       "13  0.60  0.84  0.253347   0.000000   1811.047849       0.000000         2\n",
       "14  0.65  0.86  0.385320   0.000000   2754.457396       0.000000         2\n",
       "15  0.70  0.88  0.524401   0.000118   3748.668956       0.846387         2\n",
       "16  0.75  0.90  0.674490   0.140997   4821.579549    1007.917642         2\n",
       "17  0.80  0.92  0.841621   0.302199   6016.316374    2160.262930         2\n",
       "18  0.85  0.94  1.036433   0.494685   7408.928058    3536.245085         2\n",
       "19  0.90  0.96  1.281552   0.742125   9161.151549    5305.067110         2\n",
       "20  0.95  0.98  1.644854   1.115970  11758.210717    7977.495763         2\n",
       "21  1.00  1.00  4.264891  23.366038  30487.505891  167031.759129         2\n",
       "22  0.50  0.80  0.000000   0.000000      0.000000       0.000000         4\n",
       "23  0.55  0.82  0.125661   0.000000   1270.371348       0.000000         4\n",
       "24  0.60  0.84  0.253347   0.000000   2561.208430       0.000000         4\n",
       "25  0.65  0.86  0.385320   0.000000   3895.391006       0.000000         4\n",
       "26  0.70  0.88  0.524401   0.000118   5301.418479       1.196973         4\n",
       "27  0.75  0.90  0.674490   0.140997   6818.743191    1425.410799         4\n",
       "28  0.80  0.92  0.841621   0.302199   8508.356212    3055.073135         4\n",
       "29  0.85  0.94  1.036433   0.494685  10477.806542    5001.005759         4\n",
       "30  0.90  0.96  1.281552   0.742125  12955.824768    7502.497856         4\n",
       "31  0.95  0.98  1.644854   1.115970  16628.621066   11281.882702         4\n",
       "32  1.00  1.00  4.264891  23.366038  43115.844314  236218.579107         4\n",
       "33  0.50  0.80  0.000000   0.000000      0.000000       0.000000         6\n",
       "34  0.55  0.82  0.125661   0.000000   1555.880793       0.000000         6\n",
       "35  0.60  0.84  0.253347   0.000000   3136.826890       0.000000         6\n",
       "36  0.65  0.86  0.385320   0.000000   4770.860157       0.000000         6\n",
       "37  0.70  0.88  0.524401   0.000118   6492.885093       1.465986         6\n",
       "38  0.75  0.90  0.674490   0.140997   8351.220752    1745.764566         6\n",
       "39  0.80  0.92  0.841621   0.302199  10420.565634    3741.685153         6\n",
       "40  0.85  0.94  1.036433   0.494685  12832.639826    6124.956155         6\n",
       "41  0.90  0.96  1.281552   0.742125  15867.579939    9188.645772         6\n",
       "42  0.95  0.98  1.644854   1.115970  20365.818368   13817.427979         6\n",
       "43  1.00  1.00  4.264891  23.366038  52805.909199  289307.493289         6"
      ]
     },
     "execution_count": 75,
     "metadata": {},
     "output_type": "execute_result"
    }
   ],
   "source": [
    "LT_analysis = pd.concat([LT_analysis2,LT_analysis1,LT_analysis3,LT_analysis4])\n",
    "LT_analysis.reset_index(inplace=True,drop=True)\n",
    "LT_analysis"
   ]
  },
  {
   "cell_type": "code",
   "execution_count": 76,
   "metadata": {
    "slideshow": {
     "slide_type": "slide"
    }
   },
   "outputs": [
    {
     "data": {
      "image/png": "[encoded data removed]",
      "text/plain": [
       "<Figure size 720x432 with 1 Axes>"
      ]
     },
     "metadata": {
      "needs_background": "light"
     },
     "output_type": "display_data"
    }
   ],
   "source": [
    "plt.figure(figsize=(10, 6))\n",
    "LT_analysis['LeadTime'] = LT_analysis['LeadTime'].astype('category')\n",
    "\n",
    "sns.lineplot(data=LT_analysis, x='Cost_CSL', y='CSL', hue='LeadTime')\n",
    "\n",
    "plt.xlabel('Safety Stock Cost', fontsize=16, fontname='Comic Sans MS')\n",
    "plt.ylabel('Cycle Service Level', fontsize=16, fontname='Comic Sans MS')\n",
    "plt.legend(loc='right', title='Lead Time')\n",
    "plt.grid(which='major', axis='both')\n",
    "# plt.savefig('CSL_Lead.jpg', dpi=600)"
   ]
  },
  {
   "cell_type": "code",
   "execution_count": 77,
   "metadata": {
    "slideshow": {
     "slide_type": "slide"
    }
   },
   "outputs": [
    {
     "data": {
      "text/plain": [
       "(0.0, 30000.0)"
      ]
     },
     "execution_count": 77,
     "metadata": {},
     "output_type": "execute_result"
    },
    {
     "data": {
      "image/png": "[encoded data removed]",
      "text/plain": [
       "<Figure size 720x432 with 1 Axes>"
      ]
     },
     "metadata": {
      "needs_background": "light"
     },
     "output_type": "display_data"
    }
   ],
   "source": [
    "plt.figure(figsize=(10, 6))\n",
    "LT_analysis['LeadTime'] = LT_analysis['LeadTime'].astype('category')\n",
    "\n",
    "sns.lineplot(data=LT_analysis, x='Cost_IFR', y='IFR', hue='LeadTime')\n",
    "\n",
    "plt.xlabel('Safety Stock Cost', fontsize=16, fontname='Comic Sans MS')\n",
    "plt.ylabel('Item Fill Rate', fontsize=16, fontname='Comic Sans MS')\n",
    "plt.legend(loc='right', title='Lead Time')\n",
    "plt.grid(which='major', axis='both')\n",
    "plt.xlim(0, 30000)\n",
    "# plt.savefig('IFR_Lead.jpg', dpi=600)"
   ]
  }
 ],
 "metadata": {
  "celltoolbar": "Slideshow",
  "kernelspec": {
   "display_name": "Python 3 (ipykernel)",
   "language": "python",
   "name": "python3"
  },
  "language_info": {
   "codemirror_mode": {
    "name": "ipython",
    "version": 3
   },
   "file_extension": ".py",
   "mimetype": "text/x-python",
   "name": "python",
   "nbconvert_exporter": "python",
   "pygments_lexer": "ipython3",
   "version": "3.10.5"
  },
  "toc": {
   "base_numbering": 1,
   "nav_menu": {},
   "number_sections": false,
   "sideBar": true,
   "skip_h1_title": false,
   "title_cell": "Table of Contents",
   "title_sidebar": "Contents",
   "toc_cell": false,
   "toc_position": {
    "height": "calc(100% - 180px)",
    "left": "10px",
    "top": "150px",
    "width": "169.006px"
   },
   "toc_section_display": true,
   "toc_window_display": false
  },
  "varInspector": {
   "cols": {
    "lenName": 16,
    "lenType": 16,
    "lenVar": 40
   },
   "kernels_config": {
    "python": {
     "delete_cmd_postfix": "",
     "delete_cmd_prefix": "del ",
     "library": "var_list.py",
     "varRefreshCmd": "print(var_dic_list())"
    },
    "r": {
     "delete_cmd_postfix": ") ",
     "delete_cmd_prefix": "rm(",
     "library": "var_list.r",
     "varRefreshCmd": "cat(var_dic_list()) "
    }
   },
   "types_to_exclude": [
    "module",
    "function",
    "builtin_function_or_method",
    "instance",
    "_Feature"
   ],
   "window_display": false
  }
 },
 "nbformat": 4,
 "nbformat_minor": 4
}
