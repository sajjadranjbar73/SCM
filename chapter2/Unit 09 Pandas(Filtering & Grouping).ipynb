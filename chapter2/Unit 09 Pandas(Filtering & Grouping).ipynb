{
 "cells": [
  {
   "cell_type": "markdown",
   "id": "605ccd7b",
   "metadata": {
    "slideshow": {
     "slide_type": "slide"
    }
   },
   "source": [
    "## 1. Review"
   ]
  },
  {
   "cell_type": "code",
   "execution_count": 1,
   "id": "8dc90d3b",
   "metadata": {
    "slideshow": {
     "slide_type": "slide"
    }
   },
   "outputs": [],
   "source": [
    "import pandas as pd\n",
    "retail = pd.read_csv('retailsmall.csv')\n",
    "# retail.head()"
   ]
  },
  {
   "cell_type": "code",
   "execution_count": null,
   "id": "580db49e",
   "metadata": {
    "slideshow": {
     "slide_type": "slide"
    }
   },
   "outputs": [],
   "source": [
    "retail.info()"
   ]
  },
  {
   "cell_type": "code",
   "execution_count": null,
   "id": "e74d1795",
   "metadata": {
    "slideshow": {
     "slide_type": "slide"
    }
   },
   "outputs": [],
   "source": [
    "retail.describe()"
   ]
  },
  {
   "cell_type": "code",
   "execution_count": null,
   "id": "943063df",
   "metadata": {
    "slideshow": {
     "slide_type": "slide"
    }
   },
   "outputs": [],
   "source": [
    "retail['Customer ID'] = retail['Customer ID'].astype('str')"
   ]
  },
  {
   "cell_type": "code",
   "execution_count": null,
   "id": "cd082d0f",
   "metadata": {
    "slideshow": {
     "slide_type": "slide"
    }
   },
   "outputs": [],
   "source": [
    "retail.info()"
   ]
  },
  {
   "cell_type": "code",
   "execution_count": null,
   "id": "bfb29c51",
   "metadata": {
    "slideshow": {
     "slide_type": "slide"
    }
   },
   "outputs": [],
   "source": [
    "retail.describe()"
   ]
  },
  {
   "cell_type": "code",
   "execution_count": null,
   "id": "94072682",
   "metadata": {
    "slideshow": {
     "slide_type": "slide"
    }
   },
   "outputs": [],
   "source": [
    "retail.describe(include='all')"
   ]
  },
  {
   "cell_type": "markdown",
   "id": "4d5fabc5",
   "metadata": {
    "heading_collapsed": true,
    "slideshow": {
     "slide_type": "slide"
    }
   },
   "source": [
    "## 2. Conditional Selection"
   ]
  },
  {
   "cell_type": "code",
   "execution_count": null,
   "id": "eeb4b104",
   "metadata": {
    "hidden": true,
    "slideshow": {
     "slide_type": "slide"
    }
   },
   "outputs": [],
   "source": [
    "retail.Country.value_counts()\n",
    "#retail['Country'].value_count()"
   ]
  },
  {
   "cell_type": "code",
   "execution_count": null,
   "id": "d9732c3e",
   "metadata": {
    "hidden": true,
    "slideshow": {
     "slide_type": "slide"
    }
   },
   "outputs": [],
   "source": [
    "retail.Country == 'United Kingdom'"
   ]
  },
  {
   "cell_type": "code",
   "execution_count": null,
   "id": "4cf1882a",
   "metadata": {
    "hidden": true,
    "slideshow": {
     "slide_type": "slide"
    }
   },
   "outputs": [],
   "source": [
    "retail[retail.Country == 'United Kingdom']"
   ]
  },
  {
   "cell_type": "code",
   "execution_count": null,
   "id": "973f8f38",
   "metadata": {
    "hidden": true,
    "slideshow": {
     "slide_type": "slide"
    }
   },
   "outputs": [],
   "source": [
    "retail.loc[retail.Country == 'United Kingdom',['Quantity','Price']]"
   ]
  },
  {
   "cell_type": "code",
   "execution_count": null,
   "id": "51f5bf72",
   "metadata": {
    "hidden": true,
    "slideshow": {
     "slide_type": "slide"
    }
   },
   "outputs": [],
   "source": [
    "retail.loc[retail.Country == 'United Kingdom']"
   ]
  },
  {
   "cell_type": "code",
   "execution_count": null,
   "id": "9fbc6dcb",
   "metadata": {
    "hidden": true,
    "slideshow": {
     "slide_type": "slide"
    }
   },
   "outputs": [],
   "source": [
    "# (retail.Country == 'United Kingdom') & (retail.Price >= 2)\n",
    "retail.loc[(retail.Country == 'United Kingdom') & (retail.Price >= 2)]"
   ]
  },
  {
   "cell_type": "code",
   "execution_count": null,
   "id": "a7dd5474",
   "metadata": {
    "hidden": true,
    "slideshow": {
     "slide_type": "slide"
    }
   },
   "outputs": [],
   "source": [
    "retail.Price.mean()"
   ]
  },
  {
   "cell_type": "code",
   "execution_count": null,
   "id": "9e2fc6d3",
   "metadata": {
    "hidden": true,
    "slideshow": {
     "slide_type": "slide"
    }
   },
   "outputs": [],
   "source": [
    "retail.loc[(retail.Country == 'United Kingdom') & (retail.Price >= retail.Price.mean())]"
   ]
  },
  {
   "cell_type": "code",
   "execution_count": null,
   "id": "6fb1321d",
   "metadata": {
    "hidden": true,
    "slideshow": {
     "slide_type": "slide"
    }
   },
   "outputs": [],
   "source": [
    "retail.loc[(retail.Country == 'United Kingdom') | (retail.Price >= retail.Price.mean())]"
   ]
  },
  {
   "cell_type": "code",
   "execution_count": null,
   "id": "f76cb8bd",
   "metadata": {
    "hidden": true,
    "slideshow": {
     "slide_type": "slide"
    }
   },
   "outputs": [],
   "source": [
    "# retail.Country == 'United Kingdom'\n",
    "# retail.Country.isin(['United Kingdom','Germany'])\n",
    "\n",
    "retail.loc[retail.Country.isin(['United Kingdom','Germany'])]"
   ]
  },
  {
   "cell_type": "code",
   "execution_count": null,
   "id": "67af1870",
   "metadata": {
    "hidden": true,
    "slideshow": {
     "slide_type": "slide"
    }
   },
   "outputs": [],
   "source": [
    "retail.loc[retail.Description.notnull()]"
   ]
  },
  {
   "cell_type": "code",
   "execution_count": null,
   "id": "b5c8f9ef",
   "metadata": {
    "hidden": true,
    "slideshow": {
     "slide_type": "slide"
    }
   },
   "outputs": [],
   "source": [
    "retail.loc[retail.Description.isnull()]"
   ]
  },
  {
   "cell_type": "code",
   "execution_count": null,
   "id": "7123e487",
   "metadata": {
    "hidden": true,
    "slideshow": {
     "slide_type": "slide"
    }
   },
   "outputs": [],
   "source": [
    "retail.loc[retail.Quantity < 0,]"
   ]
  },
  {
   "cell_type": "code",
   "execution_count": null,
   "id": "335ab7b3",
   "metadata": {
    "hidden": true,
    "slideshow": {
     "slide_type": "slide"
    }
   },
   "outputs": [],
   "source": [
    "retail.loc[retail.Price < 0]"
   ]
  },
  {
   "cell_type": "markdown",
   "id": "bb81e409",
   "metadata": {
    "slideshow": {
     "slide_type": "slide"
    }
   },
   "source": [
    "## 3. Groupwise Analysis\n"
   ]
  },
  {
   "cell_type": "code",
   "execution_count": 16,
   "id": "abc21f0d",
   "metadata": {
    "slideshow": {
     "slide_type": "slide"
    }
   },
   "outputs": [
    {
     "name": "stdout",
     "output_type": "stream",
     "text": [
      "<class 'pandas.core.frame.DataFrame'>\n",
      "RangeIndex: 2080 entries, 0 to 2079\n",
      "Data columns (total 8 columns):\n",
      " #   Column       Non-Null Count  Dtype  \n",
      "---  ------       --------------  -----  \n",
      " 0   Invoice      2080 non-null   int64  \n",
      " 1   StockCode    2080 non-null   object \n",
      " 2   Description  2073 non-null   object \n",
      " 3   Quantity     2062 non-null   float64\n",
      " 4   InvoiceDate  2080 non-null   object \n",
      " 5   Price        2065 non-null   float64\n",
      " 6   Customer ID  2078 non-null   float64\n",
      " 7   Country      2072 non-null   object \n",
      "dtypes: float64(3), int64(1), object(4)\n",
      "memory usage: 130.1+ KB\n"
     ]
    }
   ],
   "source": [
    "retail.info()"
   ]
  },
  {
   "cell_type": "code",
   "execution_count": 3,
   "id": "a532cac5",
   "metadata": {
    "scrolled": true,
    "slideshow": {
     "slide_type": "slide"
    }
   },
   "outputs": [
    {
     "data": {
      "text/html": [
       "<div>\n",
       "<style scoped>\n",
       "    .dataframe tbody tr th:only-of-type {\n",
       "        vertical-align: middle;\n",
       "    }\n",
       "\n",
       "    .dataframe tbody tr th {\n",
       "        vertical-align: top;\n",
       "    }\n",
       "\n",
       "    .dataframe thead th {\n",
       "        text-align: right;\n",
       "    }\n",
       "</style>\n",
       "<table border=\"1\" class=\"dataframe\">\n",
       "  <thead>\n",
       "    <tr style=\"text-align: right;\">\n",
       "      <th></th>\n",
       "      <th>Invoice</th>\n",
       "      <th>StockCode</th>\n",
       "      <th>Description</th>\n",
       "      <th>Quantity</th>\n",
       "      <th>InvoiceDate</th>\n",
       "      <th>Price</th>\n",
       "      <th>Customer ID</th>\n",
       "      <th>Country</th>\n",
       "    </tr>\n",
       "  </thead>\n",
       "  <tbody>\n",
       "    <tr>\n",
       "      <th>0</th>\n",
       "      <td>489434</td>\n",
       "      <td>85048</td>\n",
       "      <td>15CM CHRISTMAS GLASS BALL 20 LIGHTS</td>\n",
       "      <td>NaN</td>\n",
       "      <td>12/1/2009 7:45</td>\n",
       "      <td>6.95</td>\n",
       "      <td>13085.0</td>\n",
       "      <td>United Kingdom</td>\n",
       "    </tr>\n",
       "    <tr>\n",
       "      <th>1</th>\n",
       "      <td>489434</td>\n",
       "      <td>79323P</td>\n",
       "      <td>PINK CHERRY LIGHTS</td>\n",
       "      <td>12.0</td>\n",
       "      <td>12/1/2009 7:45</td>\n",
       "      <td>6.75</td>\n",
       "      <td>13085.0</td>\n",
       "      <td>United Kingdom</td>\n",
       "    </tr>\n",
       "    <tr>\n",
       "      <th>2</th>\n",
       "      <td>489434</td>\n",
       "      <td>79323W</td>\n",
       "      <td>WHITE CHERRY LIGHTS</td>\n",
       "      <td>NaN</td>\n",
       "      <td>12/1/2009 7:45</td>\n",
       "      <td>6.75</td>\n",
       "      <td>13085.0</td>\n",
       "      <td>United Kingdom</td>\n",
       "    </tr>\n",
       "    <tr>\n",
       "      <th>71</th>\n",
       "      <td>489439</td>\n",
       "      <td>22065</td>\n",
       "      <td>CHRISTMAS PUDDING TRINKET POT</td>\n",
       "      <td>12.0</td>\n",
       "      <td>12/1/2009 9:28</td>\n",
       "      <td>1.45</td>\n",
       "      <td>12682.0</td>\n",
       "      <td>France</td>\n",
       "    </tr>\n",
       "    <tr>\n",
       "      <th>72</th>\n",
       "      <td>489439</td>\n",
       "      <td>22138</td>\n",
       "      <td>BAKING SET 9 PIECE RETROSPOT</td>\n",
       "      <td>9.0</td>\n",
       "      <td>12/1/2009 9:28</td>\n",
       "      <td>4.95</td>\n",
       "      <td>12682.0</td>\n",
       "      <td>France</td>\n",
       "    </tr>\n",
       "    <tr>\n",
       "      <th>73</th>\n",
       "      <td>489439</td>\n",
       "      <td>22139</td>\n",
       "      <td>RETRO SPOT TEA SET CERAMIC 11 PC</td>\n",
       "      <td>9.0</td>\n",
       "      <td>12/1/2009 9:28</td>\n",
       "      <td>4.95</td>\n",
       "      <td>12682.0</td>\n",
       "      <td>France</td>\n",
       "    </tr>\n",
       "    <tr>\n",
       "      <th>126</th>\n",
       "      <td>489444</td>\n",
       "      <td>POST</td>\n",
       "      <td>POSTAGE</td>\n",
       "      <td>1.0</td>\n",
       "      <td>12/1/2009 9:55</td>\n",
       "      <td>141.00</td>\n",
       "      <td>12636.0</td>\n",
       "      <td>USA</td>\n",
       "    </tr>\n",
       "    <tr>\n",
       "      <th>177</th>\n",
       "      <td>489450</td>\n",
       "      <td>22087</td>\n",
       "      <td>PAPER BUNTING WHITE LACE</td>\n",
       "      <td>12.0</td>\n",
       "      <td>12/1/2009 10:36</td>\n",
       "      <td>2.95</td>\n",
       "      <td>16321.0</td>\n",
       "      <td>Australia</td>\n",
       "    </tr>\n",
       "    <tr>\n",
       "      <th>178</th>\n",
       "      <td>489450</td>\n",
       "      <td>85206A</td>\n",
       "      <td>CREAM FELT EASTER EGG BASKET</td>\n",
       "      <td>6.0</td>\n",
       "      <td>12/1/2009 10:36</td>\n",
       "      <td>1.65</td>\n",
       "      <td>16321.0</td>\n",
       "      <td>Australia</td>\n",
       "    </tr>\n",
       "    <tr>\n",
       "      <th>179</th>\n",
       "      <td>489450</td>\n",
       "      <td>21895</td>\n",
       "      <td>POTTING SHED SOW 'N' GROW SET</td>\n",
       "      <td>4.0</td>\n",
       "      <td>12/1/2009 10:36</td>\n",
       "      <td>4.25</td>\n",
       "      <td>16321.0</td>\n",
       "      <td>Australia</td>\n",
       "    </tr>\n",
       "    <tr>\n",
       "      <th>514</th>\n",
       "      <td>489526</td>\n",
       "      <td>85049E</td>\n",
       "      <td>SCANDINAVIAN REDS RIBBONS</td>\n",
       "      <td>12.0</td>\n",
       "      <td>12/1/2009 11:50</td>\n",
       "      <td>1.25</td>\n",
       "      <td>12533.0</td>\n",
       "      <td>Germany</td>\n",
       "    </tr>\n",
       "    <tr>\n",
       "      <th>515</th>\n",
       "      <td>489526</td>\n",
       "      <td>21976</td>\n",
       "      <td>PACK OF 60 MUSHROOM CAKE CASES</td>\n",
       "      <td>24.0</td>\n",
       "      <td>12/1/2009 11:50</td>\n",
       "      <td>0.55</td>\n",
       "      <td>12533.0</td>\n",
       "      <td>Germany</td>\n",
       "    </tr>\n",
       "    <tr>\n",
       "      <th>516</th>\n",
       "      <td>489526</td>\n",
       "      <td>21498</td>\n",
       "      <td>NaN</td>\n",
       "      <td>25.0</td>\n",
       "      <td>12/1/2009 11:50</td>\n",
       "      <td>0.42</td>\n",
       "      <td>12533.0</td>\n",
       "      <td>Germany</td>\n",
       "    </tr>\n",
       "    <tr>\n",
       "      <th>1030</th>\n",
       "      <td>570467</td>\n",
       "      <td>22551</td>\n",
       "      <td>PLASTERS IN TIN SPACEBOY</td>\n",
       "      <td>12.0</td>\n",
       "      <td>10/10/2011 16:06</td>\n",
       "      <td>1.65</td>\n",
       "      <td>12607.0</td>\n",
       "      <td>USA</td>\n",
       "    </tr>\n",
       "    <tr>\n",
       "      <th>1031</th>\n",
       "      <td>570467</td>\n",
       "      <td>21915</td>\n",
       "      <td>RED  HARMONICA IN BOX</td>\n",
       "      <td>12.0</td>\n",
       "      <td>10/10/2011 16:06</td>\n",
       "      <td>1.25</td>\n",
       "      <td>12607.0</td>\n",
       "      <td>USA</td>\n",
       "    </tr>\n",
       "    <tr>\n",
       "      <th>1121</th>\n",
       "      <td>553682</td>\n",
       "      <td>21731</td>\n",
       "      <td>RED TOADSTOOL LED NIGHT LIGHT</td>\n",
       "      <td>144.0</td>\n",
       "      <td>5/18/2011 13:20</td>\n",
       "      <td>1.45</td>\n",
       "      <td>14646.0</td>\n",
       "      <td>Netherlands</td>\n",
       "    </tr>\n",
       "    <tr>\n",
       "      <th>1122</th>\n",
       "      <td>553682</td>\n",
       "      <td>20712</td>\n",
       "      <td>JUMBO BAG WOODLAND ANIMALS</td>\n",
       "      <td>100.0</td>\n",
       "      <td>5/18/2011 13:20</td>\n",
       "      <td>1.79</td>\n",
       "      <td>14646.0</td>\n",
       "      <td>Netherlands</td>\n",
       "    </tr>\n",
       "    <tr>\n",
       "      <th>1123</th>\n",
       "      <td>553682</td>\n",
       "      <td>85099B</td>\n",
       "      <td>JUMBO BAG RED RETROSPOT</td>\n",
       "      <td>100.0</td>\n",
       "      <td>5/18/2011 13:20</td>\n",
       "      <td>1.79</td>\n",
       "      <td>14646.0</td>\n",
       "      <td>Netherlands</td>\n",
       "    </tr>\n",
       "  </tbody>\n",
       "</table>\n",
       "</div>"
      ],
      "text/plain": [
       "      Invoice StockCode                          Description  Quantity  \\\n",
       "0      489434     85048  15CM CHRISTMAS GLASS BALL 20 LIGHTS       NaN   \n",
       "1      489434    79323P                   PINK CHERRY LIGHTS      12.0   \n",
       "2      489434    79323W                  WHITE CHERRY LIGHTS       NaN   \n",
       "71     489439     22065       CHRISTMAS PUDDING TRINKET POT       12.0   \n",
       "72     489439     22138        BAKING SET 9 PIECE RETROSPOT        9.0   \n",
       "73     489439     22139    RETRO SPOT TEA SET CERAMIC 11 PC        9.0   \n",
       "126    489444      POST                              POSTAGE       1.0   \n",
       "177    489450     22087             PAPER BUNTING WHITE LACE      12.0   \n",
       "178    489450    85206A         CREAM FELT EASTER EGG BASKET       6.0   \n",
       "179    489450     21895        POTTING SHED SOW 'N' GROW SET       4.0   \n",
       "514    489526    85049E            SCANDINAVIAN REDS RIBBONS      12.0   \n",
       "515    489526     21976       PACK OF 60 MUSHROOM CAKE CASES      24.0   \n",
       "516    489526     21498                                  NaN      25.0   \n",
       "1030   570467     22551             PLASTERS IN TIN SPACEBOY      12.0   \n",
       "1031   570467     21915               RED  HARMONICA IN BOX       12.0   \n",
       "1121   553682     21731        RED TOADSTOOL LED NIGHT LIGHT     144.0   \n",
       "1122   553682     20712           JUMBO BAG WOODLAND ANIMALS     100.0   \n",
       "1123   553682    85099B              JUMBO BAG RED RETROSPOT     100.0   \n",
       "\n",
       "           InvoiceDate   Price  Customer ID         Country  \n",
       "0       12/1/2009 7:45    6.95      13085.0  United Kingdom  \n",
       "1       12/1/2009 7:45    6.75      13085.0  United Kingdom  \n",
       "2       12/1/2009 7:45    6.75      13085.0  United Kingdom  \n",
       "71      12/1/2009 9:28    1.45      12682.0          France  \n",
       "72      12/1/2009 9:28    4.95      12682.0          France  \n",
       "73      12/1/2009 9:28    4.95      12682.0          France  \n",
       "126     12/1/2009 9:55  141.00      12636.0             USA  \n",
       "177    12/1/2009 10:36    2.95      16321.0       Australia  \n",
       "178    12/1/2009 10:36    1.65      16321.0       Australia  \n",
       "179    12/1/2009 10:36    4.25      16321.0       Australia  \n",
       "514    12/1/2009 11:50    1.25      12533.0         Germany  \n",
       "515    12/1/2009 11:50    0.55      12533.0         Germany  \n",
       "516    12/1/2009 11:50    0.42      12533.0         Germany  \n",
       "1030  10/10/2011 16:06    1.65      12607.0             USA  \n",
       "1031  10/10/2011 16:06    1.25      12607.0             USA  \n",
       "1121   5/18/2011 13:20    1.45      14646.0     Netherlands  \n",
       "1122   5/18/2011 13:20    1.79      14646.0     Netherlands  \n",
       "1123   5/18/2011 13:20    1.79      14646.0     Netherlands  "
      ]
     },
     "execution_count": 3,
     "metadata": {},
     "output_type": "execute_result"
    }
   ],
   "source": [
    "retail.groupby(by = 'Country').head(3)"
   ]
  },
  {
   "cell_type": "code",
   "execution_count": 4,
   "id": "16e75a9b",
   "metadata": {
    "slideshow": {
     "slide_type": "slide"
    }
   },
   "outputs": [
    {
     "data": {
      "text/html": [
       "<div>\n",
       "<style scoped>\n",
       "    .dataframe tbody tr th:only-of-type {\n",
       "        vertical-align: middle;\n",
       "    }\n",
       "\n",
       "    .dataframe tbody tr th {\n",
       "        vertical-align: top;\n",
       "    }\n",
       "\n",
       "    .dataframe thead th {\n",
       "        text-align: right;\n",
       "    }\n",
       "</style>\n",
       "<table border=\"1\" class=\"dataframe\">\n",
       "  <thead>\n",
       "    <tr style=\"text-align: right;\">\n",
       "      <th></th>\n",
       "      <th>Invoice</th>\n",
       "      <th>StockCode</th>\n",
       "      <th>Description</th>\n",
       "      <th>Quantity</th>\n",
       "      <th>InvoiceDate</th>\n",
       "      <th>Price</th>\n",
       "      <th>Customer ID</th>\n",
       "      <th>Country</th>\n",
       "    </tr>\n",
       "  </thead>\n",
       "  <tbody>\n",
       "    <tr>\n",
       "      <th>126</th>\n",
       "      <td>489444</td>\n",
       "      <td>POST</td>\n",
       "      <td>POSTAGE</td>\n",
       "      <td>1.0</td>\n",
       "      <td>12/1/2009 9:55</td>\n",
       "      <td>141.00</td>\n",
       "      <td>12636.0</td>\n",
       "      <td>USA</td>\n",
       "    </tr>\n",
       "    <tr>\n",
       "      <th>1030</th>\n",
       "      <td>570467</td>\n",
       "      <td>22551</td>\n",
       "      <td>PLASTERS IN TIN SPACEBOY</td>\n",
       "      <td>12.0</td>\n",
       "      <td>10/10/2011 16:06</td>\n",
       "      <td>1.65</td>\n",
       "      <td>12607.0</td>\n",
       "      <td>USA</td>\n",
       "    </tr>\n",
       "    <tr>\n",
       "      <th>1031</th>\n",
       "      <td>570467</td>\n",
       "      <td>21915</td>\n",
       "      <td>RED  HARMONICA IN BOX</td>\n",
       "      <td>12.0</td>\n",
       "      <td>10/10/2011 16:06</td>\n",
       "      <td>1.25</td>\n",
       "      <td>12607.0</td>\n",
       "      <td>USA</td>\n",
       "    </tr>\n",
       "    <tr>\n",
       "      <th>1032</th>\n",
       "      <td>570467</td>\n",
       "      <td>22619</td>\n",
       "      <td>SET OF 6 SOLDIER SKITTLES</td>\n",
       "      <td>4.0</td>\n",
       "      <td>10/10/2011 16:06</td>\n",
       "      <td>3.75</td>\n",
       "      <td>12607.0</td>\n",
       "      <td>USA</td>\n",
       "    </tr>\n",
       "    <tr>\n",
       "      <th>1033</th>\n",
       "      <td>570467</td>\n",
       "      <td>22138</td>\n",
       "      <td>BAKING SET 9 PIECE RETROSPOT</td>\n",
       "      <td>3.0</td>\n",
       "      <td>10/10/2011 16:06</td>\n",
       "      <td>4.95</td>\n",
       "      <td>12607.0</td>\n",
       "      <td>USA</td>\n",
       "    </tr>\n",
       "    <tr>\n",
       "      <th>...</th>\n",
       "      <td>...</td>\n",
       "      <td>...</td>\n",
       "      <td>...</td>\n",
       "      <td>...</td>\n",
       "      <td>...</td>\n",
       "      <td>...</td>\n",
       "      <td>...</td>\n",
       "      <td>...</td>\n",
       "    </tr>\n",
       "    <tr>\n",
       "      <th>1116</th>\n",
       "      <td>570467</td>\n",
       "      <td>23351</td>\n",
       "      <td>ROLL WRAP 50'S CHRISTMAS</td>\n",
       "      <td>12.0</td>\n",
       "      <td>10/10/2011 16:06</td>\n",
       "      <td>1.25</td>\n",
       "      <td>12607.0</td>\n",
       "      <td>USA</td>\n",
       "    </tr>\n",
       "    <tr>\n",
       "      <th>1117</th>\n",
       "      <td>570467</td>\n",
       "      <td>23354</td>\n",
       "      <td>6 GIFT TAGS 50'S CHRISTMAS</td>\n",
       "      <td>12.0</td>\n",
       "      <td>10/10/2011 16:06</td>\n",
       "      <td>0.83</td>\n",
       "      <td>12607.0</td>\n",
       "      <td>USA</td>\n",
       "    </tr>\n",
       "    <tr>\n",
       "      <th>1118</th>\n",
       "      <td>570467</td>\n",
       "      <td>23311</td>\n",
       "      <td>VINTAGE CHRISTMAS STOCKING</td>\n",
       "      <td>6.0</td>\n",
       "      <td>10/10/2011 16:06</td>\n",
       "      <td>2.55</td>\n",
       "      <td>12607.0</td>\n",
       "      <td>USA</td>\n",
       "    </tr>\n",
       "    <tr>\n",
       "      <th>1119</th>\n",
       "      <td>570467</td>\n",
       "      <td>23309</td>\n",
       "      <td>SET OF 60 I LOVE LONDON CAKE CASES</td>\n",
       "      <td>24.0</td>\n",
       "      <td>10/10/2011 16:06</td>\n",
       "      <td>0.55</td>\n",
       "      <td>12607.0</td>\n",
       "      <td>USA</td>\n",
       "    </tr>\n",
       "    <tr>\n",
       "      <th>1120</th>\n",
       "      <td>570467</td>\n",
       "      <td>23293</td>\n",
       "      <td>SET OF 12 FAIRY CAKE BAKING CASES</td>\n",
       "      <td>8.0</td>\n",
       "      <td>10/10/2011 16:06</td>\n",
       "      <td>0.83</td>\n",
       "      <td>12607.0</td>\n",
       "      <td>USA</td>\n",
       "    </tr>\n",
       "  </tbody>\n",
       "</table>\n",
       "<p>92 rows × 8 columns</p>\n",
       "</div>"
      ],
      "text/plain": [
       "      Invoice StockCode                          Description  Quantity  \\\n",
       "126    489444      POST                              POSTAGE       1.0   \n",
       "1030   570467     22551             PLASTERS IN TIN SPACEBOY      12.0   \n",
       "1031   570467     21915               RED  HARMONICA IN BOX       12.0   \n",
       "1032   570467     22619            SET OF 6 SOLDIER SKITTLES       4.0   \n",
       "1033   570467     22138        BAKING SET 9 PIECE RETROSPOT        3.0   \n",
       "...       ...       ...                                  ...       ...   \n",
       "1116   570467     23351             ROLL WRAP 50'S CHRISTMAS      12.0   \n",
       "1117   570467     23354          6 GIFT TAGS 50'S CHRISTMAS       12.0   \n",
       "1118   570467     23311          VINTAGE CHRISTMAS STOCKING        6.0   \n",
       "1119   570467     23309  SET OF 60 I LOVE LONDON CAKE CASES       24.0   \n",
       "1120   570467     23293    SET OF 12 FAIRY CAKE BAKING CASES       8.0   \n",
       "\n",
       "           InvoiceDate   Price  Customer ID Country  \n",
       "126     12/1/2009 9:55  141.00      12636.0     USA  \n",
       "1030  10/10/2011 16:06    1.65      12607.0     USA  \n",
       "1031  10/10/2011 16:06    1.25      12607.0     USA  \n",
       "1032  10/10/2011 16:06    3.75      12607.0     USA  \n",
       "1033  10/10/2011 16:06    4.95      12607.0     USA  \n",
       "...                ...     ...          ...     ...  \n",
       "1116  10/10/2011 16:06    1.25      12607.0     USA  \n",
       "1117  10/10/2011 16:06    0.83      12607.0     USA  \n",
       "1118  10/10/2011 16:06    2.55      12607.0     USA  \n",
       "1119  10/10/2011 16:06    0.55      12607.0     USA  \n",
       "1120  10/10/2011 16:06    0.83      12607.0     USA  \n",
       "\n",
       "[92 rows x 8 columns]"
      ]
     },
     "execution_count": 4,
     "metadata": {},
     "output_type": "execute_result"
    }
   ],
   "source": [
    "retail.groupby('Country').get_group('USA')\n",
    "# retail.loc[retail.Country == 'USA']"
   ]
  },
  {
   "cell_type": "markdown",
   "id": "84ec528f",
   "metadata": {
    "slideshow": {
     "slide_type": "slide"
    }
   },
   "source": [
    "### 3.1. GroupBy on single column"
   ]
  },
  {
   "cell_type": "code",
   "execution_count": 5,
   "id": "f2e5699e",
   "metadata": {
    "slideshow": {
     "slide_type": "slide"
    }
   },
   "outputs": [
    {
     "data": {
      "text/plain": [
       "Country\n",
       "Australia         2.491888\n",
       "France            2.685495\n",
       "Germany           2.491786\n",
       "Netherlands       3.476216\n",
       "USA               3.515543\n",
       "United Kingdom    2.833676\n",
       "Name: Price, dtype: float64"
      ]
     },
     "execution_count": 5,
     "metadata": {},
     "output_type": "execute_result"
    }
   ],
   "source": [
    "retail.groupby('Country').Price.mean()"
   ]
  },
  {
   "cell_type": "code",
   "execution_count": 6,
   "id": "487c3c29",
   "metadata": {
    "slideshow": {
     "slide_type": "slide"
    }
   },
   "outputs": [
    {
     "data": {
      "text/plain": [
       "Country\n",
       "Australia         2.491888\n",
       "France            2.685495\n",
       "Germany           2.491786\n",
       "Netherlands       3.476216\n",
       "USA               3.515543\n",
       "United Kingdom    2.833676\n",
       "Name: Price, dtype: float64"
      ]
     },
     "execution_count": 6,
     "metadata": {},
     "output_type": "execute_result"
    }
   ],
   "source": [
    "retail.groupby('Country')['Price'].mean()"
   ]
  },
  {
   "cell_type": "code",
   "execution_count": 7,
   "id": "b642921c",
   "metadata": {
    "slideshow": {
     "slide_type": "slide"
    }
   },
   "outputs": [
    {
     "data": {
      "text/html": [
       "<div>\n",
       "<style scoped>\n",
       "    .dataframe tbody tr th:only-of-type {\n",
       "        vertical-align: middle;\n",
       "    }\n",
       "\n",
       "    .dataframe tbody tr th {\n",
       "        vertical-align: top;\n",
       "    }\n",
       "\n",
       "    .dataframe thead th {\n",
       "        text-align: right;\n",
       "    }\n",
       "</style>\n",
       "<table border=\"1\" class=\"dataframe\">\n",
       "  <thead>\n",
       "    <tr style=\"text-align: right;\">\n",
       "      <th></th>\n",
       "      <th>Country</th>\n",
       "      <th>Price</th>\n",
       "    </tr>\n",
       "  </thead>\n",
       "  <tbody>\n",
       "    <tr>\n",
       "      <th>0</th>\n",
       "      <td>Australia</td>\n",
       "      <td>2.491888</td>\n",
       "    </tr>\n",
       "    <tr>\n",
       "      <th>1</th>\n",
       "      <td>France</td>\n",
       "      <td>2.685495</td>\n",
       "    </tr>\n",
       "    <tr>\n",
       "      <th>2</th>\n",
       "      <td>Germany</td>\n",
       "      <td>2.491786</td>\n",
       "    </tr>\n",
       "    <tr>\n",
       "      <th>3</th>\n",
       "      <td>Netherlands</td>\n",
       "      <td>3.476216</td>\n",
       "    </tr>\n",
       "    <tr>\n",
       "      <th>4</th>\n",
       "      <td>USA</td>\n",
       "      <td>3.515543</td>\n",
       "    </tr>\n",
       "    <tr>\n",
       "      <th>5</th>\n",
       "      <td>United Kingdom</td>\n",
       "      <td>2.833676</td>\n",
       "    </tr>\n",
       "  </tbody>\n",
       "</table>\n",
       "</div>"
      ],
      "text/plain": [
       "          Country     Price\n",
       "0       Australia  2.491888\n",
       "1          France  2.685495\n",
       "2         Germany  2.491786\n",
       "3     Netherlands  3.476216\n",
       "4             USA  3.515543\n",
       "5  United Kingdom  2.833676"
      ]
     },
     "execution_count": 7,
     "metadata": {},
     "output_type": "execute_result"
    }
   ],
   "source": [
    "retail.groupby('Country')['Price'].mean().reset_index()"
   ]
  },
  {
   "cell_type": "code",
   "execution_count": 8,
   "id": "a83a16fd",
   "metadata": {
    "slideshow": {
     "slide_type": "slide"
    }
   },
   "outputs": [
    {
     "data": {
      "text/html": [
       "<div>\n",
       "<style scoped>\n",
       "    .dataframe tbody tr th:only-of-type {\n",
       "        vertical-align: middle;\n",
       "    }\n",
       "\n",
       "    .dataframe tbody tr th {\n",
       "        vertical-align: top;\n",
       "    }\n",
       "\n",
       "    .dataframe thead th {\n",
       "        text-align: right;\n",
       "    }\n",
       "</style>\n",
       "<table border=\"1\" class=\"dataframe\">\n",
       "  <thead>\n",
       "    <tr style=\"text-align: right;\">\n",
       "      <th></th>\n",
       "      <th>Country</th>\n",
       "      <th>Price</th>\n",
       "    </tr>\n",
       "  </thead>\n",
       "  <tbody>\n",
       "    <tr>\n",
       "      <th>0</th>\n",
       "      <td>Australia</td>\n",
       "      <td>2.491888</td>\n",
       "    </tr>\n",
       "    <tr>\n",
       "      <th>1</th>\n",
       "      <td>France</td>\n",
       "      <td>2.685495</td>\n",
       "    </tr>\n",
       "    <tr>\n",
       "      <th>2</th>\n",
       "      <td>Germany</td>\n",
       "      <td>2.491786</td>\n",
       "    </tr>\n",
       "    <tr>\n",
       "      <th>3</th>\n",
       "      <td>Netherlands</td>\n",
       "      <td>3.476216</td>\n",
       "    </tr>\n",
       "    <tr>\n",
       "      <th>4</th>\n",
       "      <td>USA</td>\n",
       "      <td>3.515543</td>\n",
       "    </tr>\n",
       "    <tr>\n",
       "      <th>5</th>\n",
       "      <td>United Kingdom</td>\n",
       "      <td>2.833676</td>\n",
       "    </tr>\n",
       "  </tbody>\n",
       "</table>\n",
       "</div>"
      ],
      "text/plain": [
       "          Country     Price\n",
       "0       Australia  2.491888\n",
       "1          France  2.685495\n",
       "2         Germany  2.491786\n",
       "3     Netherlands  3.476216\n",
       "4             USA  3.515543\n",
       "5  United Kingdom  2.833676"
      ]
     },
     "execution_count": 8,
     "metadata": {},
     "output_type": "execute_result"
    }
   ],
   "source": [
    "retail.groupby(by = 'Country',as_index = False)['Price'].mean()"
   ]
  },
  {
   "cell_type": "code",
   "execution_count": 9,
   "id": "b37857da",
   "metadata": {
    "slideshow": {
     "slide_type": "slide"
    }
   },
   "outputs": [
    {
     "data": {
      "text/html": [
       "<div>\n",
       "<style scoped>\n",
       "    .dataframe tbody tr th:only-of-type {\n",
       "        vertical-align: middle;\n",
       "    }\n",
       "\n",
       "    .dataframe tbody tr th {\n",
       "        vertical-align: top;\n",
       "    }\n",
       "\n",
       "    .dataframe thead th {\n",
       "        text-align: right;\n",
       "    }\n",
       "</style>\n",
       "<table border=\"1\" class=\"dataframe\">\n",
       "  <thead>\n",
       "    <tr style=\"text-align: right;\">\n",
       "      <th></th>\n",
       "      <th>Country</th>\n",
       "      <th>StockCode</th>\n",
       "    </tr>\n",
       "  </thead>\n",
       "  <tbody>\n",
       "    <tr>\n",
       "      <th>0</th>\n",
       "      <td>Australia</td>\n",
       "      <td>341</td>\n",
       "    </tr>\n",
       "    <tr>\n",
       "      <th>1</th>\n",
       "      <td>France</td>\n",
       "      <td>90</td>\n",
       "    </tr>\n",
       "    <tr>\n",
       "      <th>2</th>\n",
       "      <td>Germany</td>\n",
       "      <td>230</td>\n",
       "    </tr>\n",
       "    <tr>\n",
       "      <th>3</th>\n",
       "      <td>Netherlands</td>\n",
       "      <td>94</td>\n",
       "    </tr>\n",
       "    <tr>\n",
       "      <th>4</th>\n",
       "      <td>USA</td>\n",
       "      <td>92</td>\n",
       "    </tr>\n",
       "    <tr>\n",
       "      <th>5</th>\n",
       "      <td>United Kingdom</td>\n",
       "      <td>554</td>\n",
       "    </tr>\n",
       "  </tbody>\n",
       "</table>\n",
       "</div>"
      ],
      "text/plain": [
       "          Country  StockCode\n",
       "0       Australia        341\n",
       "1          France         90\n",
       "2         Germany        230\n",
       "3     Netherlands         94\n",
       "4             USA         92\n",
       "5  United Kingdom        554"
      ]
     },
     "execution_count": 9,
     "metadata": {},
     "output_type": "execute_result"
    }
   ],
   "source": [
    "retail.groupby('Country')['StockCode'].nunique().reset_index()"
   ]
  },
  {
   "cell_type": "code",
   "execution_count": 10,
   "id": "ab6dc77e",
   "metadata": {
    "slideshow": {
     "slide_type": "slide"
    }
   },
   "outputs": [
    {
     "data": {
      "text/html": [
       "<div>\n",
       "<style scoped>\n",
       "    .dataframe tbody tr th:only-of-type {\n",
       "        vertical-align: middle;\n",
       "    }\n",
       "\n",
       "    .dataframe tbody tr th {\n",
       "        vertical-align: top;\n",
       "    }\n",
       "\n",
       "    .dataframe thead th {\n",
       "        text-align: right;\n",
       "    }\n",
       "</style>\n",
       "<table border=\"1\" class=\"dataframe\">\n",
       "  <thead>\n",
       "    <tr style=\"text-align: right;\">\n",
       "      <th></th>\n",
       "      <th>Country</th>\n",
       "      <th>StockCode</th>\n",
       "    </tr>\n",
       "  </thead>\n",
       "  <tbody>\n",
       "    <tr>\n",
       "      <th>0</th>\n",
       "      <td>Australia</td>\n",
       "      <td>507</td>\n",
       "    </tr>\n",
       "    <tr>\n",
       "      <th>1</th>\n",
       "      <td>France</td>\n",
       "      <td>91</td>\n",
       "    </tr>\n",
       "    <tr>\n",
       "      <th>2</th>\n",
       "      <td>Germany</td>\n",
       "      <td>423</td>\n",
       "    </tr>\n",
       "    <tr>\n",
       "      <th>3</th>\n",
       "      <td>Netherlands</td>\n",
       "      <td>111</td>\n",
       "    </tr>\n",
       "    <tr>\n",
       "      <th>4</th>\n",
       "      <td>USA</td>\n",
       "      <td>92</td>\n",
       "    </tr>\n",
       "    <tr>\n",
       "      <th>5</th>\n",
       "      <td>United Kingdom</td>\n",
       "      <td>848</td>\n",
       "    </tr>\n",
       "  </tbody>\n",
       "</table>\n",
       "</div>"
      ],
      "text/plain": [
       "          Country  StockCode\n",
       "0       Australia        507\n",
       "1          France         91\n",
       "2         Germany        423\n",
       "3     Netherlands        111\n",
       "4             USA         92\n",
       "5  United Kingdom        848"
      ]
     },
     "execution_count": 10,
     "metadata": {},
     "output_type": "execute_result"
    }
   ],
   "source": [
    "retail.groupby('Country')['StockCode'].count().reset_index()"
   ]
  },
  {
   "cell_type": "markdown",
   "id": "bbea108b",
   "metadata": {
    "slideshow": {
     "slide_type": "slide"
    }
   },
   "source": [
    "### 3.2. GroupBy on multiple columns"
   ]
  },
  {
   "cell_type": "code",
   "execution_count": 11,
   "id": "4cbf0757",
   "metadata": {
    "slideshow": {
     "slide_type": "slide"
    }
   },
   "outputs": [
    {
     "data": {
      "text/html": [
       "<div>\n",
       "<style scoped>\n",
       "    .dataframe tbody tr th:only-of-type {\n",
       "        vertical-align: middle;\n",
       "    }\n",
       "\n",
       "    .dataframe tbody tr th {\n",
       "        vertical-align: top;\n",
       "    }\n",
       "\n",
       "    .dataframe thead th {\n",
       "        text-align: right;\n",
       "    }\n",
       "</style>\n",
       "<table border=\"1\" class=\"dataframe\">\n",
       "  <thead>\n",
       "    <tr style=\"text-align: right;\">\n",
       "      <th></th>\n",
       "      <th>Invoice</th>\n",
       "      <th>StockCode</th>\n",
       "      <th>Description</th>\n",
       "      <th>Quantity</th>\n",
       "      <th>InvoiceDate</th>\n",
       "      <th>Price</th>\n",
       "      <th>Customer ID</th>\n",
       "      <th>Country</th>\n",
       "    </tr>\n",
       "  </thead>\n",
       "  <tbody>\n",
       "    <tr>\n",
       "      <th>0</th>\n",
       "      <td>489434</td>\n",
       "      <td>85048</td>\n",
       "      <td>15CM CHRISTMAS GLASS BALL 20 LIGHTS</td>\n",
       "      <td>NaN</td>\n",
       "      <td>12/1/2009 7:45</td>\n",
       "      <td>6.95</td>\n",
       "      <td>13085.0</td>\n",
       "      <td>United Kingdom</td>\n",
       "    </tr>\n",
       "    <tr>\n",
       "      <th>1</th>\n",
       "      <td>489434</td>\n",
       "      <td>79323P</td>\n",
       "      <td>PINK CHERRY LIGHTS</td>\n",
       "      <td>12.0</td>\n",
       "      <td>12/1/2009 7:45</td>\n",
       "      <td>6.75</td>\n",
       "      <td>13085.0</td>\n",
       "      <td>United Kingdom</td>\n",
       "    </tr>\n",
       "    <tr>\n",
       "      <th>2</th>\n",
       "      <td>489434</td>\n",
       "      <td>79323W</td>\n",
       "      <td>WHITE CHERRY LIGHTS</td>\n",
       "      <td>NaN</td>\n",
       "      <td>12/1/2009 7:45</td>\n",
       "      <td>6.75</td>\n",
       "      <td>13085.0</td>\n",
       "      <td>United Kingdom</td>\n",
       "    </tr>\n",
       "    <tr>\n",
       "      <th>3</th>\n",
       "      <td>489434</td>\n",
       "      <td>22041</td>\n",
       "      <td>RECORD FRAME 7\" SINGLE SIZE</td>\n",
       "      <td>48.0</td>\n",
       "      <td>12/1/2009 7:45</td>\n",
       "      <td>NaN</td>\n",
       "      <td>13085.0</td>\n",
       "      <td>United Kingdom</td>\n",
       "    </tr>\n",
       "    <tr>\n",
       "      <th>4</th>\n",
       "      <td>489434</td>\n",
       "      <td>21232</td>\n",
       "      <td>STRAWBERRY CERAMIC TRINKET BOX</td>\n",
       "      <td>24.0</td>\n",
       "      <td>12/1/2009 7:45</td>\n",
       "      <td>1.25</td>\n",
       "      <td>13085.0</td>\n",
       "      <td>United Kingdom</td>\n",
       "    </tr>\n",
       "    <tr>\n",
       "      <th>...</th>\n",
       "      <td>...</td>\n",
       "      <td>...</td>\n",
       "      <td>...</td>\n",
       "      <td>...</td>\n",
       "      <td>...</td>\n",
       "      <td>...</td>\n",
       "      <td>...</td>\n",
       "      <td>...</td>\n",
       "    </tr>\n",
       "    <tr>\n",
       "      <th>2072</th>\n",
       "      <td>554325</td>\n",
       "      <td>23208</td>\n",
       "      <td>LUNCH BAG VINTAGE LEAF DESIGN</td>\n",
       "      <td>20.0</td>\n",
       "      <td>5/23/2011 15:38</td>\n",
       "      <td>1.65</td>\n",
       "      <td>12621.0</td>\n",
       "      <td>Germany</td>\n",
       "    </tr>\n",
       "    <tr>\n",
       "      <th>2073</th>\n",
       "      <td>554325</td>\n",
       "      <td>23209</td>\n",
       "      <td>LUNCH BAG DOILEY PATTERN</td>\n",
       "      <td>20.0</td>\n",
       "      <td>5/23/2011 15:38</td>\n",
       "      <td>1.65</td>\n",
       "      <td>12621.0</td>\n",
       "      <td>Germany</td>\n",
       "    </tr>\n",
       "    <tr>\n",
       "      <th>2075</th>\n",
       "      <td>554325</td>\n",
       "      <td>22908</td>\n",
       "      <td>PACK OF 20 NAPKINS RED APPLES</td>\n",
       "      <td>12.0</td>\n",
       "      <td>5/23/2011 15:38</td>\n",
       "      <td>0.85</td>\n",
       "      <td>12621.0</td>\n",
       "      <td>Germany</td>\n",
       "    </tr>\n",
       "    <tr>\n",
       "      <th>2078</th>\n",
       "      <td>554325</td>\n",
       "      <td>21559</td>\n",
       "      <td>STRAWBERRY LUNCH BOX WITH CUTLERY</td>\n",
       "      <td>12.0</td>\n",
       "      <td>5/23/2011 15:38</td>\n",
       "      <td>2.55</td>\n",
       "      <td>12621.0</td>\n",
       "      <td>Germany</td>\n",
       "    </tr>\n",
       "    <tr>\n",
       "      <th>2079</th>\n",
       "      <td>554325</td>\n",
       "      <td>79191C</td>\n",
       "      <td>RETRO PLASTIC ELEPHANT TRAY</td>\n",
       "      <td>12.0</td>\n",
       "      <td>5/23/2011 15:38</td>\n",
       "      <td>NaN</td>\n",
       "      <td>12621.0</td>\n",
       "      <td>Germany</td>\n",
       "    </tr>\n",
       "  </tbody>\n",
       "</table>\n",
       "<p>1951 rows × 8 columns</p>\n",
       "</div>"
      ],
      "text/plain": [
       "      Invoice StockCode                          Description  Quantity  \\\n",
       "0      489434     85048  15CM CHRISTMAS GLASS BALL 20 LIGHTS       NaN   \n",
       "1      489434    79323P                   PINK CHERRY LIGHTS      12.0   \n",
       "2      489434    79323W                  WHITE CHERRY LIGHTS       NaN   \n",
       "3      489434     22041         RECORD FRAME 7\" SINGLE SIZE       48.0   \n",
       "4      489434     21232       STRAWBERRY CERAMIC TRINKET BOX      24.0   \n",
       "...       ...       ...                                  ...       ...   \n",
       "2072   554325     23208        LUNCH BAG VINTAGE LEAF DESIGN      20.0   \n",
       "2073   554325     23209            LUNCH BAG DOILEY PATTERN       20.0   \n",
       "2075   554325     22908        PACK OF 20 NAPKINS RED APPLES      12.0   \n",
       "2078   554325     21559    STRAWBERRY LUNCH BOX WITH CUTLERY      12.0   \n",
       "2079   554325    79191C          RETRO PLASTIC ELEPHANT TRAY      12.0   \n",
       "\n",
       "          InvoiceDate  Price  Customer ID         Country  \n",
       "0      12/1/2009 7:45   6.95      13085.0  United Kingdom  \n",
       "1      12/1/2009 7:45   6.75      13085.0  United Kingdom  \n",
       "2      12/1/2009 7:45   6.75      13085.0  United Kingdom  \n",
       "3      12/1/2009 7:45    NaN      13085.0  United Kingdom  \n",
       "4      12/1/2009 7:45   1.25      13085.0  United Kingdom  \n",
       "...               ...    ...          ...             ...  \n",
       "2072  5/23/2011 15:38   1.65      12621.0         Germany  \n",
       "2073  5/23/2011 15:38   1.65      12621.0         Germany  \n",
       "2075  5/23/2011 15:38   0.85      12621.0         Germany  \n",
       "2078  5/23/2011 15:38   2.55      12621.0         Germany  \n",
       "2079  5/23/2011 15:38    NaN      12621.0         Germany  \n",
       "\n",
       "[1951 rows x 8 columns]"
      ]
     },
     "execution_count": 11,
     "metadata": {},
     "output_type": "execute_result"
    }
   ],
   "source": [
    "retail.groupby(['Country','Description']).head(3)"
   ]
  },
  {
   "cell_type": "code",
   "execution_count": 14,
   "id": "85709f40",
   "metadata": {
    "slideshow": {
     "slide_type": "slide"
    }
   },
   "outputs": [
    {
     "data": {
      "text/plain": [
       "Country         Description                       \n",
       "Australia        DOLLY GIRL BEAKER                    200.0\n",
       "                10 COLOUR SPACEBOY PEN                 48.0\n",
       "                12 PENCILS TALL TUBE POSY             240.0\n",
       "                16 PIECE CUTLERY SET PANTRY DESIGN     24.0\n",
       "                3 STRIPEY MICE FELTCRAFT              121.0\n",
       "                                                      ...  \n",
       "United Kingdom  YELLOW + BROWN BEAR FELT PURSE KIT     14.0\n",
       "                YELLOW FLOWERS FELT HANDBAG KIT         5.0\n",
       "                YELLOW PURPLE DAISY FELT PURSE KIT      3.0\n",
       "                YELLOW RED FLOWER PIGGY BANK            1.0\n",
       "                ZINC METAL HEART DECORATION            12.0\n",
       "Name: Quantity, Length: 1410, dtype: float64"
      ]
     },
     "execution_count": 14,
     "metadata": {},
     "output_type": "execute_result"
    }
   ],
   "source": [
    "retail.groupby(['Country','Description']).Quantity.sum()"
   ]
  },
  {
   "cell_type": "code",
   "execution_count": 15,
   "id": "d7a3c028",
   "metadata": {
    "slideshow": {
     "slide_type": "slide"
    }
   },
   "outputs": [
    {
     "data": {
      "text/html": [
       "<div>\n",
       "<style scoped>\n",
       "    .dataframe tbody tr th:only-of-type {\n",
       "        vertical-align: middle;\n",
       "    }\n",
       "\n",
       "    .dataframe tbody tr th {\n",
       "        vertical-align: top;\n",
       "    }\n",
       "\n",
       "    .dataframe thead th {\n",
       "        text-align: right;\n",
       "    }\n",
       "</style>\n",
       "<table border=\"1\" class=\"dataframe\">\n",
       "  <thead>\n",
       "    <tr style=\"text-align: right;\">\n",
       "      <th></th>\n",
       "      <th>Country</th>\n",
       "      <th>Description</th>\n",
       "      <th>Quantity</th>\n",
       "    </tr>\n",
       "  </thead>\n",
       "  <tbody>\n",
       "    <tr>\n",
       "      <th>0</th>\n",
       "      <td>Australia</td>\n",
       "      <td>DOLLY GIRL BEAKER</td>\n",
       "      <td>200.0</td>\n",
       "    </tr>\n",
       "    <tr>\n",
       "      <th>1</th>\n",
       "      <td>Australia</td>\n",
       "      <td>10 COLOUR SPACEBOY PEN</td>\n",
       "      <td>48.0</td>\n",
       "    </tr>\n",
       "    <tr>\n",
       "      <th>2</th>\n",
       "      <td>Australia</td>\n",
       "      <td>12 PENCILS TALL TUBE POSY</td>\n",
       "      <td>240.0</td>\n",
       "    </tr>\n",
       "    <tr>\n",
       "      <th>3</th>\n",
       "      <td>Australia</td>\n",
       "      <td>16 PIECE CUTLERY SET PANTRY DESIGN</td>\n",
       "      <td>24.0</td>\n",
       "    </tr>\n",
       "    <tr>\n",
       "      <th>4</th>\n",
       "      <td>Australia</td>\n",
       "      <td>3 STRIPEY MICE FELTCRAFT</td>\n",
       "      <td>121.0</td>\n",
       "    </tr>\n",
       "    <tr>\n",
       "      <th>...</th>\n",
       "      <td>...</td>\n",
       "      <td>...</td>\n",
       "      <td>...</td>\n",
       "    </tr>\n",
       "    <tr>\n",
       "      <th>1405</th>\n",
       "      <td>United Kingdom</td>\n",
       "      <td>YELLOW + BROWN BEAR FELT PURSE KIT</td>\n",
       "      <td>14.0</td>\n",
       "    </tr>\n",
       "    <tr>\n",
       "      <th>1406</th>\n",
       "      <td>United Kingdom</td>\n",
       "      <td>YELLOW FLOWERS FELT HANDBAG KIT</td>\n",
       "      <td>5.0</td>\n",
       "    </tr>\n",
       "    <tr>\n",
       "      <th>1407</th>\n",
       "      <td>United Kingdom</td>\n",
       "      <td>YELLOW PURPLE DAISY FELT PURSE KIT</td>\n",
       "      <td>3.0</td>\n",
       "    </tr>\n",
       "    <tr>\n",
       "      <th>1408</th>\n",
       "      <td>United Kingdom</td>\n",
       "      <td>YELLOW RED FLOWER PIGGY BANK</td>\n",
       "      <td>1.0</td>\n",
       "    </tr>\n",
       "    <tr>\n",
       "      <th>1409</th>\n",
       "      <td>United Kingdom</td>\n",
       "      <td>ZINC METAL HEART DECORATION</td>\n",
       "      <td>12.0</td>\n",
       "    </tr>\n",
       "  </tbody>\n",
       "</table>\n",
       "<p>1410 rows × 3 columns</p>\n",
       "</div>"
      ],
      "text/plain": [
       "             Country                         Description  Quantity\n",
       "0          Australia                   DOLLY GIRL BEAKER     200.0\n",
       "1          Australia              10 COLOUR SPACEBOY PEN      48.0\n",
       "2          Australia           12 PENCILS TALL TUBE POSY     240.0\n",
       "3          Australia  16 PIECE CUTLERY SET PANTRY DESIGN      24.0\n",
       "4          Australia            3 STRIPEY MICE FELTCRAFT     121.0\n",
       "...              ...                                 ...       ...\n",
       "1405  United Kingdom  YELLOW + BROWN BEAR FELT PURSE KIT      14.0\n",
       "1406  United Kingdom     YELLOW FLOWERS FELT HANDBAG KIT       5.0\n",
       "1407  United Kingdom  YELLOW PURPLE DAISY FELT PURSE KIT       3.0\n",
       "1408  United Kingdom        YELLOW RED FLOWER PIGGY BANK       1.0\n",
       "1409  United Kingdom         ZINC METAL HEART DECORATION      12.0\n",
       "\n",
       "[1410 rows x 3 columns]"
      ]
     },
     "execution_count": 15,
     "metadata": {},
     "output_type": "execute_result"
    }
   ],
   "source": [
    "retail.groupby(['Country','Description']).Quantity.sum().reset_index()"
   ]
  },
  {
   "cell_type": "code",
   "execution_count": 17,
   "id": "7575e4f2",
   "metadata": {
    "slideshow": {
     "slide_type": "slide"
    }
   },
   "outputs": [
    {
     "data": {
      "text/html": [
       "<div>\n",
       "<style scoped>\n",
       "    .dataframe tbody tr th:only-of-type {\n",
       "        vertical-align: middle;\n",
       "    }\n",
       "\n",
       "    .dataframe tbody tr th {\n",
       "        vertical-align: top;\n",
       "    }\n",
       "\n",
       "    .dataframe thead th {\n",
       "        text-align: right;\n",
       "    }\n",
       "</style>\n",
       "<table border=\"1\" class=\"dataframe\">\n",
       "  <thead>\n",
       "    <tr style=\"text-align: right;\">\n",
       "      <th></th>\n",
       "      <th>Country</th>\n",
       "      <th>Description</th>\n",
       "      <th>Price</th>\n",
       "    </tr>\n",
       "  </thead>\n",
       "  <tbody>\n",
       "    <tr>\n",
       "      <th>0</th>\n",
       "      <td>Australia</td>\n",
       "      <td>DOLLY GIRL BEAKER</td>\n",
       "      <td>1.08</td>\n",
       "    </tr>\n",
       "    <tr>\n",
       "      <th>1</th>\n",
       "      <td>Australia</td>\n",
       "      <td>10 COLOUR SPACEBOY PEN</td>\n",
       "      <td>0.85</td>\n",
       "    </tr>\n",
       "    <tr>\n",
       "      <th>2</th>\n",
       "      <td>Australia</td>\n",
       "      <td>12 PENCILS TALL TUBE POSY</td>\n",
       "      <td>0.29</td>\n",
       "    </tr>\n",
       "    <tr>\n",
       "      <th>3</th>\n",
       "      <td>Australia</td>\n",
       "      <td>16 PIECE CUTLERY SET PANTRY DESIGN</td>\n",
       "      <td>12.50</td>\n",
       "    </tr>\n",
       "    <tr>\n",
       "      <th>4</th>\n",
       "      <td>Australia</td>\n",
       "      <td>3 STRIPEY MICE FELTCRAFT</td>\n",
       "      <td>1.95</td>\n",
       "    </tr>\n",
       "    <tr>\n",
       "      <th>...</th>\n",
       "      <td>...</td>\n",
       "      <td>...</td>\n",
       "      <td>...</td>\n",
       "    </tr>\n",
       "    <tr>\n",
       "      <th>1405</th>\n",
       "      <td>United Kingdom</td>\n",
       "      <td>YELLOW + BROWN BEAR FELT PURSE KIT</td>\n",
       "      <td>1.25</td>\n",
       "    </tr>\n",
       "    <tr>\n",
       "      <th>1406</th>\n",
       "      <td>United Kingdom</td>\n",
       "      <td>YELLOW FLOWERS FELT HANDBAG KIT</td>\n",
       "      <td>2.10</td>\n",
       "    </tr>\n",
       "    <tr>\n",
       "      <th>1407</th>\n",
       "      <td>United Kingdom</td>\n",
       "      <td>YELLOW PURPLE DAISY FELT PURSE KIT</td>\n",
       "      <td>1.25</td>\n",
       "    </tr>\n",
       "    <tr>\n",
       "      <th>1408</th>\n",
       "      <td>United Kingdom</td>\n",
       "      <td>YELLOW RED FLOWER PIGGY BANK</td>\n",
       "      <td>4.65</td>\n",
       "    </tr>\n",
       "    <tr>\n",
       "      <th>1409</th>\n",
       "      <td>United Kingdom</td>\n",
       "      <td>ZINC METAL HEART DECORATION</td>\n",
       "      <td>1.25</td>\n",
       "    </tr>\n",
       "  </tbody>\n",
       "</table>\n",
       "<p>1410 rows × 3 columns</p>\n",
       "</div>"
      ],
      "text/plain": [
       "             Country                         Description  Price\n",
       "0          Australia                   DOLLY GIRL BEAKER   1.08\n",
       "1          Australia              10 COLOUR SPACEBOY PEN   0.85\n",
       "2          Australia           12 PENCILS TALL TUBE POSY   0.29\n",
       "3          Australia  16 PIECE CUTLERY SET PANTRY DESIGN  12.50\n",
       "4          Australia            3 STRIPEY MICE FELTCRAFT   1.95\n",
       "...              ...                                 ...    ...\n",
       "1405  United Kingdom  YELLOW + BROWN BEAR FELT PURSE KIT   1.25\n",
       "1406  United Kingdom     YELLOW FLOWERS FELT HANDBAG KIT   2.10\n",
       "1407  United Kingdom  YELLOW PURPLE DAISY FELT PURSE KIT   1.25\n",
       "1408  United Kingdom        YELLOW RED FLOWER PIGGY BANK   4.65\n",
       "1409  United Kingdom         ZINC METAL HEART DECORATION   1.25\n",
       "\n",
       "[1410 rows x 3 columns]"
      ]
     },
     "execution_count": 17,
     "metadata": {},
     "output_type": "execute_result"
    }
   ],
   "source": [
    "retail.groupby(['Country','Description']).Price.max().reset_index()"
   ]
  },
  {
   "cell_type": "markdown",
   "id": "5f6aa3f3",
   "metadata": {
    "slideshow": {
     "slide_type": "slide"
    }
   },
   "source": [
    "### 3.3. Aggregation Function\n",
    "<img src='Agg.jpg'  height=\"400px\" width=\"600px\" style = \"float:left\"/>"
   ]
  },
  {
   "cell_type": "code",
   "execution_count": 19,
   "id": "c3c17d71",
   "metadata": {
    "slideshow": {
     "slide_type": "slide"
    }
   },
   "outputs": [
    {
     "data": {
      "text/html": [
       "<div>\n",
       "<style scoped>\n",
       "    .dataframe tbody tr th:only-of-type {\n",
       "        vertical-align: middle;\n",
       "    }\n",
       "\n",
       "    .dataframe tbody tr th {\n",
       "        vertical-align: top;\n",
       "    }\n",
       "\n",
       "    .dataframe thead th {\n",
       "        text-align: right;\n",
       "    }\n",
       "</style>\n",
       "<table border=\"1\" class=\"dataframe\">\n",
       "  <thead>\n",
       "    <tr style=\"text-align: right;\">\n",
       "      <th></th>\n",
       "      <th>Country</th>\n",
       "      <th>Description</th>\n",
       "      <th>mean_price</th>\n",
       "      <th>min_price</th>\n",
       "      <th>max_price</th>\n",
       "      <th>median_quant</th>\n",
       "      <th>var_quant</th>\n",
       "      <th>count_inv</th>\n",
       "    </tr>\n",
       "  </thead>\n",
       "  <tbody>\n",
       "    <tr>\n",
       "      <th>0</th>\n",
       "      <td>Australia</td>\n",
       "      <td>DOLLY GIRL BEAKER</td>\n",
       "      <td>1.08</td>\n",
       "      <td>1.08</td>\n",
       "      <td>1.08</td>\n",
       "      <td>200.0</td>\n",
       "      <td>NaN</td>\n",
       "      <td>1</td>\n",
       "    </tr>\n",
       "    <tr>\n",
       "      <th>1</th>\n",
       "      <td>Australia</td>\n",
       "      <td>10 COLOUR SPACEBOY PEN</td>\n",
       "      <td>0.85</td>\n",
       "      <td>0.85</td>\n",
       "      <td>0.85</td>\n",
       "      <td>48.0</td>\n",
       "      <td>NaN</td>\n",
       "      <td>1</td>\n",
       "    </tr>\n",
       "    <tr>\n",
       "      <th>2</th>\n",
       "      <td>Australia</td>\n",
       "      <td>12 PENCILS TALL TUBE POSY</td>\n",
       "      <td>0.29</td>\n",
       "      <td>0.29</td>\n",
       "      <td>0.29</td>\n",
       "      <td>240.0</td>\n",
       "      <td>NaN</td>\n",
       "      <td>1</td>\n",
       "    </tr>\n",
       "    <tr>\n",
       "      <th>3</th>\n",
       "      <td>Australia</td>\n",
       "      <td>16 PIECE CUTLERY SET PANTRY DESIGN</td>\n",
       "      <td>12.50</td>\n",
       "      <td>12.50</td>\n",
       "      <td>12.50</td>\n",
       "      <td>24.0</td>\n",
       "      <td>NaN</td>\n",
       "      <td>1</td>\n",
       "    </tr>\n",
       "    <tr>\n",
       "      <th>4</th>\n",
       "      <td>Australia</td>\n",
       "      <td>3 STRIPEY MICE FELTCRAFT</td>\n",
       "      <td>1.80</td>\n",
       "      <td>1.65</td>\n",
       "      <td>1.95</td>\n",
       "      <td>60.5</td>\n",
       "      <td>7080.5</td>\n",
       "      <td>2</td>\n",
       "    </tr>\n",
       "    <tr>\n",
       "      <th>...</th>\n",
       "      <td>...</td>\n",
       "      <td>...</td>\n",
       "      <td>...</td>\n",
       "      <td>...</td>\n",
       "      <td>...</td>\n",
       "      <td>...</td>\n",
       "      <td>...</td>\n",
       "      <td>...</td>\n",
       "    </tr>\n",
       "    <tr>\n",
       "      <th>1405</th>\n",
       "      <td>United Kingdom</td>\n",
       "      <td>YELLOW + BROWN BEAR FELT PURSE KIT</td>\n",
       "      <td>1.25</td>\n",
       "      <td>1.25</td>\n",
       "      <td>1.25</td>\n",
       "      <td>7.0</td>\n",
       "      <td>50.0</td>\n",
       "      <td>2</td>\n",
       "    </tr>\n",
       "    <tr>\n",
       "      <th>1406</th>\n",
       "      <td>United Kingdom</td>\n",
       "      <td>YELLOW FLOWERS FELT HANDBAG KIT</td>\n",
       "      <td>2.10</td>\n",
       "      <td>2.10</td>\n",
       "      <td>2.10</td>\n",
       "      <td>5.0</td>\n",
       "      <td>NaN</td>\n",
       "      <td>1</td>\n",
       "    </tr>\n",
       "    <tr>\n",
       "      <th>1407</th>\n",
       "      <td>United Kingdom</td>\n",
       "      <td>YELLOW PURPLE DAISY FELT PURSE KIT</td>\n",
       "      <td>1.25</td>\n",
       "      <td>1.25</td>\n",
       "      <td>1.25</td>\n",
       "      <td>3.0</td>\n",
       "      <td>NaN</td>\n",
       "      <td>1</td>\n",
       "    </tr>\n",
       "    <tr>\n",
       "      <th>1408</th>\n",
       "      <td>United Kingdom</td>\n",
       "      <td>YELLOW RED FLOWER PIGGY BANK</td>\n",
       "      <td>4.65</td>\n",
       "      <td>4.65</td>\n",
       "      <td>4.65</td>\n",
       "      <td>1.0</td>\n",
       "      <td>NaN</td>\n",
       "      <td>1</td>\n",
       "    </tr>\n",
       "    <tr>\n",
       "      <th>1409</th>\n",
       "      <td>United Kingdom</td>\n",
       "      <td>ZINC METAL HEART DECORATION</td>\n",
       "      <td>1.25</td>\n",
       "      <td>1.25</td>\n",
       "      <td>1.25</td>\n",
       "      <td>12.0</td>\n",
       "      <td>NaN</td>\n",
       "      <td>1</td>\n",
       "    </tr>\n",
       "  </tbody>\n",
       "</table>\n",
       "<p>1410 rows × 8 columns</p>\n",
       "</div>"
      ],
      "text/plain": [
       "             Country                         Description  mean_price  \\\n",
       "0          Australia                   DOLLY GIRL BEAKER        1.08   \n",
       "1          Australia              10 COLOUR SPACEBOY PEN        0.85   \n",
       "2          Australia           12 PENCILS TALL TUBE POSY        0.29   \n",
       "3          Australia  16 PIECE CUTLERY SET PANTRY DESIGN       12.50   \n",
       "4          Australia            3 STRIPEY MICE FELTCRAFT        1.80   \n",
       "...              ...                                 ...         ...   \n",
       "1405  United Kingdom  YELLOW + BROWN BEAR FELT PURSE KIT        1.25   \n",
       "1406  United Kingdom     YELLOW FLOWERS FELT HANDBAG KIT        2.10   \n",
       "1407  United Kingdom  YELLOW PURPLE DAISY FELT PURSE KIT        1.25   \n",
       "1408  United Kingdom        YELLOW RED FLOWER PIGGY BANK        4.65   \n",
       "1409  United Kingdom         ZINC METAL HEART DECORATION        1.25   \n",
       "\n",
       "      min_price  max_price  median_quant  var_quant  count_inv  \n",
       "0          1.08       1.08         200.0        NaN          1  \n",
       "1          0.85       0.85          48.0        NaN          1  \n",
       "2          0.29       0.29         240.0        NaN          1  \n",
       "3         12.50      12.50          24.0        NaN          1  \n",
       "4          1.65       1.95          60.5     7080.5          2  \n",
       "...         ...        ...           ...        ...        ...  \n",
       "1405       1.25       1.25           7.0       50.0          2  \n",
       "1406       2.10       2.10           5.0        NaN          1  \n",
       "1407       1.25       1.25           3.0        NaN          1  \n",
       "1408       4.65       4.65           1.0        NaN          1  \n",
       "1409       1.25       1.25          12.0        NaN          1  \n",
       "\n",
       "[1410 rows x 8 columns]"
      ]
     },
     "execution_count": 19,
     "metadata": {},
     "output_type": "execute_result"
    }
   ],
   "source": [
    "retail.groupby(\n",
    "     ['Country','Description']\n",
    " ).agg(\n",
    "     mean_price    = ('Price'   ,'mean'),  #np.mean\n",
    "     min_price     = ('Price'   , 'min'),  #np.min\n",
    "     max_price     = ('Price'   , 'max'),\n",
    "     median_quant  = ('Quantity', 'median'), #np.median\n",
    "     var_quant     = ('Quantity', 'var'),\n",
    "     count_inv     = ('Invoice' , 'count')\n",
    " ).reset_index()"
   ]
  },
  {
   "cell_type": "code",
   "execution_count": 20,
   "id": "088ae4ed",
   "metadata": {
    "scrolled": true,
    "slideshow": {
     "slide_type": "slide"
    }
   },
   "outputs": [
    {
     "data": {
      "text/html": [
       "<div>\n",
       "<style scoped>\n",
       "    .dataframe tbody tr th:only-of-type {\n",
       "        vertical-align: middle;\n",
       "    }\n",
       "\n",
       "    .dataframe tbody tr th {\n",
       "        vertical-align: top;\n",
       "    }\n",
       "\n",
       "    .dataframe thead th {\n",
       "        text-align: right;\n",
       "    }\n",
       "</style>\n",
       "<table border=\"1\" class=\"dataframe\">\n",
       "  <thead>\n",
       "    <tr style=\"text-align: right;\">\n",
       "      <th></th>\n",
       "      <th>Country</th>\n",
       "      <th>Description</th>\n",
       "      <th>Price</th>\n",
       "      <th>Quantity</th>\n",
       "      <th>Invoice</th>\n",
       "    </tr>\n",
       "  </thead>\n",
       "  <tbody>\n",
       "    <tr>\n",
       "      <th>0</th>\n",
       "      <td>Australia</td>\n",
       "      <td>DOLLY GIRL BEAKER</td>\n",
       "      <td>1.08</td>\n",
       "      <td>NaN</td>\n",
       "      <td>1</td>\n",
       "    </tr>\n",
       "    <tr>\n",
       "      <th>1</th>\n",
       "      <td>Australia</td>\n",
       "      <td>10 COLOUR SPACEBOY PEN</td>\n",
       "      <td>0.85</td>\n",
       "      <td>NaN</td>\n",
       "      <td>1</td>\n",
       "    </tr>\n",
       "    <tr>\n",
       "      <th>2</th>\n",
       "      <td>Australia</td>\n",
       "      <td>12 PENCILS TALL TUBE POSY</td>\n",
       "      <td>0.29</td>\n",
       "      <td>NaN</td>\n",
       "      <td>1</td>\n",
       "    </tr>\n",
       "    <tr>\n",
       "      <th>3</th>\n",
       "      <td>Australia</td>\n",
       "      <td>16 PIECE CUTLERY SET PANTRY DESIGN</td>\n",
       "      <td>12.50</td>\n",
       "      <td>NaN</td>\n",
       "      <td>1</td>\n",
       "    </tr>\n",
       "    <tr>\n",
       "      <th>4</th>\n",
       "      <td>Australia</td>\n",
       "      <td>3 STRIPEY MICE FELTCRAFT</td>\n",
       "      <td>1.80</td>\n",
       "      <td>7080.5</td>\n",
       "      <td>2</td>\n",
       "    </tr>\n",
       "    <tr>\n",
       "      <th>...</th>\n",
       "      <td>...</td>\n",
       "      <td>...</td>\n",
       "      <td>...</td>\n",
       "      <td>...</td>\n",
       "      <td>...</td>\n",
       "    </tr>\n",
       "    <tr>\n",
       "      <th>1405</th>\n",
       "      <td>United Kingdom</td>\n",
       "      <td>YELLOW + BROWN BEAR FELT PURSE KIT</td>\n",
       "      <td>1.25</td>\n",
       "      <td>50.0</td>\n",
       "      <td>2</td>\n",
       "    </tr>\n",
       "    <tr>\n",
       "      <th>1406</th>\n",
       "      <td>United Kingdom</td>\n",
       "      <td>YELLOW FLOWERS FELT HANDBAG KIT</td>\n",
       "      <td>2.10</td>\n",
       "      <td>NaN</td>\n",
       "      <td>1</td>\n",
       "    </tr>\n",
       "    <tr>\n",
       "      <th>1407</th>\n",
       "      <td>United Kingdom</td>\n",
       "      <td>YELLOW PURPLE DAISY FELT PURSE KIT</td>\n",
       "      <td>1.25</td>\n",
       "      <td>NaN</td>\n",
       "      <td>1</td>\n",
       "    </tr>\n",
       "    <tr>\n",
       "      <th>1408</th>\n",
       "      <td>United Kingdom</td>\n",
       "      <td>YELLOW RED FLOWER PIGGY BANK</td>\n",
       "      <td>4.65</td>\n",
       "      <td>NaN</td>\n",
       "      <td>1</td>\n",
       "    </tr>\n",
       "    <tr>\n",
       "      <th>1409</th>\n",
       "      <td>United Kingdom</td>\n",
       "      <td>ZINC METAL HEART DECORATION</td>\n",
       "      <td>1.25</td>\n",
       "      <td>NaN</td>\n",
       "      <td>1</td>\n",
       "    </tr>\n",
       "  </tbody>\n",
       "</table>\n",
       "<p>1410 rows × 5 columns</p>\n",
       "</div>"
      ],
      "text/plain": [
       "             Country                         Description  Price  Quantity  \\\n",
       "0          Australia                   DOLLY GIRL BEAKER   1.08       NaN   \n",
       "1          Australia              10 COLOUR SPACEBOY PEN   0.85       NaN   \n",
       "2          Australia           12 PENCILS TALL TUBE POSY   0.29       NaN   \n",
       "3          Australia  16 PIECE CUTLERY SET PANTRY DESIGN  12.50       NaN   \n",
       "4          Australia            3 STRIPEY MICE FELTCRAFT   1.80    7080.5   \n",
       "...              ...                                 ...    ...       ...   \n",
       "1405  United Kingdom  YELLOW + BROWN BEAR FELT PURSE KIT   1.25      50.0   \n",
       "1406  United Kingdom     YELLOW FLOWERS FELT HANDBAG KIT   2.10       NaN   \n",
       "1407  United Kingdom  YELLOW PURPLE DAISY FELT PURSE KIT   1.25       NaN   \n",
       "1408  United Kingdom        YELLOW RED FLOWER PIGGY BANK   4.65       NaN   \n",
       "1409  United Kingdom         ZINC METAL HEART DECORATION   1.25       NaN   \n",
       "\n",
       "      Invoice  \n",
       "0           1  \n",
       "1           1  \n",
       "2           1  \n",
       "3           1  \n",
       "4           2  \n",
       "...       ...  \n",
       "1405        2  \n",
       "1406        1  \n",
       "1407        1  \n",
       "1408        1  \n",
       "1409        1  \n",
       "\n",
       "[1410 rows x 5 columns]"
      ]
     },
     "execution_count": 20,
     "metadata": {},
     "output_type": "execute_result"
    }
   ],
   "source": [
    "retail.groupby(\n",
    "     ['Country','Description']\n",
    " ).agg(\n",
    "    {\n",
    "      'Price'     :'mean',  \n",
    "      'Quantity'  :'median', \n",
    "      'Quantity'  : 'var', \n",
    "      'Invoice'   : 'count' \n",
    "    }\n",
    ").reset_index()"
   ]
  },
  {
   "cell_type": "code",
   "execution_count": 23,
   "id": "364b37a5",
   "metadata": {
    "slideshow": {
     "slide_type": "slide"
    }
   },
   "outputs": [
    {
     "data": {
      "text/html": [
       "<div>\n",
       "<style scoped>\n",
       "    .dataframe tbody tr th:only-of-type {\n",
       "        vertical-align: middle;\n",
       "    }\n",
       "\n",
       "    .dataframe tbody tr th {\n",
       "        vertical-align: top;\n",
       "    }\n",
       "\n",
       "    .dataframe thead tr th {\n",
       "        text-align: left;\n",
       "    }\n",
       "</style>\n",
       "<table border=\"1\" class=\"dataframe\">\n",
       "  <thead>\n",
       "    <tr>\n",
       "      <th></th>\n",
       "      <th>Country</th>\n",
       "      <th>Description</th>\n",
       "      <th>Price</th>\n",
       "      <th colspan=\"2\" halign=\"left\">Quantity</th>\n",
       "      <th>Invoice</th>\n",
       "    </tr>\n",
       "    <tr>\n",
       "      <th></th>\n",
       "      <th></th>\n",
       "      <th></th>\n",
       "      <th>mean</th>\n",
       "      <th>median</th>\n",
       "      <th>var</th>\n",
       "      <th>count</th>\n",
       "    </tr>\n",
       "  </thead>\n",
       "  <tbody>\n",
       "    <tr>\n",
       "      <th>0</th>\n",
       "      <td>Australia</td>\n",
       "      <td>DOLLY GIRL BEAKER</td>\n",
       "      <td>1.08</td>\n",
       "      <td>200.0</td>\n",
       "      <td>NaN</td>\n",
       "      <td>1</td>\n",
       "    </tr>\n",
       "    <tr>\n",
       "      <th>1</th>\n",
       "      <td>Australia</td>\n",
       "      <td>10 COLOUR SPACEBOY PEN</td>\n",
       "      <td>0.85</td>\n",
       "      <td>48.0</td>\n",
       "      <td>NaN</td>\n",
       "      <td>1</td>\n",
       "    </tr>\n",
       "    <tr>\n",
       "      <th>2</th>\n",
       "      <td>Australia</td>\n",
       "      <td>12 PENCILS TALL TUBE POSY</td>\n",
       "      <td>0.29</td>\n",
       "      <td>240.0</td>\n",
       "      <td>NaN</td>\n",
       "      <td>1</td>\n",
       "    </tr>\n",
       "    <tr>\n",
       "      <th>3</th>\n",
       "      <td>Australia</td>\n",
       "      <td>16 PIECE CUTLERY SET PANTRY DESIGN</td>\n",
       "      <td>12.50</td>\n",
       "      <td>24.0</td>\n",
       "      <td>NaN</td>\n",
       "      <td>1</td>\n",
       "    </tr>\n",
       "    <tr>\n",
       "      <th>4</th>\n",
       "      <td>Australia</td>\n",
       "      <td>3 STRIPEY MICE FELTCRAFT</td>\n",
       "      <td>1.80</td>\n",
       "      <td>60.5</td>\n",
       "      <td>7080.5</td>\n",
       "      <td>2</td>\n",
       "    </tr>\n",
       "    <tr>\n",
       "      <th>...</th>\n",
       "      <td>...</td>\n",
       "      <td>...</td>\n",
       "      <td>...</td>\n",
       "      <td>...</td>\n",
       "      <td>...</td>\n",
       "      <td>...</td>\n",
       "    </tr>\n",
       "    <tr>\n",
       "      <th>1405</th>\n",
       "      <td>United Kingdom</td>\n",
       "      <td>YELLOW + BROWN BEAR FELT PURSE KIT</td>\n",
       "      <td>1.25</td>\n",
       "      <td>7.0</td>\n",
       "      <td>50.0</td>\n",
       "      <td>2</td>\n",
       "    </tr>\n",
       "    <tr>\n",
       "      <th>1406</th>\n",
       "      <td>United Kingdom</td>\n",
       "      <td>YELLOW FLOWERS FELT HANDBAG KIT</td>\n",
       "      <td>2.10</td>\n",
       "      <td>5.0</td>\n",
       "      <td>NaN</td>\n",
       "      <td>1</td>\n",
       "    </tr>\n",
       "    <tr>\n",
       "      <th>1407</th>\n",
       "      <td>United Kingdom</td>\n",
       "      <td>YELLOW PURPLE DAISY FELT PURSE KIT</td>\n",
       "      <td>1.25</td>\n",
       "      <td>3.0</td>\n",
       "      <td>NaN</td>\n",
       "      <td>1</td>\n",
       "    </tr>\n",
       "    <tr>\n",
       "      <th>1408</th>\n",
       "      <td>United Kingdom</td>\n",
       "      <td>YELLOW RED FLOWER PIGGY BANK</td>\n",
       "      <td>4.65</td>\n",
       "      <td>1.0</td>\n",
       "      <td>NaN</td>\n",
       "      <td>1</td>\n",
       "    </tr>\n",
       "    <tr>\n",
       "      <th>1409</th>\n",
       "      <td>United Kingdom</td>\n",
       "      <td>ZINC METAL HEART DECORATION</td>\n",
       "      <td>1.25</td>\n",
       "      <td>12.0</td>\n",
       "      <td>NaN</td>\n",
       "      <td>1</td>\n",
       "    </tr>\n",
       "  </tbody>\n",
       "</table>\n",
       "<p>1410 rows × 6 columns</p>\n",
       "</div>"
      ],
      "text/plain": [
       "             Country                         Description  Price Quantity  \\\n",
       "                                                           mean   median   \n",
       "0          Australia                   DOLLY GIRL BEAKER   1.08    200.0   \n",
       "1          Australia              10 COLOUR SPACEBOY PEN   0.85     48.0   \n",
       "2          Australia           12 PENCILS TALL TUBE POSY   0.29    240.0   \n",
       "3          Australia  16 PIECE CUTLERY SET PANTRY DESIGN  12.50     24.0   \n",
       "4          Australia            3 STRIPEY MICE FELTCRAFT   1.80     60.5   \n",
       "...              ...                                 ...    ...      ...   \n",
       "1405  United Kingdom  YELLOW + BROWN BEAR FELT PURSE KIT   1.25      7.0   \n",
       "1406  United Kingdom     YELLOW FLOWERS FELT HANDBAG KIT   2.10      5.0   \n",
       "1407  United Kingdom  YELLOW PURPLE DAISY FELT PURSE KIT   1.25      3.0   \n",
       "1408  United Kingdom        YELLOW RED FLOWER PIGGY BANK   4.65      1.0   \n",
       "1409  United Kingdom         ZINC METAL HEART DECORATION   1.25     12.0   \n",
       "\n",
       "             Invoice  \n",
       "         var   count  \n",
       "0        NaN       1  \n",
       "1        NaN       1  \n",
       "2        NaN       1  \n",
       "3        NaN       1  \n",
       "4     7080.5       2  \n",
       "...      ...     ...  \n",
       "1405    50.0       2  \n",
       "1406     NaN       1  \n",
       "1407     NaN       1  \n",
       "1408     NaN       1  \n",
       "1409     NaN       1  \n",
       "\n",
       "[1410 rows x 6 columns]"
      ]
     },
     "execution_count": 23,
     "metadata": {},
     "output_type": "execute_result"
    }
   ],
   "source": [
    "# Not Recommended\n",
    "retail.groupby(\n",
    "     ['Country','Description']\n",
    " ).agg(\n",
    "    {\n",
    "      'Price':'mean',  \n",
    "      'Quantity':['median','var'], \n",
    "      'Invoice': 'count' \n",
    "    }\n",
    ").reset_index()"
   ]
  },
  {
   "cell_type": "code",
   "execution_count": 25,
   "id": "8736ed4d",
   "metadata": {
    "slideshow": {
     "slide_type": "slide"
    }
   },
   "outputs": [
    {
     "data": {
      "text/html": [
       "<div>\n",
       "<style scoped>\n",
       "    .dataframe tbody tr th:only-of-type {\n",
       "        vertical-align: middle;\n",
       "    }\n",
       "\n",
       "    .dataframe tbody tr th {\n",
       "        vertical-align: top;\n",
       "    }\n",
       "\n",
       "    .dataframe thead th {\n",
       "        text-align: right;\n",
       "    }\n",
       "</style>\n",
       "<table border=\"1\" class=\"dataframe\">\n",
       "  <thead>\n",
       "    <tr style=\"text-align: right;\">\n",
       "      <th></th>\n",
       "      <th>Country</th>\n",
       "      <th>len</th>\n",
       "      <th>min</th>\n",
       "      <th>max</th>\n",
       "    </tr>\n",
       "  </thead>\n",
       "  <tbody>\n",
       "    <tr>\n",
       "      <th>0</th>\n",
       "      <td>Australia</td>\n",
       "      <td>507</td>\n",
       "      <td>0.19</td>\n",
       "      <td>14.95</td>\n",
       "    </tr>\n",
       "    <tr>\n",
       "      <th>1</th>\n",
       "      <td>France</td>\n",
       "      <td>91</td>\n",
       "      <td>0.29</td>\n",
       "      <td>18.00</td>\n",
       "    </tr>\n",
       "    <tr>\n",
       "      <th>2</th>\n",
       "      <td>Germany</td>\n",
       "      <td>423</td>\n",
       "      <td>0.21</td>\n",
       "      <td>39.95</td>\n",
       "    </tr>\n",
       "    <tr>\n",
       "      <th>3</th>\n",
       "      <td>Netherlands</td>\n",
       "      <td>111</td>\n",
       "      <td>0.42</td>\n",
       "      <td>15.00</td>\n",
       "    </tr>\n",
       "    <tr>\n",
       "      <th>4</th>\n",
       "      <td>USA</td>\n",
       "      <td>92</td>\n",
       "      <td>0.42</td>\n",
       "      <td>141.00</td>\n",
       "    </tr>\n",
       "    <tr>\n",
       "      <th>5</th>\n",
       "      <td>United Kingdom</td>\n",
       "      <td>848</td>\n",
       "      <td>0.19</td>\n",
       "      <td>19.95</td>\n",
       "    </tr>\n",
       "  </tbody>\n",
       "</table>\n",
       "</div>"
      ],
      "text/plain": [
       "          Country  len   min     max\n",
       "0       Australia  507  0.19   14.95\n",
       "1          France   91  0.29   18.00\n",
       "2         Germany  423  0.21   39.95\n",
       "3     Netherlands  111  0.42   15.00\n",
       "4             USA   92  0.42  141.00\n",
       "5  United Kingdom  848  0.19   19.95"
      ]
     },
     "execution_count": 25,
     "metadata": {},
     "output_type": "execute_result"
    }
   ],
   "source": [
    "retail.groupby('Country')['Price'].agg([len, min, max]).reset_index()"
   ]
  },
  {
   "cell_type": "code",
   "execution_count": 26,
   "id": "804c912d",
   "metadata": {
    "slideshow": {
     "slide_type": "slide"
    }
   },
   "outputs": [
    {
     "name": "stderr",
     "output_type": "stream",
     "text": [
      "C:\\Users\\DearUser\\AppData\\Local\\Temp\\ipykernel_6652\\1292571412.py:1: FutureWarning: Indexing with multiple keys (implicitly converted to a tuple of keys) will be deprecated, use a list instead.\n",
      "  retail.groupby('Country')['Price','Quantity'].agg([len,min,max])\n"
     ]
    },
    {
     "data": {
      "text/html": [
       "<div>\n",
       "<style scoped>\n",
       "    .dataframe tbody tr th:only-of-type {\n",
       "        vertical-align: middle;\n",
       "    }\n",
       "\n",
       "    .dataframe tbody tr th {\n",
       "        vertical-align: top;\n",
       "    }\n",
       "\n",
       "    .dataframe thead tr th {\n",
       "        text-align: left;\n",
       "    }\n",
       "\n",
       "    .dataframe thead tr:last-of-type th {\n",
       "        text-align: right;\n",
       "    }\n",
       "</style>\n",
       "<table border=\"1\" class=\"dataframe\">\n",
       "  <thead>\n",
       "    <tr>\n",
       "      <th></th>\n",
       "      <th colspan=\"3\" halign=\"left\">Price</th>\n",
       "      <th colspan=\"3\" halign=\"left\">Quantity</th>\n",
       "    </tr>\n",
       "    <tr>\n",
       "      <th></th>\n",
       "      <th>len</th>\n",
       "      <th>min</th>\n",
       "      <th>max</th>\n",
       "      <th>len</th>\n",
       "      <th>min</th>\n",
       "      <th>max</th>\n",
       "    </tr>\n",
       "    <tr>\n",
       "      <th>Country</th>\n",
       "      <th></th>\n",
       "      <th></th>\n",
       "      <th></th>\n",
       "      <th></th>\n",
       "      <th></th>\n",
       "      <th></th>\n",
       "    </tr>\n",
       "  </thead>\n",
       "  <tbody>\n",
       "    <tr>\n",
       "      <th>Australia</th>\n",
       "      <td>507</td>\n",
       "      <td>0.19</td>\n",
       "      <td>14.95</td>\n",
       "      <td>507</td>\n",
       "      <td>1.0</td>\n",
       "      <td>600.0</td>\n",
       "    </tr>\n",
       "    <tr>\n",
       "      <th>France</th>\n",
       "      <td>91</td>\n",
       "      <td>0.29</td>\n",
       "      <td>18.00</td>\n",
       "      <td>91</td>\n",
       "      <td>1.0</td>\n",
       "      <td>48.0</td>\n",
       "    </tr>\n",
       "    <tr>\n",
       "      <th>Germany</th>\n",
       "      <td>423</td>\n",
       "      <td>0.21</td>\n",
       "      <td>39.95</td>\n",
       "      <td>423</td>\n",
       "      <td>1.0</td>\n",
       "      <td>60.0</td>\n",
       "    </tr>\n",
       "    <tr>\n",
       "      <th>Netherlands</th>\n",
       "      <td>111</td>\n",
       "      <td>0.42</td>\n",
       "      <td>15.00</td>\n",
       "      <td>111</td>\n",
       "      <td>1.0</td>\n",
       "      <td>960.0</td>\n",
       "    </tr>\n",
       "    <tr>\n",
       "      <th>USA</th>\n",
       "      <td>92</td>\n",
       "      <td>0.42</td>\n",
       "      <td>141.00</td>\n",
       "      <td>92</td>\n",
       "      <td>1.0</td>\n",
       "      <td>36.0</td>\n",
       "    </tr>\n",
       "    <tr>\n",
       "      <th>United Kingdom</th>\n",
       "      <td>848</td>\n",
       "      <td>0.19</td>\n",
       "      <td>19.95</td>\n",
       "      <td>848</td>\n",
       "      <td>1.0</td>\n",
       "      <td>800.0</td>\n",
       "    </tr>\n",
       "  </tbody>\n",
       "</table>\n",
       "</div>"
      ],
      "text/plain": [
       "               Price               Quantity            \n",
       "                 len   min     max      len  min    max\n",
       "Country                                                \n",
       "Australia        507  0.19   14.95      507  1.0  600.0\n",
       "France            91  0.29   18.00       91  1.0   48.0\n",
       "Germany          423  0.21   39.95      423  1.0   60.0\n",
       "Netherlands      111  0.42   15.00      111  1.0  960.0\n",
       "USA               92  0.42  141.00       92  1.0   36.0\n",
       "United Kingdom   848  0.19   19.95      848  1.0  800.0"
      ]
     },
     "execution_count": 26,
     "metadata": {},
     "output_type": "execute_result"
    }
   ],
   "source": [
    "retail.groupby('Country')['Price','Quantity'].agg([len,min,max])"
   ]
  },
  {
   "cell_type": "code",
   "execution_count": 27,
   "id": "f2b6eb40",
   "metadata": {
    "slideshow": {
     "slide_type": "slide"
    }
   },
   "outputs": [
    {
     "data": {
      "text/html": [
       "<div>\n",
       "<style scoped>\n",
       "    .dataframe tbody tr th:only-of-type {\n",
       "        vertical-align: middle;\n",
       "    }\n",
       "\n",
       "    .dataframe tbody tr th {\n",
       "        vertical-align: top;\n",
       "    }\n",
       "\n",
       "    .dataframe thead tr th {\n",
       "        text-align: left;\n",
       "    }\n",
       "\n",
       "    .dataframe thead tr:last-of-type th {\n",
       "        text-align: right;\n",
       "    }\n",
       "</style>\n",
       "<table border=\"1\" class=\"dataframe\">\n",
       "  <thead>\n",
       "    <tr>\n",
       "      <th></th>\n",
       "      <th colspan=\"3\" halign=\"left\">Price</th>\n",
       "      <th colspan=\"3\" halign=\"left\">Quantity</th>\n",
       "    </tr>\n",
       "    <tr>\n",
       "      <th></th>\n",
       "      <th>len</th>\n",
       "      <th>min</th>\n",
       "      <th>max</th>\n",
       "      <th>len</th>\n",
       "      <th>min</th>\n",
       "      <th>max</th>\n",
       "    </tr>\n",
       "    <tr>\n",
       "      <th>Country</th>\n",
       "      <th></th>\n",
       "      <th></th>\n",
       "      <th></th>\n",
       "      <th></th>\n",
       "      <th></th>\n",
       "      <th></th>\n",
       "    </tr>\n",
       "  </thead>\n",
       "  <tbody>\n",
       "    <tr>\n",
       "      <th>Australia</th>\n",
       "      <td>507</td>\n",
       "      <td>0.19</td>\n",
       "      <td>14.95</td>\n",
       "      <td>507</td>\n",
       "      <td>1.0</td>\n",
       "      <td>600.0</td>\n",
       "    </tr>\n",
       "    <tr>\n",
       "      <th>France</th>\n",
       "      <td>91</td>\n",
       "      <td>0.29</td>\n",
       "      <td>18.00</td>\n",
       "      <td>91</td>\n",
       "      <td>1.0</td>\n",
       "      <td>48.0</td>\n",
       "    </tr>\n",
       "    <tr>\n",
       "      <th>Germany</th>\n",
       "      <td>423</td>\n",
       "      <td>0.21</td>\n",
       "      <td>39.95</td>\n",
       "      <td>423</td>\n",
       "      <td>1.0</td>\n",
       "      <td>60.0</td>\n",
       "    </tr>\n",
       "    <tr>\n",
       "      <th>Netherlands</th>\n",
       "      <td>111</td>\n",
       "      <td>0.42</td>\n",
       "      <td>15.00</td>\n",
       "      <td>111</td>\n",
       "      <td>1.0</td>\n",
       "      <td>960.0</td>\n",
       "    </tr>\n",
       "    <tr>\n",
       "      <th>USA</th>\n",
       "      <td>92</td>\n",
       "      <td>0.42</td>\n",
       "      <td>141.00</td>\n",
       "      <td>92</td>\n",
       "      <td>1.0</td>\n",
       "      <td>36.0</td>\n",
       "    </tr>\n",
       "    <tr>\n",
       "      <th>United Kingdom</th>\n",
       "      <td>848</td>\n",
       "      <td>0.19</td>\n",
       "      <td>19.95</td>\n",
       "      <td>848</td>\n",
       "      <td>1.0</td>\n",
       "      <td>800.0</td>\n",
       "    </tr>\n",
       "  </tbody>\n",
       "</table>\n",
       "</div>"
      ],
      "text/plain": [
       "               Price               Quantity            \n",
       "                 len   min     max      len  min    max\n",
       "Country                                                \n",
       "Australia        507  0.19   14.95      507  1.0  600.0\n",
       "France            91  0.29   18.00       91  1.0   48.0\n",
       "Germany          423  0.21   39.95      423  1.0   60.0\n",
       "Netherlands      111  0.42   15.00      111  1.0  960.0\n",
       "USA               92  0.42  141.00       92  1.0   36.0\n",
       "United Kingdom   848  0.19   19.95      848  1.0  800.0"
      ]
     },
     "execution_count": 27,
     "metadata": {},
     "output_type": "execute_result"
    }
   ],
   "source": [
    "a = retail.groupby('Country')[['Price','Quantity']].agg([len,min,max])\n",
    "a"
   ]
  },
  {
   "cell_type": "code",
   "execution_count": 29,
   "id": "3ed8ea0e",
   "metadata": {
    "slideshow": {
     "slide_type": "slide"
    }
   },
   "outputs": [
    {
     "data": {
      "text/plain": [
       "507"
      ]
     },
     "execution_count": 29,
     "metadata": {},
     "output_type": "execute_result"
    }
   ],
   "source": [
    "a['Price']['len'][0]"
   ]
  },
  {
   "cell_type": "code",
   "execution_count": 33,
   "id": "b567f95b",
   "metadata": {
    "slideshow": {
     "slide_type": "slide"
    }
   },
   "outputs": [
    {
     "data": {
      "text/html": [
       "<div>\n",
       "<style scoped>\n",
       "    .dataframe tbody tr th:only-of-type {\n",
       "        vertical-align: middle;\n",
       "    }\n",
       "\n",
       "    .dataframe tbody tr th {\n",
       "        vertical-align: top;\n",
       "    }\n",
       "\n",
       "    .dataframe thead th {\n",
       "        text-align: right;\n",
       "    }\n",
       "</style>\n",
       "<table border=\"1\" class=\"dataframe\">\n",
       "  <thead>\n",
       "    <tr style=\"text-align: right;\">\n",
       "      <th></th>\n",
       "      <th>len</th>\n",
       "      <th>min</th>\n",
       "      <th>max</th>\n",
       "    </tr>\n",
       "    <tr>\n",
       "      <th>Country</th>\n",
       "      <th></th>\n",
       "      <th></th>\n",
       "      <th></th>\n",
       "    </tr>\n",
       "  </thead>\n",
       "  <tbody>\n",
       "    <tr>\n",
       "      <th>Netherlands</th>\n",
       "      <td>111</td>\n",
       "      <td>0.42</td>\n",
       "      <td>15.00</td>\n",
       "    </tr>\n",
       "    <tr>\n",
       "      <th>USA</th>\n",
       "      <td>92</td>\n",
       "      <td>0.42</td>\n",
       "      <td>141.00</td>\n",
       "    </tr>\n",
       "    <tr>\n",
       "      <th>France</th>\n",
       "      <td>91</td>\n",
       "      <td>0.29</td>\n",
       "      <td>18.00</td>\n",
       "    </tr>\n",
       "    <tr>\n",
       "      <th>Germany</th>\n",
       "      <td>423</td>\n",
       "      <td>0.21</td>\n",
       "      <td>39.95</td>\n",
       "    </tr>\n",
       "    <tr>\n",
       "      <th>Australia</th>\n",
       "      <td>507</td>\n",
       "      <td>0.19</td>\n",
       "      <td>14.95</td>\n",
       "    </tr>\n",
       "    <tr>\n",
       "      <th>United Kingdom</th>\n",
       "      <td>848</td>\n",
       "      <td>0.19</td>\n",
       "      <td>19.95</td>\n",
       "    </tr>\n",
       "  </tbody>\n",
       "</table>\n",
       "</div>"
      ],
      "text/plain": [
       "                len   min     max\n",
       "Country                          \n",
       "Netherlands     111  0.42   15.00\n",
       "USA              92  0.42  141.00\n",
       "France           91  0.29   18.00\n",
       "Germany         423  0.21   39.95\n",
       "Australia       507  0.19   14.95\n",
       "United Kingdom  848  0.19   19.95"
      ]
     },
     "execution_count": 33,
     "metadata": {},
     "output_type": "execute_result"
    }
   ],
   "source": [
    "b = retail.groupby('Country')['Price'].agg([len,min,max])\n",
    "b.sort_values(by='min', ascending=False)"
   ]
  },
  {
   "cell_type": "code",
   "execution_count": 32,
   "id": "094103f0",
   "metadata": {
    "slideshow": {
     "slide_type": "slide"
    }
   },
   "outputs": [
    {
     "data": {
      "text/html": [
       "<div>\n",
       "<style scoped>\n",
       "    .dataframe tbody tr th:only-of-type {\n",
       "        vertical-align: middle;\n",
       "    }\n",
       "\n",
       "    .dataframe tbody tr th {\n",
       "        vertical-align: top;\n",
       "    }\n",
       "\n",
       "    .dataframe thead th {\n",
       "        text-align: right;\n",
       "    }\n",
       "</style>\n",
       "<table border=\"1\" class=\"dataframe\">\n",
       "  <thead>\n",
       "    <tr style=\"text-align: right;\">\n",
       "      <th></th>\n",
       "      <th>len</th>\n",
       "      <th>min</th>\n",
       "      <th>max</th>\n",
       "    </tr>\n",
       "    <tr>\n",
       "      <th>Country</th>\n",
       "      <th></th>\n",
       "      <th></th>\n",
       "      <th></th>\n",
       "    </tr>\n",
       "  </thead>\n",
       "  <tbody>\n",
       "    <tr>\n",
       "      <th>Netherlands</th>\n",
       "      <td>111</td>\n",
       "      <td>0.42</td>\n",
       "      <td>15.00</td>\n",
       "    </tr>\n",
       "    <tr>\n",
       "      <th>USA</th>\n",
       "      <td>92</td>\n",
       "      <td>0.42</td>\n",
       "      <td>141.00</td>\n",
       "    </tr>\n",
       "    <tr>\n",
       "      <th>France</th>\n",
       "      <td>91</td>\n",
       "      <td>0.29</td>\n",
       "      <td>18.00</td>\n",
       "    </tr>\n",
       "    <tr>\n",
       "      <th>Germany</th>\n",
       "      <td>423</td>\n",
       "      <td>0.21</td>\n",
       "      <td>39.95</td>\n",
       "    </tr>\n",
       "    <tr>\n",
       "      <th>United Kingdom</th>\n",
       "      <td>848</td>\n",
       "      <td>0.19</td>\n",
       "      <td>19.95</td>\n",
       "    </tr>\n",
       "    <tr>\n",
       "      <th>Australia</th>\n",
       "      <td>507</td>\n",
       "      <td>0.19</td>\n",
       "      <td>14.95</td>\n",
       "    </tr>\n",
       "  </tbody>\n",
       "</table>\n",
       "</div>"
      ],
      "text/plain": [
       "                len   min     max\n",
       "Country                          \n",
       "Netherlands     111  0.42   15.00\n",
       "USA              92  0.42  141.00\n",
       "France           91  0.29   18.00\n",
       "Germany         423  0.21   39.95\n",
       "United Kingdom  848  0.19   19.95\n",
       "Australia       507  0.19   14.95"
      ]
     },
     "execution_count": 32,
     "metadata": {},
     "output_type": "execute_result"
    }
   ],
   "source": [
    "b.sort_values(by=['min','len'], ascending = False)"
   ]
  },
  {
   "cell_type": "markdown",
   "id": "e8a556b7",
   "metadata": {
    "slideshow": {
     "slide_type": "slide"
    }
   },
   "source": [
    "### Aggregation Functions"
   ]
  },
  {
   "cell_type": "markdown",
   "id": "07779d53",
   "metadata": {
    "slideshow": {
     "slide_type": "slide"
    }
   },
   "source": [
    "\n",
    "|**Aggregation Function**\t| **Description**| \n",
    "|:---|:---|\n",
    "**count ()**\t   |        Total number of items.  \n",
    "**first () , last ()**|  \tFirst and last item.  \n",
    "**mean ()  , median ()**|\tMean and median.  \n",
    "**min (), max ()**      |\tMinimum and maximum.  \n",
    "**std (), var ()**      |\tStandard deviation and variance.  \n",
    "**mad ()**             |\tMean absolute deviation.  \n",
    "**prod ()**            |\tProduct of all items.  \n",
    "**sum ()**             | Sum of all items"
   ]
  }
 ],
 "metadata": {
  "celltoolbar": "Slideshow",
  "kernelspec": {
   "display_name": "Python 3 (ipykernel)",
   "language": "python",
   "name": "python3"
  },
  "language_info": {
   "codemirror_mode": {
    "name": "ipython",
    "version": 3
   },
   "file_extension": ".py",
   "mimetype": "text/x-python",
   "name": "python",
   "nbconvert_exporter": "python",
   "pygments_lexer": "ipython3",
   "version": "3.10.5"
  },
  "toc": {
   "base_numbering": 1,
   "nav_menu": {},
   "number_sections": false,
   "sideBar": true,
   "skip_h1_title": false,
   "title_cell": "Table of Contents",
   "title_sidebar": "Contents",
   "toc_cell": false,
   "toc_position": {},
   "toc_section_display": true,
   "toc_window_display": false
  },
  "varInspector": {
   "cols": {
    "lenName": 16,
    "lenType": 16,
    "lenVar": 40
   },
   "kernels_config": {
    "python": {
     "delete_cmd_postfix": "",
     "delete_cmd_prefix": "del ",
     "library": "var_list.py",
     "varRefreshCmd": "print(var_dic_list())"
    },
    "r": {
     "delete_cmd_postfix": ") ",
     "delete_cmd_prefix": "rm(",
     "library": "var_list.r",
     "varRefreshCmd": "cat(var_dic_list()) "
    }
   },
   "types_to_exclude": [
    "module",
    "function",
    "builtin_function_or_method",
    "instance",
    "_Feature"
   ],
   "window_display": false
  }
 },
 "nbformat": 4,
 "nbformat_minor": 5
}
