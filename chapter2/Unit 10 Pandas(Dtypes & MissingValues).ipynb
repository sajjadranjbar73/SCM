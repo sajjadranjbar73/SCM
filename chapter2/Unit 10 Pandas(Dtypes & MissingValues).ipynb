{
 "cells": [
  {
   "cell_type": "markdown",
   "metadata": {
    "heading_collapsed": true,
    "slideshow": {
     "slide_type": "slide"
    }
   },
   "source": [
    "## 1. Data Types"
   ]
  },
  {
   "cell_type": "code",
   "execution_count": 1,
   "metadata": {
    "hidden": true,
    "slideshow": {
     "slide_type": "slide"
    }
   },
   "outputs": [
    {
     "data": {
      "text/html": [
       "<div>\n",
       "<style scoped>\n",
       "    .dataframe tbody tr th:only-of-type {\n",
       "        vertical-align: middle;\n",
       "    }\n",
       "\n",
       "    .dataframe tbody tr th {\n",
       "        vertical-align: top;\n",
       "    }\n",
       "\n",
       "    .dataframe thead th {\n",
       "        text-align: right;\n",
       "    }\n",
       "</style>\n",
       "<table border=\"1\" class=\"dataframe\">\n",
       "  <thead>\n",
       "    <tr style=\"text-align: right;\">\n",
       "      <th></th>\n",
       "      <th>Invoice</th>\n",
       "      <th>StockCode</th>\n",
       "      <th>Description</th>\n",
       "      <th>Quantity</th>\n",
       "      <th>InvoiceDate</th>\n",
       "      <th>Price</th>\n",
       "      <th>Customer ID</th>\n",
       "      <th>Country</th>\n",
       "    </tr>\n",
       "  </thead>\n",
       "  <tbody>\n",
       "    <tr>\n",
       "      <th>0</th>\n",
       "      <td>489434</td>\n",
       "      <td>85048</td>\n",
       "      <td>15CM CHRISTMAS GLASS BALL 20 LIGHTS</td>\n",
       "      <td>NaN</td>\n",
       "      <td>12/1/2009 7:45</td>\n",
       "      <td>6.95</td>\n",
       "      <td>13085.0</td>\n",
       "      <td>United Kingdom</td>\n",
       "    </tr>\n",
       "    <tr>\n",
       "      <th>1</th>\n",
       "      <td>489434</td>\n",
       "      <td>79323P</td>\n",
       "      <td>PINK CHERRY LIGHTS</td>\n",
       "      <td>12.0</td>\n",
       "      <td>12/1/2009 7:45</td>\n",
       "      <td>6.75</td>\n",
       "      <td>13085.0</td>\n",
       "      <td>United Kingdom</td>\n",
       "    </tr>\n",
       "    <tr>\n",
       "      <th>2</th>\n",
       "      <td>489434</td>\n",
       "      <td>79323W</td>\n",
       "      <td>WHITE CHERRY LIGHTS</td>\n",
       "      <td>NaN</td>\n",
       "      <td>12/1/2009 7:45</td>\n",
       "      <td>6.75</td>\n",
       "      <td>13085.0</td>\n",
       "      <td>United Kingdom</td>\n",
       "    </tr>\n",
       "    <tr>\n",
       "      <th>3</th>\n",
       "      <td>489434</td>\n",
       "      <td>22041</td>\n",
       "      <td>RECORD FRAME 7\" SINGLE SIZE</td>\n",
       "      <td>48.0</td>\n",
       "      <td>12/1/2009 7:45</td>\n",
       "      <td>NaN</td>\n",
       "      <td>13085.0</td>\n",
       "      <td>United Kingdom</td>\n",
       "    </tr>\n",
       "    <tr>\n",
       "      <th>4</th>\n",
       "      <td>489434</td>\n",
       "      <td>21232</td>\n",
       "      <td>STRAWBERRY CERAMIC TRINKET BOX</td>\n",
       "      <td>24.0</td>\n",
       "      <td>12/1/2009 7:45</td>\n",
       "      <td>1.25</td>\n",
       "      <td>13085.0</td>\n",
       "      <td>United Kingdom</td>\n",
       "    </tr>\n",
       "  </tbody>\n",
       "</table>\n",
       "</div>"
      ],
      "text/plain": [
       "   Invoice StockCode                          Description  Quantity  \\\n",
       "0   489434     85048  15CM CHRISTMAS GLASS BALL 20 LIGHTS       NaN   \n",
       "1   489434    79323P                   PINK CHERRY LIGHTS      12.0   \n",
       "2   489434    79323W                  WHITE CHERRY LIGHTS       NaN   \n",
       "3   489434     22041         RECORD FRAME 7\" SINGLE SIZE       48.0   \n",
       "4   489434     21232       STRAWBERRY CERAMIC TRINKET BOX      24.0   \n",
       "\n",
       "      InvoiceDate  Price  Customer ID         Country  \n",
       "0  12/1/2009 7:45   6.95      13085.0  United Kingdom  \n",
       "1  12/1/2009 7:45   6.75      13085.0  United Kingdom  \n",
       "2  12/1/2009 7:45   6.75      13085.0  United Kingdom  \n",
       "3  12/1/2009 7:45    NaN      13085.0  United Kingdom  \n",
       "4  12/1/2009 7:45   1.25      13085.0  United Kingdom  "
      ]
     },
     "execution_count": 1,
     "metadata": {},
     "output_type": "execute_result"
    }
   ],
   "source": [
    "import pandas as pd\n",
    "retail = pd.read_csv('retailsmall.csv')\n",
    "retail.head()"
   ]
  },
  {
   "cell_type": "code",
   "execution_count": 2,
   "metadata": {
    "hidden": true,
    "slideshow": {
     "slide_type": "slide"
    }
   },
   "outputs": [
    {
     "data": {
      "text/html": [
       "<div>\n",
       "<style scoped>\n",
       "    .dataframe tbody tr th:only-of-type {\n",
       "        vertical-align: middle;\n",
       "    }\n",
       "\n",
       "    .dataframe tbody tr th {\n",
       "        vertical-align: top;\n",
       "    }\n",
       "\n",
       "    .dataframe thead th {\n",
       "        text-align: right;\n",
       "    }\n",
       "</style>\n",
       "<table border=\"1\" class=\"dataframe\">\n",
       "  <thead>\n",
       "    <tr style=\"text-align: right;\">\n",
       "      <th></th>\n",
       "      <th>Invoice</th>\n",
       "      <th>StockCode</th>\n",
       "      <th>Description</th>\n",
       "      <th>Quantity</th>\n",
       "      <th>InvoiceDate</th>\n",
       "      <th>Price</th>\n",
       "      <th>Customer ID</th>\n",
       "      <th>Country</th>\n",
       "    </tr>\n",
       "  </thead>\n",
       "  <tbody>\n",
       "    <tr>\n",
       "      <th>2075</th>\n",
       "      <td>554325</td>\n",
       "      <td>22908</td>\n",
       "      <td>PACK OF 20 NAPKINS RED APPLES</td>\n",
       "      <td>12.0</td>\n",
       "      <td>5/23/2011 15:38</td>\n",
       "      <td>0.85</td>\n",
       "      <td>12621.0</td>\n",
       "      <td>Germany</td>\n",
       "    </tr>\n",
       "    <tr>\n",
       "      <th>2076</th>\n",
       "      <td>554325</td>\n",
       "      <td>22326</td>\n",
       "      <td>ROUND SNACK BOXES SET OF4 WOODLAND</td>\n",
       "      <td>12.0</td>\n",
       "      <td>5/23/2011 15:38</td>\n",
       "      <td>2.95</td>\n",
       "      <td>12621.0</td>\n",
       "      <td>Germany</td>\n",
       "    </tr>\n",
       "    <tr>\n",
       "      <th>2077</th>\n",
       "      <td>554325</td>\n",
       "      <td>22328</td>\n",
       "      <td>ROUND SNACK BOXES SET OF 4 FRUITS</td>\n",
       "      <td>12.0</td>\n",
       "      <td>5/23/2011 15:38</td>\n",
       "      <td>2.95</td>\n",
       "      <td>12621.0</td>\n",
       "      <td>Germany</td>\n",
       "    </tr>\n",
       "    <tr>\n",
       "      <th>2078</th>\n",
       "      <td>554325</td>\n",
       "      <td>21559</td>\n",
       "      <td>STRAWBERRY LUNCH BOX WITH CUTLERY</td>\n",
       "      <td>12.0</td>\n",
       "      <td>5/23/2011 15:38</td>\n",
       "      <td>2.55</td>\n",
       "      <td>12621.0</td>\n",
       "      <td>Germany</td>\n",
       "    </tr>\n",
       "    <tr>\n",
       "      <th>2079</th>\n",
       "      <td>554325</td>\n",
       "      <td>79191C</td>\n",
       "      <td>RETRO PLASTIC ELEPHANT TRAY</td>\n",
       "      <td>12.0</td>\n",
       "      <td>5/23/2011 15:38</td>\n",
       "      <td>NaN</td>\n",
       "      <td>12621.0</td>\n",
       "      <td>Germany</td>\n",
       "    </tr>\n",
       "  </tbody>\n",
       "</table>\n",
       "</div>"
      ],
      "text/plain": [
       "      Invoice StockCode                          Description  Quantity  \\\n",
       "2075   554325     22908        PACK OF 20 NAPKINS RED APPLES      12.0   \n",
       "2076   554325     22326  ROUND SNACK BOXES SET OF4 WOODLAND       12.0   \n",
       "2077   554325     22328   ROUND SNACK BOXES SET OF 4 FRUITS       12.0   \n",
       "2078   554325     21559    STRAWBERRY LUNCH BOX WITH CUTLERY      12.0   \n",
       "2079   554325    79191C          RETRO PLASTIC ELEPHANT TRAY      12.0   \n",
       "\n",
       "          InvoiceDate  Price  Customer ID  Country  \n",
       "2075  5/23/2011 15:38   0.85      12621.0  Germany  \n",
       "2076  5/23/2011 15:38   2.95      12621.0  Germany  \n",
       "2077  5/23/2011 15:38   2.95      12621.0  Germany  \n",
       "2078  5/23/2011 15:38   2.55      12621.0  Germany  \n",
       "2079  5/23/2011 15:38    NaN      12621.0  Germany  "
      ]
     },
     "execution_count": 2,
     "metadata": {},
     "output_type": "execute_result"
    }
   ],
   "source": [
    "retail.tail()"
   ]
  },
  {
   "cell_type": "code",
   "execution_count": 3,
   "metadata": {
    "hidden": true,
    "slideshow": {
     "slide_type": "slide"
    }
   },
   "outputs": [
    {
     "data": {
      "text/plain": [
       "(2080, 8)"
      ]
     },
     "execution_count": 3,
     "metadata": {},
     "output_type": "execute_result"
    }
   ],
   "source": [
    "retail.shape"
   ]
  },
  {
   "cell_type": "code",
   "execution_count": 4,
   "metadata": {
    "hidden": true,
    "slideshow": {
     "slide_type": "slide"
    }
   },
   "outputs": [
    {
     "name": "stdout",
     "output_type": "stream",
     "text": [
      "<class 'pandas.core.frame.DataFrame'>\n",
      "RangeIndex: 2080 entries, 0 to 2079\n",
      "Data columns (total 8 columns):\n",
      " #   Column       Non-Null Count  Dtype  \n",
      "---  ------       --------------  -----  \n",
      " 0   Invoice      2080 non-null   int64  \n",
      " 1   StockCode    2080 non-null   object \n",
      " 2   Description  2073 non-null   object \n",
      " 3   Quantity     2062 non-null   float64\n",
      " 4   InvoiceDate  2080 non-null   object \n",
      " 5   Price        2065 non-null   float64\n",
      " 6   Customer ID  2078 non-null   float64\n",
      " 7   Country      2072 non-null   object \n",
      "dtypes: float64(3), int64(1), object(4)\n",
      "memory usage: 130.1+ KB\n"
     ]
    }
   ],
   "source": [
    "retail.info()"
   ]
  },
  {
   "cell_type": "code",
   "execution_count": 7,
   "metadata": {
    "hidden": true,
    "slideshow": {
     "slide_type": "slide"
    }
   },
   "outputs": [
    {
     "data": {
      "text/plain": [
       "Invoice          int64\n",
       "StockCode       object\n",
       "Description     object\n",
       "Quantity       float64\n",
       "InvoiceDate     object\n",
       "Price          float64\n",
       "Customer ID    float64\n",
       "Country         object\n",
       "dtype: object"
      ]
     },
     "execution_count": 7,
     "metadata": {},
     "output_type": "execute_result"
    }
   ],
   "source": [
    "# Acees directly to DType --->  retail.dtypes\n",
    "retail.dtypes\n",
    "# retail.Invoice.dtypes"
   ]
  },
  {
   "cell_type": "code",
   "execution_count": 8,
   "metadata": {
    "hidden": true,
    "slideshow": {
     "slide_type": "slide"
    }
   },
   "outputs": [],
   "source": [
    "retail['Customer ID'] = retail['Customer ID'].astype('str')\n",
    "retail['Country'] = retail['Country'].astype('category')"
   ]
  },
  {
   "cell_type": "code",
   "execution_count": 9,
   "metadata": {
    "hidden": true,
    "slideshow": {
     "slide_type": "slide"
    }
   },
   "outputs": [
    {
     "name": "stdout",
     "output_type": "stream",
     "text": [
      "<class 'pandas.core.frame.DataFrame'>\n",
      "RangeIndex: 2080 entries, 0 to 2079\n",
      "Data columns (total 8 columns):\n",
      " #   Column       Non-Null Count  Dtype   \n",
      "---  ------       --------------  -----   \n",
      " 0   Invoice      2080 non-null   int64   \n",
      " 1   StockCode    2080 non-null   object  \n",
      " 2   Description  2073 non-null   object  \n",
      " 3   Quantity     2062 non-null   float64 \n",
      " 4   InvoiceDate  2080 non-null   object  \n",
      " 5   Price        2065 non-null   float64 \n",
      " 6   Customer ID  2080 non-null   object  \n",
      " 7   Country      2072 non-null   category\n",
      "dtypes: category(1), float64(2), int64(1), object(4)\n",
      "memory usage: 116.1+ KB\n"
     ]
    }
   ],
   "source": [
    "retail.info()"
   ]
  },
  {
   "cell_type": "code",
   "execution_count": 10,
   "metadata": {
    "hidden": true,
    "slideshow": {
     "slide_type": "slide"
    }
   },
   "outputs": [
    {
     "data": {
      "text/plain": [
       "Index(['Australia', 'France', 'Germany', 'Netherlands', 'USA',\n",
       "       'United Kingdom'],\n",
       "      dtype='object')"
      ]
     },
     "execution_count": 10,
     "metadata": {},
     "output_type": "execute_result"
    }
   ],
   "source": [
    "retail.Country.cat.categories"
   ]
  },
  {
   "cell_type": "code",
   "execution_count": 11,
   "metadata": {
    "hidden": true,
    "scrolled": true,
    "slideshow": {
     "slide_type": "slide"
    }
   },
   "outputs": [
    {
     "data": {
      "text/plain": [
       "0       5\n",
       "1       5\n",
       "2       5\n",
       "3       5\n",
       "4       5\n",
       "       ..\n",
       "2075    2\n",
       "2076    2\n",
       "2077    2\n",
       "2078    2\n",
       "2079    2\n",
       "Length: 2080, dtype: int8"
      ]
     },
     "execution_count": 11,
     "metadata": {},
     "output_type": "execute_result"
    }
   ],
   "source": [
    "retail.Country.cat.codes"
   ]
  },
  {
   "cell_type": "code",
   "execution_count": 12,
   "metadata": {
    "hidden": true,
    "slideshow": {
     "slide_type": "slide"
    }
   },
   "outputs": [
    {
     "data": {
      "text/plain": [
       "2072    2\n",
       "2073    2\n",
       "2074   -1\n",
       "2075    2\n",
       "2076    2\n",
       "2077    2\n",
       "2078    2\n",
       "2079    2\n",
       "dtype: int8"
      ]
     },
     "execution_count": 12,
     "metadata": {},
     "output_type": "execute_result"
    }
   ],
   "source": [
    "retail.Country.cat.codes.tail(8)"
   ]
  },
  {
   "cell_type": "code",
   "execution_count": 13,
   "metadata": {
    "hidden": true,
    "slideshow": {
     "slide_type": "slide"
    }
   },
   "outputs": [
    {
     "data": {
      "text/html": [
       "<div>\n",
       "<style scoped>\n",
       "    .dataframe tbody tr th:only-of-type {\n",
       "        vertical-align: middle;\n",
       "    }\n",
       "\n",
       "    .dataframe tbody tr th {\n",
       "        vertical-align: top;\n",
       "    }\n",
       "\n",
       "    .dataframe thead th {\n",
       "        text-align: right;\n",
       "    }\n",
       "</style>\n",
       "<table border=\"1\" class=\"dataframe\">\n",
       "  <thead>\n",
       "    <tr style=\"text-align: right;\">\n",
       "      <th></th>\n",
       "      <th>Invoice</th>\n",
       "      <th>StockCode</th>\n",
       "      <th>Description</th>\n",
       "      <th>Quantity</th>\n",
       "      <th>InvoiceDate</th>\n",
       "      <th>Price</th>\n",
       "      <th>Customer ID</th>\n",
       "      <th>Country</th>\n",
       "    </tr>\n",
       "  </thead>\n",
       "  <tbody>\n",
       "    <tr>\n",
       "      <th>2072</th>\n",
       "      <td>554325</td>\n",
       "      <td>23208</td>\n",
       "      <td>LUNCH BAG VINTAGE LEAF DESIGN</td>\n",
       "      <td>20.0</td>\n",
       "      <td>5/23/2011 15:38</td>\n",
       "      <td>1.65</td>\n",
       "      <td>12621.0</td>\n",
       "      <td>Germany</td>\n",
       "    </tr>\n",
       "    <tr>\n",
       "      <th>2073</th>\n",
       "      <td>554325</td>\n",
       "      <td>23209</td>\n",
       "      <td>LUNCH BAG DOILEY PATTERN</td>\n",
       "      <td>20.0</td>\n",
       "      <td>5/23/2011 15:38</td>\n",
       "      <td>1.65</td>\n",
       "      <td>12621.0</td>\n",
       "      <td>Germany</td>\n",
       "    </tr>\n",
       "    <tr>\n",
       "      <th>2074</th>\n",
       "      <td>554325</td>\n",
       "      <td>21078</td>\n",
       "      <td>SET/20 STRAWBERRY PAPER NAPKINS</td>\n",
       "      <td>12.0</td>\n",
       "      <td>5/23/2011 15:38</td>\n",
       "      <td>0.85</td>\n",
       "      <td>12621.0</td>\n",
       "      <td>NaN</td>\n",
       "    </tr>\n",
       "    <tr>\n",
       "      <th>2075</th>\n",
       "      <td>554325</td>\n",
       "      <td>22908</td>\n",
       "      <td>PACK OF 20 NAPKINS RED APPLES</td>\n",
       "      <td>12.0</td>\n",
       "      <td>5/23/2011 15:38</td>\n",
       "      <td>0.85</td>\n",
       "      <td>12621.0</td>\n",
       "      <td>Germany</td>\n",
       "    </tr>\n",
       "    <tr>\n",
       "      <th>2076</th>\n",
       "      <td>554325</td>\n",
       "      <td>22326</td>\n",
       "      <td>ROUND SNACK BOXES SET OF4 WOODLAND</td>\n",
       "      <td>12.0</td>\n",
       "      <td>5/23/2011 15:38</td>\n",
       "      <td>2.95</td>\n",
       "      <td>12621.0</td>\n",
       "      <td>Germany</td>\n",
       "    </tr>\n",
       "    <tr>\n",
       "      <th>2077</th>\n",
       "      <td>554325</td>\n",
       "      <td>22328</td>\n",
       "      <td>ROUND SNACK BOXES SET OF 4 FRUITS</td>\n",
       "      <td>12.0</td>\n",
       "      <td>5/23/2011 15:38</td>\n",
       "      <td>2.95</td>\n",
       "      <td>12621.0</td>\n",
       "      <td>Germany</td>\n",
       "    </tr>\n",
       "    <tr>\n",
       "      <th>2078</th>\n",
       "      <td>554325</td>\n",
       "      <td>21559</td>\n",
       "      <td>STRAWBERRY LUNCH BOX WITH CUTLERY</td>\n",
       "      <td>12.0</td>\n",
       "      <td>5/23/2011 15:38</td>\n",
       "      <td>2.55</td>\n",
       "      <td>12621.0</td>\n",
       "      <td>Germany</td>\n",
       "    </tr>\n",
       "    <tr>\n",
       "      <th>2079</th>\n",
       "      <td>554325</td>\n",
       "      <td>79191C</td>\n",
       "      <td>RETRO PLASTIC ELEPHANT TRAY</td>\n",
       "      <td>12.0</td>\n",
       "      <td>5/23/2011 15:38</td>\n",
       "      <td>NaN</td>\n",
       "      <td>12621.0</td>\n",
       "      <td>Germany</td>\n",
       "    </tr>\n",
       "  </tbody>\n",
       "</table>\n",
       "</div>"
      ],
      "text/plain": [
       "      Invoice StockCode                          Description  Quantity  \\\n",
       "2072   554325     23208        LUNCH BAG VINTAGE LEAF DESIGN      20.0   \n",
       "2073   554325     23209            LUNCH BAG DOILEY PATTERN       20.0   \n",
       "2074   554325     21078     SET/20 STRAWBERRY PAPER NAPKINS       12.0   \n",
       "2075   554325     22908        PACK OF 20 NAPKINS RED APPLES      12.0   \n",
       "2076   554325     22326  ROUND SNACK BOXES SET OF4 WOODLAND       12.0   \n",
       "2077   554325     22328   ROUND SNACK BOXES SET OF 4 FRUITS       12.0   \n",
       "2078   554325     21559    STRAWBERRY LUNCH BOX WITH CUTLERY      12.0   \n",
       "2079   554325    79191C          RETRO PLASTIC ELEPHANT TRAY      12.0   \n",
       "\n",
       "          InvoiceDate  Price Customer ID  Country  \n",
       "2072  5/23/2011 15:38   1.65     12621.0  Germany  \n",
       "2073  5/23/2011 15:38   1.65     12621.0  Germany  \n",
       "2074  5/23/2011 15:38   0.85     12621.0      NaN  \n",
       "2075  5/23/2011 15:38   0.85     12621.0  Germany  \n",
       "2076  5/23/2011 15:38   2.95     12621.0  Germany  \n",
       "2077  5/23/2011 15:38   2.95     12621.0  Germany  \n",
       "2078  5/23/2011 15:38   2.55     12621.0  Germany  \n",
       "2079  5/23/2011 15:38    NaN     12621.0  Germany  "
      ]
     },
     "execution_count": 13,
     "metadata": {},
     "output_type": "execute_result"
    }
   ],
   "source": [
    "retail.tail(8)"
   ]
  },
  {
   "cell_type": "markdown",
   "metadata": {
    "slideshow": {
     "slide_type": "slide"
    }
   },
   "source": [
    "## 2. Rename columns"
   ]
  },
  {
   "cell_type": "code",
   "execution_count": 14,
   "metadata": {
    "slideshow": {
     "slide_type": "slide"
    }
   },
   "outputs": [
    {
     "data": {
      "text/plain": [
       "Index(['Invoice', 'StockCode', 'Description', 'Quantity', 'InvoiceDate',\n",
       "       'Price', 'Customer ID', 'Country'],\n",
       "      dtype='object')"
      ]
     },
     "execution_count": 14,
     "metadata": {},
     "output_type": "execute_result"
    }
   ],
   "source": [
    "retail.columns"
   ]
  },
  {
   "cell_type": "code",
   "execution_count": 15,
   "metadata": {
    "slideshow": {
     "slide_type": "slide"
    }
   },
   "outputs": [
    {
     "data": {
      "text/html": [
       "<div>\n",
       "<style scoped>\n",
       "    .dataframe tbody tr th:only-of-type {\n",
       "        vertical-align: middle;\n",
       "    }\n",
       "\n",
       "    .dataframe tbody tr th {\n",
       "        vertical-align: top;\n",
       "    }\n",
       "\n",
       "    .dataframe thead th {\n",
       "        text-align: right;\n",
       "    }\n",
       "</style>\n",
       "<table border=\"1\" class=\"dataframe\">\n",
       "  <thead>\n",
       "    <tr style=\"text-align: right;\">\n",
       "      <th></th>\n",
       "      <th>Invoice</th>\n",
       "      <th>StockCode</th>\n",
       "      <th>Description</th>\n",
       "      <th>Quantity</th>\n",
       "      <th>Invoice_Date</th>\n",
       "      <th>Price</th>\n",
       "      <th>Customer_ID</th>\n",
       "      <th>Country</th>\n",
       "    </tr>\n",
       "  </thead>\n",
       "  <tbody>\n",
       "    <tr>\n",
       "      <th>0</th>\n",
       "      <td>489434</td>\n",
       "      <td>85048</td>\n",
       "      <td>15CM CHRISTMAS GLASS BALL 20 LIGHTS</td>\n",
       "      <td>NaN</td>\n",
       "      <td>12/1/2009 7:45</td>\n",
       "      <td>6.95</td>\n",
       "      <td>13085.0</td>\n",
       "      <td>United Kingdom</td>\n",
       "    </tr>\n",
       "    <tr>\n",
       "      <th>1</th>\n",
       "      <td>489434</td>\n",
       "      <td>79323P</td>\n",
       "      <td>PINK CHERRY LIGHTS</td>\n",
       "      <td>12.0</td>\n",
       "      <td>12/1/2009 7:45</td>\n",
       "      <td>6.75</td>\n",
       "      <td>13085.0</td>\n",
       "      <td>United Kingdom</td>\n",
       "    </tr>\n",
       "    <tr>\n",
       "      <th>2</th>\n",
       "      <td>489434</td>\n",
       "      <td>79323W</td>\n",
       "      <td>WHITE CHERRY LIGHTS</td>\n",
       "      <td>NaN</td>\n",
       "      <td>12/1/2009 7:45</td>\n",
       "      <td>6.75</td>\n",
       "      <td>13085.0</td>\n",
       "      <td>United Kingdom</td>\n",
       "    </tr>\n",
       "    <tr>\n",
       "      <th>3</th>\n",
       "      <td>489434</td>\n",
       "      <td>22041</td>\n",
       "      <td>RECORD FRAME 7\" SINGLE SIZE</td>\n",
       "      <td>48.0</td>\n",
       "      <td>12/1/2009 7:45</td>\n",
       "      <td>NaN</td>\n",
       "      <td>13085.0</td>\n",
       "      <td>United Kingdom</td>\n",
       "    </tr>\n",
       "    <tr>\n",
       "      <th>4</th>\n",
       "      <td>489434</td>\n",
       "      <td>21232</td>\n",
       "      <td>STRAWBERRY CERAMIC TRINKET BOX</td>\n",
       "      <td>24.0</td>\n",
       "      <td>12/1/2009 7:45</td>\n",
       "      <td>1.25</td>\n",
       "      <td>13085.0</td>\n",
       "      <td>United Kingdom</td>\n",
       "    </tr>\n",
       "  </tbody>\n",
       "</table>\n",
       "</div>"
      ],
      "text/plain": [
       "   Invoice StockCode                          Description  Quantity  \\\n",
       "0   489434     85048  15CM CHRISTMAS GLASS BALL 20 LIGHTS       NaN   \n",
       "1   489434    79323P                   PINK CHERRY LIGHTS      12.0   \n",
       "2   489434    79323W                  WHITE CHERRY LIGHTS       NaN   \n",
       "3   489434     22041         RECORD FRAME 7\" SINGLE SIZE       48.0   \n",
       "4   489434     21232       STRAWBERRY CERAMIC TRINKET BOX      24.0   \n",
       "\n",
       "     Invoice_Date  Price Customer_ID         Country  \n",
       "0  12/1/2009 7:45   6.95     13085.0  United Kingdom  \n",
       "1  12/1/2009 7:45   6.75     13085.0  United Kingdom  \n",
       "2  12/1/2009 7:45   6.75     13085.0  United Kingdom  \n",
       "3  12/1/2009 7:45    NaN     13085.0  United Kingdom  \n",
       "4  12/1/2009 7:45   1.25     13085.0  United Kingdom  "
      ]
     },
     "execution_count": 15,
     "metadata": {},
     "output_type": "execute_result"
    }
   ],
   "source": [
    "# Renaming all columns\n",
    "retail.columns = ['Invoice', 'StockCode', 'Description', 'Quantity', 'Invoice_Date',\n",
    "                  'Price', 'Customer_ID','Country']\n",
    "retail.head()"
   ]
  },
  {
   "cell_type": "code",
   "execution_count": 16,
   "metadata": {
    "slideshow": {
     "slide_type": "slide"
    }
   },
   "outputs": [
    {
     "data": {
      "text/html": [
       "<div>\n",
       "<style scoped>\n",
       "    .dataframe tbody tr th:only-of-type {\n",
       "        vertical-align: middle;\n",
       "    }\n",
       "\n",
       "    .dataframe tbody tr th {\n",
       "        vertical-align: top;\n",
       "    }\n",
       "\n",
       "    .dataframe thead th {\n",
       "        text-align: right;\n",
       "    }\n",
       "</style>\n",
       "<table border=\"1\" class=\"dataframe\">\n",
       "  <thead>\n",
       "    <tr style=\"text-align: right;\">\n",
       "      <th></th>\n",
       "      <th>Invoice</th>\n",
       "      <th>Stock_Code</th>\n",
       "      <th>Description</th>\n",
       "      <th>Quantity</th>\n",
       "      <th>Invoice_Date</th>\n",
       "      <th>Price</th>\n",
       "      <th>Customer_ID</th>\n",
       "      <th>Country</th>\n",
       "    </tr>\n",
       "  </thead>\n",
       "  <tbody>\n",
       "    <tr>\n",
       "      <th>0</th>\n",
       "      <td>489434</td>\n",
       "      <td>85048</td>\n",
       "      <td>15CM CHRISTMAS GLASS BALL 20 LIGHTS</td>\n",
       "      <td>NaN</td>\n",
       "      <td>12/1/2009 7:45</td>\n",
       "      <td>6.95</td>\n",
       "      <td>13085.0</td>\n",
       "      <td>United Kingdom</td>\n",
       "    </tr>\n",
       "    <tr>\n",
       "      <th>1</th>\n",
       "      <td>489434</td>\n",
       "      <td>79323P</td>\n",
       "      <td>PINK CHERRY LIGHTS</td>\n",
       "      <td>12.0</td>\n",
       "      <td>12/1/2009 7:45</td>\n",
       "      <td>6.75</td>\n",
       "      <td>13085.0</td>\n",
       "      <td>United Kingdom</td>\n",
       "    </tr>\n",
       "    <tr>\n",
       "      <th>2</th>\n",
       "      <td>489434</td>\n",
       "      <td>79323W</td>\n",
       "      <td>WHITE CHERRY LIGHTS</td>\n",
       "      <td>NaN</td>\n",
       "      <td>12/1/2009 7:45</td>\n",
       "      <td>6.75</td>\n",
       "      <td>13085.0</td>\n",
       "      <td>United Kingdom</td>\n",
       "    </tr>\n",
       "    <tr>\n",
       "      <th>3</th>\n",
       "      <td>489434</td>\n",
       "      <td>22041</td>\n",
       "      <td>RECORD FRAME 7\" SINGLE SIZE</td>\n",
       "      <td>48.0</td>\n",
       "      <td>12/1/2009 7:45</td>\n",
       "      <td>NaN</td>\n",
       "      <td>13085.0</td>\n",
       "      <td>United Kingdom</td>\n",
       "    </tr>\n",
       "    <tr>\n",
       "      <th>4</th>\n",
       "      <td>489434</td>\n",
       "      <td>21232</td>\n",
       "      <td>STRAWBERRY CERAMIC TRINKET BOX</td>\n",
       "      <td>24.0</td>\n",
       "      <td>12/1/2009 7:45</td>\n",
       "      <td>1.25</td>\n",
       "      <td>13085.0</td>\n",
       "      <td>United Kingdom</td>\n",
       "    </tr>\n",
       "  </tbody>\n",
       "</table>\n",
       "</div>"
      ],
      "text/plain": [
       "   Invoice Stock_Code                          Description  Quantity  \\\n",
       "0   489434      85048  15CM CHRISTMAS GLASS BALL 20 LIGHTS       NaN   \n",
       "1   489434     79323P                   PINK CHERRY LIGHTS      12.0   \n",
       "2   489434     79323W                  WHITE CHERRY LIGHTS       NaN   \n",
       "3   489434      22041         RECORD FRAME 7\" SINGLE SIZE       48.0   \n",
       "4   489434      21232       STRAWBERRY CERAMIC TRINKET BOX      24.0   \n",
       "\n",
       "     Invoice_Date  Price Customer_ID         Country  \n",
       "0  12/1/2009 7:45   6.95     13085.0  United Kingdom  \n",
       "1  12/1/2009 7:45   6.75     13085.0  United Kingdom  \n",
       "2  12/1/2009 7:45   6.75     13085.0  United Kingdom  \n",
       "3  12/1/2009 7:45    NaN     13085.0  United Kingdom  \n",
       "4  12/1/2009 7:45   1.25     13085.0  United Kingdom  "
      ]
     },
     "execution_count": 16,
     "metadata": {},
     "output_type": "execute_result"
    }
   ],
   "source": [
    "# Renaming one specific Column\n",
    "retail = retail.rename(columns={'StockCode':'Stock_Code'})\n",
    "retail.head()\n",
    "\n",
    "# Another way: \n",
    "# retail.rename(columns={'StockCode':'Stock_Code'}, inplace=True)"
   ]
  },
  {
   "cell_type": "code",
   "execution_count": 17,
   "metadata": {
    "slideshow": {
     "slide_type": "slide"
    }
   },
   "outputs": [
    {
     "data": {
      "text/html": [
       "<div>\n",
       "<style scoped>\n",
       "    .dataframe tbody tr th:only-of-type {\n",
       "        vertical-align: middle;\n",
       "    }\n",
       "\n",
       "    .dataframe tbody tr th {\n",
       "        vertical-align: top;\n",
       "    }\n",
       "\n",
       "    .dataframe thead th {\n",
       "        text-align: right;\n",
       "    }\n",
       "</style>\n",
       "<table border=\"1\" class=\"dataframe\">\n",
       "  <thead>\n",
       "    <tr style=\"text-align: right;\">\n",
       "      <th></th>\n",
       "      <th>Invoice</th>\n",
       "      <th>Stock_Code</th>\n",
       "      <th>Description</th>\n",
       "      <th>Quantity</th>\n",
       "      <th>Invoice_Date</th>\n",
       "      <th>Price</th>\n",
       "      <th>Customer_ID</th>\n",
       "      <th>Country</th>\n",
       "    </tr>\n",
       "  </thead>\n",
       "  <tbody>\n",
       "    <tr>\n",
       "      <th>0</th>\n",
       "      <td>489434</td>\n",
       "      <td>85048</td>\n",
       "      <td>15Cm Christmas Glass Ball 20 Lights</td>\n",
       "      <td>NaN</td>\n",
       "      <td>12/1/2009 7:45</td>\n",
       "      <td>6.95</td>\n",
       "      <td>13085.0</td>\n",
       "      <td>United Kingdom</td>\n",
       "    </tr>\n",
       "    <tr>\n",
       "      <th>1</th>\n",
       "      <td>489434</td>\n",
       "      <td>79323P</td>\n",
       "      <td>Pink Cherry Lights</td>\n",
       "      <td>12.0</td>\n",
       "      <td>12/1/2009 7:45</td>\n",
       "      <td>6.75</td>\n",
       "      <td>13085.0</td>\n",
       "      <td>United Kingdom</td>\n",
       "    </tr>\n",
       "    <tr>\n",
       "      <th>2</th>\n",
       "      <td>489434</td>\n",
       "      <td>79323W</td>\n",
       "      <td>White Cherry Lights</td>\n",
       "      <td>NaN</td>\n",
       "      <td>12/1/2009 7:45</td>\n",
       "      <td>6.75</td>\n",
       "      <td>13085.0</td>\n",
       "      <td>United Kingdom</td>\n",
       "    </tr>\n",
       "    <tr>\n",
       "      <th>3</th>\n",
       "      <td>489434</td>\n",
       "      <td>22041</td>\n",
       "      <td>Record Frame 7\" Single Size</td>\n",
       "      <td>48.0</td>\n",
       "      <td>12/1/2009 7:45</td>\n",
       "      <td>NaN</td>\n",
       "      <td>13085.0</td>\n",
       "      <td>United Kingdom</td>\n",
       "    </tr>\n",
       "    <tr>\n",
       "      <th>4</th>\n",
       "      <td>489434</td>\n",
       "      <td>21232</td>\n",
       "      <td>Strawberry Ceramic Trinket Box</td>\n",
       "      <td>24.0</td>\n",
       "      <td>12/1/2009 7:45</td>\n",
       "      <td>1.25</td>\n",
       "      <td>13085.0</td>\n",
       "      <td>United Kingdom</td>\n",
       "    </tr>\n",
       "  </tbody>\n",
       "</table>\n",
       "</div>"
      ],
      "text/plain": [
       "   Invoice Stock_Code                          Description  Quantity  \\\n",
       "0   489434      85048  15Cm Christmas Glass Ball 20 Lights       NaN   \n",
       "1   489434     79323P                   Pink Cherry Lights      12.0   \n",
       "2   489434     79323W                  White Cherry Lights       NaN   \n",
       "3   489434      22041         Record Frame 7\" Single Size       48.0   \n",
       "4   489434      21232       Strawberry Ceramic Trinket Box      24.0   \n",
       "\n",
       "     Invoice_Date  Price Customer_ID         Country  \n",
       "0  12/1/2009 7:45   6.95     13085.0  United Kingdom  \n",
       "1  12/1/2009 7:45   6.75     13085.0  United Kingdom  \n",
       "2  12/1/2009 7:45   6.75     13085.0  United Kingdom  \n",
       "3  12/1/2009 7:45    NaN     13085.0  United Kingdom  \n",
       "4  12/1/2009 7:45   1.25     13085.0  United Kingdom  "
      ]
     },
     "execution_count": 17,
     "metadata": {},
     "output_type": "execute_result"
    }
   ],
   "source": [
    "# Some Khoshgelization\n",
    "retail.Description = retail.Description.str.title()\n",
    "retail.head()"
   ]
  },
  {
   "cell_type": "markdown",
   "metadata": {
    "slideshow": {
     "slide_type": "slide"
    }
   },
   "source": [
    "## 2. Missing Values\n",
    "### 2.1. How many values are missed"
   ]
  },
  {
   "cell_type": "code",
   "execution_count": 18,
   "metadata": {
    "slideshow": {
     "slide_type": "slide"
    }
   },
   "outputs": [
    {
     "data": {
      "text/html": [
       "<div>\n",
       "<style scoped>\n",
       "    .dataframe tbody tr th:only-of-type {\n",
       "        vertical-align: middle;\n",
       "    }\n",
       "\n",
       "    .dataframe tbody tr th {\n",
       "        vertical-align: top;\n",
       "    }\n",
       "\n",
       "    .dataframe thead th {\n",
       "        text-align: right;\n",
       "    }\n",
       "</style>\n",
       "<table border=\"1\" class=\"dataframe\">\n",
       "  <thead>\n",
       "    <tr style=\"text-align: right;\">\n",
       "      <th></th>\n",
       "      <th>Invoice</th>\n",
       "      <th>Stock_Code</th>\n",
       "      <th>Description</th>\n",
       "      <th>Quantity</th>\n",
       "      <th>Invoice_Date</th>\n",
       "      <th>Price</th>\n",
       "      <th>Customer_ID</th>\n",
       "      <th>Country</th>\n",
       "    </tr>\n",
       "  </thead>\n",
       "  <tbody>\n",
       "    <tr>\n",
       "      <th>0</th>\n",
       "      <td>False</td>\n",
       "      <td>False</td>\n",
       "      <td>False</td>\n",
       "      <td>True</td>\n",
       "      <td>False</td>\n",
       "      <td>False</td>\n",
       "      <td>False</td>\n",
       "      <td>False</td>\n",
       "    </tr>\n",
       "    <tr>\n",
       "      <th>1</th>\n",
       "      <td>False</td>\n",
       "      <td>False</td>\n",
       "      <td>False</td>\n",
       "      <td>False</td>\n",
       "      <td>False</td>\n",
       "      <td>False</td>\n",
       "      <td>False</td>\n",
       "      <td>False</td>\n",
       "    </tr>\n",
       "    <tr>\n",
       "      <th>2</th>\n",
       "      <td>False</td>\n",
       "      <td>False</td>\n",
       "      <td>False</td>\n",
       "      <td>True</td>\n",
       "      <td>False</td>\n",
       "      <td>False</td>\n",
       "      <td>False</td>\n",
       "      <td>False</td>\n",
       "    </tr>\n",
       "    <tr>\n",
       "      <th>3</th>\n",
       "      <td>False</td>\n",
       "      <td>False</td>\n",
       "      <td>False</td>\n",
       "      <td>False</td>\n",
       "      <td>False</td>\n",
       "      <td>True</td>\n",
       "      <td>False</td>\n",
       "      <td>False</td>\n",
       "    </tr>\n",
       "    <tr>\n",
       "      <th>4</th>\n",
       "      <td>False</td>\n",
       "      <td>False</td>\n",
       "      <td>False</td>\n",
       "      <td>False</td>\n",
       "      <td>False</td>\n",
       "      <td>False</td>\n",
       "      <td>False</td>\n",
       "      <td>False</td>\n",
       "    </tr>\n",
       "    <tr>\n",
       "      <th>...</th>\n",
       "      <td>...</td>\n",
       "      <td>...</td>\n",
       "      <td>...</td>\n",
       "      <td>...</td>\n",
       "      <td>...</td>\n",
       "      <td>...</td>\n",
       "      <td>...</td>\n",
       "      <td>...</td>\n",
       "    </tr>\n",
       "    <tr>\n",
       "      <th>2075</th>\n",
       "      <td>False</td>\n",
       "      <td>False</td>\n",
       "      <td>False</td>\n",
       "      <td>False</td>\n",
       "      <td>False</td>\n",
       "      <td>False</td>\n",
       "      <td>False</td>\n",
       "      <td>False</td>\n",
       "    </tr>\n",
       "    <tr>\n",
       "      <th>2076</th>\n",
       "      <td>False</td>\n",
       "      <td>False</td>\n",
       "      <td>False</td>\n",
       "      <td>False</td>\n",
       "      <td>False</td>\n",
       "      <td>False</td>\n",
       "      <td>False</td>\n",
       "      <td>False</td>\n",
       "    </tr>\n",
       "    <tr>\n",
       "      <th>2077</th>\n",
       "      <td>False</td>\n",
       "      <td>False</td>\n",
       "      <td>False</td>\n",
       "      <td>False</td>\n",
       "      <td>False</td>\n",
       "      <td>False</td>\n",
       "      <td>False</td>\n",
       "      <td>False</td>\n",
       "    </tr>\n",
       "    <tr>\n",
       "      <th>2078</th>\n",
       "      <td>False</td>\n",
       "      <td>False</td>\n",
       "      <td>False</td>\n",
       "      <td>False</td>\n",
       "      <td>False</td>\n",
       "      <td>False</td>\n",
       "      <td>False</td>\n",
       "      <td>False</td>\n",
       "    </tr>\n",
       "    <tr>\n",
       "      <th>2079</th>\n",
       "      <td>False</td>\n",
       "      <td>False</td>\n",
       "      <td>False</td>\n",
       "      <td>False</td>\n",
       "      <td>False</td>\n",
       "      <td>True</td>\n",
       "      <td>False</td>\n",
       "      <td>False</td>\n",
       "    </tr>\n",
       "  </tbody>\n",
       "</table>\n",
       "<p>2080 rows × 8 columns</p>\n",
       "</div>"
      ],
      "text/plain": [
       "      Invoice  Stock_Code  Description  Quantity  Invoice_Date  Price  \\\n",
       "0       False       False        False      True         False  False   \n",
       "1       False       False        False     False         False  False   \n",
       "2       False       False        False      True         False  False   \n",
       "3       False       False        False     False         False   True   \n",
       "4       False       False        False     False         False  False   \n",
       "...       ...         ...          ...       ...           ...    ...   \n",
       "2075    False       False        False     False         False  False   \n",
       "2076    False       False        False     False         False  False   \n",
       "2077    False       False        False     False         False  False   \n",
       "2078    False       False        False     False         False  False   \n",
       "2079    False       False        False     False         False   True   \n",
       "\n",
       "      Customer_ID  Country  \n",
       "0           False    False  \n",
       "1           False    False  \n",
       "2           False    False  \n",
       "3           False    False  \n",
       "4           False    False  \n",
       "...           ...      ...  \n",
       "2075        False    False  \n",
       "2076        False    False  \n",
       "2077        False    False  \n",
       "2078        False    False  \n",
       "2079        False    False  \n",
       "\n",
       "[2080 rows x 8 columns]"
      ]
     },
     "execution_count": 18,
     "metadata": {},
     "output_type": "execute_result"
    }
   ],
   "source": [
    "retail.isnull()"
   ]
  },
  {
   "cell_type": "code",
   "execution_count": 19,
   "metadata": {
    "slideshow": {
     "slide_type": "slide"
    }
   },
   "outputs": [
    {
     "data": {
      "text/plain": [
       "Invoice          0\n",
       "Stock_Code       0\n",
       "Description      7\n",
       "Quantity        18\n",
       "Invoice_Date     0\n",
       "Price           15\n",
       "Customer_ID      0\n",
       "Country          8\n",
       "dtype: int64"
      ]
     },
     "execution_count": 19,
     "metadata": {},
     "output_type": "execute_result"
    }
   ],
   "source": [
    "retail.isnull().sum()"
   ]
  },
  {
   "cell_type": "code",
   "execution_count": 20,
   "metadata": {
    "slideshow": {
     "slide_type": "slide"
    }
   },
   "outputs": [
    {
     "data": {
      "text/plain": [
       "48"
      ]
     },
     "execution_count": 20,
     "metadata": {},
     "output_type": "execute_result"
    }
   ],
   "source": [
    "retail.isna().sum().sum()"
   ]
  },
  {
   "cell_type": "code",
   "execution_count": 21,
   "metadata": {
    "slideshow": {
     "slide_type": "slide"
    }
   },
   "outputs": [
    {
     "name": "stdout",
     "output_type": "stream",
     "text": [
      "0.29% of data set is null\n"
     ]
    }
   ],
   "source": [
    "a = retail.isna().sum().sum()\n",
    "b = retail.shape[0] * retail.shape[1]\n",
    "null_percent = (a/b) \n",
    "print(f'{null_percent:.2%} of data set is null')"
   ]
  },
  {
   "cell_type": "markdown",
   "metadata": {
    "slideshow": {
     "slide_type": "slide"
    }
   },
   "source": [
    "### 2.2. Determine rows of missing values"
   ]
  },
  {
   "cell_type": "code",
   "execution_count": 24,
   "metadata": {
    "slideshow": {
     "slide_type": "slide"
    }
   },
   "outputs": [
    {
     "data": {
      "text/html": [
       "<div>\n",
       "<style scoped>\n",
       "    .dataframe tbody tr th:only-of-type {\n",
       "        vertical-align: middle;\n",
       "    }\n",
       "\n",
       "    .dataframe tbody tr th {\n",
       "        vertical-align: top;\n",
       "    }\n",
       "\n",
       "    .dataframe thead th {\n",
       "        text-align: right;\n",
       "    }\n",
       "</style>\n",
       "<table border=\"1\" class=\"dataframe\">\n",
       "  <thead>\n",
       "    <tr style=\"text-align: right;\">\n",
       "      <th></th>\n",
       "      <th>Invoice</th>\n",
       "      <th>Stock_Code</th>\n",
       "      <th>Description</th>\n",
       "      <th>Quantity</th>\n",
       "      <th>Invoice_Date</th>\n",
       "      <th>Price</th>\n",
       "      <th>Customer_ID</th>\n",
       "      <th>Country</th>\n",
       "    </tr>\n",
       "  </thead>\n",
       "  <tbody>\n",
       "    <tr>\n",
       "      <th>0</th>\n",
       "      <td>False</td>\n",
       "      <td>False</td>\n",
       "      <td>False</td>\n",
       "      <td>True</td>\n",
       "      <td>False</td>\n",
       "      <td>False</td>\n",
       "      <td>False</td>\n",
       "      <td>False</td>\n",
       "    </tr>\n",
       "    <tr>\n",
       "      <th>1</th>\n",
       "      <td>False</td>\n",
       "      <td>False</td>\n",
       "      <td>False</td>\n",
       "      <td>False</td>\n",
       "      <td>False</td>\n",
       "      <td>False</td>\n",
       "      <td>False</td>\n",
       "      <td>False</td>\n",
       "    </tr>\n",
       "    <tr>\n",
       "      <th>2</th>\n",
       "      <td>False</td>\n",
       "      <td>False</td>\n",
       "      <td>False</td>\n",
       "      <td>True</td>\n",
       "      <td>False</td>\n",
       "      <td>False</td>\n",
       "      <td>False</td>\n",
       "      <td>False</td>\n",
       "    </tr>\n",
       "    <tr>\n",
       "      <th>3</th>\n",
       "      <td>False</td>\n",
       "      <td>False</td>\n",
       "      <td>False</td>\n",
       "      <td>False</td>\n",
       "      <td>False</td>\n",
       "      <td>True</td>\n",
       "      <td>False</td>\n",
       "      <td>False</td>\n",
       "    </tr>\n",
       "    <tr>\n",
       "      <th>4</th>\n",
       "      <td>False</td>\n",
       "      <td>False</td>\n",
       "      <td>False</td>\n",
       "      <td>False</td>\n",
       "      <td>False</td>\n",
       "      <td>False</td>\n",
       "      <td>False</td>\n",
       "      <td>False</td>\n",
       "    </tr>\n",
       "    <tr>\n",
       "      <th>...</th>\n",
       "      <td>...</td>\n",
       "      <td>...</td>\n",
       "      <td>...</td>\n",
       "      <td>...</td>\n",
       "      <td>...</td>\n",
       "      <td>...</td>\n",
       "      <td>...</td>\n",
       "      <td>...</td>\n",
       "    </tr>\n",
       "    <tr>\n",
       "      <th>2075</th>\n",
       "      <td>False</td>\n",
       "      <td>False</td>\n",
       "      <td>False</td>\n",
       "      <td>False</td>\n",
       "      <td>False</td>\n",
       "      <td>False</td>\n",
       "      <td>False</td>\n",
       "      <td>False</td>\n",
       "    </tr>\n",
       "    <tr>\n",
       "      <th>2076</th>\n",
       "      <td>False</td>\n",
       "      <td>False</td>\n",
       "      <td>False</td>\n",
       "      <td>False</td>\n",
       "      <td>False</td>\n",
       "      <td>False</td>\n",
       "      <td>False</td>\n",
       "      <td>False</td>\n",
       "    </tr>\n",
       "    <tr>\n",
       "      <th>2077</th>\n",
       "      <td>False</td>\n",
       "      <td>False</td>\n",
       "      <td>False</td>\n",
       "      <td>False</td>\n",
       "      <td>False</td>\n",
       "      <td>False</td>\n",
       "      <td>False</td>\n",
       "      <td>False</td>\n",
       "    </tr>\n",
       "    <tr>\n",
       "      <th>2078</th>\n",
       "      <td>False</td>\n",
       "      <td>False</td>\n",
       "      <td>False</td>\n",
       "      <td>False</td>\n",
       "      <td>False</td>\n",
       "      <td>False</td>\n",
       "      <td>False</td>\n",
       "      <td>False</td>\n",
       "    </tr>\n",
       "    <tr>\n",
       "      <th>2079</th>\n",
       "      <td>False</td>\n",
       "      <td>False</td>\n",
       "      <td>False</td>\n",
       "      <td>False</td>\n",
       "      <td>False</td>\n",
       "      <td>True</td>\n",
       "      <td>False</td>\n",
       "      <td>False</td>\n",
       "    </tr>\n",
       "  </tbody>\n",
       "</table>\n",
       "<p>2080 rows × 8 columns</p>\n",
       "</div>"
      ],
      "text/plain": [
       "      Invoice  Stock_Code  Description  Quantity  Invoice_Date  Price  \\\n",
       "0       False       False        False      True         False  False   \n",
       "1       False       False        False     False         False  False   \n",
       "2       False       False        False      True         False  False   \n",
       "3       False       False        False     False         False   True   \n",
       "4       False       False        False     False         False  False   \n",
       "...       ...         ...          ...       ...           ...    ...   \n",
       "2075    False       False        False     False         False  False   \n",
       "2076    False       False        False     False         False  False   \n",
       "2077    False       False        False     False         False  False   \n",
       "2078    False       False        False     False         False  False   \n",
       "2079    False       False        False     False         False   True   \n",
       "\n",
       "      Customer_ID  Country  \n",
       "0           False    False  \n",
       "1           False    False  \n",
       "2           False    False  \n",
       "3           False    False  \n",
       "4           False    False  \n",
       "...           ...      ...  \n",
       "2075        False    False  \n",
       "2076        False    False  \n",
       "2077        False    False  \n",
       "2078        False    False  \n",
       "2079        False    False  \n",
       "\n",
       "[2080 rows x 8 columns]"
      ]
     },
     "execution_count": 24,
     "metadata": {},
     "output_type": "execute_result"
    }
   ],
   "source": [
    "all_null = retail.isnull()\n",
    "all_null"
   ]
  },
  {
   "cell_type": "code",
   "execution_count": 26,
   "metadata": {
    "slideshow": {
     "slide_type": "slide"
    }
   },
   "outputs": [
    {
     "data": {
      "text/plain": [
       "0        True\n",
       "1       False\n",
       "2        True\n",
       "3        True\n",
       "4       False\n",
       "        ...  \n",
       "2075    False\n",
       "2076    False\n",
       "2077    False\n",
       "2078    False\n",
       "2079     True\n",
       "Length: 2080, dtype: bool"
      ]
     },
     "execution_count": 26,
     "metadata": {},
     "output_type": "execute_result"
    }
   ],
   "source": [
    "null_rows = all_null.any(axis=1)\n",
    "null_rows\n",
    "\n",
    "# null_col = all_null.any(axis=0)\n",
    "# null_col"
   ]
  },
  {
   "cell_type": "code",
   "execution_count": 28,
   "metadata": {
    "slideshow": {
     "slide_type": "slide"
    }
   },
   "outputs": [
    {
     "data": {
      "text/plain": [
       "47"
      ]
     },
     "execution_count": 28,
     "metadata": {},
     "output_type": "execute_result"
    }
   ],
   "source": [
    "null_rows.sum()\n",
    "# retail.isnull().any(axis=1).sum()"
   ]
  },
  {
   "cell_type": "code",
   "execution_count": 29,
   "metadata": {
    "slideshow": {
     "slide_type": "slide"
    }
   },
   "outputs": [
    {
     "data": {
      "text/html": [
       "<div>\n",
       "<style scoped>\n",
       "    .dataframe tbody tr th:only-of-type {\n",
       "        vertical-align: middle;\n",
       "    }\n",
       "\n",
       "    .dataframe tbody tr th {\n",
       "        vertical-align: top;\n",
       "    }\n",
       "\n",
       "    .dataframe thead th {\n",
       "        text-align: right;\n",
       "    }\n",
       "</style>\n",
       "<table border=\"1\" class=\"dataframe\">\n",
       "  <thead>\n",
       "    <tr style=\"text-align: right;\">\n",
       "      <th></th>\n",
       "      <th>Invoice</th>\n",
       "      <th>Stock_Code</th>\n",
       "      <th>Description</th>\n",
       "      <th>Quantity</th>\n",
       "      <th>Invoice_Date</th>\n",
       "      <th>Price</th>\n",
       "      <th>Customer_ID</th>\n",
       "      <th>Country</th>\n",
       "    </tr>\n",
       "  </thead>\n",
       "  <tbody>\n",
       "    <tr>\n",
       "      <th>0</th>\n",
       "      <td>489434</td>\n",
       "      <td>85048</td>\n",
       "      <td>15Cm Christmas Glass Ball 20 Lights</td>\n",
       "      <td>NaN</td>\n",
       "      <td>12/1/2009 7:45</td>\n",
       "      <td>6.95</td>\n",
       "      <td>13085.0</td>\n",
       "      <td>United Kingdom</td>\n",
       "    </tr>\n",
       "    <tr>\n",
       "      <th>2</th>\n",
       "      <td>489434</td>\n",
       "      <td>79323W</td>\n",
       "      <td>White Cherry Lights</td>\n",
       "      <td>NaN</td>\n",
       "      <td>12/1/2009 7:45</td>\n",
       "      <td>6.75</td>\n",
       "      <td>13085.0</td>\n",
       "      <td>United Kingdom</td>\n",
       "    </tr>\n",
       "    <tr>\n",
       "      <th>3</th>\n",
       "      <td>489434</td>\n",
       "      <td>22041</td>\n",
       "      <td>Record Frame 7\" Single Size</td>\n",
       "      <td>48.0</td>\n",
       "      <td>12/1/2009 7:45</td>\n",
       "      <td>NaN</td>\n",
       "      <td>13085.0</td>\n",
       "      <td>United Kingdom</td>\n",
       "    </tr>\n",
       "    <tr>\n",
       "      <th>6</th>\n",
       "      <td>489434</td>\n",
       "      <td>21871</td>\n",
       "      <td>Save The Planet Mug</td>\n",
       "      <td>NaN</td>\n",
       "      <td>12/1/2009 7:45</td>\n",
       "      <td>1.25</td>\n",
       "      <td>13085.0</td>\n",
       "      <td>United Kingdom</td>\n",
       "    </tr>\n",
       "    <tr>\n",
       "      <th>22</th>\n",
       "      <td>489436</td>\n",
       "      <td>22194</td>\n",
       "      <td>Black Diner Wall Clock</td>\n",
       "      <td>2.0</td>\n",
       "      <td>12/1/2009 9:06</td>\n",
       "      <td>NaN</td>\n",
       "      <td>13078.0</td>\n",
       "      <td>United Kingdom</td>\n",
       "    </tr>\n",
       "    <tr>\n",
       "      <th>24</th>\n",
       "      <td>489436</td>\n",
       "      <td>82582</td>\n",
       "      <td>Area Patrolled Metal Sign</td>\n",
       "      <td>12.0</td>\n",
       "      <td>12/1/2009 9:06</td>\n",
       "      <td>2.10</td>\n",
       "      <td>13078.0</td>\n",
       "      <td>NaN</td>\n",
       "    </tr>\n",
       "    <tr>\n",
       "      <th>25</th>\n",
       "      <td>489436</td>\n",
       "      <td>21181</td>\n",
       "      <td>Please One Person  Metal Sign</td>\n",
       "      <td>12.0</td>\n",
       "      <td>12/1/2009 9:06</td>\n",
       "      <td>2.10</td>\n",
       "      <td>13078.0</td>\n",
       "      <td>NaN</td>\n",
       "    </tr>\n",
       "    <tr>\n",
       "      <th>35</th>\n",
       "      <td>489437</td>\n",
       "      <td>21360</td>\n",
       "      <td>Joy Large Wood Letters</td>\n",
       "      <td>NaN</td>\n",
       "      <td>12/1/2009 9:08</td>\n",
       "      <td>9.95</td>\n",
       "      <td>15362.0</td>\n",
       "      <td>United Kingdom</td>\n",
       "    </tr>\n",
       "    <tr>\n",
       "      <th>36</th>\n",
       "      <td>489437</td>\n",
       "      <td>21351</td>\n",
       "      <td>Cinammon &amp; Orange Wreath</td>\n",
       "      <td>NaN</td>\n",
       "      <td>12/1/2009 9:08</td>\n",
       "      <td>6.75</td>\n",
       "      <td>15362.0</td>\n",
       "      <td>United Kingdom</td>\n",
       "    </tr>\n",
       "    <tr>\n",
       "      <th>37</th>\n",
       "      <td>489437</td>\n",
       "      <td>21352</td>\n",
       "      <td>Eucalyptus &amp; Pinecone  Wreath</td>\n",
       "      <td>NaN</td>\n",
       "      <td>12/1/2009 9:08</td>\n",
       "      <td>6.75</td>\n",
       "      <td>15362.0</td>\n",
       "      <td>United Kingdom</td>\n",
       "    </tr>\n",
       "    <tr>\n",
       "      <th>38</th>\n",
       "      <td>489437</td>\n",
       "      <td>35400</td>\n",
       "      <td>Wooden Box Advent Calendar</td>\n",
       "      <td>NaN</td>\n",
       "      <td>12/1/2009 9:08</td>\n",
       "      <td>8.95</td>\n",
       "      <td>15362.0</td>\n",
       "      <td>United Kingdom</td>\n",
       "    </tr>\n",
       "    <tr>\n",
       "      <th>468</th>\n",
       "      <td>489522</td>\n",
       "      <td>20676</td>\n",
       "      <td>NaN</td>\n",
       "      <td>1.0</td>\n",
       "      <td>12/1/2009 11:45</td>\n",
       "      <td>1.25</td>\n",
       "      <td>15998.0</td>\n",
       "      <td>United Kingdom</td>\n",
       "    </tr>\n",
       "    <tr>\n",
       "      <th>516</th>\n",
       "      <td>489526</td>\n",
       "      <td>21498</td>\n",
       "      <td>NaN</td>\n",
       "      <td>25.0</td>\n",
       "      <td>12/1/2009 11:50</td>\n",
       "      <td>0.42</td>\n",
       "      <td>12533.0</td>\n",
       "      <td>Germany</td>\n",
       "    </tr>\n",
       "    <tr>\n",
       "      <th>552</th>\n",
       "      <td>489526</td>\n",
       "      <td>21788</td>\n",
       "      <td>NaN</td>\n",
       "      <td>24.0</td>\n",
       "      <td>12/1/2009 11:50</td>\n",
       "      <td>0.85</td>\n",
       "      <td>12533.0</td>\n",
       "      <td>Germany</td>\n",
       "    </tr>\n",
       "    <tr>\n",
       "      <th>601</th>\n",
       "      <td>489529</td>\n",
       "      <td>21500</td>\n",
       "      <td>NaN</td>\n",
       "      <td>25.0</td>\n",
       "      <td>12/1/2009 11:51</td>\n",
       "      <td>0.42</td>\n",
       "      <td>17984.0</td>\n",
       "      <td>United Kingdom</td>\n",
       "    </tr>\n",
       "    <tr>\n",
       "      <th>719</th>\n",
       "      <td>489536</td>\n",
       "      <td>20677</td>\n",
       "      <td>NaN</td>\n",
       "      <td>1.0</td>\n",
       "      <td>12/1/2009 12:13</td>\n",
       "      <td>1.25</td>\n",
       "      <td>16393.0</td>\n",
       "      <td>United Kingdom</td>\n",
       "    </tr>\n",
       "    <tr>\n",
       "      <th>720</th>\n",
       "      <td>489536</td>\n",
       "      <td>20675</td>\n",
       "      <td>NaN</td>\n",
       "      <td>1.0</td>\n",
       "      <td>12/1/2009 12:13</td>\n",
       "      <td>1.25</td>\n",
       "      <td>16393.0</td>\n",
       "      <td>United Kingdom</td>\n",
       "    </tr>\n",
       "    <tr>\n",
       "      <th>911</th>\n",
       "      <td>489545</td>\n",
       "      <td>22274</td>\n",
       "      <td>NaN</td>\n",
       "      <td>1.0</td>\n",
       "      <td>12/1/2009 12:22</td>\n",
       "      <td>2.95</td>\n",
       "      <td>17804.0</td>\n",
       "      <td>United Kingdom</td>\n",
       "    </tr>\n",
       "    <tr>\n",
       "      <th>938</th>\n",
       "      <td>533336</td>\n",
       "      <td>22390</td>\n",
       "      <td>Paperweight Childhood Memories</td>\n",
       "      <td>12.0</td>\n",
       "      <td>11/16/2010 18:10</td>\n",
       "      <td>2.55</td>\n",
       "      <td>12714.0</td>\n",
       "      <td>NaN</td>\n",
       "    </tr>\n",
       "    <tr>\n",
       "      <th>947</th>\n",
       "      <td>533336</td>\n",
       "      <td>22450</td>\n",
       "      <td>Silk Purse Babushka Blue</td>\n",
       "      <td>NaN</td>\n",
       "      <td>11/16/2010 18:10</td>\n",
       "      <td>3.35</td>\n",
       "      <td>12714.0</td>\n",
       "      <td>France</td>\n",
       "    </tr>\n",
       "    <tr>\n",
       "      <th>957</th>\n",
       "      <td>533336</td>\n",
       "      <td>22398</td>\n",
       "      <td>Magnets Pack Of 4 Swallows</td>\n",
       "      <td>NaN</td>\n",
       "      <td>11/16/2010 18:10</td>\n",
       "      <td>1.25</td>\n",
       "      <td>12714.0</td>\n",
       "      <td>France</td>\n",
       "    </tr>\n",
       "    <tr>\n",
       "      <th>958</th>\n",
       "      <td>533336</td>\n",
       "      <td>22402</td>\n",
       "      <td>Magnets Pack Of 4 Vintage Collage</td>\n",
       "      <td>NaN</td>\n",
       "      <td>11/16/2010 18:10</td>\n",
       "      <td>1.25</td>\n",
       "      <td>12714.0</td>\n",
       "      <td>France</td>\n",
       "    </tr>\n",
       "    <tr>\n",
       "      <th>1021</th>\n",
       "      <td>553547</td>\n",
       "      <td>21239</td>\n",
       "      <td>Pink  Polkadot Cup</td>\n",
       "      <td>NaN</td>\n",
       "      <td>5/17/2011 15:48</td>\n",
       "      <td>0.85</td>\n",
       "      <td>12474.0</td>\n",
       "      <td>Germany</td>\n",
       "    </tr>\n",
       "    <tr>\n",
       "      <th>1022</th>\n",
       "      <td>553547</td>\n",
       "      <td>22629</td>\n",
       "      <td>Spaceboy Lunch Box</td>\n",
       "      <td>NaN</td>\n",
       "      <td>5/17/2011 15:48</td>\n",
       "      <td>1.95</td>\n",
       "      <td>12474.0</td>\n",
       "      <td>Germany</td>\n",
       "    </tr>\n",
       "    <tr>\n",
       "      <th>1356</th>\n",
       "      <td>556917</td>\n",
       "      <td>23307</td>\n",
       "      <td>Set Of 60 Pantry Design Cake Cases</td>\n",
       "      <td>240.0</td>\n",
       "      <td>6/15/2011 13:37</td>\n",
       "      <td>NaN</td>\n",
       "      <td>12415.0</td>\n",
       "      <td>Australia</td>\n",
       "    </tr>\n",
       "    <tr>\n",
       "      <th>1357</th>\n",
       "      <td>556917</td>\n",
       "      <td>23308</td>\n",
       "      <td>Set Of 60 Vintage Leaf Cake Cases</td>\n",
       "      <td>120.0</td>\n",
       "      <td>6/15/2011 13:37</td>\n",
       "      <td>NaN</td>\n",
       "      <td>12415.0</td>\n",
       "      <td>Australia</td>\n",
       "    </tr>\n",
       "    <tr>\n",
       "      <th>1367</th>\n",
       "      <td>556917</td>\n",
       "      <td>21976</td>\n",
       "      <td>Pack Of 60 Mushroom Cake Cases</td>\n",
       "      <td>NaN</td>\n",
       "      <td>6/15/2011 13:37</td>\n",
       "      <td>0.42</td>\n",
       "      <td>12415.0</td>\n",
       "      <td>Australia</td>\n",
       "    </tr>\n",
       "    <tr>\n",
       "      <th>1372</th>\n",
       "      <td>556917</td>\n",
       "      <td>23159</td>\n",
       "      <td>Set Of 5 Pancake Day Magnets</td>\n",
       "      <td>NaN</td>\n",
       "      <td>6/15/2011 13:37</td>\n",
       "      <td>1.85</td>\n",
       "      <td>12415.0</td>\n",
       "      <td>Australia</td>\n",
       "    </tr>\n",
       "    <tr>\n",
       "      <th>1384</th>\n",
       "      <td>556917</td>\n",
       "      <td>21539</td>\n",
       "      <td>Red Retrospot Butter Dish</td>\n",
       "      <td>NaN</td>\n",
       "      <td>6/15/2011 13:37</td>\n",
       "      <td>4.95</td>\n",
       "      <td>12415.0</td>\n",
       "      <td>Australia</td>\n",
       "    </tr>\n",
       "    <tr>\n",
       "      <th>1447</th>\n",
       "      <td>556917</td>\n",
       "      <td>22417</td>\n",
       "      <td>Pack Of 60 Spaceboy Cake Cases</td>\n",
       "      <td>120.0</td>\n",
       "      <td>6/15/2011 13:37</td>\n",
       "      <td>NaN</td>\n",
       "      <td>12415.0</td>\n",
       "      <td>Australia</td>\n",
       "    </tr>\n",
       "    <tr>\n",
       "      <th>1452</th>\n",
       "      <td>556917</td>\n",
       "      <td>22546</td>\n",
       "      <td>Mini Jigsaw Purdey</td>\n",
       "      <td>24.0</td>\n",
       "      <td>6/15/2011 13:37</td>\n",
       "      <td>NaN</td>\n",
       "      <td>12415.0</td>\n",
       "      <td>Australia</td>\n",
       "    </tr>\n",
       "    <tr>\n",
       "      <th>1453</th>\n",
       "      <td>556917</td>\n",
       "      <td>21915</td>\n",
       "      <td>Red  Harmonica In Box</td>\n",
       "      <td>240.0</td>\n",
       "      <td>6/15/2011 13:37</td>\n",
       "      <td>NaN</td>\n",
       "      <td>12415.0</td>\n",
       "      <td>Australia</td>\n",
       "    </tr>\n",
       "    <tr>\n",
       "      <th>1485</th>\n",
       "      <td>558536</td>\n",
       "      <td>23101</td>\n",
       "      <td>Silver Stars Table Decoration</td>\n",
       "      <td>12.0</td>\n",
       "      <td>6/30/2011 12:06</td>\n",
       "      <td>NaN</td>\n",
       "      <td>12424.0</td>\n",
       "      <td>Australia</td>\n",
       "    </tr>\n",
       "    <tr>\n",
       "      <th>1486</th>\n",
       "      <td>558536</td>\n",
       "      <td>85152</td>\n",
       "      <td>Hand Over The Chocolate   Sign</td>\n",
       "      <td>12.0</td>\n",
       "      <td>6/30/2011 12:06</td>\n",
       "      <td>NaN</td>\n",
       "      <td>12424.0</td>\n",
       "      <td>Australia</td>\n",
       "    </tr>\n",
       "    <tr>\n",
       "      <th>1529</th>\n",
       "      <td>560033</td>\n",
       "      <td>22600</td>\n",
       "      <td>Christmas Retrospot Star Wood</td>\n",
       "      <td>12.0</td>\n",
       "      <td>7/14/2011 13:28</td>\n",
       "      <td>NaN</td>\n",
       "      <td>12388.0</td>\n",
       "      <td>Australia</td>\n",
       "    </tr>\n",
       "    <tr>\n",
       "      <th>1530</th>\n",
       "      <td>560033</td>\n",
       "      <td>22478</td>\n",
       "      <td>Birdhouse Garden Marker</td>\n",
       "      <td>10.0</td>\n",
       "      <td>7/14/2011 13:28</td>\n",
       "      <td>NaN</td>\n",
       "      <td>12388.0</td>\n",
       "      <td>Australia</td>\n",
       "    </tr>\n",
       "    <tr>\n",
       "      <th>1590</th>\n",
       "      <td>560491</td>\n",
       "      <td>21917</td>\n",
       "      <td>Set 12 Kids  White Chalk Sticks</td>\n",
       "      <td>1.0</td>\n",
       "      <td>7/19/2011 10:51</td>\n",
       "      <td>0.42</td>\n",
       "      <td>12415.0</td>\n",
       "      <td>NaN</td>\n",
       "    </tr>\n",
       "    <tr>\n",
       "      <th>1591</th>\n",
       "      <td>560491</td>\n",
       "      <td>21843</td>\n",
       "      <td>Red Retrospot Cake Stand</td>\n",
       "      <td>1.0</td>\n",
       "      <td>7/19/2011 10:51</td>\n",
       "      <td>10.95</td>\n",
       "      <td>12415.0</td>\n",
       "      <td>NaN</td>\n",
       "    </tr>\n",
       "    <tr>\n",
       "      <th>1597</th>\n",
       "      <td>560491</td>\n",
       "      <td>23240</td>\n",
       "      <td>Set Of 4 Knick Knack Tins Doiley</td>\n",
       "      <td>1.0</td>\n",
       "      <td>7/19/2011 10:51</td>\n",
       "      <td>4.15</td>\n",
       "      <td>12415.0</td>\n",
       "      <td>NaN</td>\n",
       "    </tr>\n",
       "    <tr>\n",
       "      <th>1862</th>\n",
       "      <td>554104</td>\n",
       "      <td>20719</td>\n",
       "      <td>Woodland Charlotte Bag</td>\n",
       "      <td>NaN</td>\n",
       "      <td>5/22/2011 14:03</td>\n",
       "      <td>0.85</td>\n",
       "      <td>12705.0</td>\n",
       "      <td>Germany</td>\n",
       "    </tr>\n",
       "    <tr>\n",
       "      <th>1863</th>\n",
       "      <td>554104</td>\n",
       "      <td>22355</td>\n",
       "      <td>Charlotte Bag Suki Design</td>\n",
       "      <td>NaN</td>\n",
       "      <td>5/22/2011 14:03</td>\n",
       "      <td>0.85</td>\n",
       "      <td>12705.0</td>\n",
       "      <td>Germany</td>\n",
       "    </tr>\n",
       "    <tr>\n",
       "      <th>1864</th>\n",
       "      <td>554104</td>\n",
       "      <td>15036</td>\n",
       "      <td>Assorted Colours Silk Fan</td>\n",
       "      <td>NaN</td>\n",
       "      <td>5/22/2011 14:03</td>\n",
       "      <td>0.83</td>\n",
       "      <td>12705.0</td>\n",
       "      <td>Germany</td>\n",
       "    </tr>\n",
       "    <tr>\n",
       "      <th>2043</th>\n",
       "      <td>554106</td>\n",
       "      <td>22531</td>\n",
       "      <td>Magic Drawing Slate Circus Parade</td>\n",
       "      <td>24.0</td>\n",
       "      <td>5/22/2011 14:05</td>\n",
       "      <td>NaN</td>\n",
       "      <td>12710.0</td>\n",
       "      <td>Germany</td>\n",
       "    </tr>\n",
       "    <tr>\n",
       "      <th>2068</th>\n",
       "      <td>554263</td>\n",
       "      <td>21086</td>\n",
       "      <td>Set/6 Red Spotty Paper Cups</td>\n",
       "      <td>12.0</td>\n",
       "      <td>5/23/2011 12:32</td>\n",
       "      <td>NaN</td>\n",
       "      <td>12474.0</td>\n",
       "      <td>Germany</td>\n",
       "    </tr>\n",
       "    <tr>\n",
       "      <th>2071</th>\n",
       "      <td>554325</td>\n",
       "      <td>23206</td>\n",
       "      <td>Lunch Bag Apple Design</td>\n",
       "      <td>30.0</td>\n",
       "      <td>5/23/2011 15:38</td>\n",
       "      <td>NaN</td>\n",
       "      <td>12621.0</td>\n",
       "      <td>NaN</td>\n",
       "    </tr>\n",
       "    <tr>\n",
       "      <th>2074</th>\n",
       "      <td>554325</td>\n",
       "      <td>21078</td>\n",
       "      <td>Set/20 Strawberry Paper Napkins</td>\n",
       "      <td>12.0</td>\n",
       "      <td>5/23/2011 15:38</td>\n",
       "      <td>0.85</td>\n",
       "      <td>12621.0</td>\n",
       "      <td>NaN</td>\n",
       "    </tr>\n",
       "    <tr>\n",
       "      <th>2079</th>\n",
       "      <td>554325</td>\n",
       "      <td>79191C</td>\n",
       "      <td>Retro Plastic Elephant Tray</td>\n",
       "      <td>12.0</td>\n",
       "      <td>5/23/2011 15:38</td>\n",
       "      <td>NaN</td>\n",
       "      <td>12621.0</td>\n",
       "      <td>Germany</td>\n",
       "    </tr>\n",
       "  </tbody>\n",
       "</table>\n",
       "</div>"
      ],
      "text/plain": [
       "      Invoice Stock_Code                          Description  Quantity  \\\n",
       "0      489434      85048  15Cm Christmas Glass Ball 20 Lights       NaN   \n",
       "2      489434     79323W                  White Cherry Lights       NaN   \n",
       "3      489434      22041         Record Frame 7\" Single Size       48.0   \n",
       "6      489434      21871                  Save The Planet Mug       NaN   \n",
       "22     489436      22194               Black Diner Wall Clock       2.0   \n",
       "24     489436      82582            Area Patrolled Metal Sign      12.0   \n",
       "25     489436      21181        Please One Person  Metal Sign      12.0   \n",
       "35     489437      21360               Joy Large Wood Letters       NaN   \n",
       "36     489437      21351             Cinammon & Orange Wreath       NaN   \n",
       "37     489437      21352        Eucalyptus & Pinecone  Wreath       NaN   \n",
       "38     489437      35400          Wooden Box Advent Calendar        NaN   \n",
       "468    489522      20676                                  NaN       1.0   \n",
       "516    489526      21498                                  NaN      25.0   \n",
       "552    489526      21788                                  NaN      24.0   \n",
       "601    489529      21500                                  NaN      25.0   \n",
       "719    489536      20677                                  NaN       1.0   \n",
       "720    489536      20675                                  NaN       1.0   \n",
       "911    489545      22274                                  NaN       1.0   \n",
       "938    533336      22390       Paperweight Childhood Memories      12.0   \n",
       "947    533336      22450             Silk Purse Babushka Blue       NaN   \n",
       "957    533336      22398           Magnets Pack Of 4 Swallows       NaN   \n",
       "958    533336      22402    Magnets Pack Of 4 Vintage Collage       NaN   \n",
       "1021   553547      21239                   Pink  Polkadot Cup       NaN   \n",
       "1022   553547      22629                  Spaceboy Lunch Box        NaN   \n",
       "1356   556917      23307  Set Of 60 Pantry Design Cake Cases      240.0   \n",
       "1357   556917      23308   Set Of 60 Vintage Leaf Cake Cases      120.0   \n",
       "1367   556917      21976       Pack Of 60 Mushroom Cake Cases       NaN   \n",
       "1372   556917      23159         Set Of 5 Pancake Day Magnets       NaN   \n",
       "1384   556917      21539            Red Retrospot Butter Dish       NaN   \n",
       "1447   556917      22417       Pack Of 60 Spaceboy Cake Cases     120.0   \n",
       "1452   556917      22546                   Mini Jigsaw Purdey      24.0   \n",
       "1453   556917      21915               Red  Harmonica In Box      240.0   \n",
       "1485   558536      23101        Silver Stars Table Decoration      12.0   \n",
       "1486   558536      85152      Hand Over The Chocolate   Sign       12.0   \n",
       "1529   560033      22600        Christmas Retrospot Star Wood      12.0   \n",
       "1530   560033      22478             Birdhouse Garden Marker       10.0   \n",
       "1590   560491      21917      Set 12 Kids  White Chalk Sticks       1.0   \n",
       "1591   560491      21843             Red Retrospot Cake Stand       1.0   \n",
       "1597   560491      23240    Set Of 4 Knick Knack Tins Doiley        1.0   \n",
       "1862   554104      20719               Woodland Charlotte Bag       NaN   \n",
       "1863   554104      22355            Charlotte Bag Suki Design       NaN   \n",
       "1864   554104      15036            Assorted Colours Silk Fan       NaN   \n",
       "2043   554106      22531  Magic Drawing Slate Circus Parade        24.0   \n",
       "2068   554263      21086          Set/6 Red Spotty Paper Cups      12.0   \n",
       "2071   554325      23206               Lunch Bag Apple Design      30.0   \n",
       "2074   554325      21078     Set/20 Strawberry Paper Napkins       12.0   \n",
       "2079   554325     79191C          Retro Plastic Elephant Tray      12.0   \n",
       "\n",
       "          Invoice_Date  Price Customer_ID         Country  \n",
       "0       12/1/2009 7:45   6.95     13085.0  United Kingdom  \n",
       "2       12/1/2009 7:45   6.75     13085.0  United Kingdom  \n",
       "3       12/1/2009 7:45    NaN     13085.0  United Kingdom  \n",
       "6       12/1/2009 7:45   1.25     13085.0  United Kingdom  \n",
       "22      12/1/2009 9:06    NaN     13078.0  United Kingdom  \n",
       "24      12/1/2009 9:06   2.10     13078.0             NaN  \n",
       "25      12/1/2009 9:06   2.10     13078.0             NaN  \n",
       "35      12/1/2009 9:08   9.95     15362.0  United Kingdom  \n",
       "36      12/1/2009 9:08   6.75     15362.0  United Kingdom  \n",
       "37      12/1/2009 9:08   6.75     15362.0  United Kingdom  \n",
       "38      12/1/2009 9:08   8.95     15362.0  United Kingdom  \n",
       "468    12/1/2009 11:45   1.25     15998.0  United Kingdom  \n",
       "516    12/1/2009 11:50   0.42     12533.0         Germany  \n",
       "552    12/1/2009 11:50   0.85     12533.0         Germany  \n",
       "601    12/1/2009 11:51   0.42     17984.0  United Kingdom  \n",
       "719    12/1/2009 12:13   1.25     16393.0  United Kingdom  \n",
       "720    12/1/2009 12:13   1.25     16393.0  United Kingdom  \n",
       "911    12/1/2009 12:22   2.95     17804.0  United Kingdom  \n",
       "938   11/16/2010 18:10   2.55     12714.0             NaN  \n",
       "947   11/16/2010 18:10   3.35     12714.0          France  \n",
       "957   11/16/2010 18:10   1.25     12714.0          France  \n",
       "958   11/16/2010 18:10   1.25     12714.0          France  \n",
       "1021   5/17/2011 15:48   0.85     12474.0         Germany  \n",
       "1022   5/17/2011 15:48   1.95     12474.0         Germany  \n",
       "1356   6/15/2011 13:37    NaN     12415.0       Australia  \n",
       "1357   6/15/2011 13:37    NaN     12415.0       Australia  \n",
       "1367   6/15/2011 13:37   0.42     12415.0       Australia  \n",
       "1372   6/15/2011 13:37   1.85     12415.0       Australia  \n",
       "1384   6/15/2011 13:37   4.95     12415.0       Australia  \n",
       "1447   6/15/2011 13:37    NaN     12415.0       Australia  \n",
       "1452   6/15/2011 13:37    NaN     12415.0       Australia  \n",
       "1453   6/15/2011 13:37    NaN     12415.0       Australia  \n",
       "1485   6/30/2011 12:06    NaN     12424.0       Australia  \n",
       "1486   6/30/2011 12:06    NaN     12424.0       Australia  \n",
       "1529   7/14/2011 13:28    NaN     12388.0       Australia  \n",
       "1530   7/14/2011 13:28    NaN     12388.0       Australia  \n",
       "1590   7/19/2011 10:51   0.42     12415.0             NaN  \n",
       "1591   7/19/2011 10:51  10.95     12415.0             NaN  \n",
       "1597   7/19/2011 10:51   4.15     12415.0             NaN  \n",
       "1862   5/22/2011 14:03   0.85     12705.0         Germany  \n",
       "1863   5/22/2011 14:03   0.85     12705.0         Germany  \n",
       "1864   5/22/2011 14:03   0.83     12705.0         Germany  \n",
       "2043   5/22/2011 14:05    NaN     12710.0         Germany  \n",
       "2068   5/23/2011 12:32    NaN     12474.0         Germany  \n",
       "2071   5/23/2011 15:38    NaN     12621.0             NaN  \n",
       "2074   5/23/2011 15:38   0.85     12621.0             NaN  \n",
       "2079   5/23/2011 15:38    NaN     12621.0         Germany  "
      ]
     },
     "execution_count": 29,
     "metadata": {},
     "output_type": "execute_result"
    }
   ],
   "source": [
    "retail_null_rows = retail[null_rows]\n",
    "retail_null_rows"
   ]
  },
  {
   "cell_type": "code",
   "execution_count": 30,
   "metadata": {
    "slideshow": {
     "slide_type": "slide"
    }
   },
   "outputs": [
    {
     "data": {
      "text/plain": [
       "0       False\n",
       "1       False\n",
       "2       False\n",
       "3       False\n",
       "4       False\n",
       "        ...  \n",
       "2075    False\n",
       "2076    False\n",
       "2077    False\n",
       "2078    False\n",
       "2079    False\n",
       "Name: Description, Length: 2080, dtype: bool"
      ]
     },
     "execution_count": 30,
     "metadata": {},
     "output_type": "execute_result"
    }
   ],
   "source": [
    "retail.Description.isnull()"
   ]
  },
  {
   "cell_type": "code",
   "execution_count": 31,
   "metadata": {
    "slideshow": {
     "slide_type": "slide"
    }
   },
   "outputs": [
    {
     "data": {
      "text/html": [
       "<div>\n",
       "<style scoped>\n",
       "    .dataframe tbody tr th:only-of-type {\n",
       "        vertical-align: middle;\n",
       "    }\n",
       "\n",
       "    .dataframe tbody tr th {\n",
       "        vertical-align: top;\n",
       "    }\n",
       "\n",
       "    .dataframe thead th {\n",
       "        text-align: right;\n",
       "    }\n",
       "</style>\n",
       "<table border=\"1\" class=\"dataframe\">\n",
       "  <thead>\n",
       "    <tr style=\"text-align: right;\">\n",
       "      <th></th>\n",
       "      <th>Invoice</th>\n",
       "      <th>Stock_Code</th>\n",
       "      <th>Description</th>\n",
       "      <th>Quantity</th>\n",
       "      <th>Invoice_Date</th>\n",
       "      <th>Price</th>\n",
       "      <th>Customer_ID</th>\n",
       "      <th>Country</th>\n",
       "    </tr>\n",
       "  </thead>\n",
       "  <tbody>\n",
       "    <tr>\n",
       "      <th>468</th>\n",
       "      <td>489522</td>\n",
       "      <td>20676</td>\n",
       "      <td>NaN</td>\n",
       "      <td>1.0</td>\n",
       "      <td>12/1/2009 11:45</td>\n",
       "      <td>1.25</td>\n",
       "      <td>15998.0</td>\n",
       "      <td>United Kingdom</td>\n",
       "    </tr>\n",
       "    <tr>\n",
       "      <th>516</th>\n",
       "      <td>489526</td>\n",
       "      <td>21498</td>\n",
       "      <td>NaN</td>\n",
       "      <td>25.0</td>\n",
       "      <td>12/1/2009 11:50</td>\n",
       "      <td>0.42</td>\n",
       "      <td>12533.0</td>\n",
       "      <td>Germany</td>\n",
       "    </tr>\n",
       "    <tr>\n",
       "      <th>552</th>\n",
       "      <td>489526</td>\n",
       "      <td>21788</td>\n",
       "      <td>NaN</td>\n",
       "      <td>24.0</td>\n",
       "      <td>12/1/2009 11:50</td>\n",
       "      <td>0.85</td>\n",
       "      <td>12533.0</td>\n",
       "      <td>Germany</td>\n",
       "    </tr>\n",
       "    <tr>\n",
       "      <th>601</th>\n",
       "      <td>489529</td>\n",
       "      <td>21500</td>\n",
       "      <td>NaN</td>\n",
       "      <td>25.0</td>\n",
       "      <td>12/1/2009 11:51</td>\n",
       "      <td>0.42</td>\n",
       "      <td>17984.0</td>\n",
       "      <td>United Kingdom</td>\n",
       "    </tr>\n",
       "    <tr>\n",
       "      <th>719</th>\n",
       "      <td>489536</td>\n",
       "      <td>20677</td>\n",
       "      <td>NaN</td>\n",
       "      <td>1.0</td>\n",
       "      <td>12/1/2009 12:13</td>\n",
       "      <td>1.25</td>\n",
       "      <td>16393.0</td>\n",
       "      <td>United Kingdom</td>\n",
       "    </tr>\n",
       "    <tr>\n",
       "      <th>720</th>\n",
       "      <td>489536</td>\n",
       "      <td>20675</td>\n",
       "      <td>NaN</td>\n",
       "      <td>1.0</td>\n",
       "      <td>12/1/2009 12:13</td>\n",
       "      <td>1.25</td>\n",
       "      <td>16393.0</td>\n",
       "      <td>United Kingdom</td>\n",
       "    </tr>\n",
       "    <tr>\n",
       "      <th>911</th>\n",
       "      <td>489545</td>\n",
       "      <td>22274</td>\n",
       "      <td>NaN</td>\n",
       "      <td>1.0</td>\n",
       "      <td>12/1/2009 12:22</td>\n",
       "      <td>2.95</td>\n",
       "      <td>17804.0</td>\n",
       "      <td>United Kingdom</td>\n",
       "    </tr>\n",
       "  </tbody>\n",
       "</table>\n",
       "</div>"
      ],
      "text/plain": [
       "     Invoice Stock_Code Description  Quantity     Invoice_Date  Price  \\\n",
       "468   489522      20676         NaN       1.0  12/1/2009 11:45   1.25   \n",
       "516   489526      21498         NaN      25.0  12/1/2009 11:50   0.42   \n",
       "552   489526      21788         NaN      24.0  12/1/2009 11:50   0.85   \n",
       "601   489529      21500         NaN      25.0  12/1/2009 11:51   0.42   \n",
       "719   489536      20677         NaN       1.0  12/1/2009 12:13   1.25   \n",
       "720   489536      20675         NaN       1.0  12/1/2009 12:13   1.25   \n",
       "911   489545      22274         NaN       1.0  12/1/2009 12:22   2.95   \n",
       "\n",
       "    Customer_ID         Country  \n",
       "468     15998.0  United Kingdom  \n",
       "516     12533.0         Germany  \n",
       "552     12533.0         Germany  \n",
       "601     17984.0  United Kingdom  \n",
       "719     16393.0  United Kingdom  \n",
       "720     16393.0  United Kingdom  \n",
       "911     17804.0  United Kingdom  "
      ]
     },
     "execution_count": 31,
     "metadata": {},
     "output_type": "execute_result"
    }
   ],
   "source": [
    "retail.loc[retail.Description.isnull()]"
   ]
  },
  {
   "cell_type": "markdown",
   "metadata": {
    "slideshow": {
     "slide_type": "slide"
    }
   },
   "source": [
    "### 2.3. Fill and Replace missing values"
   ]
  },
  {
   "cell_type": "code",
   "execution_count": null,
   "metadata": {
    "slideshow": {
     "slide_type": "slide"
    }
   },
   "outputs": [],
   "source": [
    "retail.Description.fillna('BAAGHALI',inplace=True)\n",
    "retail.loc[retail.Description.isnull()]"
   ]
  },
  {
   "cell_type": "code",
   "execution_count": null,
   "metadata": {
    "slideshow": {
     "slide_type": "slide"
    }
   },
   "outputs": [],
   "source": [
    "retail.loc[[601,719,720]]"
   ]
  },
  {
   "cell_type": "code",
   "execution_count": null,
   "metadata": {
    "slideshow": {
     "slide_type": "slide"
    }
   },
   "outputs": [],
   "source": [
    "# How many Columns with at least 1 null value\n",
    "retail.isnull().any()\n",
    "null_rows = retail.isnull().any()\n",
    "null_rows.sum()"
   ]
  },
  {
   "cell_type": "code",
   "execution_count": null,
   "metadata": {
    "slideshow": {
     "slide_type": "slide"
    }
   },
   "outputs": [],
   "source": [
    "# How many Rows with at least 1 null value\n",
    "retail.isnull().any(axis=1)\n",
    "null_rows = retail.isnull().any(axis=1)\n",
    "null_rows.sum()"
   ]
  },
  {
   "cell_type": "code",
   "execution_count": null,
   "metadata": {
    "scrolled": true,
    "slideshow": {
     "slide_type": "slide"
    }
   },
   "outputs": [],
   "source": [
    "retail.fillna(method='ffill')\n",
    "\n",
    "# retail = retail.fillna(method='ffill')\n",
    "# retail.fillna(method='ffill',inplace = True)"
   ]
  },
  {
   "cell_type": "code",
   "execution_count": null,
   "metadata": {
    "slideshow": {
     "slide_type": "slide"
    }
   },
   "outputs": [],
   "source": [
    "retail.fillna(method='bfill')\n",
    "\n",
    "# retail = retail.fillna(method='bfill')\n",
    "# retail.fillna(method='bfill',inplace = True)"
   ]
  },
  {
   "cell_type": "code",
   "execution_count": null,
   "metadata": {
    "slideshow": {
     "slide_type": "slide"
    }
   },
   "outputs": [],
   "source": [
    "retail.Quantity.mean(),retail.Price.median()"
   ]
  },
  {
   "cell_type": "code",
   "execution_count": null,
   "metadata": {
    "scrolled": true,
    "slideshow": {
     "slide_type": "slide"
    }
   },
   "outputs": [],
   "source": [
    "retail.Price.fillna(retail.Price.median())\n",
    "retail.Quantity.fillna(retail.Quantity.mean())"
   ]
  },
  {
   "cell_type": "code",
   "execution_count": null,
   "metadata": {
    "slideshow": {
     "slide_type": "slide"
    }
   },
   "outputs": [],
   "source": [
    "retail.Price.fillna(retail.Price.median(),inplace=True)\n",
    "retail.Quantity.fillna(retail.Quantity.mean(),inplace=True)"
   ]
  },
  {
   "cell_type": "code",
   "execution_count": null,
   "metadata": {
    "slideshow": {
     "slide_type": "slide"
    }
   },
   "outputs": [],
   "source": [
    "null_rows = retail.isnull().any(axis=1)\n",
    "null_rows.sum()"
   ]
  },
  {
   "cell_type": "code",
   "execution_count": null,
   "metadata": {
    "scrolled": true,
    "slideshow": {
     "slide_type": "slide"
    }
   },
   "outputs": [],
   "source": [
    "retail[null_rows]"
   ]
  },
  {
   "cell_type": "code",
   "execution_count": null,
   "metadata": {
    "slideshow": {
     "slide_type": "slide"
    }
   },
   "outputs": [],
   "source": [
    "retail.fillna(method='bfill',inplace = True)"
   ]
  },
  {
   "cell_type": "code",
   "execution_count": null,
   "metadata": {
    "slideshow": {
     "slide_type": "slide"
    }
   },
   "outputs": [],
   "source": [
    "null_rows = retail.isnull().any(axis=1)\n",
    "null_rows.sum()"
   ]
  },
  {
   "cell_type": "code",
   "execution_count": null,
   "metadata": {
    "slideshow": {
     "slide_type": "slide"
    }
   },
   "outputs": [],
   "source": [
    "# retail.Description.replace('BAAGHALI','Fendel')\n",
    "\n",
    "retail.Description.replace('BAAGHALI','Fendel',inplace=True)"
   ]
  },
  {
   "cell_type": "code",
   "execution_count": null,
   "metadata": {
    "slideshow": {
     "slide_type": "slide"
    }
   },
   "outputs": [],
   "source": [
    "retail.loc[[601,719,720]]"
   ]
  },
  {
   "cell_type": "code",
   "execution_count": null,
   "metadata": {
    "slideshow": {
     "slide_type": "slide"
    }
   },
   "outputs": [],
   "source": [
    "retail.to_csv('retailsmall_Nomissing.csv')"
   ]
  },
  {
   "cell_type": "markdown",
   "metadata": {
    "heading_collapsed": true,
    "slideshow": {
     "slide_type": "slide"
    }
   },
   "source": [
    "### 2.4. Drop missing and duplicated values"
   ]
  },
  {
   "cell_type": "code",
   "execution_count": null,
   "metadata": {
    "hidden": true,
    "slideshow": {
     "slide_type": "slide"
    }
   },
   "outputs": [],
   "source": [
    "retail = pd.read_csv('retailsmall.csv')\n",
    "retail"
   ]
  },
  {
   "cell_type": "code",
   "execution_count": null,
   "metadata": {
    "hidden": true,
    "slideshow": {
     "slide_type": "slide"
    }
   },
   "outputs": [],
   "source": [
    "retail.dropna()\n",
    "# retail.dropna(inplace = True)"
   ]
  },
  {
   "cell_type": "code",
   "execution_count": null,
   "metadata": {
    "hidden": true,
    "scrolled": true,
    "slideshow": {
     "slide_type": "slide"
    }
   },
   "outputs": [],
   "source": [
    "retail.shape"
   ]
  },
  {
   "cell_type": "code",
   "execution_count": null,
   "metadata": {
    "hidden": true,
    "scrolled": true,
    "slideshow": {
     "slide_type": "slide"
    }
   },
   "outputs": [],
   "source": [
    "retail.dropna(how='all')"
   ]
  },
  {
   "cell_type": "code",
   "execution_count": null,
   "metadata": {
    "hidden": true,
    "scrolled": true,
    "slideshow": {
     "slide_type": "slide"
    }
   },
   "outputs": [],
   "source": [
    "retail.dropna(axis = 1)"
   ]
  },
  {
   "cell_type": "code",
   "execution_count": null,
   "metadata": {
    "hidden": true,
    "slideshow": {
     "slide_type": "slide"
    }
   },
   "outputs": [],
   "source": [
    "retail.duplicated()"
   ]
  },
  {
   "cell_type": "code",
   "execution_count": null,
   "metadata": {
    "hidden": true,
    "slideshow": {
     "slide_type": "slide"
    }
   },
   "outputs": [],
   "source": [
    "retail.duplicated().sum()"
   ]
  },
  {
   "cell_type": "code",
   "execution_count": null,
   "metadata": {
    "hidden": true,
    "slideshow": {
     "slide_type": "slide"
    }
   },
   "outputs": [],
   "source": [
    "dups = retail.duplicated(keep = False) \n",
    "dups_retail = retail[dups]\n",
    "dups_retail.reset_index(inplace=True)"
   ]
  },
  {
   "cell_type": "code",
   "execution_count": null,
   "metadata": {
    "hidden": true,
    "slideshow": {
     "slide_type": "slide"
    }
   },
   "outputs": [],
   "source": [
    "dups_retail[0:20]"
   ]
  },
  {
   "cell_type": "code",
   "execution_count": null,
   "metadata": {
    "hidden": true,
    "slideshow": {
     "slide_type": "slide"
    }
   },
   "outputs": [],
   "source": [
    "retail.drop_duplicates(inplace=True)"
   ]
  },
  {
   "cell_type": "code",
   "execution_count": null,
   "metadata": {
    "hidden": true,
    "slideshow": {
     "slide_type": "slide"
    }
   },
   "outputs": [],
   "source": [
    "retail.shape"
   ]
  },
  {
   "cell_type": "markdown",
   "metadata": {
    "heading_collapsed": true,
    "slideshow": {
     "slide_type": "slide"
    }
   },
   "source": [
    "### 2.5. Drop specified Rows and Columns"
   ]
  },
  {
   "cell_type": "code",
   "execution_count": null,
   "metadata": {
    "hidden": true,
    "slideshow": {
     "slide_type": "slide"
    }
   },
   "outputs": [],
   "source": [
    "retail = pd.read_csv('retailsmall.csv')\n",
    "retail"
   ]
  },
  {
   "cell_type": "code",
   "execution_count": null,
   "metadata": {
    "hidden": true,
    "scrolled": true,
    "slideshow": {
     "slide_type": "slide"
    }
   },
   "outputs": [],
   "source": [
    "# drop Specific rows\n",
    "retail.drop([0,2,2079])"
   ]
  },
  {
   "cell_type": "code",
   "execution_count": null,
   "metadata": {
    "hidden": true,
    "slideshow": {
     "slide_type": "slide"
    }
   },
   "outputs": [],
   "source": [
    "# drop selected rows\n",
    "retail.drop(retail.index[-4:])\n",
    "retail.drop(retail.index[2:100])"
   ]
  },
  {
   "cell_type": "code",
   "execution_count": null,
   "metadata": {
    "hidden": true,
    "slideshow": {
     "slide_type": "slide"
    }
   },
   "outputs": [],
   "source": [
    "# Drop specific columns\n",
    "retail.drop('Description',axis = 1)\n",
    "retail.drop(['Description','StockCode'],axis = 1)"
   ]
  },
  {
   "cell_type": "code",
   "execution_count": null,
   "metadata": {
    "hidden": true,
    "slideshow": {
     "slide_type": "slide"
    }
   },
   "outputs": [],
   "source": [
    "# Drop selected columns\n",
    "retail.drop(retail.columns[2:4],axis = 1)"
   ]
  },
  {
   "cell_type": "code",
   "execution_count": null,
   "metadata": {
    "hidden": true,
    "slideshow": {
     "slide_type": "slide"
    }
   },
   "outputs": [],
   "source": [
    "retail.drop(retail.columns[[0,5,7]],axis = 1)"
   ]
  },
  {
   "cell_type": "code",
   "execution_count": null,
   "metadata": {
    "hidden": true,
    "slideshow": {
     "slide_type": "slide"
    }
   },
   "outputs": [],
   "source": [
    "retail.shape"
   ]
  },
  {
   "cell_type": "code",
   "execution_count": null,
   "metadata": {
    "hidden": true,
    "slideshow": {
     "slide_type": "slide"
    }
   },
   "outputs": [],
   "source": [
    "# Be carfull to use df.pop() \n",
    "retail.pop('Description')\n",
    "retail.shape"
   ]
  }
 ],
 "metadata": {
  "celltoolbar": "Slideshow",
  "kernelspec": {
   "display_name": "Python 3 (ipykernel)",
   "language": "python",
   "name": "python3"
  },
  "language_info": {
   "codemirror_mode": {
    "name": "ipython",
    "version": 3
   },
   "file_extension": ".py",
   "mimetype": "text/x-python",
   "name": "python",
   "nbconvert_exporter": "python",
   "pygments_lexer": "ipython3",
   "version": "3.10.5"
  },
  "toc": {
   "base_numbering": 1,
   "nav_menu": {},
   "number_sections": false,
   "sideBar": true,
   "skip_h1_title": false,
   "title_cell": "Table of Contents",
   "title_sidebar": "Contents",
   "toc_cell": false,
   "toc_position": {},
   "toc_section_display": true,
   "toc_window_display": false
  },
  "varInspector": {
   "cols": {
    "lenName": 16,
    "lenType": 16,
    "lenVar": 40
   },
   "kernels_config": {
    "python": {
     "delete_cmd_postfix": "",
     "delete_cmd_prefix": "del ",
     "library": "var_list.py",
     "varRefreshCmd": "print(var_dic_list())"
    },
    "r": {
     "delete_cmd_postfix": ") ",
     "delete_cmd_prefix": "rm(",
     "library": "var_list.r",
     "varRefreshCmd": "cat(var_dic_list()) "
    }
   },
   "types_to_exclude": [
    "module",
    "function",
    "builtin_function_or_method",
    "instance",
    "_Feature"
   ],
   "window_display": false
  }
 },
 "nbformat": 4,
 "nbformat_minor": 4
}
