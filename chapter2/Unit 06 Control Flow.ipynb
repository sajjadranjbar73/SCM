{
 "cells": [
  {
   "cell_type": "markdown",
   "metadata": {
    "slideshow": {
     "slide_type": "slide"
    },
    "tags": []
   },
   "source": [
    "# Control Flow\n",
    "\n",
    "By default, statements in the scripts are executed sequentially from the first to the last.\\\n",
    "If the processing logic requires so, the sequential flow can be altered in two ways: \n",
    "* <font color='blue'><b> Conditional Execution: </b></font> a block of one or more statements that will be executed if a certain expression is true. \n",
    "* <font color='blue'><b> Repetitive Execution: </b></font>  a block of one or more statements that will be repetitively executed as long as a certain expression is true."
   ]
  },
  {
   "cell_type": "markdown",
   "metadata": {},
   "source": [
    "## 1. Conditional Statements\n",
    "Python uses the <font color='green'><b> if </b></font> keyword to implement decision control.\\\n",
    "Python's syntax for executing a block conditionality is :\n"
   ]
  },
  {
   "cell_type": "markdown",
   "metadata": {
    "slideshow": {
     "slide_type": "slide"
    },
    "tags": []
   },
   "source": [
    "<img src='IF Structure.jpg'  height=\"200px\" width=\"250px\" style = \"float:left\"/>"
   ]
  },
  {
   "cell_type": "code",
   "execution_count": null,
   "metadata": {
    "slideshow": {
     "slide_type": "slide"
    },
    "tags": []
   },
   "outputs": [],
   "source": [
    "x = 51\n",
    "\n",
    "if x < 10:\n",
    "    print(f'You have faild with grade {x}')"
   ]
  },
  {
   "cell_type": "code",
   "execution_count": null,
   "metadata": {
    "slideshow": {
     "slide_type": "slide"
    },
    "tags": []
   },
   "outputs": [],
   "source": [
    "x = 51\n",
    "\n",
    "if x < 10 :\n",
    "    x += 2\n",
    "    print(x)"
   ]
  },
  {
   "cell_type": "code",
   "execution_count": null,
   "metadata": {},
   "outputs": [],
   "source": [
    "x = 51\n",
    "\n",
    "if x < 10 :\n",
    "    x += 2\n",
    "\n",
    "print(x)"
   ]
  },
  {
   "cell_type": "markdown",
   "metadata": {},
   "source": [
    "<img src='IFELSEStructure.jpg'  height=\"200px\" width=\"250px\" style = \"float:left\"/>"
   ]
  },
  {
   "cell_type": "code",
   "execution_count": null,
   "metadata": {},
   "outputs": [],
   "source": [
    "x = 16\n",
    "\n",
    "if x <10:\n",
    "    print(f'You have faild with grade {x}')\n",
    "else:\n",
    "    print(f'You have passed with grade {x}')\n",
    "    "
   ]
  },
  {
   "cell_type": "markdown",
   "metadata": {},
   "source": [
    "<font color='red'><b> Example: </b></font>  Write a block of code which calculate roots of quadratic equation. Ax^2+Bx+C=0"
   ]
  },
  {
   "cell_type": "code",
   "execution_count": null,
   "metadata": {},
   "outputs": [],
   "source": [
    "A = 4\n",
    "B = -5\n",
    "C = 1\n",
    "\n",
    "delta = B**2 -(4*A*C)\n",
    "\n",
    "if delta >=0:\n",
    "    x1 = (-B + pow(delta,0.5))/2*A\n",
    "    x2 = (-B - pow(delta,0.5))/2*A\n",
    "    print(f'the root are {x1} and {x2}')\n",
    "else:\n",
    "    print('no real root is available')"
   ]
  },
  {
   "cell_type": "markdown",
   "metadata": {},
   "source": [
    "<img src='IFELIFStructure.jpg'  height=\"150px\" width=\"200px\" style = \"float:left\"/>"
   ]
  },
  {
   "cell_type": "code",
   "execution_count": null,
   "metadata": {},
   "outputs": [],
   "source": [
    "A = 4\n",
    "B = 4\n",
    "C = 1\n",
    "\n",
    "delta = B**2 -(4*A*C)\n",
    "\n",
    "if delta > 0:\n",
    "    x1 = (-B + pow(delta,0.5))/2*A\n",
    "    x2 = (-B - pow(delta,0.5))/2*A\n",
    "    print(f'the different roots are {x1} and {x2}')\n",
    "elif delta ==0:\n",
    "    x = -B/(2*A)\n",
    "    print(f'the root is {x}')\n",
    "else:\n",
    "    print('no real root is available')"
   ]
  },
  {
   "cell_type": "code",
   "execution_count": null,
   "metadata": {},
   "outputs": [],
   "source": [
    "# Tax Calculation\n",
    "# income [0,140]   tax =0\n",
    "# income [140,220] tax = 0.1\n",
    "# income [220,400] tax = 0.15\n",
    "# income [400,inf] tax = 0.2\n",
    "\n",
    "income = 320\n",
    "\n",
    "if income <= 140:\n",
    "    tax = 0 * income\n",
    "    \n",
    "elif income <= 220: \n",
    "    tax = 0.1 * income\n",
    "    \n",
    "elif income <= 400:\n",
    "    tax = 0.15*income\n",
    "    \n",
    "else:\n",
    "    tax = 0.2 * income\n",
    "\n",
    "print (tax)"
   ]
  },
  {
   "cell_type": "code",
   "execution_count": null,
   "metadata": {},
   "outputs": [],
   "source": [
    "my_list = [12,'ehsan',2,3]\n",
    "x = 'ehsan'\n",
    "\n",
    "if x in my_list:\n",
    "    print (2*x)\n"
   ]
  },
  {
   "cell_type": "code",
   "execution_count": null,
   "metadata": {},
   "outputs": [],
   "source": [
    "x = 6\n",
    "\n",
    "if x>2 and x<7:\n",
    "    print(x)\n",
    "else:\n",
    "    print ('not in range')"
   ]
  },
  {
   "cell_type": "code",
   "execution_count": null,
   "metadata": {},
   "outputs": [],
   "source": [
    "x = 6\n",
    "\n",
    "if 2 < x < 7:\n",
    "    print(x)\n",
    "else:\n",
    "    print ('not in range')"
   ]
  },
  {
   "cell_type": "markdown",
   "metadata": {},
   "source": [
    "write a block of code which determine a number is odd or even? "
   ]
  },
  {
   "cell_type": "code",
   "execution_count": null,
   "metadata": {},
   "outputs": [],
   "source": [
    "x = 6\n",
    "\n",
    "if x % 2 == 0:\n",
    "    print('the number is even')\n",
    "    x = x + 2\n",
    "else: \n",
    "    print('the number is odd')\n",
    "    x = x + 12\n",
    "    print(x)"
   ]
  },
  {
   "cell_type": "markdown",
   "metadata": {
    "tags": []
   },
   "source": [
    "## 2. Iterative Operations\n",
    "When we want to do an operation <font color='green'><b> iteratively </b></font> in python we use loops  \n",
    "* There are two kinds of loops in Python    \n",
    "1- <font color='green'><b> for </b></font> loops  \n",
    "2- <font color='green'><b> while </b></font> loops"
   ]
  },
  {
   "cell_type": "markdown",
   "metadata": {
    "jp-MarkdownHeadingCollapsed": true,
    "tags": []
   },
   "source": [
    "### 2.1. \"for\" loop"
   ]
  },
  {
   "cell_type": "markdown",
   "metadata": {},
   "source": [
    "* for loop runs for specific <font color='blue'><b> pre-determined </b></font> number of iterations. \n",
    "* We iterate over <font color='blue'><b> iterables </b></font>, which are python objects that return one or more of its elements per iteration.  \n",
    "***Kinds of iterables: <font color='orange'><b>File, Dictionaries, Lists, Tuples, Sets, Strings</b></font>**  "
   ]
  },
  {
   "cell_type": "code",
   "execution_count": null,
   "metadata": {},
   "outputs": [],
   "source": [
    "my_list = [4.5, 8, 9 , 5, 8]\n",
    "\n",
    "for element in my_list:\n",
    "    print(element)"
   ]
  },
  {
   "cell_type": "code",
   "execution_count": null,
   "metadata": {},
   "outputs": [],
   "source": [
    "my_list = [4.5, 8, 9 , 5, 8]\n",
    "for element in my_list:\n",
    "    print(element)\n",
    "    print('done')"
   ]
  },
  {
   "cell_type": "code",
   "execution_count": null,
   "metadata": {},
   "outputs": [],
   "source": [
    "for element in my_list:\n",
    "    print(element)\n",
    "print('done')"
   ]
  },
  {
   "cell_type": "code",
   "execution_count": null,
   "metadata": {},
   "outputs": [],
   "source": [
    "my_dict = {'ehsan':8, 'behnam':9, 'saad':6, 'sasan':12}\n",
    "\n",
    "for key in my_dict:\n",
    "    print(key)"
   ]
  },
  {
   "cell_type": "code",
   "execution_count": null,
   "metadata": {},
   "outputs": [],
   "source": [
    "for value in my_dict.values():\n",
    "    print(value)"
   ]
  },
  {
   "cell_type": "code",
   "execution_count": null,
   "metadata": {},
   "outputs": [],
   "source": [
    "for i in my_dict:\n",
    "    print(my_dict[i])"
   ]
  },
  {
   "cell_type": "code",
   "execution_count": null,
   "metadata": {},
   "outputs": [],
   "source": [
    "my_list = [4.5, 8, 9 , 5, 8]\n",
    "\n",
    "for i in set(my_list):\n",
    "    print(i)"
   ]
  },
  {
   "cell_type": "code",
   "execution_count": null,
   "metadata": {},
   "outputs": [],
   "source": [
    "my_tuple = 4.5, 8, 9 , 5, 8\n",
    "\n",
    "for element in my_tuple:\n",
    "    print(element)"
   ]
  },
  {
   "cell_type": "code",
   "execution_count": null,
   "metadata": {},
   "outputs": [],
   "source": [
    "txt = 'Dorsa Appears To dance in Ahvaaz'\n",
    "for char in txt:\n",
    "    print (char , end=' * ')"
   ]
  },
  {
   "cell_type": "code",
   "execution_count": null,
   "metadata": {},
   "outputs": [],
   "source": [
    "txt = 'Dorsa Appears To dance in Ahvaaz'\n",
    "for char in txt:\n",
    "    if char.isupper():\n",
    "        print(char,end = '')"
   ]
  },
  {
   "cell_type": "code",
   "execution_count": null,
   "metadata": {},
   "outputs": [],
   "source": [
    "my_file = open('tosee.txt')\n",
    "\n",
    "for i in my_file:\n",
    "    print(i)"
   ]
  },
  {
   "cell_type": "markdown",
   "metadata": {
    "jp-MarkdownHeadingCollapsed": true,
    "tags": []
   },
   "source": [
    "### 2.2. \"range\" function\n",
    "We can also use range function to loop over a range of values"
   ]
  },
  {
   "cell_type": "markdown",
   "metadata": {},
   "source": [
    "<img src='rangepic.jpg'  height=\"300px\" width=\"400px\" style = \"float:left\"/>"
   ]
  },
  {
   "cell_type": "code",
   "execution_count": null,
   "metadata": {},
   "outputs": [],
   "source": [
    "for i in range(10):\n",
    "    print(i)"
   ]
  },
  {
   "cell_type": "code",
   "execution_count": null,
   "metadata": {},
   "outputs": [],
   "source": [
    "for i in range(2,10):\n",
    "    print(i)"
   ]
  },
  {
   "cell_type": "code",
   "execution_count": null,
   "metadata": {},
   "outputs": [],
   "source": [
    "for i in range(2,10,2):\n",
    "    print(i)"
   ]
  },
  {
   "cell_type": "markdown",
   "metadata": {},
   "source": [
    "<font color='red'><b> **Example:** </b></font> write a block of code to calculate n!"
   ]
  },
  {
   "cell_type": "code",
   "execution_count": null,
   "metadata": {},
   "outputs": [],
   "source": [
    "#1st Answer\n",
    "n = int(input())\n",
    "prod = 1\n",
    "for i in range(1,n + 1):\n",
    "    prod = prod * i \n",
    "print(prod)"
   ]
  },
  {
   "cell_type": "code",
   "execution_count": null,
   "metadata": {},
   "outputs": [],
   "source": [
    "#2nd Answer\n",
    "n = int(input())\n",
    "prod = 1\n",
    "for i in range(n,0,-1):\n",
    "    prod = prod * i \n",
    "print(prod)"
   ]
  },
  {
   "cell_type": "markdown",
   "metadata": {},
   "source": [
    "<font color='red'><b> **Example:** </b></font> write a block of code to calculate fibonacci series until the N-th element "
   ]
  },
  {
   "cell_type": "code",
   "execution_count": null,
   "metadata": {},
   "outputs": [],
   "source": [
    "N = 12\n",
    "f = [0]*(N + 1)\n",
    "f[0] = 0\n",
    "f[1] = 1\n",
    "for i in range(2, N+1):\n",
    "    f[i] = f[i-1] + f[i-2]\n",
    "print(f[N])\n",
    "print(f)"
   ]
  },
  {
   "cell_type": "markdown",
   "metadata": {},
   "source": [
    "<font color='red'><b> **Example:** </b></font> Write a nested for loop program to print multiplication table in Python"
   ]
  },
  {
   "cell_type": "code",
   "execution_count": null,
   "metadata": {},
   "outputs": [],
   "source": [
    "for i in range(1,11):\n",
    "    for j in range(1,11):\n",
    "        print (i * j , end = ' ')\n",
    "    print()"
   ]
  },
  {
   "cell_type": "markdown",
   "metadata": {
    "tags": []
   },
   "source": [
    "### 2.3. \"while\" loops\n",
    "* While loop runs until a <font color='red'><b>condition</b></font> is no longer satisfied.  \n",
    "* We need to make sure that the stop condition will be met at some point, otherwise we will have an <font color='red'><b> infinite loop</b></font>.  \n",
    "* We prefer while loops over for loops when we don't know how many iterations we have.  "
   ]
  },
  {
   "cell_type": "markdown",
   "metadata": {},
   "source": [
    "<font color='red'><b> **Example:** </b></font> Multiply numbers in a list cumulatively until the resualt is bigger than 100 "
   ]
  },
  {
   "cell_type": "code",
   "execution_count": null,
   "metadata": {},
   "outputs": [],
   "source": [
    "my_list=[5 , 6, 2,3,7]\n",
    "i = 0\n",
    "cp = 1\n",
    "while cp <= 100:\n",
    "    cp = cp * my_list[i]\n",
    "    i = i + 1\n",
    "print(cp)\n",
    "print(i)"
   ]
  },
  {
   "cell_type": "code",
   "execution_count": null,
   "metadata": {},
   "outputs": [],
   "source": [
    "i = 9\n",
    "while i < 10:\n",
    "    i = i - 1\n",
    "    print(i)"
   ]
  },
  {
   "cell_type": "markdown",
   "metadata": {},
   "source": [
    "<font color='red'><b> **Example:** </b></font> How many years should it take for the amount of capital a = 50 to double the interest rate 5%?"
   ]
  },
  {
   "cell_type": "markdown",
   "metadata": {
    "tags": []
   },
   "source": [
    "## 3. Break Statement\n",
    "When we want to <font color='red'><b> break </b></font> from a for/while loop if some condition happens, break statement is used.  "
   ]
  },
  {
   "cell_type": "code",
   "execution_count": null,
   "metadata": {},
   "outputs": [],
   "source": [
    "my_list = [1,2,'stop',3.5]\n",
    "\n",
    "for element in my_list:\n",
    "    print(element)\n",
    "    if element == 'stop':\n",
    "        print('The loop is stopped')\n",
    "        break"
   ]
  },
  {
   "cell_type": "code",
   "execution_count": null,
   "metadata": {},
   "outputs": [],
   "source": [
    "my_list = [1,2,'stop',3.5,'stop',7.75]\n",
    "\n",
    "for element in my_list:\n",
    "    print(element)\n",
    "    if element == 'stop':\n",
    "        print('The loop is stopped')\n",
    "        break\n",
    "print('code is running')"
   ]
  },
  {
   "cell_type": "code",
   "execution_count": null,
   "metadata": {},
   "outputs": [],
   "source": [
    "for i in range(4):\n",
    "    for j in range(4):\n",
    "        if j == i:\n",
    "            break\n",
    "        print(i, j)"
   ]
  },
  {
   "cell_type": "markdown",
   "metadata": {},
   "source": [
    "<font color='red'><b> **Example:** </b></font>Write a block of code that finds the greatest divisor of a number"
   ]
  },
  {
   "cell_type": "code",
   "execution_count": null,
   "metadata": {},
   "outputs": [],
   "source": [
    "n = int(input())\n",
    "\n",
    "for i in range (2,n+1):\n",
    "    if n % i == 0:\n",
    "        gd = n / i\n",
    "        break\n",
    "\n",
    "print(gd)"
   ]
  },
  {
   "cell_type": "markdown",
   "metadata": {
    "tags": []
   },
   "source": [
    "## 4. Continue Statement\n",
    "When we want to <font color='red'><b> skip some iterations </b></font> from for/while loop if some condition happens, continue statement is used. "
   ]
  },
  {
   "cell_type": "code",
   "execution_count": null,
   "metadata": {
    "scrolled": true
   },
   "outputs": [],
   "source": [
    "my_list = [1,2,'stop',3.5,'stop',7.75]\n",
    "\n",
    "for element in my_list:\n",
    "    if element == 'stop':\n",
    "        print('Hop')\n",
    "        continue\n",
    "    print(element)"
   ]
  },
  {
   "cell_type": "markdown",
   "metadata": {
    "jp-MarkdownHeadingCollapsed": true,
    "slideshow": {
     "slide_type": "slide"
    },
    "tags": []
   },
   "source": [
    "## 5. List Comprehension\n",
    "When we want to build a list <font color='red'><b> faster </b></font> we use list comprehention.  "
   ]
  },
  {
   "cell_type": "markdown",
   "metadata": {
    "slideshow": {
     "slide_type": "-"
    }
   },
   "source": [
    "<font color='red'><b> **Example:** </b></font>Write a block of code that returns the squares of integer values from 1 to 10"
   ]
  },
  {
   "cell_type": "code",
   "execution_count": null,
   "metadata": {
    "slideshow": {
     "slide_type": "slide"
    }
   },
   "outputs": [],
   "source": [
    "squares =[]\n",
    "for i in range(1,11):\n",
    "    squares.append(i**2)\n",
    "squares"
   ]
  },
  {
   "cell_type": "code",
   "execution_count": null,
   "metadata": {
    "slideshow": {
     "slide_type": "slide"
    }
   },
   "outputs": [],
   "source": [
    "sq = [i**2 for i in range(1,11)]\n",
    "sq"
   ]
  },
  {
   "cell_type": "markdown",
   "metadata": {
    "slideshow": {
     "slide_type": "slide"
    }
   },
   "source": [
    "<font color='red'><b> **Example:** </b></font>Write a block of code that selects some planets"
   ]
  },
  {
   "cell_type": "code",
   "execution_count": null,
   "metadata": {
    "slideshow": {
     "slide_type": "slide"
    }
   },
   "outputs": [],
   "source": [
    "planets = ['Mercury', 'Venus', 'Earth', 'Mars', 'Jupiter', 'Saturn', 'Uranus', 'Neptune']\n",
    "planets"
   ]
  },
  {
   "cell_type": "code",
   "execution_count": null,
   "metadata": {
    "slideshow": {
     "slide_type": "slide"
    }
   },
   "outputs": [],
   "source": [
    "capital_planet = []\n",
    "for element in planets:\n",
    "    capital_planet.append(element.upper())\n",
    "    print(capital_planet)\n",
    "capital_planet"
   ]
  },
  {
   "cell_type": "code",
   "execution_count": null,
   "metadata": {
    "scrolled": true,
    "slideshow": {
     "slide_type": "slide"
    }
   },
   "outputs": [],
   "source": [
    "capital_planet = [planet.upper() for planet in planets]\n",
    "capital_planet"
   ]
  },
  {
   "cell_type": "code",
   "execution_count": null,
   "metadata": {
    "slideshow": {
     "slide_type": "slide"
    }
   },
   "outputs": [],
   "source": [
    "short_planets = [i.upper() for i in planets if len(i) < 6]\n",
    "short_planets"
   ]
  },
  {
   "cell_type": "code",
   "execution_count": null,
   "metadata": {
    "slideshow": {
     "slide_type": "slide"
    }
   },
   "outputs": [],
   "source": [
    "short_planets = [ planet.lower() \n",
    "                for planet in planets\n",
    "                if (len(planet)<6 and ('r' in planet))\n",
    "                ]\n",
    "short_planets"
   ]
  },
  {
   "cell_type": "markdown",
   "metadata": {
    "slideshow": {
     "slide_type": "slide"
    }
   },
   "source": [
    "<font color='red'><b> **Example:** </b></font>Write a block of code that returns the number of negative elements in a list"
   ]
  },
  {
   "cell_type": "code",
   "execution_count": null,
   "metadata": {
    "slideshow": {
     "slide_type": "slide"
    }
   },
   "outputs": [],
   "source": [
    "num_list = [4, -5, -7, 8, 0, -2]\n",
    "neg_num = [element for element in num_list if element < 0]\n",
    "len_neg = len(neg_num)\n",
    "print(neg_num)\n",
    "print(len_neg)"
   ]
  },
  {
   "cell_type": "code",
   "execution_count": null,
   "metadata": {
    "scrolled": true,
    "slideshow": {
     "slide_type": "slide"
    }
   },
   "outputs": [],
   "source": [
    "num_list = [4, -5, -7, 8, 0, -2]\n",
    "num_of_neg = sum([i<0 for i in num_list])\n",
    "num_of_neg"
   ]
  },
  {
   "cell_type": "markdown",
   "metadata": {
    "slideshow": {
     "slide_type": "slide"
    }
   },
   "source": [
    "<font color='red'><b> **Example:** </b></font>Write a block of code that convert strings list to int"
   ]
  },
  {
   "cell_type": "code",
   "execution_count": null,
   "metadata": {
    "slideshow": {
     "slide_type": "slide"
    }
   },
   "outputs": [],
   "source": [
    "x = input().split()\n",
    "x"
   ]
  },
  {
   "cell_type": "code",
   "execution_count": null,
   "metadata": {
    "slideshow": {
     "slide_type": "slide"
    }
   },
   "outputs": [],
   "source": [
    "x = int(input().split())\n",
    "x"
   ]
  },
  {
   "cell_type": "code",
   "execution_count": null,
   "metadata": {
    "slideshow": {
     "slide_type": "slide"
    }
   },
   "outputs": [],
   "source": [
    "# solution 1\n",
    "for i in range(len(x)):\n",
    "    x[i] = int(x[i])\n",
    "x   "
   ]
  },
  {
   "cell_type": "code",
   "execution_count": null,
   "metadata": {
    "slideshow": {
     "slide_type": "slide"
    }
   },
   "outputs": [],
   "source": [
    "# solution 2\n",
    "# x = input().split()\n",
    "y = [int(element) for element in x]\n",
    "y"
   ]
  },
  {
   "cell_type": "code",
   "execution_count": null,
   "metadata": {
    "slideshow": {
     "slide_type": "slide"
    }
   },
   "outputs": [],
   "source": [
    "# solution 3\n",
    "# x = input().split()\n",
    "z = list(map(int,x))\n",
    "z"
   ]
  }
 ],
 "metadata": {
  "celltoolbar": "Slideshow",
  "kernelspec": {
   "display_name": "Python 3 (ipykernel)",
   "language": "python",
   "name": "python3"
  },
  "language_info": {
   "codemirror_mode": {
    "name": "ipython",
    "version": 3
   },
   "file_extension": ".py",
   "mimetype": "text/x-python",
   "name": "python",
   "nbconvert_exporter": "python",
   "pygments_lexer": "ipython3",
   "version": "3.10.5"
  },
  "toc": {
   "base_numbering": 1,
   "nav_menu": {},
   "number_sections": false,
   "sideBar": true,
   "skip_h1_title": false,
   "title_cell": "Table of Contents",
   "title_sidebar": "Contents",
   "toc_cell": false,
   "toc_position": {},
   "toc_section_display": true,
   "toc_window_display": false
  },
  "varInspector": {
   "cols": {
    "lenName": 16,
    "lenType": 16,
    "lenVar": 40
   },
   "kernels_config": {
    "python": {
     "delete_cmd_postfix": "",
     "delete_cmd_prefix": "del ",
     "library": "var_list.py",
     "varRefreshCmd": "print(var_dic_list())"
    },
    "r": {
     "delete_cmd_postfix": ") ",
     "delete_cmd_prefix": "rm(",
     "library": "var_list.r",
     "varRefreshCmd": "cat(var_dic_list()) "
    }
   },
   "types_to_exclude": [
    "module",
    "function",
    "builtin_function_or_method",
    "instance",
    "_Feature"
   ],
   "window_display": false
  }
 },
 "nbformat": 4,
 "nbformat_minor": 4
}
