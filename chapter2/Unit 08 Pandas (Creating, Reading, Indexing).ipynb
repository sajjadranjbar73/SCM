{
 "cells": [
  {
   "cell_type": "markdown",
   "id": "fb87c142",
   "metadata": {
    "slideshow": {
     "slide_type": "slide"
    }
   },
   "source": [
    "# Getting started\n",
    "To use pandas, you'll typically start with the following line of code."
   ]
  },
  {
   "cell_type": "code",
   "execution_count": null,
   "id": "c911295f",
   "metadata": {
    "slideshow": {
     "slide_type": "slide"
    }
   },
   "outputs": [],
   "source": [
    "import pandas as pd\n",
    "import numpy as np\n",
    "\n",
    "#pip install pandas"
   ]
  },
  {
   "cell_type": "markdown",
   "id": "a4108bc6",
   "metadata": {
    "heading_collapsed": true,
    "slideshow": {
     "slide_type": "slide"
    }
   },
   "source": [
    "## 1. Creating data\n",
    "There are two core objects in pandas: the <font color='red'><b> DataFrame </b></font> and the <font color='red'><b> Series </b></font>.\n",
    "\n",
    "### 1.1. DataFrame\n",
    "A DataFrame is a table. It contains an array of individual entries, each of which has a certain value. Each entry corresponds to a row (or record) and a column.\n",
    "\n",
    "<img src='DataFrame.jpg'  height=\"400px\" width=\"400px\" style = \"float:left\"/>"
   ]
  },
  {
   "cell_type": "markdown",
   "id": "7d28271b",
   "metadata": {
    "hidden": true,
    "slideshow": {
     "slide_type": "slide"
    }
   },
   "source": [
    "* The <font color='red'><b> dictionary-list constructor </b></font> assigns values to the column labels"
   ]
  },
  {
   "cell_type": "code",
   "execution_count": null,
   "id": "243fdd90",
   "metadata": {
    "hidden": true,
    "slideshow": {
     "slide_type": "slide"
    }
   },
   "outputs": [],
   "source": [
    "my_table = pd.DataFrame({'Name': ['Anastasia', 'Dima'], 'Score': [12.5, 9.0]})\n",
    "my_table"
   ]
  },
  {
   "cell_type": "markdown",
   "id": "2f359e00",
   "metadata": {
    "hidden": true,
    "slideshow": {
     "slide_type": "slide"
    }
   },
   "source": [
    "* The list of row labels used in a DataFrame is known as an <font color='red'><b> Index </b></font> . We can assign values to it by using an index parameter in our constructor. "
   ]
  },
  {
   "cell_type": "code",
   "execution_count": null,
   "id": "2bf0443a",
   "metadata": {
    "hidden": true,
    "slideshow": {
     "slide_type": "slide"
    }
   },
   "outputs": [],
   "source": [
    "my_table = pd.DataFrame({'Name': ['Anastasia', 'Dima'], 'Score': [12.5, 9.0]},index=['Student 1','Student 2'])\n",
    "my_table"
   ]
  },
  {
   "cell_type": "markdown",
   "id": "2a8d78b2",
   "metadata": {
    "hidden": true,
    "slideshow": {
     "slide_type": "slide"
    }
   },
   "source": [
    "### 1.2. Series\n",
    "A Series, by contrast, is a sequence of data values. If a DataFrame is a table, a Series is a list. And in fact you can create one with nothing more than a list:"
   ]
  },
  {
   "cell_type": "code",
   "execution_count": null,
   "id": "2209215b",
   "metadata": {
    "hidden": true,
    "slideshow": {
     "slide_type": "slide"
    }
   },
   "outputs": [],
   "source": [
    "pd.Series([1, 2, 3, 4, 5] , name='Test1')"
   ]
  },
  {
   "cell_type": "markdown",
   "id": "bc0e18a0",
   "metadata": {
    "hidden": true,
    "slideshow": {
     "slide_type": "slide"
    }
   },
   "source": [
    "* The Series and the DataFrame are intimately related. It's helpful to think of a DataFrame as actually being just a bunch of Series <font color='red'><b> glued together </b></font>."
   ]
  },
  {
   "cell_type": "code",
   "execution_count": null,
   "id": "96d0aa00",
   "metadata": {
    "hidden": true,
    "slideshow": {
     "slide_type": "slide"
    }
   },
   "outputs": [],
   "source": [
    "one = pd.Series([1, 2, 3, 4, 5] , name='Test1')\n",
    "two = pd.Series([6, 7, 8, 9, 10] , name='Test2')\n",
    "test_table = pd.concat([one,two] , axis=1)\n",
    "test_table"
   ]
  },
  {
   "cell_type": "markdown",
   "id": "36dfd357",
   "metadata": {
    "slideshow": {
     "slide_type": "slide"
    }
   },
   "source": [
    "## 2. Reading data files"
   ]
  },
  {
   "cell_type": "code",
   "execution_count": null,
   "id": "36400ca6",
   "metadata": {
    "slideshow": {
     "slide_type": "slide"
    }
   },
   "outputs": [],
   "source": [
    "\n",
    "my_table = pd.read_csv('salesmonthly.csv')\n",
    "# my_table"
   ]
  },
  {
   "cell_type": "markdown",
   "id": "b830a7d5",
   "metadata": {
    "slideshow": {
     "slide_type": "slide"
    }
   },
   "source": [
    "### 2.1. Useful attributes and methods"
   ]
  },
  {
   "cell_type": "code",
   "execution_count": null,
   "id": "a9c1bc3b",
   "metadata": {
    "slideshow": {
     "slide_type": "slide"
    }
   },
   "outputs": [],
   "source": [
    "my_table.shape"
   ]
  },
  {
   "cell_type": "code",
   "execution_count": null,
   "id": "f812aa53",
   "metadata": {
    "slideshow": {
     "slide_type": "slide"
    }
   },
   "outputs": [],
   "source": [
    "my_table.head()"
   ]
  },
  {
   "cell_type": "code",
   "execution_count": null,
   "id": "e4a1b97b",
   "metadata": {
    "slideshow": {
     "slide_type": "slide"
    }
   },
   "outputs": [],
   "source": [
    "my_table.head(3)"
   ]
  },
  {
   "cell_type": "code",
   "execution_count": null,
   "id": "d871b505",
   "metadata": {
    "slideshow": {
     "slide_type": "slide"
    }
   },
   "outputs": [],
   "source": [
    "my_table.tail(3)"
   ]
  },
  {
   "cell_type": "code",
   "execution_count": null,
   "id": "d7701a11",
   "metadata": {
    "slideshow": {
     "slide_type": "slide"
    }
   },
   "outputs": [],
   "source": [
    "my_table.sample(n=3)"
   ]
  },
  {
   "cell_type": "code",
   "execution_count": null,
   "id": "8cf435b5",
   "metadata": {
    "slideshow": {
     "slide_type": "slide"
    }
   },
   "outputs": [],
   "source": [
    "my_table.sample(n=3)"
   ]
  },
  {
   "cell_type": "code",
   "execution_count": null,
   "id": "88ce8f40",
   "metadata": {
    "slideshow": {
     "slide_type": "slide"
    }
   },
   "outputs": [],
   "source": [
    "my_table.sample(n=3, random_state=1)"
   ]
  },
  {
   "cell_type": "code",
   "execution_count": null,
   "id": "56ca37d5",
   "metadata": {
    "slideshow": {
     "slide_type": "slide"
    }
   },
   "outputs": [],
   "source": [
    "my_table.sample(n=3, random_state=20)"
   ]
  },
  {
   "cell_type": "code",
   "execution_count": null,
   "id": "b9dcfee4",
   "metadata": {
    "slideshow": {
     "slide_type": "slide"
    }
   },
   "outputs": [],
   "source": [
    "my_table.sample(frac=0.03, random_state=2)"
   ]
  },
  {
   "cell_type": "code",
   "execution_count": null,
   "id": "c6518338",
   "metadata": {
    "slideshow": {
     "slide_type": "slide"
    }
   },
   "outputs": [],
   "source": [
    "my_table.sample(frac=0.06, random_state=42)"
   ]
  },
  {
   "cell_type": "code",
   "execution_count": null,
   "id": "08786101",
   "metadata": {
    "slideshow": {
     "slide_type": "slide"
    }
   },
   "outputs": [],
   "source": [
    "my_table.info()"
   ]
  },
  {
   "cell_type": "code",
   "execution_count": null,
   "id": "ee60e41e",
   "metadata": {
    "slideshow": {
     "slide_type": "slide"
    }
   },
   "outputs": [],
   "source": [
    "my_table.describe()"
   ]
  },
  {
   "cell_type": "code",
   "execution_count": null,
   "id": "84585194",
   "metadata": {
    "slideshow": {
     "slide_type": "slide"
    }
   },
   "outputs": [],
   "source": [
    "my_table.describe(include = 'all')"
   ]
  },
  {
   "cell_type": "code",
   "execution_count": null,
   "id": "d67ea3b2",
   "metadata": {
    "slideshow": {
     "slide_type": "slide"
    }
   },
   "outputs": [],
   "source": [
    "my_table.describe(percentiles=[0.125,0.17,0.05,0.6])"
   ]
  },
  {
   "cell_type": "code",
   "execution_count": null,
   "id": "2b4bc744",
   "metadata": {
    "slideshow": {
     "slide_type": "slide"
    }
   },
   "outputs": [],
   "source": [
    "my_table_1 = my_table.copy()\n",
    "my_table_1"
   ]
  },
  {
   "cell_type": "code",
   "execution_count": null,
   "id": "255436ac",
   "metadata": {
    "slideshow": {
     "slide_type": "slide"
    }
   },
   "outputs": [],
   "source": [
    "my_table_2 = my_table\n",
    "my_table_2"
   ]
  },
  {
   "cell_type": "code",
   "execution_count": null,
   "id": "78c6c04f",
   "metadata": {
    "slideshow": {
     "slide_type": "slide"
    }
   },
   "outputs": [],
   "source": [
    "my_table_1.rename(columns = {'date': 'invoice_date'}, inplace=True)\n",
    "my_table.head(3)"
   ]
  },
  {
   "cell_type": "code",
   "execution_count": null,
   "id": "76314a91",
   "metadata": {
    "slideshow": {
     "slide_type": "slide"
    }
   },
   "outputs": [],
   "source": [
    "my_table_1.head(3)"
   ]
  },
  {
   "cell_type": "code",
   "execution_count": null,
   "id": "3f140679",
   "metadata": {
    "slideshow": {
     "slide_type": "slide"
    }
   },
   "outputs": [],
   "source": [
    "my_table_2.rename(columns = {'date': 'invoice_date'}, inplace=True)\n",
    "my_table_2"
   ]
  },
  {
   "cell_type": "code",
   "execution_count": null,
   "id": "888b903d",
   "metadata": {
    "slideshow": {
     "slide_type": "slide"
    }
   },
   "outputs": [],
   "source": [
    "my_table.head(3)"
   ]
  },
  {
   "cell_type": "markdown",
   "id": "23f3c58a",
   "metadata": {
    "slideshow": {
     "slide_type": "slide"
    }
   },
   "source": [
    "### 2.2. Accessing DataFrame"
   ]
  },
  {
   "cell_type": "code",
   "execution_count": null,
   "id": "ca9a3785",
   "metadata": {
    "slideshow": {
     "slide_type": "slide"
    }
   },
   "outputs": [],
   "source": [
    "my_table = pd.read_csv('salesmonthly.csv')\n",
    "my_table.head(3)"
   ]
  },
  {
   "cell_type": "code",
   "execution_count": null,
   "id": "9c0e0339",
   "metadata": {
    "slideshow": {
     "slide_type": "slide"
    }
   },
   "outputs": [],
   "source": [
    "# df['column']\n",
    "my_table['product1']"
   ]
  },
  {
   "cell_type": "code",
   "execution_count": null,
   "id": "043ff8b2",
   "metadata": {
    "slideshow": {
     "slide_type": "slide"
    }
   },
   "outputs": [],
   "source": [
    "#df.column\n",
    "my_table.product1"
   ]
  },
  {
   "cell_type": "code",
   "execution_count": null,
   "id": "6037a54e",
   "metadata": {
    "slideshow": {
     "slide_type": "slide"
    }
   },
   "outputs": [],
   "source": [
    "my_table.product 8"
   ]
  },
  {
   "cell_type": "code",
   "execution_count": null,
   "id": "dd98c59a",
   "metadata": {
    "slideshow": {
     "slide_type": "slide"
    }
   },
   "outputs": [],
   "source": [
    "# column name in Farsi\n",
    "my_table[['product 8']]"
   ]
  },
  {
   "cell_type": "code",
   "execution_count": null,
   "id": "3a218388",
   "metadata": {
    "slideshow": {
     "slide_type": "slide"
    }
   },
   "outputs": [],
   "source": [
    "my_table['product 8'][0]"
   ]
  },
  {
   "cell_type": "code",
   "execution_count": null,
   "id": "a91988ab",
   "metadata": {
    "slideshow": {
     "slide_type": "slide"
    }
   },
   "outputs": [],
   "source": [
    "my_table.product1[0]"
   ]
  },
  {
   "cell_type": "code",
   "execution_count": null,
   "id": "9cc90fbf",
   "metadata": {
    "scrolled": true,
    "slideshow": {
     "slide_type": "slide"
    }
   },
   "outputs": [],
   "source": [
    "my_table[['product1','product2']]"
   ]
  },
  {
   "cell_type": "code",
   "execution_count": null,
   "id": "8e18e06a",
   "metadata": {
    "slideshow": {
     "slide_type": "slide"
    }
   },
   "outputs": [],
   "source": [
    "my_table.product1.describe()"
   ]
  },
  {
   "cell_type": "code",
   "execution_count": null,
   "id": "a0c5702a",
   "metadata": {
    "slideshow": {
     "slide_type": "slide"
    }
   },
   "outputs": [],
   "source": [
    "my_table.product1.mean()"
   ]
  },
  {
   "cell_type": "code",
   "execution_count": null,
   "id": "41f49c62",
   "metadata": {
    "slideshow": {
     "slide_type": "slide"
    }
   },
   "outputs": [],
   "source": [
    "my_table.product1.max()"
   ]
  },
  {
   "cell_type": "code",
   "execution_count": null,
   "id": "23b0d1b0",
   "metadata": {
    "slideshow": {
     "slide_type": "slide"
    }
   },
   "outputs": [],
   "source": [
    "my_table.product1.argmax()"
   ]
  },
  {
   "cell_type": "code",
   "execution_count": null,
   "id": "306c2548",
   "metadata": {
    "slideshow": {
     "slide_type": "slide"
    }
   },
   "outputs": [],
   "source": [
    "my_table.Customer.unique()"
   ]
  },
  {
   "cell_type": "code",
   "execution_count": null,
   "id": "20334c30",
   "metadata": {
    "slideshow": {
     "slide_type": "slide"
    }
   },
   "outputs": [],
   "source": [
    "my_table.Customer.nunique()"
   ]
  },
  {
   "cell_type": "code",
   "execution_count": null,
   "id": "d0ff67a9",
   "metadata": {
    "slideshow": {
     "slide_type": "slide"
    }
   },
   "outputs": [],
   "source": [
    "#***\n",
    "my_table.Customer.value_counts()"
   ]
  },
  {
   "cell_type": "code",
   "execution_count": null,
   "id": "be49fdd4",
   "metadata": {
    "slideshow": {
     "slide_type": "slide"
    }
   },
   "outputs": [],
   "source": [
    "my_table.Customer.value_counts(normalize=True)*100"
   ]
  },
  {
   "cell_type": "code",
   "execution_count": null,
   "id": "0a63a960",
   "metadata": {
    "slideshow": {
     "slide_type": "slide"
    }
   },
   "outputs": [],
   "source": [
    "my_table.product1 - 100"
   ]
  },
  {
   "cell_type": "code",
   "execution_count": null,
   "id": "b35d8db4",
   "metadata": {
    "slideshow": {
     "slide_type": "slide"
    }
   },
   "outputs": [],
   "source": [
    "my_table.product1 - my_table.product1.mean()"
   ]
  },
  {
   "cell_type": "code",
   "execution_count": null,
   "id": "e745d8fb",
   "metadata": {
    "slideshow": {
     "slide_type": "slide"
    }
   },
   "outputs": [],
   "source": [
    "#Add column\n",
    "my_table['Cus_length'] = my_table.Customer.apply(len)"
   ]
  },
  {
   "cell_type": "code",
   "execution_count": null,
   "id": "6f4b7d60",
   "metadata": {
    "slideshow": {
     "slide_type": "slide"
    }
   },
   "outputs": [],
   "source": [
    "my_table.head()"
   ]
  },
  {
   "cell_type": "markdown",
   "id": "d528f5d8",
   "metadata": {
    "slideshow": {
     "slide_type": "slide"
    }
   },
   "source": [
    "## 3. Indexing in Pandas\n",
    "\n",
    "The indexing operator and attribute selection work just like the rest of the Python ecosystem.  \n",
    "However, pandas has its own accessor operators, <font color='red'><b> loc </b></font> and <font color='red'><b> iloc </b></font> for more advanced operations.\n"
   ]
  },
  {
   "cell_type": "markdown",
   "id": "f5fa5fec",
   "metadata": {
    "slideshow": {
     "slide_type": "slide"
    }
   },
   "source": [
    "### 3.1. Index-based selection\n",
    "selecting data based on its numerical position in the data. <font color='red'><b> iloc </b></font> follows this paradigm.  \n",
    "\n",
    "<img src='iloc-structure.png'  height=\"300px\" width=\"300px\" style = \"float:left\"/>"
   ]
  },
  {
   "cell_type": "code",
   "execution_count": null,
   "id": "8d0107ec",
   "metadata": {
    "slideshow": {
     "slide_type": "slide"
    }
   },
   "outputs": [],
   "source": [
    "my_table.head()"
   ]
  },
  {
   "cell_type": "code",
   "execution_count": null,
   "id": "eed9ee21",
   "metadata": {
    "slideshow": {
     "slide_type": "slide"
    }
   },
   "outputs": [],
   "source": [
    "# output: Series\n",
    "my_table.iloc[1]"
   ]
  },
  {
   "cell_type": "code",
   "execution_count": null,
   "id": "0df2e7dd",
   "metadata": {
    "slideshow": {
     "slide_type": "slide"
    }
   },
   "outputs": [],
   "source": [
    "#output : DataFrame\n",
    "my_table.iloc[[1]]"
   ]
  },
  {
   "cell_type": "code",
   "execution_count": null,
   "id": "ac3cadaa",
   "metadata": {
    "slideshow": {
     "slide_type": "slide"
    }
   },
   "outputs": [],
   "source": [
    "my_table.iloc[1,]"
   ]
  },
  {
   "cell_type": "code",
   "execution_count": null,
   "id": "959fbd79",
   "metadata": {
    "slideshow": {
     "slide_type": "slide"
    }
   },
   "outputs": [],
   "source": [
    "my_table.iloc[1:3,0:6]"
   ]
  },
  {
   "cell_type": "code",
   "execution_count": null,
   "id": "b788e5ea",
   "metadata": {
    "slideshow": {
     "slide_type": "slide"
    }
   },
   "outputs": [],
   "source": [
    "my_table.iloc[[1,4,12],[1,3,7]]"
   ]
  },
  {
   "cell_type": "code",
   "execution_count": null,
   "id": "2f286dce",
   "metadata": {
    "scrolled": true,
    "slideshow": {
     "slide_type": "slide"
    }
   },
   "outputs": [],
   "source": [
    "# my_table.product1.max()\n",
    "# my_table.product1.argmax()\n",
    "my_table.iloc[[my_table.product1.argmax()]]"
   ]
  },
  {
   "cell_type": "code",
   "execution_count": null,
   "id": "2e911083",
   "metadata": {
    "slideshow": {
     "slide_type": "slide"
    }
   },
   "outputs": [],
   "source": [
    "my_table.iloc[my_table.product1.argmax()]"
   ]
  },
  {
   "cell_type": "code",
   "execution_count": null,
   "id": "3e7acfe1",
   "metadata": {
    "slideshow": {
     "slide_type": "slide"
    }
   },
   "outputs": [],
   "source": [
    "my_table.iloc[-5:]"
   ]
  },
  {
   "cell_type": "code",
   "execution_count": null,
   "id": "1f1a4d03",
   "metadata": {
    "scrolled": true,
    "slideshow": {
     "slide_type": "slide"
    }
   },
   "outputs": [],
   "source": [
    "my_table[-5:]"
   ]
  },
  {
   "cell_type": "code",
   "execution_count": null,
   "id": "5e5c30a8",
   "metadata": {
    "slideshow": {
     "slide_type": "slide"
    }
   },
   "outputs": [],
   "source": [
    "my_table[:,1:7]"
   ]
  },
  {
   "cell_type": "code",
   "execution_count": null,
   "id": "29635291",
   "metadata": {
    "slideshow": {
     "slide_type": "slide"
    }
   },
   "outputs": [],
   "source": [
    "my_table.iloc[:,1:7]"
   ]
  },
  {
   "cell_type": "code",
   "execution_count": null,
   "id": "d05f4adf",
   "metadata": {
    "slideshow": {
     "slide_type": "slide"
    }
   },
   "outputs": [],
   "source": [
    "my_table.head(3)"
   ]
  },
  {
   "cell_type": "markdown",
   "id": "1220e9b3",
   "metadata": {
    "heading_collapsed": true,
    "slideshow": {
     "slide_type": "slide"
    }
   },
   "source": [
    "### 3.2. Label-based selection\n",
    "This paradigm for attribute selection is the one followed by the <font color='red'><b> loc </b></font> operator: label-based selection. In this paradigm, it's the data index value, not its position, which matters."
   ]
  },
  {
   "cell_type": "code",
   "execution_count": null,
   "id": "99efcefc",
   "metadata": {
    "hidden": true,
    "slideshow": {
     "slide_type": "slide"
    }
   },
   "outputs": [],
   "source": [
    "my_table.head()"
   ]
  },
  {
   "cell_type": "code",
   "execution_count": null,
   "id": "c4405201",
   "metadata": {
    "hidden": true,
    "slideshow": {
     "slide_type": "slide"
    }
   },
   "outputs": [],
   "source": [
    "my_table.loc[0:3,'product1']"
   ]
  },
  {
   "cell_type": "code",
   "execution_count": null,
   "id": "096b4ce6",
   "metadata": {
    "hidden": true,
    "scrolled": false,
    "slideshow": {
     "slide_type": "slide"
    }
   },
   "outputs": [],
   "source": [
    "my_table.loc[0:3,['product1']]"
   ]
  },
  {
   "cell_type": "code",
   "execution_count": null,
   "id": "58ae5c32",
   "metadata": {
    "hidden": true,
    "slideshow": {
     "slide_type": "slide"
    }
   },
   "outputs": [],
   "source": [
    "my_table.iloc[0:3,[1]]"
   ]
  },
  {
   "cell_type": "code",
   "execution_count": null,
   "id": "06e043ba",
   "metadata": {
    "hidden": true,
    "slideshow": {
     "slide_type": "slide"
    }
   },
   "outputs": [],
   "source": [
    "my_table_2 = pd.read_csv('salesmonthly.csv' , index_col='date') #index_col = 0\n",
    "my_table_2"
   ]
  },
  {
   "cell_type": "code",
   "execution_count": null,
   "id": "dac0dd2c",
   "metadata": {
    "hidden": true,
    "slideshow": {
     "slide_type": "slide"
    }
   },
   "outputs": [],
   "source": [
    "my_table_2.loc[['1/31/2014','3/31/2014'],['product1','product5']]"
   ]
  },
  {
   "cell_type": "code",
   "execution_count": null,
   "id": "f20335db",
   "metadata": {
    "hidden": true,
    "slideshow": {
     "slide_type": "slide"
    }
   },
   "outputs": [],
   "source": [
    "my_table_2.iloc[[0,2],[0,4]]"
   ]
  },
  {
   "cell_type": "markdown",
   "id": "8f678827",
   "metadata": {
    "heading_collapsed": true,
    "slideshow": {
     "slide_type": "slide"
    }
   },
   "source": [
    "### 3.3 Choosing between loc and iloc\n",
    "<font color='blue'><b> iloc </b></font> uses the Python stdlib indexing scheme, where the **first element of the range is included and the last one excluded.** So 0:10 will select entries 0,...,9. (10 entries)  \n",
    "<font color='blue'><b> loc </b></font>,meanwhile, **indexes inclusively.** So 0:10 will select entries 0,...,10. (10+1 entries)"
   ]
  },
  {
   "cell_type": "code",
   "execution_count": null,
   "id": "bb48aeab",
   "metadata": {
    "hidden": true,
    "slideshow": {
     "slide_type": "slide"
    }
   },
   "outputs": [],
   "source": [
    "my_table_2.loc['1/31/2014':'5/31/2014','product1':'product4']"
   ]
  },
  {
   "cell_type": "markdown",
   "id": "2718690a",
   "metadata": {
    "heading_collapsed": true,
    "slideshow": {
     "slide_type": "slide"
    }
   },
   "source": [
    "### 3.4 Manipulating the index"
   ]
  },
  {
   "cell_type": "code",
   "execution_count": null,
   "id": "e297e397",
   "metadata": {
    "hidden": true,
    "slideshow": {
     "slide_type": "slide"
    }
   },
   "outputs": [],
   "source": [
    "my_table = pd.read_csv('salesmonthly.csv')\n",
    "my_table"
   ]
  },
  {
   "cell_type": "code",
   "execution_count": null,
   "id": "c402e9e2",
   "metadata": {
    "hidden": true,
    "slideshow": {
     "slide_type": "slide"
    }
   },
   "outputs": [],
   "source": [
    "my_table.set_index('Customer')"
   ]
  },
  {
   "cell_type": "code",
   "execution_count": null,
   "id": "1861ddcd",
   "metadata": {
    "hidden": true,
    "slideshow": {
     "slide_type": "slide"
    }
   },
   "outputs": [],
   "source": [
    "my_table.head(3)"
   ]
  },
  {
   "cell_type": "code",
   "execution_count": null,
   "id": "83f62ddd",
   "metadata": {
    "hidden": true,
    "slideshow": {
     "slide_type": "slide"
    }
   },
   "outputs": [],
   "source": [
    "# 1st way to set index (Creating new df)\n",
    "\n",
    "edited_table = my_table.set_index('Customer')\n",
    "edited_table"
   ]
  },
  {
   "cell_type": "code",
   "execution_count": null,
   "id": "1ca078cc",
   "metadata": {
    "hidden": true,
    "slideshow": {
     "slide_type": "slide"
    }
   },
   "outputs": [],
   "source": [
    "edited_table = edited_table.reset_index()\n",
    "edited_table"
   ]
  },
  {
   "cell_type": "code",
   "execution_count": null,
   "id": "c224b60e",
   "metadata": {
    "hidden": true,
    "slideshow": {
     "slide_type": "slide"
    }
   },
   "outputs": [],
   "source": [
    "# 2nd Way to set index (inplace)\n",
    "\n",
    "my_table.set_index('Customer', inplace=True)\n",
    "my_table.head()"
   ]
  },
  {
   "cell_type": "code",
   "execution_count": null,
   "id": "08e05b3c",
   "metadata": {
    "hidden": true,
    "slideshow": {
     "slide_type": "slide"
    }
   },
   "outputs": [],
   "source": [
    "my_table.reset_index(inplace=True)\n",
    "my_table.head()"
   ]
  },
  {
   "cell_type": "code",
   "execution_count": null,
   "id": "80306a7c",
   "metadata": {
    "hidden": true,
    "slideshow": {
     "slide_type": "slide"
    }
   },
   "outputs": [],
   "source": [
    "# if reset_index is applied twice an extra colum will be added\n",
    "# run the code below to see extra column\n",
    "\n",
    "my_table.reset_index(inplace=True)\n",
    "my_table.head()"
   ]
  },
  {
   "cell_type": "code",
   "execution_count": null,
   "id": "2d146c1b",
   "metadata": {
    "hidden": true,
    "slideshow": {
     "slide_type": "slide"
    }
   },
   "outputs": [],
   "source": [
    "# The correct way to deal with set and reset index is as follows\n",
    "\n",
    "my_table = pd.read_csv('salesmonthly.csv')\n",
    "my_table.head(3)"
   ]
  },
  {
   "cell_type": "code",
   "execution_count": null,
   "id": "7856ae5c",
   "metadata": {
    "hidden": true,
    "slideshow": {
     "slide_type": "slide"
    }
   },
   "outputs": [],
   "source": [
    "my_table.set_index('Customer', inplace=True)\n",
    "my_table.head()"
   ]
  },
  {
   "cell_type": "code",
   "execution_count": null,
   "id": "0407f4a4",
   "metadata": {
    "hidden": true,
    "slideshow": {
     "slide_type": "slide"
    }
   },
   "outputs": [],
   "source": [
    "my_table.reset_index(drop = True,inplace = True)\n",
    "my_table.head()"
   ]
  },
  {
   "cell_type": "code",
   "execution_count": null,
   "id": "625ccf0b",
   "metadata": {
    "hidden": true,
    "slideshow": {
     "slide_type": "slide"
    }
   },
   "outputs": [],
   "source": [
    "my_table = pd.read_csv('salesmonthly.csv')\n",
    "my_table.set_index('Customer', inplace=True)\n",
    "my_table.head()"
   ]
  },
  {
   "cell_type": "code",
   "execution_count": null,
   "id": "c05948ea",
   "metadata": {
    "hidden": true,
    "slideshow": {
     "slide_type": "slide"
    }
   },
   "outputs": [],
   "source": [
    "my_table.loc[['mammad'],['product1']]"
   ]
  },
  {
   "cell_type": "markdown",
   "id": "b2ed1138",
   "metadata": {
    "slideshow": {
     "slide_type": "slide"
    }
   },
   "source": [
    "## 4. Assigning\n",
    "Assigning data to a DataFrame is easy. You can assign either a constant value or with an iterable of values"
   ]
  },
  {
   "cell_type": "code",
   "execution_count": null,
   "id": "b780107c",
   "metadata": {
    "slideshow": {
     "slide_type": "slide"
    }
   },
   "outputs": [],
   "source": [
    "my_table = pd.read_csv('salesmonthly.csv')\n",
    "my_table.head(3)"
   ]
  },
  {
   "cell_type": "code",
   "execution_count": null,
   "id": "448fe21c",
   "metadata": {
    "slideshow": {
     "slide_type": "slide"
    }
   },
   "outputs": [],
   "source": [
    "my_table['type'] = \"Sales\"\n",
    "my_table"
   ]
  },
  {
   "cell_type": "code",
   "execution_count": null,
   "id": "3d240a8e",
   "metadata": {
    "slideshow": {
     "slide_type": "slide"
    }
   },
   "outputs": [],
   "source": [
    "my_table.shape"
   ]
  },
  {
   "cell_type": "code",
   "execution_count": null,
   "id": "e040c3d1",
   "metadata": {
    "scrolled": true,
    "slideshow": {
     "slide_type": "slide"
    }
   },
   "outputs": [],
   "source": [
    "len(my_table)"
   ]
  },
  {
   "cell_type": "code",
   "execution_count": null,
   "id": "b3626ec7",
   "metadata": {
    "slideshow": {
     "slide_type": "slide"
    }
   },
   "outputs": [],
   "source": [
    "my_table['reverse_index'] = range(len(my_table), 0 , -1)\n",
    "my_table"
   ]
  },
  {
   "cell_type": "code",
   "execution_count": null,
   "id": "60c46185",
   "metadata": {
    "slideshow": {
     "slide_type": "slide"
    }
   },
   "outputs": [],
   "source": [
    "my_table['total1'] = my_table.product1 + my_table['product 8']\n",
    "my_table.head()"
   ]
  },
  {
   "cell_type": "code",
   "execution_count": null,
   "id": "6bf96154",
   "metadata": {
    "slideshow": {
     "slide_type": "slide"
    }
   },
   "outputs": [],
   "source": [
    "baghali = my_table.loc[:,'product1':'product 8']\n",
    "baghali"
   ]
  },
  {
   "cell_type": "code",
   "execution_count": null,
   "id": "9673f665",
   "metadata": {
    "slideshow": {
     "slide_type": "slide"
    }
   },
   "outputs": [],
   "source": [
    "my_table['total2'] = my_table.loc[:,'product1':'product 8'].sum(axis = 1)\n",
    "my_table.head()"
   ]
  }
 ],
 "metadata": {
  "celltoolbar": "Slideshow",
  "kernelspec": {
   "display_name": "Python 3 (ipykernel)",
   "language": "python",
   "name": "python3"
  },
  "language_info": {
   "codemirror_mode": {
    "name": "ipython",
    "version": 3
   },
   "file_extension": ".py",
   "mimetype": "text/x-python",
   "name": "python",
   "nbconvert_exporter": "python",
   "pygments_lexer": "ipython3",
   "version": "3.10.5"
  },
  "toc": {
   "base_numbering": 1,
   "nav_menu": {},
   "number_sections": false,
   "sideBar": true,
   "skip_h1_title": false,
   "title_cell": "Table of Contents",
   "title_sidebar": "Contents",
   "toc_cell": false,
   "toc_position": {},
   "toc_section_display": true,
   "toc_window_display": false
  },
  "varInspector": {
   "cols": {
    "lenName": 16,
    "lenType": 16,
    "lenVar": 40
   },
   "kernels_config": {
    "python": {
     "delete_cmd_postfix": "",
     "delete_cmd_prefix": "del ",
     "library": "var_list.py",
     "varRefreshCmd": "print(var_dic_list())"
    },
    "r": {
     "delete_cmd_postfix": ") ",
     "delete_cmd_prefix": "rm(",
     "library": "var_list.r",
     "varRefreshCmd": "cat(var_dic_list()) "
    }
   },
   "types_to_exclude": [
    "module",
    "function",
    "builtin_function_or_method",
    "instance",
    "_Feature"
   ],
   "window_display": false
  }
 },
 "nbformat": 4,
 "nbformat_minor": 5
}
