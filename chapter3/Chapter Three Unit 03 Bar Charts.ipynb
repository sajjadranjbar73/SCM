{
 "cells": [
  {
   "cell_type": "markdown",
   "id": "5b44ed70",
   "metadata": {
    "heading_collapsed": true,
    "slideshow": {
     "slide_type": "slide"
    }
   },
   "source": [
    "## Bar Charts"
   ]
  },
  {
   "cell_type": "code",
   "execution_count": 1,
   "id": "0b58b061",
   "metadata": {
    "hidden": true,
    "slideshow": {
     "slide_type": "slide"
    }
   },
   "outputs": [],
   "source": [
    "import numpy as np\n",
    "import pandas as pd\n",
    "import matplotlib.pyplot as plt\n",
    "import seaborn as sns"
   ]
  },
  {
   "cell_type": "code",
   "execution_count": 2,
   "id": "c0ec92aa",
   "metadata": {
    "hidden": true,
    "scrolled": true,
    "slideshow": {
     "slide_type": "slide"
    }
   },
   "outputs": [
    {
     "data": {
      "text/html": [
       "<div>\n",
       "<style scoped>\n",
       "    .dataframe tbody tr th:only-of-type {\n",
       "        vertical-align: middle;\n",
       "    }\n",
       "\n",
       "    .dataframe tbody tr th {\n",
       "        vertical-align: top;\n",
       "    }\n",
       "\n",
       "    .dataframe thead th {\n",
       "        text-align: right;\n",
       "    }\n",
       "</style>\n",
       "<table border=\"1\" class=\"dataframe\">\n",
       "  <thead>\n",
       "    <tr style=\"text-align: right;\">\n",
       "      <th></th>\n",
       "      <th>Invoice</th>\n",
       "      <th>StockCode</th>\n",
       "      <th>Description</th>\n",
       "      <th>Quantity</th>\n",
       "      <th>InvoiceDate</th>\n",
       "      <th>Price</th>\n",
       "      <th>Customer ID</th>\n",
       "      <th>Country</th>\n",
       "    </tr>\n",
       "  </thead>\n",
       "  <tbody>\n",
       "    <tr>\n",
       "      <th>0</th>\n",
       "      <td>489434</td>\n",
       "      <td>85048</td>\n",
       "      <td>15CM CHRISTMAS GLASS BALL 20 LIGHTS</td>\n",
       "      <td>12</td>\n",
       "      <td>2009-12-01 07:45:00</td>\n",
       "      <td>6.95</td>\n",
       "      <td>13085.0</td>\n",
       "      <td>United Kingdom</td>\n",
       "    </tr>\n",
       "    <tr>\n",
       "      <th>1</th>\n",
       "      <td>489434</td>\n",
       "      <td>79323P</td>\n",
       "      <td>PINK CHERRY LIGHTS</td>\n",
       "      <td>12</td>\n",
       "      <td>2009-12-01 07:45:00</td>\n",
       "      <td>6.75</td>\n",
       "      <td>13085.0</td>\n",
       "      <td>United Kingdom</td>\n",
       "    </tr>\n",
       "    <tr>\n",
       "      <th>2</th>\n",
       "      <td>489434</td>\n",
       "      <td>79323W</td>\n",
       "      <td>WHITE CHERRY LIGHTS</td>\n",
       "      <td>12</td>\n",
       "      <td>2009-12-01 07:45:00</td>\n",
       "      <td>6.75</td>\n",
       "      <td>13085.0</td>\n",
       "      <td>United Kingdom</td>\n",
       "    </tr>\n",
       "  </tbody>\n",
       "</table>\n",
       "</div>"
      ],
      "text/plain": [
       "  Invoice StockCode                          Description  Quantity  \\\n",
       "0  489434     85048  15CM CHRISTMAS GLASS BALL 20 LIGHTS        12   \n",
       "1  489434    79323P                   PINK CHERRY LIGHTS        12   \n",
       "2  489434    79323W                  WHITE CHERRY LIGHTS        12   \n",
       "\n",
       "          InvoiceDate  Price  Customer ID         Country  \n",
       "0 2009-12-01 07:45:00   6.95      13085.0  United Kingdom  \n",
       "1 2009-12-01 07:45:00   6.75      13085.0  United Kingdom  \n",
       "2 2009-12-01 07:45:00   6.75      13085.0  United Kingdom  "
      ]
     },
     "execution_count": 2,
     "metadata": {},
     "output_type": "execute_result"
    }
   ],
   "source": [
    "retail = pd.read_csv('online_retail2.csv')\n",
    "retail = retail.drop_duplicates()\n",
    "retail = retail.dropna(axis = 0,how ='any')\n",
    "retail.Quantity = retail.Quantity.apply(abs)\n",
    "retail['InvoiceDate']= pd.to_datetime(retail['InvoiceDate'])\n",
    "retail.head(3)"
   ]
  },
  {
   "cell_type": "code",
   "execution_count": null,
   "id": "533061d2",
   "metadata": {
    "hidden": true,
    "slideshow": {
     "slide_type": "slide"
    }
   },
   "outputs": [],
   "source": [
    "retail.Country.value_counts()"
   ]
  },
  {
   "cell_type": "code",
   "execution_count": null,
   "id": "1198d11a",
   "metadata": {
    "hidden": true,
    "slideshow": {
     "slide_type": "slide"
    }
   },
   "outputs": [],
   "source": [
    "selected_countries = retail.Country.value_counts()[1:12]\n",
    "selected_countries = selected_countries.index\n",
    "selected_countries"
   ]
  },
  {
   "cell_type": "code",
   "execution_count": null,
   "id": "80d77185",
   "metadata": {
    "hidden": true,
    "slideshow": {
     "slide_type": "slide"
    }
   },
   "outputs": [],
   "source": [
    "retail_new = retail[retail.Country.isin(selected_countries)]\n",
    "retail_new.sample(10)"
   ]
  },
  {
   "cell_type": "code",
   "execution_count": null,
   "id": "8501a9e4",
   "metadata": {
    "hidden": true,
    "slideshow": {
     "slide_type": "slide"
    }
   },
   "outputs": [],
   "source": [
    "group_country = retail_new.groupby(['Country']).agg(\n",
    "                                                num_country   = ('Country' ,'count')\n",
    "                                                    ).reset_index()\n",
    "\n",
    "group_country"
   ]
  },
  {
   "cell_type": "code",
   "execution_count": null,
   "id": "0d91bb0e",
   "metadata": {
    "hidden": true,
    "slideshow": {
     "slide_type": "slide"
    }
   },
   "outputs": [],
   "source": [
    "sns.barplot(x = 'Country',y = 'num_country',data = group_country);"
   ]
  },
  {
   "cell_type": "code",
   "execution_count": null,
   "id": "e419a918",
   "metadata": {
    "hidden": true,
    "slideshow": {
     "slide_type": "slide"
    }
   },
   "outputs": [],
   "source": [
    "sns.barplot(x = 'num_country',y = 'Country',data = group_country);"
   ]
  },
  {
   "cell_type": "code",
   "execution_count": null,
   "id": "8729144b",
   "metadata": {
    "hidden": true,
    "slideshow": {
     "slide_type": "slide"
    }
   },
   "outputs": [],
   "source": [
    "sns.countplot(x = 'Country',data = retail_new);"
   ]
  },
  {
   "cell_type": "code",
   "execution_count": null,
   "id": "e510da5f",
   "metadata": {
    "hidden": true,
    "slideshow": {
     "slide_type": "slide"
    }
   },
   "outputs": [],
   "source": [
    "sns.countplot(y = 'Country',data = retail_new);"
   ]
  },
  {
   "cell_type": "markdown",
   "id": "583b9193",
   "metadata": {
    "slideshow": {
     "slide_type": "slide"
    }
   },
   "source": [
    "## Sorting Columns"
   ]
  },
  {
   "cell_type": "code",
   "execution_count": null,
   "id": "9c25e906",
   "metadata": {
    "slideshow": {
     "slide_type": "slide"
    }
   },
   "outputs": [],
   "source": [
    "# 1st way to sort chart\n",
    "group_country_sorted = group_country.sort_values(\n",
    "                                by='num_country',ascending=False).reset_index(drop=True)\n",
    "group_country_sorted"
   ]
  },
  {
   "cell_type": "code",
   "execution_count": null,
   "id": "bb120f53",
   "metadata": {
    "slideshow": {
     "slide_type": "slide"
    }
   },
   "outputs": [],
   "source": [
    "sns.barplot(x='num_country',y='Country',data=group_country_sorted);"
   ]
  },
  {
   "cell_type": "code",
   "execution_count": null,
   "id": "7c718b0b",
   "metadata": {
    "slideshow": {
     "slide_type": "slide"
    }
   },
   "outputs": [],
   "source": [
    "#2nd way \n",
    "ordered_set = group_country.sort_values(by='num_country',ascending=False).Country\n",
    "\n",
    "sns.barplot(x = 'num_country',\n",
    "            y = 'Country',\n",
    "            data = group_country,\n",
    "            order = ordered_set\n",
    "           );"
   ]
  },
  {
   "cell_type": "code",
   "execution_count": null,
   "id": "a46bb17c",
   "metadata": {
    "slideshow": {
     "slide_type": "slide"
    }
   },
   "outputs": [],
   "source": [
    "sns.countplot(y='Country',\n",
    "              data = retail_new,\n",
    "              order = ordered_set\n",
    "             );"
   ]
  },
  {
   "cell_type": "markdown",
   "id": "1bf06905",
   "metadata": {
    "heading_collapsed": true,
    "slideshow": {
     "slide_type": "slide"
    }
   },
   "source": [
    "## Modifying Charts"
   ]
  },
  {
   "cell_type": "code",
   "execution_count": null,
   "id": "49a12a70",
   "metadata": {
    "hidden": true,
    "slideshow": {
     "slide_type": "slide"
    }
   },
   "outputs": [],
   "source": [
    "sns.countplot(y='Country',\n",
    "              data = retail_new,\n",
    "              order = ordered_set\n",
    "             )\n",
    "\n",
    "# Remove labels and ticks\n",
    "plt.xticks(ticks=[])\n",
    "plt.ylabel(None)\n",
    "plt.xlabel(None)\n",
    "\n",
    "#Remove borders\n",
    "ax = plt.gca() # Get Current Axies\n",
    "ax.spines['top'].set_visible(False)\n",
    "ax.spines['right'].set_visible(False)\n",
    "ax.spines['bottom'].set_visible(False)\n",
    "ax.spines['left'].set_visible(False)"
   ]
  },
  {
   "cell_type": "code",
   "execution_count": null,
   "id": "5b03ec2d",
   "metadata": {
    "hidden": true,
    "slideshow": {
     "slide_type": "slide"
    }
   },
   "outputs": [],
   "source": [
    "#Remove Baghalies\n",
    "sns.set_style()\n",
    "\n",
    "sns.countplot(y='Country',\n",
    "              data = retail_new,\n",
    "              order = ordered_set\n",
    "             )\n",
    "\n",
    "# Remove labels and ticks\n",
    "plt.xticks(ticks=[])\n",
    "plt.ylabel(None)\n",
    "plt.xlabel(None)\n",
    "\n",
    "#Remove borders\n",
    "ax = plt.gca()\n",
    "ax.spines['top'].set_visible(False)\n",
    "ax.spines['right'].set_visible(False)\n",
    "ax.spines['bottom'].set_visible(False)\n",
    "ax.spines['left'].set_visible(False)\n"
   ]
  },
  {
   "cell_type": "code",
   "execution_count": null,
   "id": "8b9f10e4",
   "metadata": {
    "hidden": true,
    "slideshow": {
     "slide_type": "slide"
    }
   },
   "outputs": [],
   "source": [
    "sns.countplot(y='Country',\n",
    "              data = retail_new,\n",
    "              order = ordered_set\n",
    "             )\n",
    "# Remove labels and ticks\n",
    "plt.xticks(ticks=[])\n",
    "plt.ylabel(None)\n",
    "plt.xlabel(None)\n",
    "#Remove borders\n",
    "ax = plt.gca()\n",
    "ax.spines['top'].set_visible(False)\n",
    "ax.spines['right'].set_visible(False)\n",
    "ax.spines['bottom'].set_visible(False)\n",
    "ax.spines['left'].set_visible(False)\n",
    "\n",
    "for i in range(len(group_country.Country)):\n",
    "    plt.text(\n",
    "        x = group_country_sorted.loc[i,'num_country'] + 200,\n",
    "        y = i,\n",
    "        s = group_country_sorted.num_country[i],\n",
    "        verticalalignment = 'center'\n",
    "            )"
   ]
  },
  {
   "cell_type": "code",
   "execution_count": null,
   "id": "2cc43669",
   "metadata": {
    "hidden": true,
    "slideshow": {
     "slide_type": "slide"
    }
   },
   "outputs": [],
   "source": [
    "sns.countplot(y='Country',\n",
    "              data = retail_new,\n",
    "              order = ordered_set\n",
    "             )\n",
    "for i in range(len(group_country.Country)):\n",
    "    plt.text(\n",
    "        x = group_country_sorted.loc[i,'num_country'] + 200,\n",
    "        y = i,\n",
    "        s = group_country_sorted.num_country[i],\n",
    "        verticalalignment = 'center'\n",
    "            )\n",
    "\n",
    "sns.despine(bottom=True)\n",
    "plt.ylabel(None)\n",
    "plt.xlabel(None)\n",
    "plt.xticks(ticks=[])\n",
    "plt.show()"
   ]
  },
  {
   "cell_type": "markdown",
   "id": "8955c764",
   "metadata": {
    "slideshow": {
     "slide_type": "slide"
    }
   },
   "source": [
    "## Multiple Series Bar Charts"
   ]
  },
  {
   "cell_type": "code",
   "execution_count": 3,
   "id": "f245edf9",
   "metadata": {
    "scrolled": true,
    "slideshow": {
     "slide_type": "slide"
    }
   },
   "outputs": [
    {
     "data": {
      "text/html": [
       "<div>\n",
       "<style scoped>\n",
       "    .dataframe tbody tr th:only-of-type {\n",
       "        vertical-align: middle;\n",
       "    }\n",
       "\n",
       "    .dataframe tbody tr th {\n",
       "        vertical-align: top;\n",
       "    }\n",
       "\n",
       "    .dataframe thead th {\n",
       "        text-align: right;\n",
       "    }\n",
       "</style>\n",
       "<table border=\"1\" class=\"dataframe\">\n",
       "  <thead>\n",
       "    <tr style=\"text-align: right;\">\n",
       "      <th></th>\n",
       "      <th>Invoice</th>\n",
       "      <th>StockCode</th>\n",
       "      <th>Description</th>\n",
       "      <th>Quantity</th>\n",
       "      <th>InvoiceDate</th>\n",
       "      <th>Price</th>\n",
       "      <th>Customer ID</th>\n",
       "      <th>Country</th>\n",
       "    </tr>\n",
       "  </thead>\n",
       "  <tbody>\n",
       "    <tr>\n",
       "      <th>41806</th>\n",
       "      <td>566115</td>\n",
       "      <td>21680</td>\n",
       "      <td>WOODLAND  STICKERS</td>\n",
       "      <td>12</td>\n",
       "      <td>2011-09-09 10:51:00</td>\n",
       "      <td>0.85</td>\n",
       "      <td>12674.0</td>\n",
       "      <td>France</td>\n",
       "    </tr>\n",
       "    <tr>\n",
       "      <th>2370</th>\n",
       "      <td>495232</td>\n",
       "      <td>22286</td>\n",
       "      <td>DECORATION , WOBBLY RABBIT , METAL</td>\n",
       "      <td>12</td>\n",
       "      <td>2010-01-22 09:19:00</td>\n",
       "      <td>1.65</td>\n",
       "      <td>14156.0</td>\n",
       "      <td>EIRE</td>\n",
       "    </tr>\n",
       "    <tr>\n",
       "      <th>44497</th>\n",
       "      <td>569893</td>\n",
       "      <td>21930</td>\n",
       "      <td>JUMBO STORAGE BAG SKULLS</td>\n",
       "      <td>10</td>\n",
       "      <td>2011-10-06 15:51:00</td>\n",
       "      <td>2.08</td>\n",
       "      <td>12627.0</td>\n",
       "      <td>Germany</td>\n",
       "    </tr>\n",
       "    <tr>\n",
       "      <th>22023</th>\n",
       "      <td>531568</td>\n",
       "      <td>21914</td>\n",
       "      <td>BLUE HARMONICA IN BOX</td>\n",
       "      <td>12</td>\n",
       "      <td>2010-11-09 10:31:00</td>\n",
       "      <td>1.25</td>\n",
       "      <td>12681.0</td>\n",
       "      <td>France</td>\n",
       "    </tr>\n",
       "    <tr>\n",
       "      <th>32992</th>\n",
       "      <td>552946</td>\n",
       "      <td>21156</td>\n",
       "      <td>RETROSPOT CHILDRENS APRON</td>\n",
       "      <td>8</td>\n",
       "      <td>2011-05-12 11:50:00</td>\n",
       "      <td>1.95</td>\n",
       "      <td>12683.0</td>\n",
       "      <td>France</td>\n",
       "    </tr>\n",
       "    <tr>\n",
       "      <th>30554</th>\n",
       "      <td>C547581</td>\n",
       "      <td>22554</td>\n",
       "      <td>PLASTERS IN TIN WOODLAND ANIMALS</td>\n",
       "      <td>1</td>\n",
       "      <td>2011-03-24 10:58:00</td>\n",
       "      <td>1.65</td>\n",
       "      <td>12474.0</td>\n",
       "      <td>Germany</td>\n",
       "    </tr>\n",
       "  </tbody>\n",
       "</table>\n",
       "</div>"
      ],
      "text/plain": [
       "       Invoice StockCode                          Description  Quantity  \\\n",
       "41806   566115     21680                   WOODLAND  STICKERS        12   \n",
       "2370    495232     22286  DECORATION , WOBBLY RABBIT , METAL         12   \n",
       "44497   569893     21930             JUMBO STORAGE BAG SKULLS        10   \n",
       "22023   531568     21914               BLUE HARMONICA IN BOX         12   \n",
       "32992   552946     21156            RETROSPOT CHILDRENS APRON         8   \n",
       "30554  C547581     22554     PLASTERS IN TIN WOODLAND ANIMALS         1   \n",
       "\n",
       "              InvoiceDate  Price  Customer ID  Country  \n",
       "41806 2011-09-09 10:51:00   0.85      12674.0   France  \n",
       "2370  2010-01-22 09:19:00   1.65      14156.0     EIRE  \n",
       "44497 2011-10-06 15:51:00   2.08      12627.0  Germany  \n",
       "22023 2010-11-09 10:31:00   1.25      12681.0   France  \n",
       "32992 2011-05-12 11:50:00   1.95      12683.0   France  \n",
       "30554 2011-03-24 10:58:00   1.65      12474.0  Germany  "
      ]
     },
     "execution_count": 3,
     "metadata": {},
     "output_type": "execute_result"
    }
   ],
   "source": [
    "sample_countries = retail[retail.Country.isin(\n",
    "    ['France', 'Germany', 'EIRE','Netherlands'])\n",
    "                         ].reset_index(drop=True).copy()\n",
    "sample_countries.sample(6)"
   ]
  },
  {
   "cell_type": "code",
   "execution_count": 5,
   "id": "ef16de9a",
   "metadata": {
    "scrolled": true,
    "slideshow": {
     "slide_type": "slide"
    }
   },
   "outputs": [
    {
     "data": {
      "text/html": [
       "<div>\n",
       "<style scoped>\n",
       "    .dataframe tbody tr th:only-of-type {\n",
       "        vertical-align: middle;\n",
       "    }\n",
       "\n",
       "    .dataframe tbody tr th {\n",
       "        vertical-align: top;\n",
       "    }\n",
       "\n",
       "    .dataframe thead th {\n",
       "        text-align: right;\n",
       "    }\n",
       "</style>\n",
       "<table border=\"1\" class=\"dataframe\">\n",
       "  <thead>\n",
       "    <tr style=\"text-align: right;\">\n",
       "      <th></th>\n",
       "      <th>Invoice</th>\n",
       "      <th>StockCode</th>\n",
       "      <th>Description</th>\n",
       "      <th>Quantity</th>\n",
       "      <th>InvoiceDate</th>\n",
       "      <th>Price</th>\n",
       "      <th>Customer ID</th>\n",
       "      <th>Country</th>\n",
       "      <th>week_day</th>\n",
       "    </tr>\n",
       "  </thead>\n",
       "  <tbody>\n",
       "    <tr>\n",
       "      <th>0</th>\n",
       "      <td>489439</td>\n",
       "      <td>22065</td>\n",
       "      <td>CHRISTMAS PUDDING TRINKET POT</td>\n",
       "      <td>12</td>\n",
       "      <td>2009-12-01 09:28:00</td>\n",
       "      <td>1.45</td>\n",
       "      <td>12682.0</td>\n",
       "      <td>France</td>\n",
       "      <td>Tuesday</td>\n",
       "    </tr>\n",
       "    <tr>\n",
       "      <th>1</th>\n",
       "      <td>489439</td>\n",
       "      <td>22138</td>\n",
       "      <td>BAKING SET 9 PIECE RETROSPOT</td>\n",
       "      <td>9</td>\n",
       "      <td>2009-12-01 09:28:00</td>\n",
       "      <td>4.95</td>\n",
       "      <td>12682.0</td>\n",
       "      <td>France</td>\n",
       "      <td>Tuesday</td>\n",
       "    </tr>\n",
       "    <tr>\n",
       "      <th>2</th>\n",
       "      <td>489439</td>\n",
       "      <td>22139</td>\n",
       "      <td>RETRO SPOT TEA SET CERAMIC 11 PC</td>\n",
       "      <td>9</td>\n",
       "      <td>2009-12-01 09:28:00</td>\n",
       "      <td>4.95</td>\n",
       "      <td>12682.0</td>\n",
       "      <td>France</td>\n",
       "      <td>Tuesday</td>\n",
       "    </tr>\n",
       "  </tbody>\n",
       "</table>\n",
       "</div>"
      ],
      "text/plain": [
       "  Invoice StockCode                        Description  Quantity  \\\n",
       "0  489439     22065     CHRISTMAS PUDDING TRINKET POT         12   \n",
       "1  489439     22138      BAKING SET 9 PIECE RETROSPOT          9   \n",
       "2  489439     22139  RETRO SPOT TEA SET CERAMIC 11 PC          9   \n",
       "\n",
       "          InvoiceDate  Price  Customer ID Country week_day  \n",
       "0 2009-12-01 09:28:00   1.45      12682.0  France  Tuesday  \n",
       "1 2009-12-01 09:28:00   4.95      12682.0  France  Tuesday  \n",
       "2 2009-12-01 09:28:00   4.95      12682.0  France  Tuesday  "
      ]
     },
     "execution_count": 5,
     "metadata": {},
     "output_type": "execute_result"
    }
   ],
   "source": [
    "sample_countries['week_day'] = sample_countries.InvoiceDate.dt.day_name()\n",
    "sample_countries.head(3)"
   ]
  },
  {
   "cell_type": "code",
   "execution_count": 6,
   "id": "8cbcf8ed",
   "metadata": {
    "slideshow": {
     "slide_type": "slide"
    }
   },
   "outputs": [
    {
     "data": {
      "text/plain": [
       "Thursday     11021\n",
       "Tuesday       9659\n",
       "Friday        9542\n",
       "Monday        9091\n",
       "Wednesday     8755\n",
       "Sunday        4319\n",
       "Name: week_day, dtype: int64"
      ]
     },
     "execution_count": 6,
     "metadata": {},
     "output_type": "execute_result"
    }
   ],
   "source": [
    "sample_countries['week_day'].value_counts()"
   ]
  },
  {
   "cell_type": "code",
   "execution_count": 10,
   "id": "ccb3a83b",
   "metadata": {
    "slideshow": {
     "slide_type": "slide"
    }
   },
   "outputs": [
    {
     "data": {
      "text/html": [
       "<div>\n",
       "<style scoped>\n",
       "    .dataframe tbody tr th:only-of-type {\n",
       "        vertical-align: middle;\n",
       "    }\n",
       "\n",
       "    .dataframe tbody tr th {\n",
       "        vertical-align: top;\n",
       "    }\n",
       "\n",
       "    .dataframe thead th {\n",
       "        text-align: right;\n",
       "    }\n",
       "</style>\n",
       "<table border=\"1\" class=\"dataframe\">\n",
       "  <thead>\n",
       "    <tr style=\"text-align: right;\">\n",
       "      <th></th>\n",
       "      <th></th>\n",
       "      <th>total_quant</th>\n",
       "    </tr>\n",
       "    <tr>\n",
       "      <th>week_day</th>\n",
       "      <th>Country</th>\n",
       "      <th></th>\n",
       "    </tr>\n",
       "  </thead>\n",
       "  <tbody>\n",
       "    <tr>\n",
       "      <th rowspan=\"4\" valign=\"top\">Friday</th>\n",
       "      <th>EIRE</th>\n",
       "      <td>48327</td>\n",
       "    </tr>\n",
       "    <tr>\n",
       "      <th>France</th>\n",
       "      <td>35992</td>\n",
       "    </tr>\n",
       "    <tr>\n",
       "      <th>Germany</th>\n",
       "      <td>46569</td>\n",
       "    </tr>\n",
       "    <tr>\n",
       "      <th>Netherlands</th>\n",
       "      <td>74475</td>\n",
       "    </tr>\n",
       "    <tr>\n",
       "      <th rowspan=\"4\" valign=\"top\">Monday</th>\n",
       "      <th>EIRE</th>\n",
       "      <td>53631</td>\n",
       "    </tr>\n",
       "    <tr>\n",
       "      <th>France</th>\n",
       "      <td>113028</td>\n",
       "    </tr>\n",
       "    <tr>\n",
       "      <th>Germany</th>\n",
       "      <td>42807</td>\n",
       "    </tr>\n",
       "    <tr>\n",
       "      <th>Netherlands</th>\n",
       "      <td>41260</td>\n",
       "    </tr>\n",
       "    <tr>\n",
       "      <th rowspan=\"4\" valign=\"top\">Sunday</th>\n",
       "      <th>EIRE</th>\n",
       "      <td>31914</td>\n",
       "    </tr>\n",
       "    <tr>\n",
       "      <th>France</th>\n",
       "      <td>15325</td>\n",
       "    </tr>\n",
       "    <tr>\n",
       "      <th>Germany</th>\n",
       "      <td>21873</td>\n",
       "    </tr>\n",
       "    <tr>\n",
       "      <th>Netherlands</th>\n",
       "      <td>9239</td>\n",
       "    </tr>\n",
       "    <tr>\n",
       "      <th rowspan=\"4\" valign=\"top\">Thursday</th>\n",
       "      <th>EIRE</th>\n",
       "      <td>77646</td>\n",
       "    </tr>\n",
       "    <tr>\n",
       "      <th>France</th>\n",
       "      <td>44012</td>\n",
       "    </tr>\n",
       "    <tr>\n",
       "      <th>Germany</th>\n",
       "      <td>48945</td>\n",
       "    </tr>\n",
       "    <tr>\n",
       "      <th>Netherlands</th>\n",
       "      <td>102853</td>\n",
       "    </tr>\n",
       "    <tr>\n",
       "      <th rowspan=\"4\" valign=\"top\">Tuesday</th>\n",
       "      <th>EIRE</th>\n",
       "      <td>55822</td>\n",
       "    </tr>\n",
       "    <tr>\n",
       "      <th>France</th>\n",
       "      <td>116513</td>\n",
       "    </tr>\n",
       "    <tr>\n",
       "      <th>Germany</th>\n",
       "      <td>33450</td>\n",
       "    </tr>\n",
       "    <tr>\n",
       "      <th>Netherlands</th>\n",
       "      <td>88025</td>\n",
       "    </tr>\n",
       "    <tr>\n",
       "      <th rowspan=\"4\" valign=\"top\">Wednesday</th>\n",
       "      <th>EIRE</th>\n",
       "      <td>59485</td>\n",
       "    </tr>\n",
       "    <tr>\n",
       "      <th>France</th>\n",
       "      <td>35749</td>\n",
       "    </tr>\n",
       "    <tr>\n",
       "      <th>Germany</th>\n",
       "      <td>34886</td>\n",
       "    </tr>\n",
       "    <tr>\n",
       "      <th>Netherlands</th>\n",
       "      <td>71333</td>\n",
       "    </tr>\n",
       "  </tbody>\n",
       "</table>\n",
       "</div>"
      ],
      "text/plain": [
       "                       total_quant\n",
       "week_day  Country                 \n",
       "Friday    EIRE               48327\n",
       "          France             35992\n",
       "          Germany            46569\n",
       "          Netherlands        74475\n",
       "Monday    EIRE               53631\n",
       "          France            113028\n",
       "          Germany            42807\n",
       "          Netherlands        41260\n",
       "Sunday    EIRE               31914\n",
       "          France             15325\n",
       "          Germany            21873\n",
       "          Netherlands         9239\n",
       "Thursday  EIRE               77646\n",
       "          France             44012\n",
       "          Germany            48945\n",
       "          Netherlands       102853\n",
       "Tuesday   EIRE               55822\n",
       "          France            116513\n",
       "          Germany            33450\n",
       "          Netherlands        88025\n",
       "Wednesday EIRE               59485\n",
       "          France             35749\n",
       "          Germany            34886\n",
       "          Netherlands        71333"
      ]
     },
     "execution_count": 10,
     "metadata": {},
     "output_type": "execute_result"
    }
   ],
   "source": [
    "gp_sample_countries = sample_countries.groupby(['week_day','Country']).agg(\n",
    "                        total_quant = ('Quantity','sum')\n",
    "                        ).reset_index()\n",
    "gp_sample_countries"
   ]
  },
  {
   "cell_type": "code",
   "execution_count": 8,
   "id": "0e0dacbb",
   "metadata": {
    "slideshow": {
     "slide_type": "slide"
    }
   },
   "outputs": [
    {
     "data": {
      "image/png": "[encoded data removed]",
      "text/plain": [
       "<Figure size 432x288 with 1 Axes>"
      ]
     },
     "metadata": {
      "needs_background": "light"
     },
     "output_type": "display_data"
    }
   ],
   "source": [
    "sns.barplot(x = 'week_day',y = 'total_quant' , data = gp_sample_countries);"
   ]
  },
  {
   "cell_type": "code",
   "execution_count": 9,
   "id": "8c9a9867",
   "metadata": {
    "scrolled": true,
    "slideshow": {
     "slide_type": "slide"
    }
   },
   "outputs": [
    {
     "data": {
      "image/png": "[encoded data removed]",
      "text/plain": [
       "<Figure size 648x360 with 1 Axes>"
      ]
     },
     "metadata": {
      "needs_background": "light"
     },
     "output_type": "display_data"
    }
   ],
   "source": [
    "plt.figure(figsize=(9,5))\n",
    "sns.barplot(x = 'week_day',\n",
    "            y = 'total_quant' , \n",
    "            data = gp_sample_countries,\n",
    "            hue = 'Country');"
   ]
  },
  {
   "cell_type": "code",
   "execution_count": 11,
   "id": "cfe162c8",
   "metadata": {
    "slideshow": {
     "slide_type": "slide"
    }
   },
   "outputs": [
    {
     "data": {
      "text/html": [
       "<div>\n",
       "<style scoped>\n",
       "    .dataframe tbody tr th:only-of-type {\n",
       "        vertical-align: middle;\n",
       "    }\n",
       "\n",
       "    .dataframe tbody tr th {\n",
       "        vertical-align: top;\n",
       "    }\n",
       "\n",
       "    .dataframe thead th {\n",
       "        text-align: right;\n",
       "    }\n",
       "</style>\n",
       "<table border=\"1\" class=\"dataframe\">\n",
       "  <thead>\n",
       "    <tr style=\"text-align: right;\">\n",
       "      <th>Country</th>\n",
       "      <th>EIRE</th>\n",
       "      <th>France</th>\n",
       "      <th>Germany</th>\n",
       "      <th>Netherlands</th>\n",
       "    </tr>\n",
       "    <tr>\n",
       "      <th>week_day</th>\n",
       "      <th></th>\n",
       "      <th></th>\n",
       "      <th></th>\n",
       "      <th></th>\n",
       "    </tr>\n",
       "  </thead>\n",
       "  <tbody>\n",
       "    <tr>\n",
       "      <th>Friday</th>\n",
       "      <td>48327</td>\n",
       "      <td>35992</td>\n",
       "      <td>46569</td>\n",
       "      <td>74475</td>\n",
       "    </tr>\n",
       "    <tr>\n",
       "      <th>Monday</th>\n",
       "      <td>53631</td>\n",
       "      <td>113028</td>\n",
       "      <td>42807</td>\n",
       "      <td>41260</td>\n",
       "    </tr>\n",
       "    <tr>\n",
       "      <th>Sunday</th>\n",
       "      <td>31914</td>\n",
       "      <td>15325</td>\n",
       "      <td>21873</td>\n",
       "      <td>9239</td>\n",
       "    </tr>\n",
       "    <tr>\n",
       "      <th>Thursday</th>\n",
       "      <td>77646</td>\n",
       "      <td>44012</td>\n",
       "      <td>48945</td>\n",
       "      <td>102853</td>\n",
       "    </tr>\n",
       "    <tr>\n",
       "      <th>Tuesday</th>\n",
       "      <td>55822</td>\n",
       "      <td>116513</td>\n",
       "      <td>33450</td>\n",
       "      <td>88025</td>\n",
       "    </tr>\n",
       "    <tr>\n",
       "      <th>Wednesday</th>\n",
       "      <td>59485</td>\n",
       "      <td>35749</td>\n",
       "      <td>34886</td>\n",
       "      <td>71333</td>\n",
       "    </tr>\n",
       "  </tbody>\n",
       "</table>\n",
       "</div>"
      ],
      "text/plain": [
       "Country     EIRE  France  Germany  Netherlands\n",
       "week_day                                      \n",
       "Friday     48327   35992    46569        74475\n",
       "Monday     53631  113028    42807        41260\n",
       "Sunday     31914   15325    21873         9239\n",
       "Thursday   77646   44012    48945       102853\n",
       "Tuesday    55822  116513    33450        88025\n",
       "Wednesday  59485   35749    34886        71333"
      ]
     },
     "execution_count": 11,
     "metadata": {},
     "output_type": "execute_result"
    }
   ],
   "source": [
    "piv = gp_sample_countries.pivot_table(values = 'total_quant',\n",
    "                                     index = 'week_day',\n",
    "                                     columns = 'Country'\n",
    "                                     )\n",
    "piv"
   ]
  },
  {
   "cell_type": "code",
   "execution_count": 12,
   "id": "3cb19892",
   "metadata": {
    "slideshow": {
     "slide_type": "slide"
    }
   },
   "outputs": [
    {
     "data": {
      "text/plain": [
       "<matplotlib.legend.Legend at 0x25393fe5090>"
      ]
     },
     "execution_count": 12,
     "metadata": {},
     "output_type": "execute_result"
    },
    {
     "data": {
      "image/png": "[encoded data removed]",
      "text/plain": [
       "<Figure size 720x432 with 1 Axes>"
      ]
     },
     "metadata": {
      "needs_background": "light"
     },
     "output_type": "display_data"
    }
   ],
   "source": [
    "piv.plot(kind='bar', stacked=True , color=['red', 'blue', 'green','orange'],figsize=(10,6));\n",
    "plt.legend()"
   ]
  },
  {
   "cell_type": "code",
   "execution_count": 15,
   "id": "16f9a806",
   "metadata": {
    "slideshow": {
     "slide_type": "slide"
    }
   },
   "outputs": [
    {
     "data": {
      "image/png": "[encoded data removed]",
      "text/plain": [
       "<Figure size 720x432 with 1 Axes>"
      ]
     },
     "metadata": {},
     "output_type": "display_data"
    }
   ],
   "source": [
    "piv.plot(kind='barh', stacked=True,color=['red', 'skyblue', 'green','orange'],figsize=(10,6)) ;\n",
    "sns.set()"
   ]
  }
 ],
 "metadata": {
  "celltoolbar": "Slideshow",
  "kernelspec": {
   "display_name": "Python 3 (ipykernel)",
   "language": "python",
   "name": "python3"
  },
  "language_info": {
   "codemirror_mode": {
    "name": "ipython",
    "version": 3
   },
   "file_extension": ".py",
   "mimetype": "text/x-python",
   "name": "python",
   "nbconvert_exporter": "python",
   "pygments_lexer": "ipython3",
   "version": "3.10.7"
  },
  "toc": {
   "base_numbering": 1,
   "nav_menu": {},
   "number_sections": false,
   "sideBar": true,
   "skip_h1_title": false,
   "title_cell": "Table of Contents",
   "title_sidebar": "Contents",
   "toc_cell": false,
   "toc_position": {
    "height": "calc(100% - 180px)",
    "left": "10px",
    "top": "150px",
    "width": "303.993px"
   },
   "toc_section_display": true,
   "toc_window_display": false
  },
  "varInspector": {
   "cols": {
    "lenName": 16,
    "lenType": 16,
    "lenVar": 40
   },
   "kernels_config": {
    "python": {
     "delete_cmd_postfix": "",
     "delete_cmd_prefix": "del ",
     "library": "var_list.py",
     "varRefreshCmd": "print(var_dic_list())"
    },
    "r": {
     "delete_cmd_postfix": ") ",
     "delete_cmd_prefix": "rm(",
     "library": "var_list.r",
     "varRefreshCmd": "cat(var_dic_list()) "
    }
   },
   "types_to_exclude": [
    "module",
    "function",
    "builtin_function_or_method",
    "instance",
    "_Feature"
   ],
   "window_display": false
  }
 },
 "nbformat": 4,
 "nbformat_minor": 5
}
