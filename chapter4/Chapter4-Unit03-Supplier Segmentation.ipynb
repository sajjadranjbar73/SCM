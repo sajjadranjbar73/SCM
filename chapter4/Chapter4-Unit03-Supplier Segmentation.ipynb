{
 "cells": [
  {
   "cell_type": "markdown",
   "id": "4b210226",
   "metadata": {
    "slideshow": {
     "slide_type": "slide"
    }
   },
   "source": [
    "# Supplier Segmentation"
   ]
  },
  {
   "cell_type": "code",
   "execution_count": 1,
   "id": "abc0fd43",
   "metadata": {
    "slideshow": {
     "slide_type": "slide"
    }
   },
   "outputs": [],
   "source": [
    "import pandas as pd\n",
    "import numpy as np\n",
    "import matplotlib.pyplot as plt\n",
    "import seaborn as sns"
   ]
  },
  {
   "cell_type": "code",
   "execution_count": 2,
   "id": "cd8274fd",
   "metadata": {
    "slideshow": {
     "slide_type": "slide"
    }
   },
   "outputs": [
    {
     "data": {
      "text/html": [
       "<div>\n",
       "<style scoped>\n",
       "    .dataframe tbody tr th:only-of-type {\n",
       "        vertical-align: middle;\n",
       "    }\n",
       "\n",
       "    .dataframe tbody tr th {\n",
       "        vertical-align: top;\n",
       "    }\n",
       "\n",
       "    .dataframe thead th {\n",
       "        text-align: right;\n",
       "    }\n",
       "</style>\n",
       "<table border=\"1\" class=\"dataframe\">\n",
       "  <thead>\n",
       "    <tr style=\"text-align: right;\">\n",
       "      <th></th>\n",
       "      <th>supplier</th>\n",
       "      <th>product</th>\n",
       "      <th>non-substitutability</th>\n",
       "      <th>Limited_Suppliers</th>\n",
       "      <th>Complexity</th>\n",
       "      <th>Restricted_Capacity</th>\n",
       "      <th>Price_Fluctuation</th>\n",
       "      <th>Quantity</th>\n",
       "      <th>price</th>\n",
       "    </tr>\n",
       "  </thead>\n",
       "  <tbody>\n",
       "    <tr>\n",
       "      <th>0</th>\n",
       "      <td>supplier1</td>\n",
       "      <td>product_1</td>\n",
       "      <td>0.340068</td>\n",
       "      <td>0.157823</td>\n",
       "      <td>0.147229</td>\n",
       "      <td>0.345417</td>\n",
       "      <td>0.818180</td>\n",
       "      <td>710</td>\n",
       "      <td>360</td>\n",
       "    </tr>\n",
       "    <tr>\n",
       "      <th>1</th>\n",
       "      <td>supplier1</td>\n",
       "      <td>product_2</td>\n",
       "      <td>0.707724</td>\n",
       "      <td>0.632224</td>\n",
       "      <td>0.906938</td>\n",
       "      <td>0.987675</td>\n",
       "      <td>0.134605</td>\n",
       "      <td>2997</td>\n",
       "      <td>2740</td>\n",
       "    </tr>\n",
       "    <tr>\n",
       "      <th>2</th>\n",
       "      <td>supplier1</td>\n",
       "      <td>product_3</td>\n",
       "      <td>0.809439</td>\n",
       "      <td>0.837574</td>\n",
       "      <td>0.572990</td>\n",
       "      <td>0.719656</td>\n",
       "      <td>0.745230</td>\n",
       "      <td>3917</td>\n",
       "      <td>2919</td>\n",
       "    </tr>\n",
       "    <tr>\n",
       "      <th>3</th>\n",
       "      <td>supplier1</td>\n",
       "      <td>product_4</td>\n",
       "      <td>0.160944</td>\n",
       "      <td>0.623012</td>\n",
       "      <td>0.322081</td>\n",
       "      <td>0.740910</td>\n",
       "      <td>0.646308</td>\n",
       "      <td>3827</td>\n",
       "      <td>3246</td>\n",
       "    </tr>\n",
       "    <tr>\n",
       "      <th>4</th>\n",
       "      <td>supplier1</td>\n",
       "      <td>product_5</td>\n",
       "      <td>0.449052</td>\n",
       "      <td>0.307210</td>\n",
       "      <td>0.510034</td>\n",
       "      <td>0.462113</td>\n",
       "      <td>0.511406</td>\n",
       "      <td>3882</td>\n",
       "      <td>3596</td>\n",
       "    </tr>\n",
       "  </tbody>\n",
       "</table>\n",
       "</div>"
      ],
      "text/plain": [
       "    supplier    product  non-substitutability  Limited_Suppliers  Complexity  \\\n",
       "0  supplier1  product_1              0.340068           0.157823    0.147229   \n",
       "1  supplier1  product_2              0.707724           0.632224    0.906938   \n",
       "2  supplier1  product_3              0.809439           0.837574    0.572990   \n",
       "3  supplier1  product_4              0.160944           0.623012    0.322081   \n",
       "4  supplier1  product_5              0.449052           0.307210    0.510034   \n",
       "\n",
       "   Restricted_Capacity  Price_Fluctuation  Quantity  price  \n",
       "0             0.345417           0.818180       710    360  \n",
       "1             0.987675           0.134605      2997   2740  \n",
       "2             0.719656           0.745230      3917   2919  \n",
       "3             0.740910           0.646308      3827   3246  \n",
       "4             0.462113           0.511406      3882   3596  "
      ]
     },
     "execution_count": 2,
     "metadata": {},
     "output_type": "execute_result"
    }
   ],
   "source": [
    "raw_data = pd.read_csv('supplier_data.csv')\n",
    "raw_data.head()"
   ]
  },
  {
   "cell_type": "code",
   "execution_count": 3,
   "id": "9fc9cfd5",
   "metadata": {
    "slideshow": {
     "slide_type": "slide"
    }
   },
   "outputs": [
    {
     "data": {
      "text/html": [
       "<div>\n",
       "<style scoped>\n",
       "    .dataframe tbody tr th:only-of-type {\n",
       "        vertical-align: middle;\n",
       "    }\n",
       "\n",
       "    .dataframe tbody tr th {\n",
       "        vertical-align: top;\n",
       "    }\n",
       "\n",
       "    .dataframe thead th {\n",
       "        text-align: right;\n",
       "    }\n",
       "</style>\n",
       "<table border=\"1\" class=\"dataframe\">\n",
       "  <thead>\n",
       "    <tr style=\"text-align: right;\">\n",
       "      <th></th>\n",
       "      <th>supplier</th>\n",
       "      <th>product</th>\n",
       "      <th>risk</th>\n",
       "      <th>spend</th>\n",
       "    </tr>\n",
       "  </thead>\n",
       "  <tbody>\n",
       "    <tr>\n",
       "      <th>0</th>\n",
       "      <td>supplier1</td>\n",
       "      <td>product_1</td>\n",
       "      <td>0.990537</td>\n",
       "      <td>255600</td>\n",
       "    </tr>\n",
       "    <tr>\n",
       "      <th>1</th>\n",
       "      <td>supplier1</td>\n",
       "      <td>product_2</td>\n",
       "      <td>3.234561</td>\n",
       "      <td>8211780</td>\n",
       "    </tr>\n",
       "    <tr>\n",
       "      <th>2</th>\n",
       "      <td>supplier1</td>\n",
       "      <td>product_3</td>\n",
       "      <td>2.939659</td>\n",
       "      <td>11433723</td>\n",
       "    </tr>\n",
       "    <tr>\n",
       "      <th>3</th>\n",
       "      <td>supplier1</td>\n",
       "      <td>product_4</td>\n",
       "      <td>1.846947</td>\n",
       "      <td>12422442</td>\n",
       "    </tr>\n",
       "    <tr>\n",
       "      <th>4</th>\n",
       "      <td>supplier1</td>\n",
       "      <td>product_5</td>\n",
       "      <td>1.728408</td>\n",
       "      <td>13959672</td>\n",
       "    </tr>\n",
       "    <tr>\n",
       "      <th>5</th>\n",
       "      <td>supplier1</td>\n",
       "      <td>product_6</td>\n",
       "      <td>1.093237</td>\n",
       "      <td>3358971</td>\n",
       "    </tr>\n",
       "    <tr>\n",
       "      <th>6</th>\n",
       "      <td>supplier2</td>\n",
       "      <td>product_7</td>\n",
       "      <td>2.256042</td>\n",
       "      <td>9281363</td>\n",
       "    </tr>\n",
       "    <tr>\n",
       "      <th>7</th>\n",
       "      <td>supplier2</td>\n",
       "      <td>product_8</td>\n",
       "      <td>2.084861</td>\n",
       "      <td>622800</td>\n",
       "    </tr>\n",
       "    <tr>\n",
       "      <th>8</th>\n",
       "      <td>supplier2</td>\n",
       "      <td>product_9</td>\n",
       "      <td>2.281233</td>\n",
       "      <td>1210796</td>\n",
       "    </tr>\n",
       "    <tr>\n",
       "      <th>9</th>\n",
       "      <td>supplier2</td>\n",
       "      <td>product_10</td>\n",
       "      <td>1.014658</td>\n",
       "      <td>932501</td>\n",
       "    </tr>\n",
       "    <tr>\n",
       "      <th>10</th>\n",
       "      <td>supplier2</td>\n",
       "      <td>product_11</td>\n",
       "      <td>2.308519</td>\n",
       "      <td>1469172</td>\n",
       "    </tr>\n",
       "    <tr>\n",
       "      <th>11</th>\n",
       "      <td>supplier2</td>\n",
       "      <td>product_12</td>\n",
       "      <td>2.679783</td>\n",
       "      <td>359856</td>\n",
       "    </tr>\n",
       "    <tr>\n",
       "      <th>12</th>\n",
       "      <td>supplier3</td>\n",
       "      <td>product_13</td>\n",
       "      <td>2.012522</td>\n",
       "      <td>5824780</td>\n",
       "    </tr>\n",
       "    <tr>\n",
       "      <th>13</th>\n",
       "      <td>supplier3</td>\n",
       "      <td>product_14</td>\n",
       "      <td>0.695997</td>\n",
       "      <td>6061926</td>\n",
       "    </tr>\n",
       "    <tr>\n",
       "      <th>14</th>\n",
       "      <td>supplier3</td>\n",
       "      <td>product_15</td>\n",
       "      <td>1.503400</td>\n",
       "      <td>783853</td>\n",
       "    </tr>\n",
       "    <tr>\n",
       "      <th>15</th>\n",
       "      <td>supplier3</td>\n",
       "      <td>product_16</td>\n",
       "      <td>1.511602</td>\n",
       "      <td>680204</td>\n",
       "    </tr>\n",
       "    <tr>\n",
       "      <th>16</th>\n",
       "      <td>supplier3</td>\n",
       "      <td>product_17</td>\n",
       "      <td>1.818732</td>\n",
       "      <td>8238780</td>\n",
       "    </tr>\n",
       "    <tr>\n",
       "      <th>17</th>\n",
       "      <td>supplier3</td>\n",
       "      <td>product_18</td>\n",
       "      <td>2.481881</td>\n",
       "      <td>13990806</td>\n",
       "    </tr>\n",
       "    <tr>\n",
       "      <th>18</th>\n",
       "      <td>supplier 4</td>\n",
       "      <td>product_19</td>\n",
       "      <td>0.994650</td>\n",
       "      <td>1022511</td>\n",
       "    </tr>\n",
       "    <tr>\n",
       "      <th>19</th>\n",
       "      <td>supplier 4</td>\n",
       "      <td>product_20</td>\n",
       "      <td>2.215439</td>\n",
       "      <td>7742034</td>\n",
       "    </tr>\n",
       "    <tr>\n",
       "      <th>20</th>\n",
       "      <td>supplier 4</td>\n",
       "      <td>product_21</td>\n",
       "      <td>2.358026</td>\n",
       "      <td>10106910</td>\n",
       "    </tr>\n",
       "    <tr>\n",
       "      <th>21</th>\n",
       "      <td>supplier 4</td>\n",
       "      <td>product_22</td>\n",
       "      <td>2.494765</td>\n",
       "      <td>2663934</td>\n",
       "    </tr>\n",
       "    <tr>\n",
       "      <th>22</th>\n",
       "      <td>supplier 4</td>\n",
       "      <td>product_23</td>\n",
       "      <td>1.059195</td>\n",
       "      <td>802132</td>\n",
       "    </tr>\n",
       "    <tr>\n",
       "      <th>23</th>\n",
       "      <td>supplier 4</td>\n",
       "      <td>product_24</td>\n",
       "      <td>2.399138</td>\n",
       "      <td>118950</td>\n",
       "    </tr>\n",
       "  </tbody>\n",
       "</table>\n",
       "</div>"
      ],
      "text/plain": [
       "      supplier     product      risk     spend\n",
       "0    supplier1   product_1  0.990537    255600\n",
       "1    supplier1   product_2  3.234561   8211780\n",
       "2    supplier1   product_3  2.939659  11433723\n",
       "3    supplier1   product_4  1.846947  12422442\n",
       "4    supplier1   product_5  1.728408  13959672\n",
       "5    supplier1   product_6  1.093237   3358971\n",
       "6    supplier2   product_7  2.256042   9281363\n",
       "7    supplier2   product_8  2.084861    622800\n",
       "8    supplier2   product_9  2.281233   1210796\n",
       "9    supplier2  product_10  1.014658    932501\n",
       "10   supplier2  product_11  2.308519   1469172\n",
       "11   supplier2  product_12  2.679783    359856\n",
       "12   supplier3  product_13  2.012522   5824780\n",
       "13   supplier3  product_14  0.695997   6061926\n",
       "14   supplier3  product_15  1.503400    783853\n",
       "15   supplier3  product_16  1.511602    680204\n",
       "16   supplier3  product_17  1.818732   8238780\n",
       "17   supplier3  product_18  2.481881  13990806\n",
       "18  supplier 4  product_19  0.994650   1022511\n",
       "19  supplier 4  product_20  2.215439   7742034\n",
       "20  supplier 4  product_21  2.358026  10106910\n",
       "21  supplier 4  product_22  2.494765   2663934\n",
       "22  supplier 4  product_23  1.059195    802132\n",
       "23  supplier 4  product_24  2.399138    118950"
      ]
     },
     "execution_count": 3,
     "metadata": {},
     "output_type": "execute_result"
    }
   ],
   "source": [
    "raw_data['risk'] = raw_data[raw_data.columns[2:6]].sum(axis=1)\n",
    "raw_data['spend'] = raw_data['Quantity']* raw_data['price']\n",
    "raw_data_clean = raw_data.iloc[:,[0,1,9,10]].copy()\n",
    "raw_data_clean"
   ]
  },
  {
   "cell_type": "code",
   "execution_count": 4,
   "id": "c92fffeb",
   "metadata": {
    "slideshow": {
     "slide_type": "slide"
    }
   },
   "outputs": [
    {
     "data": {
      "text/html": [
       "<div>\n",
       "<style scoped>\n",
       "    .dataframe tbody tr th:only-of-type {\n",
       "        vertical-align: middle;\n",
       "    }\n",
       "\n",
       "    .dataframe tbody tr th {\n",
       "        vertical-align: top;\n",
       "    }\n",
       "\n",
       "    .dataframe thead th {\n",
       "        text-align: right;\n",
       "    }\n",
       "</style>\n",
       "<table border=\"1\" class=\"dataframe\">\n",
       "  <thead>\n",
       "    <tr style=\"text-align: right;\">\n",
       "      <th></th>\n",
       "      <th>supplier</th>\n",
       "      <th>product</th>\n",
       "      <th>risk</th>\n",
       "      <th>spend</th>\n",
       "      <th>Kraljic</th>\n",
       "    </tr>\n",
       "  </thead>\n",
       "  <tbody>\n",
       "    <tr>\n",
       "      <th>0</th>\n",
       "      <td>supplier1</td>\n",
       "      <td>product_1</td>\n",
       "      <td>0.990537</td>\n",
       "      <td>255600</td>\n",
       "      <td>Tactical</td>\n",
       "    </tr>\n",
       "    <tr>\n",
       "      <th>1</th>\n",
       "      <td>supplier1</td>\n",
       "      <td>product_2</td>\n",
       "      <td>3.234561</td>\n",
       "      <td>8211780</td>\n",
       "      <td>Strategic</td>\n",
       "    </tr>\n",
       "    <tr>\n",
       "      <th>2</th>\n",
       "      <td>supplier1</td>\n",
       "      <td>product_3</td>\n",
       "      <td>2.939659</td>\n",
       "      <td>11433723</td>\n",
       "      <td>Strategic</td>\n",
       "    </tr>\n",
       "    <tr>\n",
       "      <th>3</th>\n",
       "      <td>supplier1</td>\n",
       "      <td>product_4</td>\n",
       "      <td>1.846947</td>\n",
       "      <td>12422442</td>\n",
       "      <td>Leverage</td>\n",
       "    </tr>\n",
       "    <tr>\n",
       "      <th>4</th>\n",
       "      <td>supplier1</td>\n",
       "      <td>product_5</td>\n",
       "      <td>1.728408</td>\n",
       "      <td>13959672</td>\n",
       "      <td>Leverage</td>\n",
       "    </tr>\n",
       "  </tbody>\n",
       "</table>\n",
       "</div>"
      ],
      "text/plain": [
       "    supplier    product      risk     spend    Kraljic\n",
       "0  supplier1  product_1  0.990537    255600   Tactical\n",
       "1  supplier1  product_2  3.234561   8211780  Strategic\n",
       "2  supplier1  product_3  2.939659  11433723  Strategic\n",
       "3  supplier1  product_4  1.846947  12422442   Leverage\n",
       "4  supplier1  product_5  1.728408  13959672   Leverage"
      ]
     },
     "execution_count": 4,
     "metadata": {},
     "output_type": "execute_result"
    }
   ],
   "source": [
    "mx = np.mean(raw_data_clean.spend)\n",
    "my = 2.5\n",
    "\n",
    "def kralic_matrix(i, j):\n",
    "    if i < mx and j < my:\n",
    "        return 'Tactical'\n",
    "    elif i < mx and j >= my:\n",
    "        return 'Critical'\n",
    "    elif i >= mx and j < my:\n",
    "        return 'Leverage'\n",
    "    else:\n",
    "        return 'Strategic'\n",
    "\n",
    "# Unit07-Chapter02\n",
    "raw_data_clean['Kraljic'] = list(\n",
    "    map(kralic_matrix, raw_data_clean.spend, raw_data_clean.risk))\n",
    "\n",
    "raw_data_clean.head()"
   ]
  },
  {
   "cell_type": "code",
   "execution_count": 5,
   "id": "007c9f17",
   "metadata": {
    "slideshow": {
     "slide_type": "slide"
    }
   },
   "outputs": [
    {
     "data": {
      "text/plain": [
       "Tactical     12\n",
       "Leverage      9\n",
       "Strategic     2\n",
       "Critical      1\n",
       "Name: Kraljic, dtype: int64"
      ]
     },
     "execution_count": 5,
     "metadata": {},
     "output_type": "execute_result"
    }
   ],
   "source": [
    "raw_data_clean.Kraljic.value_counts()"
   ]
  },
  {
   "cell_type": "code",
   "execution_count": 6,
   "id": "1dab7f10",
   "metadata": {
    "slideshow": {
     "slide_type": "slide"
    }
   },
   "outputs": [
    {
     "data": {
      "image/png": "[encoded data removed]",
      "text/plain": [
       "<Figure size 720x432 with 1 Axes>"
      ]
     },
     "metadata": {
      "needs_background": "light"
     },
     "output_type": "display_data"
    }
   ],
   "source": [
    "plt.figure(figsize=(10, 6))\n",
    "fig = sns.scatterplot(data=raw_data_clean, x='spend', y='risk', hue='Kraljic',s=200)\n",
    "plt.ylim(0, 5)\n",
    "plt.axhline(2.5, c='gray')\n",
    "plt.axvline(mx, c='gray');\n",
    "# plt.savefig('fig.png', dpi=900)"
   ]
  },
  {
   "cell_type": "code",
   "execution_count": 7,
   "id": "395ae5fb",
   "metadata": {
    "slideshow": {
     "slide_type": "slide"
    }
   },
   "outputs": [
    {
     "data": {
      "text/html": [
       "<div>\n",
       "<style scoped>\n",
       "    .dataframe tbody tr th:only-of-type {\n",
       "        vertical-align: middle;\n",
       "    }\n",
       "\n",
       "    .dataframe tbody tr th {\n",
       "        vertical-align: top;\n",
       "    }\n",
       "\n",
       "    .dataframe thead th {\n",
       "        text-align: right;\n",
       "    }\n",
       "</style>\n",
       "<table border=\"1\" class=\"dataframe\">\n",
       "  <thead>\n",
       "    <tr style=\"text-align: right;\">\n",
       "      <th></th>\n",
       "      <th>supplier</th>\n",
       "      <th>product</th>\n",
       "      <th>risk</th>\n",
       "      <th>spend</th>\n",
       "      <th>Kraljic</th>\n",
       "    </tr>\n",
       "  </thead>\n",
       "  <tbody>\n",
       "    <tr>\n",
       "      <th>1</th>\n",
       "      <td>supplier1</td>\n",
       "      <td>product_2</td>\n",
       "      <td>3.234561</td>\n",
       "      <td>8211780</td>\n",
       "      <td>Strategic</td>\n",
       "    </tr>\n",
       "    <tr>\n",
       "      <th>2</th>\n",
       "      <td>supplier1</td>\n",
       "      <td>product_3</td>\n",
       "      <td>2.939659</td>\n",
       "      <td>11433723</td>\n",
       "      <td>Strategic</td>\n",
       "    </tr>\n",
       "  </tbody>\n",
       "</table>\n",
       "</div>"
      ],
      "text/plain": [
       "    supplier    product      risk     spend    Kraljic\n",
       "1  supplier1  product_2  3.234561   8211780  Strategic\n",
       "2  supplier1  product_3  2.939659  11433723  Strategic"
      ]
     },
     "execution_count": 7,
     "metadata": {},
     "output_type": "execute_result"
    }
   ],
   "source": [
    "raw_data_clean[raw_data_clean.Kraljic == 'Strategic']"
   ]
  }
 ],
 "metadata": {
  "celltoolbar": "Slideshow",
  "kernelspec": {
   "display_name": "Python 3 (ipykernel)",
   "language": "python",
   "name": "python3"
  },
  "language_info": {
   "codemirror_mode": {
    "name": "ipython",
    "version": 3
   },
   "file_extension": ".py",
   "mimetype": "text/x-python",
   "name": "python",
   "nbconvert_exporter": "python",
   "pygments_lexer": "ipython3",
   "version": "3.10.5"
  },
  "toc": {
   "base_numbering": 1,
   "nav_menu": {},
   "number_sections": false,
   "sideBar": true,
   "skip_h1_title": false,
   "title_cell": "Table of Contents",
   "title_sidebar": "Contents",
   "toc_cell": false,
   "toc_position": {},
   "toc_section_display": true,
   "toc_window_display": false
  },
  "varInspector": {
   "cols": {
    "lenName": 16,
    "lenType": 16,
    "lenVar": 40
   },
   "kernels_config": {
    "python": {
     "delete_cmd_postfix": "",
     "delete_cmd_prefix": "del ",
     "library": "var_list.py",
     "varRefreshCmd": "print(var_dic_list())"
    },
    "r": {
     "delete_cmd_postfix": ") ",
     "delete_cmd_prefix": "rm(",
     "library": "var_list.r",
     "varRefreshCmd": "cat(var_dic_list()) "
    }
   },
   "types_to_exclude": [
    "module",
    "function",
    "builtin_function_or_method",
    "instance",
    "_Feature"
   ],
   "window_display": false
  }
 },
 "nbformat": 4,
 "nbformat_minor": 5
}
